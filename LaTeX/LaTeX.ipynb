{
  "nbformat": 4,
  "nbformat_minor": 0,
  "metadata": {
    "colab": {
      "provenance": []
    },
    "kernelspec": {
      "name": "python3",
      "display_name": "Python 3"
    },
    "language_info": {
      "name": "python"
    }
  },
  "cells": [
    {
      "cell_type": "markdown",
      "source": [
        "# LaTeX"
      ],
      "metadata": {
        "id": "vbEKikvCzJ0f"
      }
    },
    {
      "cell_type": "markdown",
      "source": [
        "### Activating LaTeX\n",
        "\n",
        "Hello, This is my first $\\LaTeX\\$ document.\n",
        "\n",
        "in-line $(x+1)$ math.\n",
        "\n",
        "in-line but make sure it's in one line ${A=(x^2)_1}$ and doesn't split.\n",
        "\n",
        "You can also have multi-line inline $${A(x)=y^2+z^2}$$ with 2 dolla signs\n",
        "\n",
        "multi line math\n",
        "$$\n",
        "x + 1 \\\\ (new line) \\\\ y + 1\n",
        "$$\n",
        "\n",
        "new line with size\n",
        "$$\n",
        "1+1 \\\\[30px]\n",
        "% Comment\n",
        "2+2 \\\\[50px]\n",
        "$$\n",
        "\n",
        "`%` for comment\n",
        "\n",
        "\n",
        "----"
      ],
      "metadata": {
        "id": "DzkoHR4smoBT"
      }
    },
    {
      "cell_type": "markdown",
      "source": [
        "### Symbols\n",
        "$$\n",
        "\\text{addition: } + \\\\\n",
        "\\text{subtraction: } -  \\\\\n",
        "\\text{plus or minus: } \\pm  \\\\\n",
        "\\text{multiplication (times): } \\times  \\\\\n",
        "\\text{multiplication} (dot):  \\cdot  \\\\\n",
        "\\text{division symbol: } \\div  \\\\\n",
        "\\text{division (slash): } / \\\\\n",
        "\\text{circl pluse: } \\oplus  \\\\\n",
        "\\text{circle times: } \\otimes  \\\\\n",
        "\\text{equal: } = \\\\\n",
        "\\text{not equal: } \\ne \\\\\n",
        "\\text{less than: } < \\\\\n",
        "\\text{greater than: } > \\\\\n",
        "\\text{less than or equal to: } \\le  \\\\\n",
        "\\text{greater than or equal to: } \\ge  \\\\\n",
        "\\text{approximately equal to: } \\approx  \\\\\n",
        "\\text{infinity: } \\infty  \\\\\n",
        "\\text{dots: } 1,2,3,\\ldots \\\\\n",
        "\\text{dots: } 1+2+3+\\cdots \\\\\n",
        "\\text{fraction: } \\frac{a}{b} \\\\\n",
        "\\text{square root: } \\sqrt{x} \\\\\n",
        "\\text{nth root: } \\sqrt[n]{x} \\\\\n",
        "\\text{exponentiation: } a^b \\\\\n",
        "\\text{subscript: } a_b \\\\\n",
        "\\text{absolute value: } |x| \\\\\n",
        "\\text{natural log: } \\ln(x) \\\\\n",
        "\\text{logarithms: } \\log_{a}b \\\\\n",
        "\\text{exponential function: }  e^x=\\exp(x) \\\\\n",
        "\\text{degree: } \\deg(f) \\\\\n",
        "$$"
      ],
      "metadata": {
        "id": "rfhRbijHMOZL"
      }
    },
    {
      "cell_type": "markdown",
      "source": [
        "### Super-Scritps \n",
        "$$\n",
        "2x^3 \\\\\n",
        "2x^34 \\\\\n",
        "2x^{34} \\\\\n",
        "2x^{3x+2} \\\\\n",
        "$$\n"
      ],
      "metadata": {
        "id": "INgaA6kvqR6-"
      }
    },
    {
      "cell_type": "markdown",
      "source": [
        "### Sub-Scripts\n",
        "$$\n",
        "x_1 \\\\\n",
        "x_12 \\\\\n",
        "x_{12} \\\\\n",
        "x_{y_{j_1}} \\\\\n",
        "a_0, a_1, \\ldots, a_{100} \\\\\n",
        "$$\n",
        "\n"
      ],
      "metadata": {
        "id": "NUVVP-PwzClg"
      }
    },
    {
      "cell_type": "markdown",
      "source": [
        "### Greek Letter\n",
        "$$\n",
        "\\text{alpha: } \\alpha \\\\\n",
        "\\text{beta: } \\beta \\\\\n",
        "\\text{chi: } \\chi \\\\\n",
        "\\text{delta: } \\delta \\\\\n",
        "\\text{epsilon: } \\epsilon \\\\\n",
        "\\text{varepsilon: } \\varepsilon \\\\\n",
        "\\text{eta: } \\eta \\\\\n",
        "\\text{gamma: } \\gamma \\\\\n",
        "\\text{iota: } \\iota \\\\\n",
        "\\text{kappa: } \\kappa \\\\\n",
        "\\text{lambda: } \\lambda \\\\\n",
        "\\text{mu: } \\mu \\\\\n",
        "\\text{nu: } \\nu \\\\\n",
        "\\text{omega: } \\omega \\\\\n",
        "\\text{phi: } \\phi \\\\\n",
        "\\text{varphi: } \\varphi \\\\\n",
        "\\text{pi: } \\pi \\\\\n",
        "\\text{rho: } \\rho \\\\\n",
        "\\text{sigma: } \\sigma \\\\\n",
        " \\text{tau: } \\tau \\\\\n",
        " \\text{theta: } \\theta \\\\\n",
        " \\text{upsilon: } \\upsilon \\\\\n",
        " \\text{xi: } \\xi \\\\\n",
        " \\text{zeta: } \\zeta \\\\\n",
        " \\text{Delta: } \\Delta \\\\\n",
        " \\text{Gamma: } \\Gamma \\\\\n",
        " \\text{Lambda: } \\Lambda \\\\\n",
        " \\text{Omega: } \\Omega \\\\\n",
        " \\text{Phi: } \\Phi \\\\\n",
        " \\text{Pi: } \\Pi \\\\\n",
        " \\text{Psi: } \\Psi \\\\\n",
        " \\text{Sigma: } \\Sigma \\\\\n",
        " \\text{Theta: } \\Theta \\\\\n",
        " \\text{Upsilon: } \\Upsilon \\\\\n",
        " \\text{Xi: } \\Xi \\\\\n",
        " \\text{aleph: } \\aleph \\\\\n",
        " \\text{psi:} \\psi \\\\\n",
        " \\text{beth:} \\beth \\\\\n",
        " \\text{daleth: } \\daleth \\\\\n",
        " \\text{gimel: } \\gimel \\\\\n",
        "$$\n",
        "\n",
        "\\\\\n",
        "\n",
        "$$\n",
        "A=\\pi r^2\n",
        "$$"
      ],
      "metadata": {
        "id": "acZ37yEBrd8L"
      }
    },
    {
      "cell_type": "markdown",
      "source": [
        "### Trig Functions\n",
        "$$\n",
        "y=\\sin x \\\\\n",
        "y=\\sin{(x+1)} \\\\\n",
        "y=\\cos x \\\\\n",
        "y=\\csc x \\\\\n",
        "y=\\csc \\theta x \\\\\n",
        "y=\\sin^{-1}x \\\\\n",
        "y=\\arcsin x \\\\\n",
        "$$"
      ],
      "metadata": {
        "id": "Ft0ESUqotNCh"
      }
    },
    {
      "cell_type": "markdown",
      "source": [
        "### Log Functions\n",
        "$$\n",
        "y=\\log x \\\\\n",
        "y=\\log_5 x \\\\\n",
        "y = \\ln x\\\\\n",
        "$$\n"
      ],
      "metadata": {
        "id": "z5qp1-XDs4Ex"
      }
    },
    {
      "cell_type": "markdown",
      "source": [
        "### Roots \n",
        "$$\n",
        "\\sqrt{2} \\\\\n",
        "\\sqrt[3]{2} \\\\\n",
        "\\sqrt{x^2+y^2} \\\\[3pt]\n",
        "\\sqrt[4]{ 1 + \\sqrt{x^4} }\n",
        "$$"
      ],
      "metadata": {
        "id": "sIXd_5tUy-Yf"
      }
    },
    {
      "cell_type": "markdown",
      "source": [
        "### Fractions \n",
        "\n",
        "$$\n",
        "\\frac{2}{3} \\\\[3pt]\n",
        "$$\n",
        "in line fraction $\\frac{2}{4}$ gets smaller.\n",
        "This can get fix like $\\dfrac{2}{4}$ with displays.\n",
        "Also can be written like $\\displaystyle \\frac{2}{3}$ this\n",
        "\n",
        "$$\n",
        "\\frac{ \\sqrt{x+1} }{ \\sqrt{x+2} } \\\\\n",
        "\\frac{ 1 }{ 1 + \\frac{1}{x} } \\\\\n",
        "$$"
      ],
      "metadata": {
        "id": "sjXQEPVwt_-j"
      }
    },
    {
      "cell_type": "markdown",
      "source": [
        "\n",
        "$$\n",
        "f(x)=(x-3)^2+\\frac{1}{2} \\\\ \n",
        "\\mathrm{D}_f:(-\\infty, \\infty) \\\\\n",
        "\\mathrm{R}_f:\\left [ \\frac{1}{2}, \\infty \\right )\n",
        "$$"
      ],
      "metadata": {
        "id": "CF_4P4ORYWWs"
      }
    },
    {
      "cell_type": "markdown",
      "source": [
        "### Limits\n",
        "\n",
        "$$\n",
        "\\lim_{x \\to a} \\\\[1cm]\n",
        "\\lim\\limits_{x \\to a} \\\\[1cm]\n",
        "\\lim\\limits_{x \\to a^-} f(x) \\\\[1cm]\n",
        "\\lim\\limits_{x \\to a} \\frac{f(x)-f(a)}{x_a}=f'(a) \\\\[1cm]\n",
        "$$\n",
        "\n",
        "$\\lim\\limits_{x \\to a} \\frac{f(x)-f(a)}{x_a}=f'(a) \\\\[1cm]$\n",
        "\n",
        "$\\displaystyle{\\lim\\limits_{x \\to a} \\frac{f(x)-f(a)}{x_a}=f'(a)} \\\\[1cm]$"
      ],
      "metadata": {
        "id": "slhy3eSxZkin"
      }
    },
    {
      "cell_type": "markdown",
      "source": [
        "### Integral\n",
        "$$\n",
        "\\int \\sin x\\, dx = -\\cos x + C \\\\[1cm]\n",
        "\\int_a^b x \\ dx \\\\[1cm] \n",
        "\\int\\limits_a^b x \\ dx \\\\[1cm]\n",
        "$$\n",
        "\n",
        "\n",
        "$\\int \\sin x\\, dx = -\\cos x + C$\n",
        "\n",
        "$\\displaystyle{\\int \\sin x\\, dx = -\\cos x + C}$"
      ],
      "metadata": {
        "id": "3S1D4w0lauOk"
      }
    },
    {
      "cell_type": "markdown",
      "source": [
        "### Sum\n",
        "\n",
        "$$\n",
        "\\sum\\limits_{n=1}^{\\infty}ar^n=a+ar+ar^2+\\cdots+ar^n \\\\[1cm]\n",
        "\\int_a^b f(x) \\, dx = \\lim \\limits_{x \\to \\infty} \\sum \\limits_{k=1}^{n} f(x_k) \\cdot \\Delta_x\n",
        "$$\n",
        "\n",
        "$\\displaystyle{\\sum\\limits_{n=1}^{\\infty}} $"
      ],
      "metadata": {
        "id": "TEiTP0jfcUhF"
      }
    },
    {
      "cell_type": "markdown",
      "source": [
        "### Vectors\n",
        "$$\n",
        "\\vec{v}=v_1 \\vec{i}+v_2 \\vec{j} = \\langle v_1, v_2 \\rangle\n",
        "$$"
      ],
      "metadata": {
        "id": "VgovQgRld3tH"
      }
    },
    {
      "cell_type": "markdown",
      "source": [
        "### Matrix\n",
        "$$\n",
        "\\begin{bmatrix}\n",
        "4 \\\\ \n",
        "5 \\\\ \n",
        "6\n",
        "\\end{bmatrix}\n",
        "\\begin{bmatrix}\n",
        "1 & 2 & 3\\\\\n",
        "\\end{bmatrix} \n",
        "= \n",
        "\\begin{bmatrix}\n",
        "4\\times1  & 4\\times2 & 4\\times3\\\\ \n",
        "5\\times1  & 5\\times2 & 5\\times3\\\\ \n",
        "6\\times1  & 6\\times2 & 6\\times3\\\\ \n",
        "\\end{bmatrix}\n",
        "=\n",
        "\\begin{bmatrix}\n",
        "4 & 8 & 12\\\\ \n",
        "5 & 10 & 15\\\\ \n",
        "6 & 12 &  18\n",
        "\\end{bmatrix}\n",
        "$$"
      ],
      "metadata": {
        "id": "nzaCpJFJcUZq"
      }
    },
    {
      "cell_type": "markdown",
      "source": [
        "### Escaping and Sizeing\n",
        "\n",
        "text $a$ text $[a]$\n",
        "\n",
        "text $A$ is $\\{1,2,3\\}$\n",
        "\n",
        "money $11.50\\$$\n",
        "\n",
        "$$\n",
        "2(\\frac{1}{x^2-1})\n",
        "$$\n",
        "Fix the parentheses size\n",
        "$$\n",
        "2\\left(\\frac{1}{x^2-1}\\right) \\\\\n",
        "2\\left[\\frac{1}{x^2-1}\\right] \\\\\n",
        "2\\left | \\frac{1}{x^2-1}\\right | \\\\\n",
        "2\\left\\{\\frac{1}{x^2-1}\\right\\} \\\\\n",
        "2 \\left \\langle  \\frac{1}{x^2-1}  \\right \\rangle \\\\\n",
        "$$\n",
        "\n",
        "Use a `.` to prevent `left` or `right` from showing\n",
        "\n",
        "$$\n",
        "\\left . \\frac{dy}{dx} \\right | _{x=1}\n",
        "$$\n",
        "\n",
        "$$\n",
        "\\left ( \\frac{1}{1 + \\left(\\frac{1}{1+x}\\right)} \\right )\n",
        "$$"
      ],
      "metadata": {
        "id": "ubh7gFvbuo51"
      }
    },
    {
      "cell_type": "markdown",
      "source": [
        "### Arrays (Tables)\n",
        "\n",
        "`l` = left aligned\n",
        "`r` = right aligned\n",
        "`c` = centered\n",
        "\n",
        "`#x` = number of columns + position = `6c`\n",
        "\n",
        "\\begin{array}{ccc}\n",
        "foo&bar&baz \\\\\n",
        "1&2&3\n",
        "\\end{array}\n",
        "\n",
        "\\\\\n",
        "\n",
        "\\begin{array}{ccc}\n",
        "\\text{foo}&\\text{bar}&\\text{baz}\\\\\n",
        "1&2&3\n",
        "\\end{array}\n",
        "\n",
        "\\\\\n",
        "\n",
        "\\begin{array}{|l|l|l|l|} \\hline\n",
        "column1 & column2 & column3 & column4 \\\\ \\hline\n",
        "foo & bar & foo & bar \\\\\n",
        "foo & bar & foo & bar \\\\\n",
        "foo & bar & foo & bar \\\\ \\hline\n",
        "\\end{array}\n",
        "\n",
        "\\\\\n",
        "\n",
        "\\begin{array}{|c|} \\hline\n",
        "column1 & column2 & column3 & column4 \\\\ \\hline\n",
        "foo & bar & foo & bar \\\\\n",
        "foo & bar & foo & bar \\\\\n",
        "foo & bar & foo & bar \\\\ \\hline\n",
        "\\end{array}\n",
        "\n",
        "\\\\\n",
        "\n",
        "\\begin{array}{c} \\hline\n",
        "column1 & column2 & column3 & column4 \\\\ \\hline\n",
        "foo & bar & foo & bar \\\\\n",
        "foo & bar & foo & bar \\\\\n",
        "foo & bar & foo & bar \\\\ \\hline\n",
        "\\end{array}\n",
        "\n",
        "\\\\\n",
        "\n",
        "\\begin{array}{|l|l|} \\hline\n",
        "f(x) & f'(x) \\\\ \\hline\n",
        "x>0 & \\text{The function $f(x)$ is increasing.} \\\\ \\hline\n",
        "\\end{array}\n",
        "\n",
        "\n",
        "*Google Colab doesn't support tabular*"
      ],
      "metadata": {
        "id": "nENsGlFOuo9t"
      }
    },
    {
      "cell_type": "markdown",
      "source": [
        "### Aligns\n",
        "\n",
        "Put `&` to align\n",
        "\n",
        "\\begin{align}\n",
        "5x^2-9&=x+3 \\\\\n",
        "5x^2-x-12&=0 \\\\\n",
        "5x&=0 \\\\\n",
        "\\end{align}\n",
        "\n",
        "\n"
      ],
      "metadata": {
        "id": "ctVpaIuM8GoU"
      }
    },
    {
      "cell_type": "markdown",
      "source": [
        "### Stenography\n",
        "\n",
        "$$\n",
        "\\text{Text} \\\\\n",
        "\\textit{Italized} \\\\\n",
        "\\textbf{Bold Face} \\\\\n",
        "\\textrm{Roman} \\\\\n",
        "\\texttt{Typewriter} \\\\\n",
        "emph{emphasis} \\\\\n",
        "\\mathfrak{Fraktur} \\\\\n",
        "\\mathbb{Black Board} \\\\\n",
        "\\boldsymbol{Bold Greek} \\\\\n",
        "\\mathit{Math Italized} \\\\\n",
        "\\mathbf{Math Bold Face} \\\\\n",
        "\\mathrm{Math Roman} \\\\\n",
        "$$\n"
      ],
      "metadata": {
        "id": "tLER6KhNupAy"
      }
    }
  ]
}