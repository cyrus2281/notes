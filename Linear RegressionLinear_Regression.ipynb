{
  "nbformat": 4,
  "nbformat_minor": 0,
  "metadata": {
    "colab": {
      "provenance": [],
      "toc_visible": true,
      "authorship_tag": "ABX9TyNyJAIcAPgPnVYRB4Y4/hEv",
      "include_colab_link": true
    },
    "kernelspec": {
      "name": "python3",
      "display_name": "Python 3"
    },
    "language_info": {
      "name": "python"
    }
  },
  "cells": [
    {
      "cell_type": "markdown",
      "metadata": {
        "id": "view-in-github",
        "colab_type": "text"
      },
      "source": [
        "<a href=\"https://colab.research.google.com/github/cyrus2281/notes/blob/main/Linear%20RegressionLinear_Regression.ipynb\" target=\"_parent\"><img src=\"https://colab.research.google.com/assets/colab-badge.svg\" alt=\"Open In Colab\"/></a>"
      ]
    },
    {
      "cell_type": "markdown",
      "source": [
        "# Content"
      ],
      "metadata": {
        "id": "t-ulf8DYQ5CW"
      }
    },
    {
      "cell_type": "markdown",
      "source": [
        ">[Content](#updateTitle=true&folderId=1tQy5G8Ez_uC7IO_awAeU041TrL-36P3f&scrollTo=t-ulf8DYQ5CW)\n",
        "\n",
        ">[Linear Regression](#updateTitle=true&folderId=1tQy5G8Ez_uC7IO_awAeU041TrL-36P3f&scrollTo=YfBsGgZJOW6x)\n",
        "\n",
        ">>[1-D Linear Regression](#updateTitle=true&folderId=1tQy5G8Ez_uC7IO_awAeU041TrL-36P3f&scrollTo=KRRk9KPZddTH)\n",
        "\n",
        ">>>[Sum of Squared Error](#updateTitle=true&folderId=1tQy5G8Ez_uC7IO_awAeU041TrL-36P3f&scrollTo=ooJ9wXZlVMBX)\n",
        "\n",
        ">>>[Simple Linear Regression](#updateTitle=true&folderId=1tQy5G8Ez_uC7IO_awAeU041TrL-36P3f&scrollTo=b6OxhYG9Vf7S)\n",
        "\n",
        ">>>[Minimizing the Error](#updateTitle=true&folderId=1tQy5G8Ez_uC7IO_awAeU041TrL-36P3f&scrollTo=WXFUCUPtVrnn)\n",
        "\n",
        ">>>>[Python Implementation](#updateTitle=true&folderId=1tQy5G8Ez_uC7IO_awAeU041TrL-36P3f&scrollTo=Dj7dHYfTetu8)\n",
        "\n",
        ">>>[$R^2$](#updateTitle=true&folderId=1tQy5G8Ez_uC7IO_awAeU041TrL-36P3f&scrollTo=kJ23279OmL75)\n",
        "\n",
        ">>>>[Python Implementation](#updateTitle=true&folderId=1tQy5G8Ez_uC7IO_awAeU041TrL-36P3f&scrollTo=YRiuO0SHnoCR)\n",
        "\n",
        ">[Resources](#updateTitle=true&folderId=1tQy5G8Ez_uC7IO_awAeU041TrL-36P3f&scrollTo=VfoGOoaFSkUf)\n",
        "\n"
      ],
      "metadata": {
        "colab_type": "toc",
        "id": "d5py4uzHQ7vF"
      }
    },
    {
      "cell_type": "markdown",
      "source": [
        "# Linear Regression\n"
      ],
      "metadata": {
        "id": "YfBsGgZJOW6x"
      }
    },
    {
      "cell_type": "markdown",
      "source": [
        "**Linear Regression**\n",
        "> The line that best fits the data\n"
      ],
      "metadata": {
        "id": "mk8vySzwdDaW"
      }
    },
    {
      "cell_type": "markdown",
      "source": [
        "## 1-D Linear Regression"
      ],
      "metadata": {
        "id": "KRRk9KPZddTH"
      }
    },
    {
      "cell_type": "markdown",
      "source": [
        "**Slope**\n",
        "\n",
        "> Rise over run\n",
        "$$\n",
        "M = \\frac{\\Delta y}{\\Delta x} = y'\n",
        "$$"
      ],
      "metadata": {
        "id": "JQmUkaNoUfax"
      }
    },
    {
      "cell_type": "markdown",
      "source": [
        "**Line**\n",
        "\n",
        "$$\n",
        "\\hat y_i = ax_i  + b\n",
        "$$"
      ],
      "metadata": {
        "id": "GSYcGZhYU4Rr"
      }
    },
    {
      "cell_type": "markdown",
      "source": [
        "### Sum of Squared Error\n",
        "\n",
        "$$\n",
        "E = \\sum_{i=1}^N (y_i - \\hat y_i)^2\n",
        "$$"
      ],
      "metadata": {
        "id": "ooJ9wXZlVMBX"
      }
    },
    {
      "cell_type": "markdown",
      "source": [
        "### Simple Linear Regression\n",
        "\n",
        "$$\n",
        "E = \\sum_{i=1}^N (y_i - (ax_i  + b))^2\n",
        "$$"
      ],
      "metadata": {
        "id": "b6OxhYG9Vf7S"
      }
    },
    {
      "cell_type": "markdown",
      "source": [
        "### Minimizing the Error\n",
        "\n",
        "Derivative of $E$ wrt $a$:\n",
        "\n",
        "$$\n",
        "\\frac{\\partial E}{\\partial a} = \\sum_{i=1}^N 2 (y_i - ax_i  - b)(-x_i) = 0 \\\\\n",
        "- \\sum_{i=1}^N y_i x_i + a\\sum_{i=1}^N  x_i^2 + b\\sum_{i=1}^N x_i = 0 \\\\\n",
        "a\\sum_{i=1}^N  x_i^2 + b\\sum_{i=1}^N x_i = \\sum_{i=1}^N y_i x_i \\\\\n",
        "$$\n",
        "\n",
        "Derivative of $E$ wrt $b$:\n",
        "\n",
        "$$\n",
        "\\frac{\\partial E}{\\partial b} = \\sum_{i=1}^N 2(-1)(y_i - ax_i  - b) = 0 \\\\\n",
        "- \\sum_{i=1}^N y_i + a \\sum_{i=1}^N  x_i + N b = 0 \\\\\n",
        "a \\sum_{i=1}^N  x_i + N b =  \\sum_{i=1}^N y_i\\\\\n",
        "$$\n",
        "\n",
        "We can conclude:\n",
        "\n",
        "$$\n",
        "\\left . \\begin{matrix}\n",
        "a \\sum_{i=1}^N  x_i^2 + b\\sum_{i=1}^N x_i = \\sum_{i=1}^N y_i x_i \\\\\n",
        "a \\sum_{i=1}^N  x_i +  b N =  \\sum_{i=1}^N y_i\\\\\n",
        "\\end{matrix} \\right \\} \\Rightarrow \\\\[1cm]\n",
        "b = \\frac{\\sum_{i=1}^N x_i \\sum_{i=1}^N y_i x_i -\\sum_{i=1}^N y_i \\sum_{i=1}^N  x_i^2}{(\\sum_{i=1}^N x_i)^2 - N \\sum_{i=1}^N  x_i^2} \\\\[1cm]\n",
        "a = \\frac{N \\sum_{i=1}^N y_ix_i -\\sum_{i=1}^N x_i \\sum_{i=1}^N y_i}{N \\sum_{i=1}^N  x_i^2 - (\\sum_{i=1}^N x_i)^2} \\\\[1cm]\n",
        "$$\n",
        "\n",
        "\n",
        "Simlify by using sample mean:\n",
        "$\n",
        "\\bar x = \\frac{1}{N} \\sum_{i=1}^N x_i \\\\[1cm]\n",
        "$\n",
        "\n",
        "$$\n",
        "a = \\frac{ \\bar{xy} - \\bar x \\bar y}{\\bar{x^2} - {\\bar x}^2} \\\\\n",
        "b = \\frac{ \\bar{y}\\bar{x^2} - \\bar x \\bar{xy}}{\\bar{x^2} - {\\bar x}^2} \\\\\n",
        "$$"
      ],
      "metadata": {
        "id": "WXFUCUPtVrnn"
      }
    },
    {
      "cell_type": "markdown",
      "source": [
        "#### Python Implementation"
      ],
      "metadata": {
        "id": "Dj7dHYfTetu8"
      }
    },
    {
      "cell_type": "code",
      "source": [
        "!wget https://raw.githubusercontent.com/lazyprogrammer/machine_learning_examples/master/linear_regression_class/data_1d.csv"
      ],
      "metadata": {
        "id": "WjY47VF2fC03"
      },
      "execution_count": null,
      "outputs": []
    },
    {
      "cell_type": "code",
      "source": [
        "# shows how linear regression analysis can be applied to 1-dimensional data\n",
        "# https://deeplearningcourses.com/c/data-science-linear-regression-in-python\n",
        "\n",
        "import numpy as np\n",
        "import matplotlib.pyplot as plt\n",
        "\n",
        "# Load the data\n",
        "X = []\n",
        "Y = []\n",
        "for line in open('data_1d.csv'):\n",
        "  x, y = line.split(\",\")\n",
        "  X.append(float(x))\n",
        "  Y.append(float(y))\n",
        "\n",
        "# Let's turn X and Y into numpy array\n",
        "X = np.array(X)\n",
        "Y = np.array(Y)\n",
        "\n",
        "# Plot to see what it looks like\n",
        "plt.scatter(X,Y)\n",
        "plt.show()"
      ],
      "metadata": {
        "colab": {
          "base_uri": "https://localhost:8080/",
          "height": 430
        },
        "id": "We51FRGkewc3",
        "outputId": "410b5f4a-d4e7-4ee8-e682-34b453b6b504"
      },
      "execution_count": 2,
      "outputs": [
        {
          "output_type": "display_data",
          "data": {
            "text/plain": [
              "<Figure size 640x480 with 1 Axes>"
            ],
            "image/png": "[encoded data removed]"
          },
          "metadata": {}
        }
      ]
    },
    {
      "cell_type": "markdown",
      "source": [
        "Equations\n",
        "\n",
        "$$\n",
        "a = \\frac{N \\sum_{i=1}^N y_ix_i -\\sum_{i=1}^N x_i \\sum_{i=1}^N y_i}{N \\sum_{i=1}^N  x_i^2 - (\\sum_{i=1}^N x_i)^2}\n",
        "\\\\[1cm]\n",
        "b = \\frac{\\sum_{i=1}^N x_i \\sum_{i=1}^N y_i x_i -\\sum_{i=1}^N y_i \\sum_{i=1}^N  x_i^2}{(\\sum_{i=1}^N x_i)^2 - N \\sum_{i=1}^N  x_i^2}\n",
        "\\\\[2cm]\n",
        "a = \\frac{\\sum_{i=1}^N y_ix_i - \\frac{1}{N} \\sum_{i=1}^N x_i \\ \\sum_{i=1}^N y_i}{ \\sum_{i=1}^N  x_i^2 - \\frac{1}{N}(\\sum_{i=1}^N x_i)(\\sum_{i=1}^N x_i)}\n",
        "\\\\[1cm]\n",
        "b = \\frac{\\frac{1}{N}\\sum_{i=1}^N y_i \\ \\sum_{i=1}^N  x_i^2 - \\frac{1}{N} \\sum_{i=1}^N x_i \\ \\sum_{i=1}^N y_i x_i}{ \\sum_{i=1}^N  x_i^2 - \\frac{1}{N}(\\sum_{i=1}^N x_i)(\\sum_{i=1}^N x_i)}\n",
        "$$"
      ],
      "metadata": {
        "id": "mftR3glxfx4b"
      }
    },
    {
      "cell_type": "code",
      "source": [
        "# Apply the equation to calculate a and b\n",
        "denominator = X.dot(X) - X.mean() * X.sum()\n",
        "\n",
        "a = (X.dot(Y) - Y.mean() * X.sum()) / denominator\n",
        "b = (Y.mean() * X.dot(X) - X.mean() * X.dot(Y)) / denominator"
      ],
      "metadata": {
        "id": "RTO48H75fkNu"
      },
      "execution_count": 3,
      "outputs": []
    },
    {
      "cell_type": "code",
      "source": [
        "# Calculate predicted Y\n",
        "Yhat = a*X + b\n",
        "\n",
        "# plot it all\n",
        "plt.scatter(X,Y)\n",
        "plt.plot(X, Yhat)\n",
        "plt.show"
      ],
      "metadata": {
        "colab": {
          "base_uri": "https://localhost:8080/",
          "height": 447
        },
        "id": "E702A1BQiwvf",
        "outputId": "2f729059-7547-457b-b1c5-690e75b40d5d"
      },
      "execution_count": 4,
      "outputs": [
        {
          "output_type": "execute_result",
          "data": {
            "text/plain": [
              "<function matplotlib.pyplot.show(close=None, block=None)>"
            ]
          },
          "metadata": {},
          "execution_count": 4
        },
        {
          "output_type": "display_data",
          "data": {
            "text/plain": [
              "<Figure size 640x480 with 1 Axes>"
            ],
            "image/png": "[encoded data removed]"
          },
          "metadata": {}
        }
      ]
    },
    {
      "cell_type": "markdown",
      "source": [
        "### $R^2$\n",
        "\n",
        "A Mean to test the accuracy of the model\n",
        "\n",
        "$$\n",
        "R^2 = 1 - \\frac{\\text{Sum of squares residuals}}{\\text{Sum of squares total}} \\\\\n",
        "$$\n",
        "\n",
        "- Sum of squares residuals: $\\sum_i (y_i - \\hat y_i)^2$\n",
        "- Sum of squares total: $\\sum_i (y_i - \\bar y)^2$\n",
        "\n",
        "\\\n",
        "\n",
        "If Sum of squares residuals is close to zero, $R^2$ will be close to 1.\n",
        "\n",
        "- $R^2=1$ means a perfect model.\n",
        "- $R^2=0$ basically means just the average of y.\n",
        "- $R^2<0$ means the model is worse than just predicting the mean."
      ],
      "metadata": {
        "id": "kJ23279OmL75"
      }
    },
    {
      "cell_type": "markdown",
      "source": [
        "#### Python Implementation\n",
        "\n",
        "The follwoing code depends on `Minimizing the Error` section code to be ran first"
      ],
      "metadata": {
        "id": "YRiuO0SHnoCR"
      }
    },
    {
      "cell_type": "code",
      "source": [
        "# Calculate the r2\n",
        "\n",
        "d1 = Y - Yhat\n",
        "d2 = Y - Y.mean()\n",
        "r2 = 1 - d1.dot(d1) / d2.dot(d2)\n",
        "\n",
        "print(\"the r-squared is:\", r2)"
      ],
      "metadata": {
        "colab": {
          "base_uri": "https://localhost:8080/"
        },
        "id": "733H1UttoA6e",
        "outputId": "01ddd78d-2220-4ddc-f173-0d5e0b59adf6"
      },
      "execution_count": 9,
      "outputs": [
        {
          "output_type": "stream",
          "name": "stdout",
          "text": [
            "the r-squared is: 0.9911838202977805\n"
          ]
        }
      ]
    },
    {
      "cell_type": "markdown",
      "source": [
        "Moore's Law Example\n",
        "\n",
        "Since Moore's law is exponentional, we will be using the log of Y values (transistors) on the y-axis"
      ],
      "metadata": {
        "id": "6fzU4ugEokDF"
      }
    },
    {
      "cell_type": "markdown",
      "source": [
        "# Resources\n",
        "\n",
        "- [Deep Learning Prerequisites: Linear Regression in Python by Lazy Programmer](https://deeplearningcourses.com/c/data-science-linear-regression-in-python)"
      ],
      "metadata": {
        "id": "VfoGOoaFSkUf"
      }
    }
  ]
}