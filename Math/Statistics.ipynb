{
  "nbformat": 4,
  "nbformat_minor": 0,
  "metadata": {
    "colab": {
      "provenance": [],
      "toc_visible": true,
      "authorship_tag": "ABX9TyMXZGGNL3YvZQ8EznNhoMPe",
      "include_colab_link": true
    },
    "kernelspec": {
      "name": "python3",
      "display_name": "Python 3"
    },
    "language_info": {
      "name": "python"
    }
  },
  "cells": [
    {
      "cell_type": "markdown",
      "metadata": {
        "id": "view-in-github",
        "colab_type": "text"
      },
      "source": [
        "<a href=\"https://colab.research.google.com/github/cyrus2281/notes/blob/main/Math/Statistics.ipynb\" target=\"_parent\"><img src=\"https://colab.research.google.com/assets/colab-badge.svg\" alt=\"Open In Colab\"/></a>"
      ]
    },
    {
      "cell_type": "markdown",
      "source": [
        ">[Statistics](#scrollTo=eh--wBRornXE)\n",
        "\n",
        ">>[Descriptive Statistics](#scrollTo=u0ap0Y0nr8m-)\n",
        "\n",
        ">>[Inferential Statistics](#scrollTo=YmGgpU-LsG2m)\n",
        "\n",
        ">>[Mean (Average)](#scrollTo=92HcrfMvAAnZ)\n",
        "\n",
        ">>[Median](#scrollTo=-ksKH_UKAIBC)\n",
        "\n",
        ">>[Mode](#scrollTo=NZueTxW6AIFg)\n",
        "\n",
        ">>>[Bimodal](#scrollTo=EEA6Fa1PC-GU)\n",
        "\n",
        ">>[Frequency](#scrollTo=WZygPlVj5a9U)\n",
        "\n",
        ">>[Data](#scrollTo=9V1D70z63dLj)\n",
        "\n",
        ">>>[Data Types](#scrollTo=uRvqO_Tc4vdm)\n",
        "\n",
        ">>>>[Quantitative Data](#scrollTo=mb7_jN9K3gN1)\n",
        "\n",
        ">>>>[Categorical Data](#scrollTo=sNU8KS2131WX)\n",
        "\n",
        ">>>[Binning](#scrollTo=PtJ1MXxG64cP)\n",
        "\n",
        ">>>[Charts](#scrollTo=ZOP0Xd6045Xj)\n",
        "\n",
        ">>>>[Bar Charts](#scrollTo=3UIFNF0F47Ci)\n",
        "\n",
        ">>>>[Histograms](#scrollTo=v3bFS7nz7va9)\n",
        "\n",
        ">>>>[Cumulative Frequency plots](#scrollTo=tMuqIIejCmgf)\n",
        "\n",
        ">>>>[Dot Plot](#scrollTo=Ll7RkCdG9ZDZ)\n",
        "\n",
        ">>>>[Pie Charts](#scrollTo=o6pyjehC5nr-)\n",
        "\n",
        ">>>>[Pictographs](#scrollTo=3b5D-QPP587x)\n",
        "\n",
        ">>>>[Box and Whiskers plots](#scrollTo=wDyvkOc7-Vnq)\n",
        "\n",
        ">>[Bias](#scrollTo=C3uKTXKggmmN)\n",
        "\n",
        ">>>[Allocation Bias](#scrollTo=UcixJu9mgo3D)\n",
        "\n",
        ">>>[Selection Bias](#scrollTo=MT5GYoF9gs-5)\n",
        "\n",
        ">[Measure of spread](#scrollTo=e3V7c4GRy3iU)\n",
        "\n",
        ">>[InterQuartile Range](#scrollTo=amyYKSLuzUXi)\n",
        "\n",
        ">>[Variance](#scrollTo=MV6rxxNKG3IJ)\n",
        "\n",
        ">>[Standard Deviation](#scrollTo=XIeOyqVtGnwu)\n",
        "\n",
        ">>[Correlation](#scrollTo=TpG6IoZcOs7b)\n",
        "\n",
        ">>>[Correlation Coefficient](#scrollTo=MD0DuTQ7QILW)\n",
        "\n",
        ">>>[Squared Correlation](#scrollTo=skoZ6WeyRHvH)\n",
        "\n",
        ">[Distributions](#scrollTo=eerCb1gSBSKR)\n",
        "\n",
        ">>[Normal Distribution](#scrollTo=P82w9NlgBVFU)\n",
        "\n",
        ">>[Bimodal Distribution](#scrollTo=aPn4ViLtMN_8)\n",
        "\n",
        ">[Probability](#scrollTo=yCOk3GoCbD0z)\n",
        "\n",
        ">>[Definitions](#scrollTo=ogMwtqMCz1Bi)\n",
        "\n",
        ">>>[Symbols](#scrollTo=4PXWQfSY6PJ5)\n",
        "\n",
        ">>>[Empirical Probabiliy](#scrollTo=J2EmONgIz2Nt)\n",
        "\n",
        ">>>[Ttheoretical Probability](#scrollTo=ECMLcAsS0Kck)\n",
        "\n",
        ">>>[Independent](#scrollTo=9hGQSk6h5JoE)\n",
        "\n",
        ">>[Rules & Theories](#scrollTo=iKhpbfAGz-ZO)\n",
        "\n",
        ">>>[Sum Rule](#scrollTo=eNBHdiWO1q5d)\n",
        "\n",
        ">>>[Multiplication Rule](#scrollTo=FVKePYUp1962)\n",
        "\n",
        ">>>[Conditional Probabilites](#scrollTo=iwKV13Kw5h8_)\n",
        "\n",
        ">>>[Bayes' Theorem](#scrollTo=GiDQ16Ui_M7N)\n",
        "\n",
        ">[Resources](#scrollTo=hO6aVIMt58u7)\n",
        "\n"
      ],
      "metadata": {
        "colab_type": "toc",
        "id": "T35rJt36B2wN"
      }
    },
    {
      "cell_type": "markdown",
      "source": [
        "# Statistics"
      ],
      "metadata": {
        "id": "eh--wBRornXE"
      }
    },
    {
      "cell_type": "markdown",
      "source": [
        "## Descriptive Statistics\n",
        "\n",
        "> they describe what the data show! Descriptive statistics usually include things like where the middle of the data is, what statisticians call measures of central tendency, and measures of how spread out the data are."
      ],
      "metadata": {
        "id": "u0ap0Y0nr8m-"
      }
    },
    {
      "cell_type": "markdown",
      "source": [
        "## Inferential Statistics\n",
        "\n",
        "> Inferential statistics allows us to make inferences. Inferential statistics allow us to make conclusions that extend beyond the data we have in hand.\n",
        ">\n",
        "> We ask inferential statistics to do all sorts of much more complicated work for us. Inferential statistics let us test an idea or a hypothesis."
      ],
      "metadata": {
        "id": "YmGgpU-LsG2m"
      }
    },
    {
      "cell_type": "markdown",
      "source": [
        "## Mean (Average)\n",
        "\n",
        "> The mean (or average, or expectation) takes the sum of all the numbers in a data set, and divides by the number of data points.\n",
        "\n",
        "$$\n",
        "\\bar{x} = \\frac{1}{n}\\sum_{i=1}^{n}x_i\n",
        "$$"
      ],
      "metadata": {
        "id": "92HcrfMvAAnZ"
      }
    },
    {
      "cell_type": "markdown",
      "source": [
        "## Median\n",
        "\n",
        "> The median is the middle number if we lined up our data from smallest to largest.\n",
        "\n",
        "$$\n",
        "\\text{Median} =\n",
        "\\begin{cases}\n",
        "\\text{middle value}, & \\text{if the number of data points is odd} \\\\\n",
        "\\frac{\\text{sum of the two middle values}}{2}, & \\text{if the number of data points is even}\n",
        "\\end{cases}\n",
        "$$"
      ],
      "metadata": {
        "id": "-ksKH_UKAIBC"
      }
    },
    {
      "cell_type": "markdown",
      "source": [
        "## Mode\n",
        "\n",
        "> The value that appears most in our data set.\n",
        "\n",
        "$$\n",
        "\\text{Mode} = \\text{value(s) with the highest frequency}\n",
        "$$\n",
        "\n",
        "The mode is most useful when you have a relatively large sample so that you have a large number of the popular values."
      ],
      "metadata": {
        "id": "NZueTxW6AIFg"
      }
    },
    {
      "cell_type": "markdown",
      "source": [
        "### Bimodal\n",
        "\n",
        "> Bimodal data is an example of “Multimodal” data which has many values that are similarly common. Usually multimodal data results from two or more underlying groups all being measured together."
      ],
      "metadata": {
        "id": "EEA6Fa1PC-GU"
      }
    },
    {
      "cell_type": "markdown",
      "source": [
        "## Frequency\n",
        "> The frequency (f) of a particular value is the number of times the value occurs in the data. The distribution of a variable is the pattern of frequencies, meaning the set of all possible values and the frequencies associated with these values.\n",
        "\n",
        "$$\n",
        "f = \\frac{n}{N}\n",
        "$$"
      ],
      "metadata": {
        "id": "WZygPlVj5a9U"
      }
    },
    {
      "cell_type": "markdown",
      "source": [
        "## Data"
      ],
      "metadata": {
        "id": "9V1D70z63dLj"
      }
    },
    {
      "cell_type": "markdown",
      "source": [
        "### Data Types\n",
        "\n"
      ],
      "metadata": {
        "id": "uRvqO_Tc4vdm"
      }
    },
    {
      "cell_type": "markdown",
      "source": [
        "#### Quantitative Data\n",
        "\n",
        "> Quantits; Numbers that have both order and consistent spacing"
      ],
      "metadata": {
        "id": "mb7_jN9K3gN1"
      }
    },
    {
      "cell_type": "markdown",
      "source": [
        "#### Categorical Data\n",
        "> Doesn't have a meaningful order or consistent spacing."
      ],
      "metadata": {
        "id": "sNU8KS2131WX"
      }
    },
    {
      "cell_type": "markdown",
      "source": [
        "### Binning\n",
        "> Takes a quantitative variable and bins it into categories that are either pre-existing or made up. For example giving values like low, normal, and high to quantitative values."
      ],
      "metadata": {
        "id": "PtJ1MXxG64cP"
      }
    },
    {
      "cell_type": "markdown",
      "source": [
        "### Charts"
      ],
      "metadata": {
        "id": "ZOP0Xd6045Xj"
      }
    },
    {
      "cell_type": "markdown",
      "source": [
        "#### Bar Charts\n",
        "> Bar charts uses the frequencies\n",
        "\n",
        "![Bar Charts](https://www.mathsisfun.com/data/images/bar-chart-movies.svg)"
      ],
      "metadata": {
        "id": "3UIFNF0F47Ci"
      }
    },
    {
      "cell_type": "markdown",
      "source": [
        "#### Histograms\n",
        "> Squished together bar charts. The data are 'continuous' which means the values in one bar flow into the next bar. There's no separation like in our categorical bar charts.\n",
        "\n",
        "![Histograms](https://www.mathsisfun.com/data/images/histogram-heights.svg)"
      ],
      "metadata": {
        "id": "v3bFS7nz7va9"
      }
    },
    {
      "cell_type": "markdown",
      "source": [
        "#### Cumulative Frequency plots\n",
        "> Cumulative frequency plots are like histogram but instead of the height of a bar telling you how much of data is in that specific bin, it tells you how much data is in that bin and all previous bins. That's why it's called \"cumulative\".\n",
        "\n",
        "![Cumulative Frequency plots](https://www150.statcan.gc.ca/n1/edu/power-pouvoir/ch10/img/5214862_02-eng.jpg)0"
      ],
      "metadata": {
        "id": "tMuqIIejCmgf"
      }
    },
    {
      "cell_type": "markdown",
      "source": [
        "#### Dot Plot\n",
        "> A dotplot takes a histogram and replaces the solid bars which use their height to show their frequency with dots. There's one dot for each data point contained in the bar, so we can just count the number of dots to find out how many there are.\n",
        "\n",
        "![Dot Plot](https://www.mathsisfun.com/data/images/dot-plot-b.svg)"
      ],
      "metadata": {
        "id": "Ll7RkCdG9ZDZ"
      }
    },
    {
      "cell_type": "markdown",
      "source": [
        "#### Pie Charts\n",
        "> Pie charts are used for categorical data\n",
        "\n",
        "![pie charts](https://www.mathsisfun.com/data/images/pie-chart-movies.svg)"
      ],
      "metadata": {
        "id": "o6pyjehC5nr-"
      }
    },
    {
      "cell_type": "markdown",
      "source": [
        "#### Pictographs\n",
        "> Pictographs represent frequency with pictures\n",
        "\n",
        "![Pictographs](https://www.mathsisfun.com/data/images/pictograph.svg)"
      ],
      "metadata": {
        "id": "3b5D-QPP587x"
      }
    },
    {
      "cell_type": "markdown",
      "source": [
        "#### Box and Whiskers plots\n",
        "> Box plots use some the our measures of central tendency and spread to visually display our data\n",
        "\n",
        "Whiskers show the minimum and maximum, the box starts with $Q_1$ and ends with $Q_3$ and has a line in middle at median.\n",
        "\n",
        "![Box and Whiskers](https://www150.statcan.gc.ca/edu/power-pouvoir/fig/fig04-5-2-1-eng.png)\n",
        "\n",
        "![Box plots](https://www.simplypsychology.org/wp-content/uploads/compare-boxplots.jpg)\n",
        "\n",
        "![Box plots and skew](https://www.simplypsychology.org/wp-content/uploads/bloxplots-skewed.jpg)"
      ],
      "metadata": {
        "id": "wDyvkOc7-Vnq"
      }
    },
    {
      "cell_type": "markdown",
      "source": [
        "## Bias"
      ],
      "metadata": {
        "id": "C3uKTXKggmmN"
      }
    },
    {
      "cell_type": "markdown",
      "source": [
        "### Allocation Bias\n",
        "\n",
        "> Allocation bias occurs when there is a systematic difference in how participants are assigned to groups in a trial. The trial is unfair because the groups are not fairly balanced from the outset."
      ],
      "metadata": {
        "id": "UcixJu9mgo3D"
      }
    },
    {
      "cell_type": "markdown",
      "source": [
        "### Selection Bias\n",
        "\n",
        "> Selection bias is a distortion in a measure of association (such as a risk ratio) due to a sample selection that does not accurately reflect the target population."
      ],
      "metadata": {
        "id": "MT5GYoF9gs-5"
      }
    },
    {
      "cell_type": "markdown",
      "source": [
        "# Measure of spread\n",
        "\n"
      ],
      "metadata": {
        "id": "e3V7c4GRy3iU"
      }
    },
    {
      "cell_type": "markdown",
      "source": [
        "## InterQuartile Range\n",
        "\n",
        "> InterQuartile Range (or IQR) doesn’t consider extreme values. The IQR looks at the spread of the middle 50% of your data.\n",
        "For example, in terms of audience, the would be the primary group\n",
        "\n",
        "$$\n",
        " IQR = Q_3 - Q_1\n",
        "$$\n",
        "\n",
        "![iqr](https://cdn1.byjus.com/wp-content/uploads/2021/03/interquartile-range.png)"
      ],
      "metadata": {
        "id": "amyYKSLuzUXi"
      }
    },
    {
      "cell_type": "markdown",
      "source": [
        "## Variance\n",
        "\n",
        "> The average of the squared differences from the Mean. Gives us a sense of how spread out the whole dataset is.\n",
        "\n",
        "To calculate the variance follow these steps (On total population)\n",
        "\n",
        "1. Work out the Mean (the simple average of the numbers)\n",
        "2. Then for each number: subtract the Mean and square the result (the squared difference).\n",
        "3. Then work out the average of those squared differences.\n",
        "\n",
        "\n",
        "If measuring on a sample of all data, variance is devided by N-1 while calculating the average\n",
        "\n",
        "**Population** variance:\n",
        "$$\n",
        "\\sigma^2 =\\frac{1}{N}\\sum_{i=1}^{N}(x_{i}-\\mu)^{2}\n",
        "$$\n",
        "\n",
        "**Sample** variance: (Unbiased)\n",
        "$$\n",
        "\\sigma^2 = \\frac{1}{N-1}\\sum_{i=1}^{N}(x_{i}-\\mu)^{2}\n",
        "$$"
      ],
      "metadata": {
        "id": "MV6rxxNKG3IJ"
      }
    },
    {
      "cell_type": "markdown",
      "source": [
        "## Standard Deviation\n",
        "\n",
        "> The average amount we expect a point to differ (or deviate) from the mean. The measure of how spread out numbers are.\n",
        "\n",
        "Its symbol is $\\sigma$ (the greek letter sigma)\n",
        "\n",
        "**Population** Standard Deviation:\n",
        "$$\n",
        "\\sigma = \\sqrt{\\frac{1}{N}\\sum_{i=1}^{N}(x_{i}-\\mu)^{2}}\n",
        "$$\n",
        "\n",
        "**Sample** Standard Deviation: (Unbiased)\n",
        "$$\n",
        "\\sigma = \\sqrt{\\frac{1}{N-1}\\sum_{i=1}^{N}(x_{i}-\\mu)^{2}}\n",
        "$$"
      ],
      "metadata": {
        "id": "XIeOyqVtGnwu"
      }
    },
    {
      "cell_type": "markdown",
      "source": [
        "## Correlation\n",
        "> Measures the way two variables move together, both the direction and closeness of their movement. Correlation doesn't equal causation."
      ],
      "metadata": {
        "id": "TpG6IoZcOs7b"
      }
    },
    {
      "cell_type": "markdown",
      "source": [
        "### Correlation Coefficient\n",
        "\n",
        "> We use standard deviations to scale the correlation so that it is always between -1 and 1. This is the correlation coefficient, $r$.\n",
        "\n",
        "$r=1$ means a positive correlation and $r=-1$ means a negative correlation\n",
        "\n",
        "$$\n",
        "r = \\frac{N\\sum{XY}-(\\sum{X}\\sum{Y})}{\\sqrt{ [N \\sum{x^2}-(\\sum{x})^2 ][N \\sum{y^2}-(\\sum{y})^2 }]}\n",
        "$$\n",
        "\n",
        "\n",
        "![correlation](https://d138zd1ktt9iqe.cloudfront.net/media/seo_landing_files/diksha-q-how-to-calculate-correlation-coefficient-01-1609233340.png)"
      ],
      "metadata": {
        "id": "MD0DuTQ7QILW"
      }
    },
    {
      "cell_type": "markdown",
      "source": [
        "### Squared Correlation\n",
        "\n",
        "> $r^2$ is always between 0 and 1, and tells us, in decimal form, how much of the variance in one variable is predicted by the other. A measure of how accurate our prediction would be.\n",
        "\n",
        "$$\n",
        "R^2 = \\frac{SSR}{SST} = \\frac{\\sum (\\hat{y_i}-\\bar{y})^2}{\\sum (y_i-\\bar{y})^2}\n",
        "$$\n",
        "\n",
        "$\\hat{y}$ represents the prediction or a point on the regression line, $\\bar{y}$ represents the mean of all the values and $y_i$ represents the actual values or the points."
      ],
      "metadata": {
        "id": "skoZ6WeyRHvH"
      }
    },
    {
      "cell_type": "markdown",
      "source": [
        "# Distributions\n",
        "\n",
        "> A distribution represents all possible values for a set of data...and how often those values occur."
      ],
      "metadata": {
        "id": "eerCb1gSBSKR"
      }
    },
    {
      "cell_type": "markdown",
      "source": [
        "## Normal Distribution\n",
        "\n",
        "> “Normal” means a distribution of data that has roughly the same amount of data on either side of the middle, and has its most common values around the middle of the data. Data that are distributed normally will have a symmetrical bell shape.\n",
        "The fact that the median and mean are the same tells us that the distribution is symmetric: there’s equal amounts of data on either side of the median, and equal amounts on either side of the mean."
      ],
      "metadata": {
        "id": "P82w9NlgBVFU"
      }
    },
    {
      "cell_type": "markdown",
      "source": [
        "It is often called a \"Bell Curve\" because it looks like a bell.\n",
        "\n",
        "* mean = median = mode\n",
        "* symmetry about the centre\n",
        "* 50% of values less than the mean and 50% greater than the mean\n",
        "\n",
        "It is good to know the standard deviation, because we can say that any value is:\n",
        "\n",
        "* likely to be within 1 standard deviation (68 out of 100 should be)\n",
        "* very likely to be within 2 standard deviations (95 out of 100 should be)\n",
        "* almost certainly within 3 standard deviations (997 out of 1000 should be)\n",
        "\n",
        "The number of standard deviations from the mean is also called the \"Standard Score\", \"sigma\" or \"z-score\".\n",
        "\n",
        "To convert a value to a Standard Score (\"z-score\") (Standardize):\n",
        "1. first subtract the mean,\n",
        "2. then divide by the Standard Deviation\n",
        "$$\n",
        "z = \\frac{x - \\mu }{\\sigma }\n",
        "$$\n",
        "\n",
        "* z is the \"z-score\" (Standard Score)\n",
        "* x is the value to be standardised\n",
        "* μ ('mu\") is the mean\n",
        "* σ (\"sigma\") is the standard deviation"
      ],
      "metadata": {
        "id": "p8WqfAO_PdI1"
      }
    },
    {
      "cell_type": "markdown",
      "source": [
        "![normal distribution](https://www.mathsisfun.com/data/images/normal-distrubution-large.svg)\n",
        "\n",
        "Skew\n",
        "![skew](https://upload.wikimedia.org/wikipedia/commons/c/cc/Relationship_between_mean_and_median_under_different_skewness.png)"
      ],
      "metadata": {
        "id": "RKn-k1o1W0I-"
      }
    },
    {
      "cell_type": "markdown",
      "source": [
        "## Bimodal Distribution\n",
        "\n",
        "> A distribution with 2 peeks.\n",
        "\n",
        "Bimodal distributions could be a result of 2 combined unimodals.\n",
        "\n",
        "![bimodal distribution](https://upload.wikimedia.org/wikipedia/commons/e/e2/Bimodal.png)"
      ],
      "metadata": {
        "id": "aPn4ViLtMN_8"
      }
    },
    {
      "cell_type": "markdown",
      "source": [
        "# Probability"
      ],
      "metadata": {
        "id": "yCOk3GoCbD0z"
      }
    },
    {
      "cell_type": "markdown",
      "source": [
        "## Definitions"
      ],
      "metadata": {
        "id": "ogMwtqMCz1Bi"
      }
    },
    {
      "cell_type": "markdown",
      "source": [
        "### Symbols\n",
        "\n",
        "$\n",
        "\\bullet \\quad P: Probability \\\\\n",
        "\\bullet \\quad \\cap: AND \\\\\n",
        "\\bullet \\quad \\cup: OR \\\\\n",
        "$"
      ],
      "metadata": {
        "id": "4PXWQfSY6PJ5"
      }
    },
    {
      "cell_type": "markdown",
      "source": [
        "### Empirical Probabiliy\n",
        "> Something we observe in actual data. Empirical probabilities, like sample statistics, give us a glimpse at the true theoretical probability, but they won’t always be equal to it because of the uncertainty and randomness of any sample."
      ],
      "metadata": {
        "id": "J2EmONgIz2Nt"
      }
    },
    {
      "cell_type": "markdown",
      "source": [
        "### Ttheoretical Probability\n",
        "> More of an ideal or a truth out there that we can't directly see.  The empirical probability can be a good estimation of the theoretical one, even if it’s not exact."
      ],
      "metadata": {
        "id": "ECMLcAsS0Kck"
      }
    },
    {
      "cell_type": "markdown",
      "source": [
        "### Independent\n",
        "> if the probability of one event occurring is not changed by whether or not the second event occurred"
      ],
      "metadata": {
        "id": "9hGQSk6h5JoE"
      }
    },
    {
      "cell_type": "markdown",
      "source": [
        "## Rules & Theories"
      ],
      "metadata": {
        "id": "iKhpbfAGz-ZO"
      }
    },
    {
      "cell_type": "markdown",
      "source": [
        "### Sum Rule\n",
        "$$\n",
        "P(A \\cup B) = P(A) + P(B) - P(A \\cap B)\n",
        "$$"
      ],
      "metadata": {
        "id": "eNBHdiWO1q5d"
      }
    },
    {
      "cell_type": "markdown",
      "source": [
        "### Multiplication Rule\n",
        "$$\n",
        "P(A \\cap B) = P(A) \\times P(B)\n",
        "$$"
      ],
      "metadata": {
        "id": "FVKePYUp1962"
      }
    },
    {
      "cell_type": "markdown",
      "source": [
        "### Conditional Probabilites\n",
        "\n",
        "> Conditional probabilities tell us the probability of Event 1, given that Event 2 has already happened.\n",
        "\n",
        "$$\n",
        "P(B | A) = \\frac{P( B \\cap A)}{P(A)}\n",
        "$$\n",
        "\n",
        "$A$ happens before $B$"
      ],
      "metadata": {
        "id": "iwKV13Kw5h8_"
      }
    },
    {
      "cell_type": "markdown",
      "source": [
        "### Bayes' Theorem\n",
        "\n",
        "$$\n",
        "P(B|A) = \\frac{P(A|B)P(B)}{P(A)}\n",
        "$$\n",
        "\n",
        "It can also be concluded that: $P(A \\cap B) = P(A|B)P(B)$\n",
        "\n",
        "Bayesian statistics is all about UPDATING your beliefs based on new information"
      ],
      "metadata": {
        "id": "GiDQ16Ui_M7N"
      }
    },
    {
      "cell_type": "markdown",
      "source": [
        "----\n",
        "\n",
        "# Resources\n",
        "* [Crash Course Statistics](https://youtube.com/playlist?list=PL8dPuuaLjXtNM_Y-bUAhblSAdWRnmBUcr)\n",
        "* [Math is fun](https://www.mathsisfun.com)\n",
        "* [LaTex Generator](https://latex.codecogs.com/eqneditor/editor.php)"
      ],
      "metadata": {
        "id": "hO6aVIMt58u7"
      }
    }
  ]
}