{
  "nbformat": 4,
  "nbformat_minor": 0,
  "metadata": {
    "colab": {
      "provenance": [],
      "toc_visible": true,
      "authorship_tag": "ABX9TyOZf53cR4ukiz6Wx7odvOZ3",
      "include_colab_link": true
    },
    "kernelspec": {
      "name": "python3",
      "display_name": "Python 3"
    },
    "language_info": {
      "name": "python"
    }
  },
  "cells": [
    {
      "cell_type": "markdown",
      "metadata": {
        "id": "view-in-github",
        "colab_type": "text"
      },
      "source": [
        "<a href=\"https://colab.research.google.com/github/cyrus2281/notes/blob/main/Math/Statistics.ipynb\" target=\"_parent\"><img src=\"https://colab.research.google.com/assets/colab-badge.svg\" alt=\"Open In Colab\"/></a>"
      ]
    },
    {
      "cell_type": "markdown",
      "source": [
        ">[Statistics](#scrollTo=eh--wBRornXE)\n",
        "\n",
        ">>[Descriptive Statistics](#scrollTo=u0ap0Y0nr8m-)\n",
        "\n",
        ">>[Inferential Statistics](#scrollTo=YmGgpU-LsG2m)\n",
        "\n",
        ">>[Mean (Average)](#scrollTo=92HcrfMvAAnZ)\n",
        "\n",
        ">>[Median](#scrollTo=-ksKH_UKAIBC)\n",
        "\n",
        ">>[Mode](#scrollTo=NZueTxW6AIFg)\n",
        "\n",
        ">>>[Bimodal](#scrollTo=EEA6Fa1PC-GU)\n",
        "\n",
        ">[Distributions](#scrollTo=eerCb1gSBSKR)\n",
        "\n",
        ">>[Normal Distribution](#scrollTo=P82w9NlgBVFU)\n",
        "\n",
        ">[Probability](#scrollTo=yCOk3GoCbD0z)\n",
        "\n",
        ">>[Standard Deviation](#scrollTo=XIeOyqVtGnwu)\n",
        "\n",
        ">>[Variance](#scrollTo=MV6rxxNKG3IJ)\n",
        "\n",
        ">[Resources](#scrollTo=hO6aVIMt58u7)\n",
        "\n"
      ],
      "metadata": {
        "colab_type": "toc",
        "id": "T35rJt36B2wN"
      }
    },
    {
      "cell_type": "markdown",
      "source": [
        "# Statistics"
      ],
      "metadata": {
        "id": "eh--wBRornXE"
      }
    },
    {
      "cell_type": "markdown",
      "source": [
        "## Descriptive Statistics\n",
        "\n",
        "> they describe what the data show! Descriptive statistics usually include things like where the middle of the data is, what statisticians call measures of central tendency, and measures of how spread out the data are."
      ],
      "metadata": {
        "id": "u0ap0Y0nr8m-"
      }
    },
    {
      "cell_type": "markdown",
      "source": [
        "## Inferential Statistics\n",
        "\n",
        "> Inferential statistics allows us to make inferences. Inferential statistics allow us to make conclusions that extend beyond the data we have in hand.\n",
        ">\n",
        "> We ask inferential statistics to do all sorts of much more complicated work for us. Inferential statistics let us test an idea or a hypothesis."
      ],
      "metadata": {
        "id": "YmGgpU-LsG2m"
      }
    },
    {
      "cell_type": "markdown",
      "source": [
        "## Mean (Average)\n",
        "\n",
        "> The mean (or average, or expectation) takes the sum of all the numbers in a data set, and divides by the number of data points.\n",
        "\n",
        "$$\n",
        "\\bar{x} = \\frac{1}{n}\\sum_{i=1}^{n}x_i\n",
        "$$"
      ],
      "metadata": {
        "id": "92HcrfMvAAnZ"
      }
    },
    {
      "cell_type": "markdown",
      "source": [
        "## Median\n",
        "\n",
        "> The median is the middle number if we lined up our data from smallest to largest.\n",
        "\n",
        "$$\n",
        "\\text{Median} =\n",
        "\\begin{cases}\n",
        "\\text{middle value}, & \\text{if the number of data points is odd} \\\\\n",
        "\\frac{\\text{sum of the two middle values}}{2}, & \\text{if the number of data points is even}\n",
        "\\end{cases}\n",
        "$$"
      ],
      "metadata": {
        "id": "-ksKH_UKAIBC"
      }
    },
    {
      "cell_type": "markdown",
      "source": [
        "## Mode\n",
        "\n",
        "> The value that appears most in our data set.\n",
        "\n",
        "$$\n",
        "\\text{Mode} = \\text{value(s) with the highest frequency}\n",
        "$$\n",
        "\n",
        "The mode is most useful when you have a relatively large sample so that you have a large number of the popular values."
      ],
      "metadata": {
        "id": "NZueTxW6AIFg"
      }
    },
    {
      "cell_type": "markdown",
      "source": [
        "### Bimodal\n",
        "\n",
        "> Bimodal data is an example of “Multimodal” data which has many values that are similarly common. Usually multimodal data results from two or more underlying groups all being measured together."
      ],
      "metadata": {
        "id": "EEA6Fa1PC-GU"
      }
    },
    {
      "cell_type": "markdown",
      "source": [
        "## Frequency\n",
        "> The frequency (f) of a particular value is the number of times the value occurs in the data. The distribution of a variable is the pattern of frequencies, meaning the set of all possible values and the frequencies associated with these values.\n",
        "\n",
        "$$\n",
        "f = \\frac{n}{N}\n",
        "$$"
      ],
      "metadata": {
        "id": "WZygPlVj5a9U"
      }
    },
    {
      "cell_type": "markdown",
      "source": [
        "## Data"
      ],
      "metadata": {
        "id": "9V1D70z63dLj"
      }
    },
    {
      "cell_type": "markdown",
      "source": [
        "### Data Types\n",
        "\n"
      ],
      "metadata": {
        "id": "uRvqO_Tc4vdm"
      }
    },
    {
      "cell_type": "markdown",
      "source": [
        "#### Quantitative Data\n",
        "\n",
        "> Quantits; Numbers that have both order and consistent spacing"
      ],
      "metadata": {
        "id": "mb7_jN9K3gN1"
      }
    },
    {
      "cell_type": "markdown",
      "source": [
        "#### Categorical Data\n",
        "> Doesn't have a meaningful order or consistent spacing."
      ],
      "metadata": {
        "id": "sNU8KS2131WX"
      }
    },
    {
      "cell_type": "markdown",
      "source": [
        "### Binning\n",
        "> Takes a quantitative variable and bins it into categories that are either pre-existing or made up. For example giving values like low, normal, and high to quantitative values."
      ],
      "metadata": {
        "id": "PtJ1MXxG64cP"
      }
    },
    {
      "cell_type": "markdown",
      "source": [
        "### Charts"
      ],
      "metadata": {
        "id": "ZOP0Xd6045Xj"
      }
    },
    {
      "cell_type": "markdown",
      "source": [
        "#### Bar Charts\n",
        "> Bar charts uses the frequencies"
      ],
      "metadata": {
        "id": "3UIFNF0F47Ci"
      }
    },
    {
      "cell_type": "markdown",
      "source": [
        "### Histograms\n",
        "> Squished together bar charts. The data are 'continuous' which means the values in one bar flow into the next bar. There's no separation like in our categorical bar charts."
      ],
      "metadata": {
        "id": "v3bFS7nz7va9"
      }
    },
    {
      "cell_type": "markdown",
      "source": [
        "#### Pie Charts\n",
        "> Pie charts are used for categorical data"
      ],
      "metadata": {
        "id": "o6pyjehC5nr-"
      }
    },
    {
      "cell_type": "markdown",
      "source": [
        "#### Pictographs\n",
        "> Pictographs represent frequency with pictures"
      ],
      "metadata": {
        "id": "3b5D-QPP587x"
      }
    },
    {
      "cell_type": "markdown",
      "source": [
        "# Measure of spread\n",
        "\n"
      ],
      "metadata": {
        "id": "e3V7c4GRy3iU"
      }
    },
    {
      "cell_type": "markdown",
      "source": [
        "## InterQuartile Range\n",
        "\n",
        "> InterQuartile Range (or IQR) doesn’t consider extreme values. The IQR looks at the spread of the middle 50% of your data.\n",
        "For example, in terms of audience, the would be the primary group\n",
        "\n",
        "$$\n",
        " IQR = Q_3 - Q_1\n",
        "$$\n",
        "\n",
        "![iqr](https://cdn1.byjus.com/wp-content/uploads/2021/03/interquartile-range.png)"
      ],
      "metadata": {
        "id": "amyYKSLuzUXi"
      }
    },
    {
      "cell_type": "markdown",
      "source": [
        "## Variance\n",
        "\n",
        "> The average of the squared differences from the Mean. Gives us a sense of how spread out the whole dataset is.\n",
        "\n",
        "To calculate the variance follow these steps (On total population)\n",
        "\n",
        "1. Work out the Mean (the simple average of the numbers)\n",
        "2. Then for each number: subtract the Mean and square the result (the squared difference).\n",
        "3. Then work out the average of those squared differences.\n",
        "\n",
        "\n",
        "If measuring on a sample of all data, variance is devided by N-1 while calculating the average\n",
        "\n",
        "**Population** variance:\n",
        "$$\n",
        "\\sigma^2 =\\frac{1}{N}\\sum_{i=1}^{N}(x_{i}-\\mu)^{2}\n",
        "$$\n",
        "\n",
        "**Sample** variance: (Unbiased)\n",
        "$$\n",
        "\\sigma^2 = \\frac{1}{N-1}\\sum_{i=1}^{N}(x_{i}-\\mu)^{2}\n",
        "$$"
      ],
      "metadata": {
        "id": "MV6rxxNKG3IJ"
      }
    },
    {
      "cell_type": "markdown",
      "source": [
        "## Standard Deviation\n",
        "\n",
        "> The average amount we expect a point to differ (or deviate) from the mean. The measure of how spread out numbers are.\n",
        "\n",
        "Its symbol is $\\sigma$ (the greek letter sigma)\n",
        "\n",
        "**Population** Standard Deviation:\n",
        "$$\n",
        "\\sigma = \\sqrt{\\frac{1}{N}\\sum_{i=1}^{N}(x_{i}-\\mu)^{2}}\n",
        "$$\n",
        "\n",
        "**Sample** Standard Deviation: (Unbiased)\n",
        "$$\n",
        "\\sigma = \\sqrt{\\frac{1}{N-1}\\sum_{i=1}^{N}(x_{i}-\\mu)^{2}}\n",
        "$$"
      ],
      "metadata": {
        "id": "XIeOyqVtGnwu"
      }
    },
    {
      "cell_type": "markdown",
      "source": [
        "# Distributions"
      ],
      "metadata": {
        "id": "eerCb1gSBSKR"
      }
    },
    {
      "cell_type": "markdown",
      "source": [
        "## Normal Distribution\n",
        "\n",
        "> “Normal” means a distribution of data that has roughly the same amount of data on either side of the middle, and has its most common values around the middle of the data. Data that are distributed normally will have a symmetrical bell shape.\n",
        "The fact that the median and mean are the same tells us that the distribution is symmetric: there’s equal amounts of data on either side of the median, and equal amounts on either side of the mean."
      ],
      "metadata": {
        "id": "P82w9NlgBVFU"
      }
    },
    {
      "cell_type": "markdown",
      "source": [
        "It is often called a \"Bell Curve\" because it looks like a bell.\n",
        "\n",
        "* mean = median = mode\n",
        "* symmetry about the centre\n",
        "* 50% of values less than the mean and 50% greater than the mean\n",
        "\n",
        "It is good to know the standard deviation, because we can say that any value is:\n",
        "\n",
        "* likely to be within 1 standard deviation (68 out of 100 should be)\n",
        "* very likely to be within 2 standard deviations (95 out of 100 should be)\n",
        "* almost certainly within 3 standard deviations (997 out of 1000 should be)\n",
        "\n",
        "The number of standard deviations from the mean is also called the \"Standard Score\", \"sigma\" or \"z-score\".\n",
        "\n",
        "To convert a value to a Standard Score (\"z-score\") (Standardize):\n",
        "1. first subtract the mean,\n",
        "2. then divide by the Standard Deviation\n",
        "$$\n",
        "z = \\frac{x - \\mu }{\\sigma }\n",
        "$$\n",
        "\n",
        "* z is the \"z-score\" (Standard Score)\n",
        "* x is the value to be standardised\n",
        "* μ ('mu\") is the mean\n",
        "* σ (\"sigma\") is the standard deviation"
      ],
      "metadata": {
        "id": "p8WqfAO_PdI1"
      }
    },
    {
      "cell_type": "markdown",
      "source": [
        "![normal distribution](https://www.mathsisfun.com/data/images/normal-distrubution-large.svg)"
      ],
      "metadata": {
        "id": "RKn-k1o1W0I-"
      }
    },
    {
      "cell_type": "markdown",
      "source": [
        "# Probability"
      ],
      "metadata": {
        "id": "yCOk3GoCbD0z"
      }
    },
    {
      "cell_type": "markdown",
      "source": [
        "----\n",
        "\n",
        "# Resources\n",
        "* [Crash Course Statistics](https://youtube.com/playlist?list=PL8dPuuaLjXtNM_Y-bUAhblSAdWRnmBUcr)\n",
        "* [Math is fun](https://www.mathsisfun.com)\n",
        "* [LaTex Generator](https://latex.codecogs.com/eqneditor/editor.php)"
      ],
      "metadata": {
        "id": "hO6aVIMt58u7"
      }
    }
  ]
}