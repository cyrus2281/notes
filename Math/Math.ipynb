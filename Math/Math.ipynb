{
  "nbformat": 4,
  "nbformat_minor": 0,
  "metadata": {
    "colab": {
      "provenance": [],
      "toc_visible": true,
      "authorship_tag": "ABX9TyNia7CAPF+PuTxCfWHgkIZM",
      "include_colab_link": true
    },
    "kernelspec": {
      "name": "python3",
      "display_name": "Python 3"
    },
    "language_info": {
      "name": "python"
    }
  },
  "cells": [
    {
      "cell_type": "markdown",
      "metadata": {
        "id": "view-in-github",
        "colab_type": "text"
      },
      "source": [
        "<a href=\"https://colab.research.google.com/github/cyrus2281/notes/blob/main/Math/Math.ipynb\" target=\"_parent\"><img src=\"https://colab.research.google.com/assets/colab-badge.svg\" alt=\"Open In Colab\"/></a>"
      ]
    },
    {
      "cell_type": "markdown",
      "source": [
        "# Linear Algebra"
      ],
      "metadata": {
        "id": "xEknEZHZbH8O"
      }
    },
    {
      "cell_type": "markdown",
      "source": [
        "## Vectors\n",
        "\n",
        "**In physics:** Arrows pointing in space. It is defined by a length and a direction. It can be moved around and it's still the same vector. They can be in 2 or 3 dimentional world.\n",
        "\n",
        "**In Computer Science:** Ordered list of numbers. It can be of any dimention\n",
        "\n",
        "**In Mathematics:** Anything where there's a sensible notion of adding two vetors and multiplying a vector by a number.\n",
        "\n"
      ],
      "metadata": {
        "id": "vT2WbMjAbSfc"
      }
    },
    {
      "cell_type": "markdown",
      "source": [
        "### Unit Vectors\n",
        "\n",
        "**$\\hat{i}$**: A vector pointing to right with length of one. $\\begin{bmatrix} 1 \\\\ 0 \\end {bmatrix}$\n",
        "\n",
        "**$\\hat{j}$**: A vector pointing to top with length of one $\\begin{bmatrix} 0 \\\\ 1 \\end {bmatrix}$\n",
        "\n",
        "Together these are the **basis vectors** of the xy coordiante system.\n",
        "\n",
        "$$\n",
        "\\begin{bmatrix}\n",
        "-5 \\\\\n",
        "2\n",
        "\\end{bmatrix}\n",
        "=\n",
        "\\begin{bmatrix}\n",
        "-5 \\hat{i} \\\\\n",
        "2 \\hat{j}\n",
        "\\end{bmatrix}\n",
        "$$\n"
      ],
      "metadata": {
        "id": "t3GKNy1WgVv6"
      }
    },
    {
      "cell_type": "markdown",
      "source": [
        "### Vector Summation\n",
        "\n",
        "$$\n",
        "\\begin{bmatrix}\n",
        "x_1 \\\\\n",
        "y_1\n",
        "\\end{bmatrix}\n",
        "+\n",
        "\\begin{bmatrix}\n",
        "x_2\\\\ \n",
        "y_2\n",
        "\\end{bmatrix}\n",
        "=\n",
        "\\begin{bmatrix}\n",
        "x_1 + x_2\\\\ \n",
        "y_1 + y_2\n",
        "\\end{bmatrix}\n",
        "$$\n"
      ],
      "metadata": {
        "id": "ErevL6nidtLX"
      }
    },
    {
      "cell_type": "markdown",
      "source": [
        "### Vector Multiplication (Scaling)\n",
        "\n",
        "Scaler is a number that scales a vector. $k$\n",
        "\n",
        "$$\n",
        "k\n",
        "\\cdot\n",
        "\\begin{bmatrix}\n",
        "x\\\\ \n",
        "y\n",
        "\\end{bmatrix}\n",
        "=\n",
        "\\begin{bmatrix}\n",
        "kx\\\\ \n",
        "ky\n",
        "\\end{bmatrix}\n",
        "$$"
      ],
      "metadata": {
        "id": "c_Ty0QhXelvN"
      }
    },
    {
      "cell_type": "markdown",
      "source": [
        "### Linear Combination\n",
        "\n",
        "Linear Combination of $\\vec{v}$ and $\\vec{w}$\n",
        "\n",
        "$$\n",
        "a\\vec{v}+b\\vec{w}\n",
        "$$\n",
        "\n",
        "$a$ and $b$ are scalars\n",
        "\n",
        "With a combination of two scalars, you can reach every point on the xy plane. Unless the scalars are algined or are zero.\n",
        "\n",
        "**Span**\n",
        "> The **span** of $\\vec{v}$ and $\\vec{w}$ is the set of all their linear combinations.\n",
        "\n",
        "It's typical to think of a vector as a point that starts from origin and ends at the point.\n",
        "\n",
        "Linear Combination of $\\vec{v}$, $\\vec{w}$ and $\\vec{u}$ for 3 dimentions.\n",
        "\n",
        "$$\n",
        "a\\vec{v}+b\\vec{w}+c\\vec{u}\n",
        "$$\n",
        "\n",
        "\n",
        "**Linearly Dependent**\n",
        "> When a vector becomes redundant which you can remove without effecting the span, eg two vectors are algined, they are called **Linearly Dependent**.\n",
        "This means one of the vectors can be represented as a linear combination of others.\n",
        "\n",
        "eg: $\\vec{v}$ and $\\vec{w}$ are `\"Linearly depdendent\"`\n",
        "\n",
        "**Linearly independent**\n",
        "> On the other hand, if each vector does add a deminetion to the plane, it is called **Linearly independent**\n",
        "\n",
        "**Basis**\n",
        "> The **Basis** of a vector space is a set of *linearly independent* vectors that *span* the full space."
      ],
      "metadata": {
        "id": "Qdut1DFCiPWS"
      }
    },
    {
      "cell_type": "markdown",
      "source": [
        "## Matrices"
      ],
      "metadata": {
        "id": "UzMIA2NFW5RI"
      }
    },
    {
      "cell_type": "markdown",
      "source": [
        "### Dot Product\n",
        "https://www.mathsisfun.com/algebra/matrix-multiplying.\n",
        "\n",
        "$$\n",
        "(m,n)\\times(n,p)=(m,p)\n",
        "$$\n",
        "\n",
        "$$\n",
        "\\begin{bmatrix}\n",
        "1 & 2 & 3\\\\ \n",
        "4 & 5 & 6\n",
        "\\end{bmatrix} \\times\n",
        "\\begin{bmatrix}\n",
        "7 & 8\\\\\n",
        "9 & 10\\\\\n",
        "11 & 12\n",
        "\\end{bmatrix} = \\begin{bmatrix}\n",
        "58 & 64\\\\\n",
        "139 & 154\n",
        "\\end{bmatrix}\n",
        "\\\\\n",
        "(2,3)\\times(3,2)=(2,2)\n",
        "$$"
      ],
      "metadata": {
        "id": "CSpK2ytvbNgg"
      }
    },
    {
      "cell_type": "markdown",
      "source": [
        "multiplying a 3×1 by a 1×3 gets a 3×3 result:\n",
        "$$\n",
        "\\begin{bmatrix}\n",
        "4 \\\\ \n",
        "5 \\\\ \n",
        "6\n",
        "\\end{bmatrix}\\begin{bmatrix}\n",
        "1 & 2 & 3\\\\\n",
        "\\end{bmatrix} = \\begin{bmatrix}\n",
        "4\\times1  & 4\\times2 & 4\\times3\\\\ \n",
        "5\\times1  & 5\\times2 & 5\\times3\\\\ \n",
        "6\\times1  & 6\\times2 & 6\\times3\\\\ \n",
        "\\end{bmatrix} = \\begin{bmatrix}\n",
        "4 & 8 & 12\\\\ \n",
        "5 & 10 & 15\\\\ \n",
        "6 & 12 &  18\n",
        "\\end{bmatrix}\n",
        "$$"
      ],
      "metadata": {
        "id": "HskOcky-hBIH"
      }
    },
    {
      "cell_type": "markdown",
      "source": [
        "#### Order of Multiplication\n",
        "When we change the order of multiplication, the answer is (usually) different.\n",
        "$$\n",
        "AB \\neq BA\n",
        "$$"
      ],
      "metadata": {
        "id": "5js68JgYhvOB"
      }
    },
    {
      "cell_type": "markdown",
      "source": [
        "### Identity Matrix\n",
        "\n",
        "The \"Identity Matrix\" is the matrix equivalent of the number \"1\":\n",
        "$$\n",
        "I = \\begin{bmatrix}\n",
        "1 & 0 & 0\\\\ \n",
        "0 & 1 & 0\\\\ \n",
        "0 & 0 & 0\n",
        "\\end{bmatrix}\n",
        "$$\n",
        "\n",
        "* It is \"square\" (has same number of rows as columns)\n",
        "* It can be large or small (2×2, 100×100, ... whatever)\n",
        "* It has 1s on the main diagonal and 0s everywhere else\n",
        "* Its symbol is the capital letter I\n",
        "\n",
        "$$\n",
        "A \\times I = A\\\\\n",
        "I \\times A = A\n",
        "$$"
      ],
      "metadata": {
        "id": "hFnazoZKc__K"
      }
    },
    {
      "cell_type": "markdown",
      "source": [
        "# Probability "
      ],
      "metadata": {
        "id": "yCOk3GoCbD0z"
      }
    },
    {
      "cell_type": "markdown",
      "source": [
        "## Standard Deviation\n",
        "\n",
        "> The measure of how spread out numbers are.\n",
        "\n",
        "Its symbol is σ (the greek letter sigma)\n"
      ],
      "metadata": {
        "id": "XIeOyqVtGnwu"
      }
    },
    {
      "cell_type": "markdown",
      "source": [
        "## Variance\n",
        "\n",
        "> The average of the squared differences from the Mean.\n",
        "\n",
        "To calculate the variance follow these steps (On total population)\n",
        "\n",
        "1. Work out the Mean (the simple average of the numbers)\n",
        "2. Then for each number: subtract the Mean and square the result (the squared difference).\n",
        "3. Then work out the average of those squared differences.\n",
        "\n",
        "\n",
        "If measuring on a sample of all data, variance is devided by N-1 while calculating the average\n",
        "\n",
        "**Population** Standard Deviation:\n",
        "$$\n",
        "\\sigma = \\sqrt{\\frac{1}{N}\\sum_{i=1}^{N}(x_{i}-\\mu)^{2}}\n",
        "$$\n",
        "\n",
        "**Sample** Standard Deviation:\n",
        "$$\n",
        "\\sigma = \\sqrt{\\frac{1}{N-1}\\sum_{i=1}^{N}(x_{i}-\\mu)^{2}}\n",
        "$$"
      ],
      "metadata": {
        "id": "MV6rxxNKG3IJ"
      }
    },
    {
      "cell_type": "markdown",
      "source": [
        "## Normal Distribution\n",
        "\n",
        "It is often called a \"Bell Curve\" because it looks like a bell.\n",
        "\n",
        "* mean = median = mode\n",
        "* symmetry about the centre\n",
        "* 50% of values less than the mean and 50% greater than the mean\n",
        "\n",
        "It is good to know the standard deviation, because we can say that any value is:\n",
        "\n",
        "* likely to be within 1 standard deviation (68 out of 100 should be)\n",
        "* very likely to be within 2 standard deviations (95 out of 100 should be)\n",
        "* almost certainly within 3 standard deviations (997 out of 1000 should be)\n",
        "\n",
        "The number of standard deviations from the mean is also called the \"Standard Score\", \"sigma\" or \"z-score\".\n",
        "\n",
        "To convert a value to a Standard Score (\"z-score\") (Standardize):\n",
        "1. first subtract the mean,\n",
        "2. then divide by the Standard Deviation\n",
        "$$\n",
        "z = \\frac{x - \\mu }{\\sigma }\n",
        "$$\n",
        "\n",
        "* z is the \"z-score\" (Standard Score)\n",
        "* x is the value to be standardised\n",
        "* μ ('mu\") is the mean\n",
        "* σ (\"sigma\") is the standard deviation"
      ],
      "metadata": {
        "id": "p8WqfAO_PdI1"
      }
    },
    {
      "cell_type": "markdown",
      "source": [
        "![normal distribution](https://www.mathsisfun.com/data/images/normal-distrubution-large.svg)"
      ],
      "metadata": {
        "id": "RKn-k1o1W0I-"
      }
    },
    {
      "cell_type": "markdown",
      "source": [
        "----\n",
        "\n",
        "# Resouces\n",
        "* [Math is fun](https://www.mathsisfun.com)\n",
        "* [LaTex Generator](https://latex.codecogs.com/eqneditor/editor.php)"
      ],
      "metadata": {
        "id": "hO6aVIMt58u7"
      }
    }
  ]
}