{
  "nbformat": 4,
  "nbformat_minor": 0,
  "metadata": {
    "colab": {
      "provenance": [],
      "toc_visible": true,
      "authorship_tag": "ABX9TyOJarONv5pXkOGnttqh6wgh",
      "include_colab_link": true
    },
    "kernelspec": {
      "name": "python3",
      "display_name": "Python 3"
    },
    "language_info": {
      "name": "python"
    }
  },
  "cells": [
    {
      "cell_type": "markdown",
      "metadata": {
        "id": "view-in-github",
        "colab_type": "text"
      },
      "source": [
        "<a href=\"https://colab.research.google.com/github/cyrus2281/notes/blob/main/Math/Math.ipynb\" target=\"_parent\"><img src=\"https://colab.research.google.com/assets/colab-badge.svg\" alt=\"Open In Colab\"/></a>"
      ]
    },
    {
      "cell_type": "markdown",
      "source": [
        "# Math"
      ],
      "metadata": {
        "id": "mQs-H99K5PXF"
      }
    },
    {
      "cell_type": "markdown",
      "source": [
        ">[Math](#scrollTo=mQs-H99K5PXF)\n",
        "\n",
        ">>[Algebra](#scrollTo=s0Xrl3y9ak61)\n",
        "\n",
        ">>>[Linear Equation](#scrollTo=PuPuLXE4aqqA)\n",
        "\n",
        ">>>[Sequences](#scrollTo=U2ItdWQw171D)\n",
        "\n",
        ">>>>[Arithmetic Sequences](#scrollTo=i9sW5D3q1-hJ)\n",
        "\n",
        ">>>>[Geometric Sequences](#scrollTo=17rLi5Go2CUR)\n",
        "\n",
        ">>>[Polynomials](#scrollTo=sZtFVZNaoECE)\n",
        "\n",
        ">>>>[Polynomial Factors](#scrollTo=zoIoB-RDjQCm)\n",
        "\n",
        ">>>>[Polynomial Remainder Theorem](#scrollTo=FtTw2Oi8q2qv)\n",
        "\n",
        ">>>>[Symmetricity](#scrollTo=AbXLcPwSdLBx)\n",
        "\n",
        ">>>>[Extraneous solutions](#scrollTo=_o61_FbGmh5h)\n",
        "\n",
        ">>>[Quadratic Formula](#scrollTo=lohadBZw5REE)\n",
        "\n",
        ">>>>[Simplified Quadratic Formula](#scrollTo=XnF7matT5JVq)\n",
        "\n",
        ">>>>[Traditional Quadratic Formula](#scrollTo=mwYyU9RK5NxL)\n",
        "\n",
        ">>[Geometry](#scrollTo=9qHj1lzNNwoX)\n",
        "\n",
        ">>>[Pythagorean Theorem](#scrollTo=VlZup5k_QbeY)\n",
        "\n",
        ">>>[Distance Formula](#scrollTo=Lm8no4t7Nz_N)\n",
        "\n",
        ">>>[Midpoint Formula](#scrollTo=0h1DkkUeON6B)\n",
        "\n",
        ">>>[Line Slope](#scrollTo=hqvpmtKeRrkK)\n",
        "\n",
        ">>>>[Parallel and Perpendicular lines](#scrollTo=1zSfgDBwSHJW)\n",
        "\n",
        ">>>[Conic shapes & formulas](#scrollTo=MkdFj-XfiHM7)\n",
        "\n",
        ">>>>[Circle](#scrollTo=t3_n-72UdAMP)\n",
        "\n",
        ">>>>>[Radian](#scrollTo=UKVhZRIqpdPf)\n",
        "\n",
        ">>>>>[Arc](#scrollTo=VBpyO4ovvorO)\n",
        "\n",
        ">>>>>[Inscribed Angles Theorem](#scrollTo=tkqMFPjHxRYQ)\n",
        "\n",
        ">>>>[Parabola](#scrollTo=W2lMV-j3dvAj)\n",
        "\n",
        ">>[Pi ($\\pi$)](#scrollTo=lP3WJh4IAIAD)\n",
        "\n",
        ">>>[Tau ($\\tau$)](#scrollTo=H-4uzpt-UNPV)\n",
        "\n",
        ">>>[Basel problem](#scrollTo=_Q-54AuzA9Rg)\n",
        "\n",
        ">>>[Prime Regularities](#scrollTo=fOcH-T5bBAcY)\n",
        "\n",
        ">>>[Wallis Product](#scrollTo=zAVSY3OepDSu)\n",
        "\n",
        ">>[Trigonometry](#scrollTo=Xh5rQjHg9-2r)\n",
        "\n",
        ">>>[Trig functions](#scrollTo=uMxw1HbG1O-z)\n",
        "\n",
        ">>>>[Sine](#scrollTo=FKJ2wSOLEGyC)\n",
        "\n",
        ">>>>[Cosine](#scrollTo=zWyHXNuVAz_e)\n",
        "\n",
        ">>>>[Tangent](#scrollTo=2q1J-hSv75RW)\n",
        "\n",
        ">>>>[Cotangent](#scrollTo=QyVLGyULFEfi)\n",
        "\n",
        ">>>>[Secant](#scrollTo=iucHImuP4ocz)\n",
        "\n",
        ">>>>[Cosecant](#scrollTo=HbO6vTWw4y0w)\n",
        "\n",
        ">>>[Graph](#scrollTo=ZKLlCRKW08hJ)\n",
        "\n",
        ">>>[Formulas](#scrollTo=fIOyxfalKN0X)\n",
        "\n",
        ">>>[Hyperbolic Functions](#scrollTo=Sz7MKJpKpmoR)\n",
        "\n",
        ">>>>[Formulas](#scrollTo=7PLQVfWpzpod)\n",
        "\n",
        ">>>[Inverse Trigonometric Functions](#scrollTo=pRN60jmxPzkE)\n",
        "\n",
        ">>[Complex (Imaginary) Numbers](#scrollTo=hADidL9aJU1E)\n",
        "\n",
        ">>>[Adding complex numbers](#scrollTo=4oU311HDnzCL)\n",
        "\n",
        ">>>[Multiplying complex numbers](#scrollTo=ezesS-ikofNA)\n",
        "\n",
        ">>>[CIS](#scrollTo=OSCsfgPq8I9Q)\n",
        "\n",
        ">>[Euler Number](#scrollTo=F_gI35xnFvGr)\n",
        "\n",
        ">>>[Euler's Formula](#scrollTo=wzcjAj-PEHlD)\n",
        "\n",
        ">>>[Euler's Theorem](#scrollTo=YTxyAycDHPaP)\n",
        "\n",
        ">>>[$e$ to the power of a matrix](#scrollTo=qLdAevCLGohh)\n",
        "\n",
        ">>[Logarithms](#scrollTo=1aDCs4sGKB3T)\n",
        "\n",
        ">>>[Properties of Logarithms](#scrollTo=BLKrvgnDN4xU)\n",
        "\n",
        ">>>[Natural logarithm](#scrollTo=VkjwOSJl07rc)\n",
        "\n",
        ">>[Tetration](#scrollTo=BI2L_sbaV8J5)\n",
        "\n"
      ],
      "metadata": {
        "colab_type": "toc",
        "id": "CkKDtEHN7AEX"
      }
    },
    {
      "cell_type": "markdown",
      "source": [
        "## Algebra"
      ],
      "metadata": {
        "id": "s0Xrl3y9ak61"
      }
    },
    {
      "cell_type": "markdown",
      "source": [
        "### Linear Equation\n",
        "\n",
        "slope-intercept form\n",
        "$$\n",
        "y = mx + b\n",
        "$$\n",
        "point-slope form\n",
        "$$\n",
        "y - b = m (x - a)\n",
        "$$\n",
        "Standard Form\n",
        "$$\n",
        "Ax + By = c\n",
        "$$\n"
      ],
      "metadata": {
        "id": "PuPuLXE4aqqA"
      }
    },
    {
      "cell_type": "markdown",
      "source": [
        "### Sequences"
      ],
      "metadata": {
        "id": "U2ItdWQw171D"
      }
    },
    {
      "cell_type": "markdown",
      "source": [
        "#### Arithmetic Sequences\n",
        "\n",
        "$$\n",
        "f(n) = A \\pm B (n-1)\n",
        "$$\n",
        "\n",
        "Where A is the first sample, and B is the difference. + if ascending, and - if descending\n",
        "\n",
        "Example\n",
        "\n",
        "$\n",
        "\\{ 3, 8, 13, 18, \\cdots \\} \\\\\n",
        "f(n) = 3 + 5(n-1) \\\\\n",
        "\\quad = 3 + 5n - 5 \\\\\n",
        "\\quad = 5n -  2 \\\\\n",
        "$\n",
        "\n",
        "$\n",
        "\\{ 100, 90, 80, 70, \\cdots \\} \\\\\n",
        "f(n) = 100 - 10(n-1) \\\\\n",
        "\\quad = 100 - 10n + 10 \\\\\n",
        "\\quad = 110 -10n\n",
        "$\n",
        "\n"
      ],
      "metadata": {
        "id": "i9sW5D3q1-hJ"
      }
    },
    {
      "cell_type": "markdown",
      "source": [
        "#### Geometric Sequences\n",
        "\n",
        "$$\n",
        "f(n) = A \\times B^{\\pm(n-1)}\n",
        "$$\n",
        "\n",
        "Where A is the first sample, and B is the multiplier. + if ascending, and - if descending\n",
        "\n",
        "Example\n",
        "\n",
        "$\n",
        "\\{ 2, 6, 18, 54, \\cdots \\} \\\\\n",
        "f(n) = 2 \\times 3^{+(n-1)} \\\\\n",
        "$\n",
        "\n",
        "$\n",
        "\\{ 128, 64, 32, 16, \\cdots \\} \\\\\n",
        "f(n) = 128 \\times 2^{-(n-1)}\n",
        "$"
      ],
      "metadata": {
        "id": "17rLi5Go2CUR"
      }
    },
    {
      "cell_type": "markdown",
      "source": [
        "### Polynomials"
      ],
      "metadata": {
        "id": "sZtFVZNaoECE"
      }
    },
    {
      "cell_type": "markdown",
      "source": [
        "#### Polynomial Factors\n",
        "\n",
        "$\\displaystyle{\n",
        "(x\\pm y)^2 = x^2 \\pm 2xy + y^2 \\\\\n",
        "x^2-y^2 = (x-y)(x+y) \\quad \\quad \\text{Difference of squares}\\\\\n",
        "x^3+y^3=\\left(x+y\\right)\\left(x^2-xy+y^2\\right) \\\\\n",
        "x^3-y^3=\\left(x-y\\right)\\left(x^2+xy+y^2\\right) \\\\\n",
        "x^n-y^n=\\left(x-y\\right)\\left(x^{n-1}+x^{n-2}y+\\dots +xy^{n-2}+y^{n-1}\\right) \\\\\n",
        "x^n+y^n=\\left(x+y\\right)\\left(x^{n-1}-x^{n-2}y+\\dots -xy^{n-2}+y^{n-1}\\right) \\\\\n",
        "}$"
      ],
      "metadata": {
        "id": "zoIoB-RDjQCm"
      }
    },
    {
      "cell_type": "markdown",
      "source": [
        "#### Polynomial Remainder Theorem\n",
        "\n",
        "> The polynomial $f(x)$ dvided by $(x-a)$ has the same remainder as $f(a)$.\n",
        "\n",
        "$$\n",
        "f(x) \\text{  mod  } (x-a) = r = f(a)\n",
        "$$\n",
        "\n",
        "$f(a) = 0$ only if $(x-a)$ is a factor of the polynomial $f(x)$.\n",
        "\n",
        "Proof:\n",
        "\n",
        "$\n",
        "f(x) = g(x)(x-a) + r \\\\\n",
        "\\quad \\quad = g(a)(a-a) + r\\\\\n",
        "\\quad \\quad = g(a)(0) + r \\\\\n",
        "\\quad \\quad = r\n",
        "$"
      ],
      "metadata": {
        "id": "FtTw2Oi8q2qv"
      }
    },
    {
      "cell_type": "markdown",
      "source": [
        "#### Symmetricity\n",
        "\n",
        "A function is even if $f(x) = f(-x)$ and a function is odd if $f(x) = -f(-x)$"
      ],
      "metadata": {
        "id": "AbXLcPwSdLBx"
      }
    },
    {
      "cell_type": "markdown",
      "source": [
        "#### Extraneous solutions\n",
        "\n",
        "> In mathematics, an extraneous solution (or spurious solution) is a solution, such as that to an equation, that emerges from the process of solving the problem but is not a valid solution to the problem.\n",
        "\n",
        "$\n",
        "a = b \\Rightarrow a^2 = b^2 \\text{ But } a^2 = b^2 \\Rightarrow a \\ne b \\\\\n",
        "a = b \\Rightarrow xa = xb \\text{ But } xa = xb \\Rightarrow a \\ne b \\\\\n",
        "$"
      ],
      "metadata": {
        "id": "_o61_FbGmh5h"
      }
    },
    {
      "cell_type": "markdown",
      "source": [
        "### Quadratic Formula\n",
        "\n",
        "For the formula $ax^2+bx+c=0$, these 3 key facts exists:\n",
        "\n",
        "If we factor the formula by $a$ ie $x^2+b'x+c'$. ($r$ and $s$ are the roots, $m$ is the median between them, $b'$ and $c'$ are the factored co-effiecients)\n",
        "\n",
        "$\n",
        "\\displaystyle{\n",
        "ax^2+bx+c=0 \\quad /a \\\\\n",
        "x^2+b'x+c \\\\\n",
        "\\\\\n",
        "(x-r)(x-s) \\rightarrow x^2 - (r+s)x +rs \\\\\n",
        "}\n",
        "$\n",
        "\n",
        "1. $b' = -(r+s)$\n",
        "2. $c' = rs$\n",
        "3. $c' = (m-d)(m+d) = m^2-d^2$"
      ],
      "metadata": {
        "id": "lohadBZw5REE"
      }
    },
    {
      "cell_type": "markdown",
      "source": [
        "#### Simplified Quadratic Formula\n",
        "\n",
        "$\n",
        "m = \\frac{r+s}{2} = \\frac{-b'}{2} = \\frac{-b}{2a} \\\\\n",
        "d^2 = m^2-c' \\\\\n",
        "d = \\sqrt{m^2-p} \\quad (p=c'=\\frac{c}{a})\\\\\n",
        "r,s = m \\pm d\n",
        "$\n",
        "\n",
        "\n",
        "\n"
      ],
      "metadata": {
        "id": "XnF7matT5JVq"
      }
    },
    {
      "cell_type": "markdown",
      "source": [
        "#### Traditional Quadratic Formula\n",
        "\n",
        "$$\n",
        "m = \\frac{-b}{2a} \\\\\n",
        "d^2 = \\sqrt{m^2-p}  = (\\frac{-b}{2a})^2 - (\\frac{a}{c}) \\\\\n",
        "s,r = m \\pm d = -\\frac{b}{2a} \\pm \\sqrt{(\\frac{-b}{2a})^2 - \\frac{a}{c}} \\\\\n",
        "= -\\frac{b}{2a} \\pm \\sqrt{\\frac{1}{4a^2}(-b)^2 - \\frac{1}{4a^2} 4ac} \\\\\n",
        "= -\\frac{b}{2a} \\pm \\frac{1}{2a} \\sqrt{(-b)^2 - 4ac} \\\\[1cm]\n",
        "\\frac{-b \\pm \\sqrt{b^2 - 4ac}}{2a}\n",
        "$$"
      ],
      "metadata": {
        "id": "mwYyU9RK5NxL"
      }
    },
    {
      "cell_type": "markdown",
      "source": [
        "## Geometry\n",
        "\n"
      ],
      "metadata": {
        "id": "9qHj1lzNNwoX"
      }
    },
    {
      "cell_type": "markdown",
      "source": [
        "### Pythagorean Theorem\n",
        "\n",
        "In a right triangle, where C is the hypotenuse, we have:\n",
        "\n",
        "$$\n",
        "C^2 = A^2 + B^2\n",
        "$$"
      ],
      "metadata": {
        "id": "VlZup5k_QbeY"
      }
    },
    {
      "cell_type": "markdown",
      "source": [
        "### Distance Formula\n",
        "\n",
        "$$\n",
        "d = \\sqrt{(\\Delta x)^2 - (\\Delta y)^2}\n",
        "$$"
      ],
      "metadata": {
        "id": "Lm8no4t7Nz_N"
      }
    },
    {
      "cell_type": "markdown",
      "source": [
        "### Midpoint Formula\n",
        "\n",
        "$$\n",
        "m = (\\frac{\\Delta x}{2}, \\frac{\\Delta y}{2})\n",
        "$$"
      ],
      "metadata": {
        "id": "0h1DkkUeON6B"
      }
    },
    {
      "cell_type": "markdown",
      "source": [
        "### Line Slope\n",
        "\n",
        "The slope of a line can be determined using:\n",
        "\n",
        "$$\n",
        "m = \\frac{\\Delta y}{\\Delta x}\n",
        "$$\n"
      ],
      "metadata": {
        "id": "hqvpmtKeRrkK"
      }
    },
    {
      "cell_type": "markdown",
      "source": [
        "#### Parallel and Perpendicular lines\n",
        "\n",
        "Two lines are **parallel** if they have the same slope. $$m_1 = m_2$$\n",
        "\n",
        "Two lines are **perpendicular** if $$m_1 \\cdot -\\frac{1}{m_2} = -1 \\\\ m_2 = \\frac{1}{-m_1}$$"
      ],
      "metadata": {
        "id": "1zSfgDBwSHJW"
      }
    },
    {
      "cell_type": "markdown",
      "source": [
        "### Conic shapes & formulas\n",
        "\n",
        "Conic sections are the shapes you get when you slice a cone at different angles. There are four types of conic sections: ellipses, hyperbolas, parabolas, and circles."
      ],
      "metadata": {
        "id": "MkdFj-XfiHM7"
      }
    },
    {
      "cell_type": "markdown",
      "source": [
        "#### Circle\n",
        "\n",
        "A shape where all the points have the same distance from the radius\n",
        "\n",
        "$$\n",
        "(x-h)^2+(y-k)^2 = r^2\n",
        "$$\n",
        "\n",
        "$(h,k)$ is the center of the cirle, and $r$ is the radius"
      ],
      "metadata": {
        "id": "t3_n-72UdAMP"
      }
    },
    {
      "cell_type": "markdown",
      "source": [
        "##### Radian\n",
        "\n",
        "Precise definition:\n",
        "> Radian is the measure of an angle equals the ratio of the arc length subtended by that angle to the radius\n",
        "\n",
        "$$\n",
        "\\theta = \\frac{\\text{arc length}}{\\text{radius}} \\\\[1cm]\n",
        "\\pi \\text{ radians} = 180 \\text{ degrees} \\\\\n",
        "$$\n",
        "\n",
        "![subtended Angle](https://thirdspacelearning.com/wp-content/uploads/2021/09/subtended-angles-what-is.png)"
      ],
      "metadata": {
        "id": "UKVhZRIqpdPf"
      }
    },
    {
      "cell_type": "markdown",
      "source": [
        "##### Arc\n",
        "\n",
        "If an arc is $x$ radians, the length of that arc would be $x \\cdot$radius."
      ],
      "metadata": {
        "id": "VBpyO4ovvorO"
      }
    },
    {
      "cell_type": "markdown",
      "source": [
        "##### Inscribed Angles Theorem\n",
        "\n",
        "The Inscribed Angle Theorem tells us that an inscribed angle is always one-half the measure of either the central angle or the intercepted arc sharing endpoints of the inscribed angle's sides.\n",
        "\n",
        "Let's take a look at our formula:\n",
        "\n",
        "$$\n",
        "\\text{Inscribedangle}= \\frac{1}{2}\\text{interceptedarc}\n",
        "$$\n",
        "\n",
        "![Inscribed Angles](https://cdn.tutors.com/assets/images/content/tutors-inscribed-angle-theorem.jpg)"
      ],
      "metadata": {
        "id": "tkqMFPjHxRYQ"
      }
    },
    {
      "cell_type": "markdown",
      "source": [
        "#### Parabola\n",
        "\n",
        "Parabloa is a shape that all the points have the same distance from the *focus* and *directrix*.\n",
        "\n",
        "Focus is a point, and directrix is a line, the vertex of the parabola is half way between focus and directrix.\n",
        "\n",
        "$$\n",
        "\\sqrt{(y-k)^2} = \\sqrt{(x-a)^2+(y-b)^2} \\\\\n",
        "\\text{or} \\\\\n",
        "y = \\frac{1}{2(b-k)} (x-a)^2 + \\frac{1}{2}(b+k)\n",
        "$$\n",
        "\n",
        "where $(a,b)$ is the focus, $y=k$ is the directrix.\n",
        "\n",
        "![focus and directrix](https://images.saymedia-content.com/.image/c_limit%2Ccs_srgb%2Cq_auto:eco%2Cw_760/MTc0NDk4NjQ0OTE1OTIyMjgw/how-to-understand-the-equation-of-a-parabola-directrix-and-focus.webp)"
      ],
      "metadata": {
        "id": "W2lMV-j3dvAj"
      }
    },
    {
      "cell_type": "markdown",
      "source": [
        "## Pi ($\\pi$)\n",
        "\n",
        "$\\pi$ is the semi-circumference of a circle whose radius is one."
      ],
      "metadata": {
        "id": "lP3WJh4IAIAD"
      }
    },
    {
      "cell_type": "markdown",
      "source": [
        "### Tau ($\\tau$)\n",
        "\n",
        "$\\tau$ is the circumference of a circle whose radius is one.\n",
        "\n",
        "$$\n",
        "\\tau = 2 \\pi = 6.2831855\n",
        "$$\n",
        "\n",
        "$\\pi$ Formula's written in terms of $\\tau$:\n",
        "\n",
        "$\n",
        "\\displaystyle{\n",
        "\\sin(x + \\tau) = sin(x) \\\\\n",
        "e^{\\tau i } = 1 \\\\\n",
        "n! \\approx \\sqrt{\\tau n} (\\frac{n}{e})^n \\\\\n",
        "c_n = \\frac{1}{\\tau} \\int^\\tau_0 f(x)e^{in\\tau}dx\n",
        "}\n",
        "$"
      ],
      "metadata": {
        "id": "H-4uzpt-UNPV"
      }
    },
    {
      "cell_type": "markdown",
      "source": [
        "### Basel problem\n",
        "$$\n",
        "1 +  \\frac{1}{4} + \\frac{1}{9} + \\frac{1}{16} + \\cdots =  \\frac{\\pi^2}{6} \\\\\n",
        "$$"
      ],
      "metadata": {
        "id": "_Q-54AuzA9Rg"
      }
    },
    {
      "cell_type": "markdown",
      "source": [
        "### Prime Regularities\n",
        "$$\n",
        "\\begin{align*}\n",
        "1 -  \\frac{1}{3} + \\frac{1}{5} - \\frac{1}{7} + \\cdots &=  \\frac{\\pi}{4} \\\\\n",
        "&=  \\int^1_0 (1-x^2 + x^4 - \\cdots) dx \\\\\n",
        "&=\\int^1_0 \\frac {1}{1+x^2} dx \\\\\n",
        "&=\\tan^{-1}(1) \\\\\n",
        "&= \\frac{\\pi}{4} \\\\\n",
        "\\end{align*}\n",
        "$$"
      ],
      "metadata": {
        "id": "fOcH-T5bBAcY"
      }
    },
    {
      "cell_type": "markdown",
      "source": [
        "### Wallis Product\n",
        "$$\n",
        "\\frac{2}{1} \\cdot \\frac{2}{3} \\cdot \\frac{4}{3} \\cdot \\frac{4}{5} \\cdot \\frac{6}{5} \\cdot \\frac{6}{7} \\cdot \\frac{8}{7} \\cdot \\frac{8}{9} \\cdot \\frac{10}{9} \\cdot \\frac{10}{11} \\cdots =  \\frac{\\pi}{2}\n",
        "$$"
      ],
      "metadata": {
        "id": "zAVSY3OepDSu"
      }
    },
    {
      "cell_type": "markdown",
      "source": [
        "## Trigonometry\n",
        "\n",
        "> You'd think it's about triangles, but reall it's about circles.\n"
      ],
      "metadata": {
        "id": "Xh5rQjHg9-2r"
      }
    },
    {
      "cell_type": "markdown",
      "source": [
        "### Trig functions"
      ],
      "metadata": {
        "id": "uMxw1HbG1O-z"
      }
    },
    {
      "cell_type": "markdown",
      "source": [
        "\n",
        "$$\n",
        "\\begin{align*}\n",
        "\\sin(\\pi) &= 0 \\\\\n",
        "\\cos(\\pi) &= -1 \\\\\n",
        "\\tan(\\pi) &= 0 \\\\\n",
        "\\cot(\\pi) &= \\text{undefined} \\\\\n",
        "\\\\\n",
        "\\sin\\left(\\frac{\\pi}{2}\\right) &= 1 \\\\\n",
        "\\cos\\left(\\frac{\\pi}{2}\\right) &= 0 \\\\\n",
        "\\tan\\left(\\frac{\\pi}{2}\\right) &= \\text{undefined} \\\\\n",
        "\\cot\\left(\\frac{\\pi}{2}\\right) &= 0 \\\\\n",
        "\\\\\n",
        "\\sin\\left(\\frac{\\pi}{3}\\right) &= \\frac{\\sqrt{3}}{2} \\\\\n",
        "\\cos\\left(\\frac{\\pi}{3}\\right) &= \\frac{1}{2} \\\\\n",
        "\\tan\\left(\\frac{\\pi}{3}\\right) &= \\sqrt{3} \\\\\n",
        "\\cot\\left(\\frac{\\pi}{3}\\right) &= \\frac{1}{\\sqrt{3}} \\\\\n",
        "\\\\\n",
        "\\sin\\left(\\frac{\\pi}{4}\\right) &= \\frac{1}{\\sqrt{2}} \\\\\n",
        "\\cos\\left(\\frac{\\pi}{4}\\right) &= \\frac{1}{\\sqrt{2}} \\\\\n",
        "\\tan\\left(\\frac{\\pi}{4}\\right) &= 1 \\\\\n",
        "\\cot\\left(\\frac{\\pi}{4}\\right) &= 1 \\\\\n",
        "\\\\\n",
        "\\sin\\left(\\frac{\\pi}{6}\\right) &= \\frac{1}{2} \\\\\n",
        "\\cos\\left(\\frac{\\pi}{6}\\right) &= \\frac{\\sqrt{3}}{2} \\\\\n",
        "\\tan\\left(\\frac{\\pi}{6}\\right) &= \\frac{1}{\\sqrt{3}} \\\\\n",
        "\\cot\\left(\\frac{\\pi}{6}\\right) &= \\sqrt{3} \\\\\n",
        "\\end{align*}\n",
        "$$"
      ],
      "metadata": {
        "id": "HmZ22X6mI3m4"
      }
    },
    {
      "cell_type": "markdown",
      "source": [
        "\n",
        "![unit circle](https://kids.kiddle.co/images/9/9d/Circle-trig6.svg)"
      ],
      "metadata": {
        "id": "L5RKIoGXDE5L"
      }
    },
    {
      "cell_type": "markdown",
      "source": [
        "#### Sine\n",
        "\n",
        "The y-axis on a unit circle.\n",
        "\n",
        "the sine of an angle is the ratio of the opposite side to the hypotenuse.\n",
        "\n",
        "$$\n",
        "\\sin(\\theta) = \\frac{\\text{opposite}}{\\text{hypotenuse}}\n",
        "$$"
      ],
      "metadata": {
        "id": "FKJ2wSOLEGyC"
      }
    },
    {
      "cell_type": "markdown",
      "source": [
        "![sine graph](https://upload.wikimedia.org/wikipedia/commons/d/d2/Sine_one_period.svg)"
      ],
      "metadata": {
        "id": "9PqZBtxmEn_h"
      }
    },
    {
      "cell_type": "markdown",
      "source": [
        "##### Law of Sines\n",
        "\n",
        "In the triangle $\\overset{\\triangle}{abc}$, the ratios of the sine of the angle over its opposite side are the same for all angles.\n",
        "$$\n",
        "\\frac{\\sin(a)}{a} = \\frac{\\sin(b)}{b} = \\frac{\\sin(c)}{c}\n",
        "$$"
      ],
      "metadata": {
        "id": "W4dXg4ja8LuU"
      }
    },
    {
      "cell_type": "markdown",
      "source": [
        "#### Cosine\n",
        "\n",
        "The x-axis on a unit circle.\n",
        "\n",
        "the cosine of an angle is the ratio of the adjacent side to the hypotenuse.\n",
        "\n",
        "$$\n",
        "\\cos(\\theta) = \\frac{\\text{adjacent}}{\\text{hypotenuse}}\n",
        "$$"
      ],
      "metadata": {
        "id": "zWyHXNuVAz_e"
      }
    },
    {
      "cell_type": "markdown",
      "source": [
        "![cosine graph](https://upload.wikimedia.org/wikipedia/commons/0/0a/Cosine_one_period.svg)"
      ],
      "metadata": {
        "id": "DUlJprXQE15k"
      }
    },
    {
      "cell_type": "markdown",
      "source": [
        "#### Tangent\n",
        "\n",
        "the tangent of an angle is the ratio of the oposite side to the adjacent.\n",
        "\n",
        "$$\n",
        "\\tan = \\frac{\\text{oposite}}{\\text{adjacent}}\n",
        "$$"
      ],
      "metadata": {
        "id": "2q1J-hSv75RW"
      }
    },
    {
      "cell_type": "markdown",
      "source": [
        "![tangent grap](https://upload.wikimedia.org/wikipedia/commons/7/74/Tangent-plot.svg)"
      ],
      "metadata": {
        "id": "3VYglN5GE_ey"
      }
    },
    {
      "cell_type": "markdown",
      "source": [
        "#### Cosecant\n",
        "$$\n",
        "\\csc(\\theta) = = \\frac{\\text{hypotenuse}}{\\text{opposite}} \\frac{1}{\\sin(\\theta)} = 1 + \\cot^2\\theta\\\\\n",
        "$$\n",
        "\n",
        "![Cosecant](https://study.com/cimages/multimages/16/ycscx6510300716750895999.jpg)"
      ],
      "metadata": {
        "id": "HbO6vTWw4y0w"
      }
    },
    {
      "cell_type": "markdown",
      "source": [
        "#### Secant\n",
        "$$\n",
        "\\sec(\\theta) = \\frac{\\text{hypotenuse}}{\\text{adjacent}} = \\frac{1}{\\cos(\\theta)} = 1 + \\tan^2\\theta\\\\\n",
        "$$\n",
        "\n",
        "![secant](https://study.com/cimages/multimages/16/ysecx2911965045754214563.jpg)"
      ],
      "metadata": {
        "id": "iucHImuP4ocz"
      }
    },
    {
      "cell_type": "markdown",
      "source": [
        "#### Cotangent\n",
        "\n",
        "the cotangent of an angle is the ratio of the adjacent side to the oposite.\n",
        "\n",
        "$$\n",
        "\\cot = \\frac{\\text{adjacent}}{\\text{opposite}}\n",
        "$$"
      ],
      "metadata": {
        "id": "QyVLGyULFEfi"
      }
    },
    {
      "cell_type": "markdown",
      "source": [
        "![cotangent grap](https://upload.wikimedia.org/wikipedia/commons/b/bf/Cotangent.svg)"
      ],
      "metadata": {
        "id": "eWzgOhe7FEfj"
      }
    },
    {
      "cell_type": "markdown",
      "source": [
        "### Graph\n",
        "$\n",
        "y = h \\sin(a (x - c)) + k\n",
        "$\n",
        "\n",
        "- amplitude: h - k\n",
        "- period: $\\frac{2\\pi}{a}$\n",
        "- middle line: k\n",
        "- horizontal shift: c"
      ],
      "metadata": {
        "id": "ZKLlCRKW08hJ"
      }
    },
    {
      "cell_type": "markdown",
      "source": [
        "### Formulas\n",
        "\n",
        "$$\n",
        "\\cos^2(x) + \\sin^2(x) = 1 \\\\\n",
        "\\sec ^2\\left(x\\right)-\\tan ^2\\left(x\\right)=1 \\\\\n",
        "\\csc ^2\\left(x\\right)-\\cot ^2\\left(x\\right)=1 \\\\\n",
        "\\cos(\\alpha + \\beta) = \\cos(\\alpha)\\cos(\\beta) - \\sin(\\alpha)\\sin(\\beta) \\\\\n",
        "\\sin(\\alpha + \\beta) = \\cos(\\alpha)\\sin(\\beta) + \\cos(\\beta)\\sin(\\alpha) \\\\\n",
        "\\cos^2(x) = \\frac{1 + \\cos(2x)}{2} \\\\\n",
        "$$"
      ],
      "metadata": {
        "id": "fIOyxfalKN0X"
      }
    },
    {
      "cell_type": "markdown",
      "source": [
        "### Hyperbolic Functions\n",
        "\n",
        "> Hyperbolic functions are analogues of the ordinary trigonometric functions, but defined using the hyperbola rather than the circle. Just as the points form a circle with a unit radius, the points form the right half of the unit hyperbola.\n",
        "\n",
        "$$\n",
        "x^2 - y^2 = 1\n",
        "$$\n",
        "\n",
        "$$\n",
        "\\sinh(x) =  \\frac{e^x - e^{-x}}{2} \\\\\n",
        "\\cosh(x) =  \\frac{e^x + e^{-x}}{2} \\\\\n",
        "\\tanh(x) = \\frac{\\sinh(x)}{\\cosh(x)} =  \\frac{e^x - e^{-x}}{e^x + e^{-x}} = \\frac{e^{2x}-1}{e^{2x}+1}\\\\\n",
        "$$\n",
        "\n",
        "![Hyperbolic Functions](https://upload.wikimedia.org/wikipedia/commons/7/76/Sinh_cosh_tanh.svg)"
      ],
      "metadata": {
        "id": "Sz7MKJpKpmoR"
      }
    },
    {
      "cell_type": "markdown",
      "source": [
        "#### Formulas\n",
        "\n",
        "$$\n",
        "\\cosh^2(x) - \\sinh^2(x) = 1 \\\\\n",
        "$$"
      ],
      "metadata": {
        "id": "7PLQVfWpzpod"
      }
    },
    {
      "cell_type": "markdown",
      "source": [
        "###  Inverse Trigonometric Functions\n",
        "> Inverse Trigonometric Functions answer the questions of \"What angle should I take the sin/cos/tan of to get the value A.\n",
        "They are represents as $\\sin^{-1}\\theta$ or $\\arcsin \\theta$\n",
        "$$\n",
        "\\sin \\theta = A \\\\\n",
        "\\arcsin A = \\theta\n",
        "$$\n",
        "\n",
        "![ Inverse Trigonometric graphs](https://s3-us-west-2.amazonaws.com/courses-images/wp-content/uploads/sites/2332/2018/01/11202603/CNX_Calc_Figure_01_04_018.jpg)"
      ],
      "metadata": {
        "id": "pRN60jmxPzkE"
      }
    },
    {
      "cell_type": "markdown",
      "source": [
        "## Complex (Imaginary) Numbers\n",
        "\n",
        "Comlex numbers exist in a two-dimensional grid, the y-axis of a number line.\n",
        "\n",
        "$$\n",
        "i = \\sqrt{-1}\n",
        "$$"
      ],
      "metadata": {
        "id": "hADidL9aJU1E"
      }
    },
    {
      "cell_type": "markdown",
      "source": [
        "### Adding complex numbers\n",
        "\n",
        "Real numbes are added together, imaginary numbers are added together.\n",
        "\n",
        "$\n",
        "(4+i) + (-2+2i) = (4-2)+(2+1)i = 2 + 3i\n",
        "$\n"
      ],
      "metadata": {
        "id": "4oU311HDnzCL"
      }
    },
    {
      "cell_type": "markdown",
      "source": [
        "### Multiplying complex numbers\n",
        "\n",
        "$\n",
        "(3,2) \\overset{\\text{rotate } 90 ^{\\circ}}{\\longrightarrow} (-2,3)\n",
        "$\n",
        "\n",
        "Generalized:\n",
        "$$\n",
        "(a,b) \\overset{\\text{rotate } 90 ^{\\circ}}{\\longrightarrow} (-b, a) \\\\\n",
        "(-b,a) \\overset{\\text{rotate } 90 ^{\\circ}}{\\longrightarrow} (-a, -b) \\\\\n",
        "$$\n",
        "\n",
        "Multiplying by an imaginary nubmer looks like rotating the vector 90 degress without moving the position of $i$\n",
        "\n",
        "$\n",
        "i \\cdot (3+2i) = 3i + 2\\underbrace{i^2}_{-1} = -2 + 3i \\\\\n",
        "(2+i)(2-i) = 4 -2i +2i -i^2 = 4 - (-1) = 5\n",
        "$\n",
        "\n",
        "$\\displaystyle{\n",
        "\\begin{align*}\n",
        "\\cos(75^{\\circ}) &= \\cos(45^{\\circ} + 30^{\\circ}) \\\\\n",
        "&= (\\cos(45^{\\circ}) + \\sin(45^{\\circ})i) \\cdot (\\cos(30^{\\circ})+\\sin(30^{\\circ})i) \\\\\n",
        "&= [(\\sqrt{2}/2) + (\\sqrt{2}/2)i] \\cdot [(\\sqrt{3}/2) + (1/2)i] \\\\\n",
        "&= [(\\sqrt{2}/2)(\\sqrt{3}/2)] - [(\\sqrt{2}/2) + (1/2)] \\text{ (real part only)}\\\\\n",
        "&= \\sqrt{6}/4 - \\sqrt{2}/4 = (\\sqrt{6} - \\sqrt{2})/4\n",
        "\\end{align*}}\n",
        "$"
      ],
      "metadata": {
        "id": "ezesS-ikofNA"
      }
    },
    {
      "cell_type": "markdown",
      "source": [
        "### CIS\n",
        "\n",
        "$$\n",
        "cis(\\alpha) = \\cos(\\alpha) + i \\sin(\\alpha) = e^{i\\alpha} \\\\[1cm]\n",
        "cis(\\alpha) \\cdot cis(\\beta) = cis(\\alpha + \\beta)\n",
        "$$"
      ],
      "metadata": {
        "id": "OSCsfgPq8I9Q"
      }
    },
    {
      "cell_type": "markdown",
      "source": [
        "## Euler Number\n",
        "\n",
        "$$e=2.71828$$\n",
        "\n",
        "$$\n",
        "\\lim \\limits_{x \\rightarrow \\infty} (1+\\frac{1}{n})^n\n",
        "$$\n",
        "\n",
        "Properties of Euler number:\n",
        "* A logarithm with Euler ($e$) as its base is Natural logarithm ($\\log_e a = \\ln(a)$)\n",
        "* Derivative $\\frac{d}{dx}e^{f(x)} = e^{f(x)} \\space \\frac{d}{dx}{f(x)}$\n",
        "* $e^{\\ln(a)} = a$\n"
      ],
      "metadata": {
        "id": "F_gI35xnFvGr"
      }
    },
    {
      "cell_type": "markdown",
      "source": [
        "### Euler's Formula\n",
        "\n",
        "Multiplying by $i$ has the effect of rotating numbers $90^{\\circ}$.\n",
        "velocity (derivative) of $e^{i}$ at a time is a vector that's rotated $90^{\\circ}$.\n",
        "$e^{it}$ travels a whole circle in $\\pi$ seconds\n",
        "\n",
        "$$\n",
        "e^{it} = \\cos t + i \\sin t \\\\[1cm]\n",
        "$$\n",
        "\n",
        "Examples\n",
        "\n",
        "$\n",
        "e^{i\\pi} = -1 \\\\\n",
        "e^{i 0} = 1 \\\\\n",
        "e^{-i 0} = 1 \\\\\n",
        "$\n",
        "\n",
        "$\n",
        "i^i = [e^{\\frac{\\pi}{2}i}]^i = e^{\\frac{\\pi}{2}i^2} = e^{-\\frac{\\pi}{2}} \\approx  0.2079\n",
        "$"
      ],
      "metadata": {
        "id": "wzcjAj-PEHlD"
      }
    },
    {
      "cell_type": "markdown",
      "source": [
        "### Euler's Theorem\n",
        "\n",
        "$$\n",
        "x \\in \\mathbb{R} \\\\\n",
        "e^x = \\exp(x) = x^0 + x^1 + \\frac{1}{2}x^2 + \\frac{1}{6}x^3 + \\cdots + \\frac{1}{n!}x^n\n",
        "$$\n",
        "\n",
        "$$\n",
        "\\exp(a+b) = \\exp(a) \\times \\exp(b)\n",
        "$$\n",
        "\n",
        "Example:\n",
        "\n",
        "$\n",
        "\\displaystyle{\n",
        "x  = {\\pi i} \\\\\n",
        "e^{\\pi i} = {\\pi i}^0 + {\\pi i}^1 + \\frac{1}{2}{\\pi i}^2 + \\frac{1}{6}{\\pi i}^3 + \\cdots + \\frac{1}{n!}{\\pi i}^n}\n",
        "$"
      ],
      "metadata": {
        "id": "YTxyAycDHPaP"
      }
    },
    {
      "cell_type": "markdown",
      "source": [
        "### $e$ to the power of a matrix\n",
        "\n",
        "The rate of change of vectors can also be written an Euler exponential relative to its initial point\n",
        "\n",
        "$$\n",
        "\\vec{v}(t) = e^{Mt}\\vec{v}_0 \\longrightarrow \\frac{d}{dt}\\vec{v}(t) = M\\vec{v}(t) \\\\[1cm]\n",
        "\\frac{d}{dt} \\begin{bmatrix}x(t)\\\\y(t)\\end{bmatrix} =\n",
        "\\begin{bmatrix}a & b\\\\b & c\\end{bmatrix} \\begin{bmatrix}x(t)\\\\y(t)\\end{bmatrix}\n",
        "\\Rightarrow \\begin{bmatrix}x(t)\\\\y(t)\\end{bmatrix} =\n",
        "e^{\\begin{bmatrix}a & b\\\\b & c\\end{bmatrix}t}\\begin{bmatrix}x(0)\\\\y(0)\\end{bmatrix}\n",
        "$$\n"
      ],
      "metadata": {
        "id": "qLdAevCLGohh"
      }
    },
    {
      "cell_type": "markdown",
      "source": [
        "**Example**: The rate at which x changes in repective to y is -y. ie $\\frac{d}{dt}x = -y(t)$. The rate at which y changes in repective to x is x. ie $\\frac{d}{dt}y = x(t)$. Find functions for $x(t)$ and $y(t)$ where these conditions are true.\n",
        "\n",
        "Guessing\n",
        "$\n",
        "x(t) = cos(t) \\:\\:\\: y(t) = sin(t) \\\\\n",
        "x(0) = x_0 \\:\\:\\: y(0) = y_0\n",
        "$\n",
        "\n",
        "But for a general approach, we can imagine their relation in a 2D space, where y-axis is for y and x-axis is for x.\n",
        "$\n",
        "\\begin{bmatrix}x(t)\\\\y(t)\\end{bmatrix} = \\begin{bmatrix}a\\\\b\\end{bmatrix} \\text{where a and b are real number} \\longrightarrow\n",
        "\\begin{bmatrix}x'(t)\\\\y'(t)\\end{bmatrix} = \\begin{bmatrix}-y(t)\\\\x(t)\\end{bmatrix} \\\\\n",
        "\\text{Which can be rewritten as a product of a matrix and a vector} \\\\\n",
        "\\begin{bmatrix}x'(t)\\\\y'(t)\\end{bmatrix} = \\begin{bmatrix}0&-1\\\\1&0\\end{bmatrix}\\begin{bmatrix}x(t)\\\\y(t)\\end{bmatrix} \\\\\n",
        "$\n",
        "\n",
        "The matrix is a 90 degree tranformation matrix, the only way this can happen is if our 2D space travels in a form of circle.\n",
        "To generalize the roation, we can write:\n",
        "\n",
        "$\n",
        "\\begin{bmatrix}x(t)\\\\y(t)\\end{bmatrix} = \\begin{bmatrix}\\cos(t) & - \\sin(t) \\\\ \\sin(t) & \\cos(t) \\end{bmatrix}\\begin{bmatrix}x_0\\\\y_0\\end{bmatrix} \\\\\n",
        "$\n",
        "\n",
        "Which can be solved as (using dot product):\n",
        "\n",
        "$\n",
        "x(t) = \\cos(t)x_0 - \\sin(t)y_0 \\\\\n",
        "y(t) = \\sin(t)x_0 + \\cos(t)y_0\n",
        "$"
      ],
      "metadata": {
        "id": "u5WQVRDYI6QI"
      }
    },
    {
      "cell_type": "markdown",
      "source": [
        "\n",
        "From this we can derive that the rate of change of some vector is equal to a certain matrix times itself.\n",
        "\n",
        "$$\n",
        "\\frac{d}{dt}\\vec{v}(t) = M\\vec{v}(t)\n",
        "$$\n",
        "\n",
        "Similarly, If we have a differntial equation $\\frac{d}{dt}x(t)=r \\cdot x(t)$, we can write a solution in terms of $e$ as:\n",
        "$\n",
        "x(t) = e^{rt} \\cdot x_0\n",
        "$\n",
        "\n",
        "So for the derivative of the vector, we can write the vector function as a product of a matrix that changes with time and the initial condition of a vector.\n",
        "\n",
        "$$\n",
        "\\frac{d}{dt}\\vec{v}(t) = M\\vec{v}(t)\n",
        "\\longrightarrow\n",
        "\\vec{v}(t) = e^{Mt}\\vec{v}_0\n",
        "$$\n",
        "\n",
        "In other words:\n",
        "\n",
        "$$\n",
        "\\frac{d}{dt} \\begin{bmatrix}x(t)\\\\y(t)\\end{bmatrix} =\n",
        "\\begin{bmatrix}a & b\\\\b & c\\end{bmatrix} \\begin{bmatrix}x(t)\\\\y(t)\\end{bmatrix}\n",
        "\\Rightarrow \\begin{bmatrix}x(t)\\\\y(t)\\end{bmatrix} =\n",
        "e^{\\begin{bmatrix}a & b\\\\b & c\\end{bmatrix}t}\\begin{bmatrix}x(0)\\\\y(0)\\end{bmatrix}\n",
        "$$\n"
      ],
      "metadata": {
        "id": "1vO8nn-WRRYk"
      }
    },
    {
      "cell_type": "markdown",
      "source": [
        "For our example it would be:\n",
        "\n",
        "$\n",
        "\\begin{bmatrix}x(t)\\\\y(t)\\end{bmatrix} =\n",
        "e^{\\begin{bmatrix}0 & -1 \\\\1 & 0\\end{bmatrix}t}\\begin{bmatrix}x(0)\\\\y(0)\\end{bmatrix}\n",
        "$"
      ],
      "metadata": {
        "id": "6nHBomTmUOMr"
      }
    },
    {
      "cell_type": "markdown",
      "source": [
        "\n",
        "\n",
        "---\n",
        "\n",
        "\n",
        "**Example 2 with numbers**\n",
        "\n",
        "The Matrix has to have the same number of rows and columns.\n",
        "\n",
        "$\n",
        "\\displaystyle{\n",
        "x = {\\begin{bmatrix}3&1&4\\\\1&5&9\\\\2&6&5\\end{bmatrix}} \\\\[2cm]\n",
        "e^{\\begin{bmatrix}3&1&4\\\\1&5&9\\\\2&6&5\\end{bmatrix}} =\n",
        "{\\begin{bmatrix}3&1&4\\\\1&5&9\\\\2&6&5\\end{bmatrix}}^0 +\n",
        "{\\begin{bmatrix}3&1&4\\\\1&5&9\\\\2&6&5\\end{bmatrix}}^1 +\n",
        "\\frac{1}{2}{\\begin{bmatrix}3&1&4\\\\1&5&9\\\\2&6&5\\end{bmatrix}}^2 +\n",
        "\\frac{1}{6}{\\begin{bmatrix}3&1&4\\\\1&5&9\\\\2&6&5\\end{bmatrix}}^3 +\n",
        "\\cdots + \\frac{1}{n!}{\\begin{bmatrix}3&1&4\\\\1&5&9\\\\2&6&5\\end{bmatrix}}^n\n",
        "\\\\[2cm]\n",
        "\\text{Matrix to the power of zero is an identity matrix} \\\\[1cm]\n",
        "{\\begin{bmatrix}3&1&4\\\\1&5&9\\\\2&6&5\\end{bmatrix}}^2 =\n",
        "{\\begin{bmatrix}3&1&4\\\\1&5&9\\\\2&6&5\\end{bmatrix}}{\\begin{bmatrix}3&1&4\\\\1&5&9\\\\2&6&5\\end{bmatrix}} =\n",
        "{\\begin{bmatrix}18&32&41\\\\26&80&94\\\\22&62&87\\end{bmatrix}}\n",
        "\\\\[2cm]\n",
        "{\\begin{bmatrix}3&1&4\\\\1&5&9\\\\2&6&5\\end{bmatrix}}^3 =\n",
        "{\\begin{bmatrix}3&1&4\\\\1&5&9\\\\2&6&5\\end{bmatrix}}{\\begin{bmatrix}18&32&41\\\\26&80&94\\\\22&62&87\\end{bmatrix}} =\n",
        "{\\begin{bmatrix}168&424&565\\\\346&990&1294\\\\302&854&1081\\end{bmatrix}}\n",
        "}\\\\[2cm]\n",
        "$\n",
        "\n",
        "Also each matrix is multiplied by an scaler, which means each number would be multiplied by that number\n",
        "\n",
        "$$\n",
        "\\frac{1}{n!}{\\begin{bmatrix}a&b&c\\\\d&e&f\\\\g&h&i\\end{bmatrix}} =\n",
        "{\\begin{bmatrix}a/n!&b/n!&c/n!\\\\d/n!&e/n!&f/n!\\\\g/n!&h/n!&i/n!\\end{bmatrix}}\n",
        "$$\n",
        "\n",
        "\n"
      ],
      "metadata": {
        "id": "mWSwN2C8YA-t"
      }
    },
    {
      "cell_type": "markdown",
      "source": [
        "## Logarithms\n",
        "\n",
        "$\n",
        "\\bullet \\quad a^x \\overset{\\text{inverse}}{\\longrightarrow} \\log_a(y) \\\\\n",
        "\\bullet \\quad x^a \\overset{\\text{inverse}}{\\longrightarrow} \\sqrt[a]{y} \\\\\n",
        "$"
      ],
      "metadata": {
        "id": "1aDCs4sGKB3T"
      }
    },
    {
      "cell_type": "markdown",
      "source": [
        "### Properties of Logarithms\n",
        "$\n",
        "\\bullet \\quad \\log(1) = 0 \\\\\n",
        "\\bullet \\quad \\log_a(a) = 1 \\\\\n",
        "\\bullet \\quad \\log(a \\cdot b) = \\log(a) + \\log(b) \\\\\n",
        "\\bullet \\quad \\log(\\frac{1}{b}) = \\log(a) - \\log(b) \\\\\n",
        "\\bullet \\quad \\log(x^n) = n \\log(x) \\\\\n",
        "\\bullet \\quad \\log_b(a) = \\frac{1}{\\log_a(b)} \\\\\n",
        "\\bullet \\quad \\log_c(b) \\cdot \\log_b(a) = \\log_c(a) \\\\\n",
        "\\bullet \\quad \\log_b(a) = \\frac{\\log_c(a)}{\\log_c(b)} \\\\\n",
        "\\bullet \\quad a^{\\log_a(x)} = x \\\\\n",
        "$"
      ],
      "metadata": {
        "id": "BLKrvgnDN4xU"
      }
    },
    {
      "cell_type": "markdown",
      "source": [
        "### Natural logarithm\n",
        "\n",
        "**Natural logarithm** is a logarithm with Euler ($e$) as its base.\n",
        "\n",
        "$\n",
        "\\bullet \\quad e = 2.71828 \\\\\n",
        "\\bullet \\quad \\log_e(a)= \\ln(a) \\\\\n",
        "$"
      ],
      "metadata": {
        "id": "VkjwOSJl07rc"
      }
    },
    {
      "cell_type": "markdown",
      "source": [
        "## Tetration\n",
        "\n",
        "Tetration is a power tower.\n",
        "\n",
        "$$\n",
        "^ba = \\left. a^{a^{a^{\\vdots^{a}}}} \\right \\} b\\text{ times}\n",
        "$$\n",
        "\n",
        "Tetration is solved top to bottom\n",
        "\n",
        "A power tower can converaging to a single number, eg:\n",
        "$1.1^x = x$\n",
        "\n",
        "A generalized way to solve this\n",
        "\n",
        "$\n",
        "x^{x^{x^{\\cdots}}} = 2\\\\\n",
        "x^2 = 2 \\\\\n",
        "x = \\sqrt{2}\n",
        "$\n",
        "\n",
        "For all the power towers where $a \\le 1.444667$ there is a convergence point.\n",
        "\n",
        "To solve for this point:\n",
        "$$\n",
        "b^x = x \\\\\n",
        "\\begin{align*}\n",
        "\\text{tangent:} \\ln(b) \\cdot b^x &= 1 \\\\\n",
        "\\ln(b) \\cdot x &= 1 \\\\\n",
        "\\ln(b) &= 1/x \\\\\n",
        "e^{1/x} &= b\n",
        "\\end{align*} \\\\\n",
        "b^x = x \\rightarrow (e^{1/x})^x = x \\rightarrow e = x \\\\\n",
        "b = e^{1/e} = 1.444667\n",
        "$$"
      ],
      "metadata": {
        "id": "BI2L_sbaV8J5"
      }
    }
  ]
}