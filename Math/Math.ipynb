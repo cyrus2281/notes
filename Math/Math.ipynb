{
  "nbformat": 4,
  "nbformat_minor": 0,
  "metadata": {
    "colab": {
      "provenance": []
    },
    "kernelspec": {
      "name": "python3",
      "display_name": "Python 3"
    },
    "language_info": {
      "name": "python"
    }
  },
  "cells": [
    {
      "cell_type": "markdown",
      "source": [
        "# Math"
      ],
      "metadata": {
        "id": "mQs-H99K5PXF"
      }
    },
    {
      "cell_type": "markdown",
      "source": [
        "## Quadratic Formula\n",
        "\n",
        "For the formula $ax^2+bx+c=0$, these 3 key facts exists:\n",
        "\n",
        "If we factor the formula by $a$ ie $x^2+b'x+c'$. ($r$ and $s$ are the roots, $m$ is the median between them, $b'$ and $c'$ are the factored co-effiecients)\n",
        "\n",
        "$\n",
        "\\displaystyle{\n",
        "ax^2+bx+c=0 \\quad /a \\\\\n",
        "x^2+b'x+c \\\\\n",
        "\\\\\n",
        "(x-r)(x-s) \\rightarrow x^2 - (r+s)x +rs \\\\\n",
        "}\n",
        "$\n",
        "\n",
        "1. $b' = -(r+s)$\n",
        "2. $c' = rs$\n",
        "3. $c' = (m-d)(m+d) = m^2-d^2$\n",
        "\n",
        "$\n",
        "m = \\frac{r+s}{2} = \\frac{-b'}{2} \\\\\n",
        "d^2 = m^2-c' \\\\\n",
        "d^2 = (\\frac{-b'}{2})^2-c'\\\\\n",
        "d = \\sqrt{m^2-p} \\quad (p=c')\\\\\n",
        "r,s = m \\pm d\n",
        "$\n",
        "\n",
        "\n",
        "\n"
      ],
      "metadata": {
        "id": "lohadBZw5REE"
      }
    }
  ]
}