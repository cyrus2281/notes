{
  "nbformat": 4,
  "nbformat_minor": 0,
  "metadata": {
    "colab": {
      "provenance": [],
      "authorship_tag": "ABX9TyMLdFe1BC3Vhy0yUN5PybT4",
      "include_colab_link": true
    },
    "kernelspec": {
      "name": "python3",
      "display_name": "Python 3"
    },
    "language_info": {
      "name": "python"
    }
  },
  "cells": [
    {
      "cell_type": "markdown",
      "metadata": {
        "id": "view-in-github",
        "colab_type": "text"
      },
      "source": [
        "<a href=\"https://colab.research.google.com/github/cyrus2281/notes/blob/main/Math/Math.ipynb\" target=\"_parent\"><img src=\"https://colab.research.google.com/assets/colab-badge.svg\" alt=\"Open In Colab\"/></a>"
      ]
    },
    {
      "cell_type": "markdown",
      "source": [
        "# Math"
      ],
      "metadata": {
        "id": "mQs-H99K5PXF"
      }
    },
    {
      "cell_type": "markdown",
      "source": [
        ">[Math](#scrollTo=mQs-H99K5PXF)\n",
        "\n",
        ">>[Quadratic Formula](#scrollTo=lohadBZw5REE)\n",
        "\n",
        ">>>[Simplified Quadratic Formula](#scrollTo=XnF7matT5JVq)\n",
        "\n",
        ">>>[Traditional Quadratic Formula](#scrollTo=mwYyU9RK5NxL)\n",
        "\n",
        ">>[Pi ($\\pi$)](#scrollTo=lP3WJh4IAIAD)\n",
        "\n",
        ">>>[Tau ($\\tau$)](#scrollTo=H-4uzpt-UNPV)\n",
        "\n",
        ">>>[Basel problem](#scrollTo=_Q-54AuzA9Rg)\n",
        "\n",
        ">>>[Prime Regularities](#scrollTo=fOcH-T5bBAcY)\n",
        "\n",
        ">>>[Wallis Product](#scrollTo=zAVSY3OepDSu)\n",
        "\n",
        ">>[Trigonometry](#scrollTo=Xh5rQjHg9-2r)\n",
        "\n",
        ">>>[Sine](#scrollTo=FKJ2wSOLEGyC)\n",
        "\n",
        ">>>[Cosine](#scrollTo=zWyHXNuVAz_e)\n",
        "\n",
        ">>>[Tangent](#scrollTo=2q1J-hSv75RW)\n",
        "\n",
        ">>>[Cotangent](#scrollTo=QyVLGyULFEfi)\n",
        "\n",
        ">>>[Formulas](#scrollTo=fIOyxfalKN0X)\n",
        "\n",
        ">>[Complex (Imaginary) Numbers](#scrollTo=hADidL9aJU1E)\n",
        "\n",
        ">>>[Adding complex numbers](#scrollTo=4oU311HDnzCL)\n",
        "\n",
        ">>>[Multiplying complex numbers](#scrollTo=ezesS-ikofNA)\n",
        "\n",
        ">>>[CIS](#scrollTo=OSCsfgPq8I9Q)\n",
        "\n",
        ">>[Euler Number](#scrollTo=F_gI35xnFvGr)\n",
        "\n",
        ">>>[Euler's Formula](#scrollTo=wzcjAj-PEHlD)\n",
        "\n",
        ">>>[Euler's Theorem](#scrollTo=YTxyAycDHPaP)\n",
        "\n",
        ">>>[$e$ to the power of a matrix](#scrollTo=qLdAevCLGohh)\n",
        "\n"
      ],
      "metadata": {
        "colab_type": "toc",
        "id": "CkKDtEHN7AEX"
      }
    },
    {
      "cell_type": "markdown",
      "source": [
        "## Quadratic Formula\n",
        "\n",
        "For the formula $ax^2+bx+c=0$, these 3 key facts exists:\n",
        "\n",
        "If we factor the formula by $a$ ie $x^2+b'x+c'$. ($r$ and $s$ are the roots, $m$ is the median between them, $b'$ and $c'$ are the factored co-effiecients)\n",
        "\n",
        "$\n",
        "\\displaystyle{\n",
        "ax^2+bx+c=0 \\quad /a \\\\\n",
        "x^2+b'x+c \\\\\n",
        "\\\\\n",
        "(x-r)(x-s) \\rightarrow x^2 - (r+s)x +rs \\\\\n",
        "}\n",
        "$\n",
        "\n",
        "1. $b' = -(r+s)$\n",
        "2. $c' = rs$\n",
        "3. $c' = (m-d)(m+d) = m^2-d^2$\n"
      ],
      "metadata": {
        "id": "lohadBZw5REE"
      }
    },
    {
      "cell_type": "markdown",
      "source": [
        "### Simplified Quadratic Formula\n",
        "\n",
        "$\n",
        "m = \\frac{r+s}{2} = \\frac{-b'}{2} \\\\\n",
        "d^2 = m^2-c' \\\\\n",
        "d = \\sqrt{m^2-p} \\quad (p=c')\\\\\n",
        "r,s = m \\pm d\n",
        "$\n",
        "\n",
        "\n",
        "\n"
      ],
      "metadata": {
        "id": "XnF7matT5JVq"
      }
    },
    {
      "cell_type": "markdown",
      "source": [
        "### Traditional Quadratic Formula\n",
        "\n",
        "$$\n",
        "m = \\frac{-b}{2a} \\\\\n",
        "d^2 = \\sqrt{m^2-p}  = (\\frac{-b}{2})^2 - (\\frac{a}{c}) \\\\\n",
        "s,r = m \\pm d = -\\frac{b}{2a} \\pm \\sqrt{(\\frac{-b}{2a})^2 - \\frac{a}{c}} \\\\\n",
        "= -\\frac{b}{2a} \\pm \\sqrt{\\frac{1}{4a^2}(-b)^2 - \\frac{1}{4a^2} 4ac} \\\\\n",
        "= -\\frac{b}{2a} \\pm \\frac{1}{2a} \\sqrt{(-b)^2 - 4ac} \\\\[1cm]\n",
        "\\frac{-b \\pm \\sqrt{b^2 - 4ac}}{2a}\n",
        "$$"
      ],
      "metadata": {
        "id": "mwYyU9RK5NxL"
      }
    },
    {
      "cell_type": "markdown",
      "source": [
        "## Pi ($\\pi$)\n",
        "\n",
        "$\\pi$ is the semi-circumference of a circle whose radius is one."
      ],
      "metadata": {
        "id": "lP3WJh4IAIAD"
      }
    },
    {
      "cell_type": "markdown",
      "source": [
        "### Tau ($\\tau$)\n",
        "\n",
        "$\\tau$ is the circumference of a circle whose radius is one.\n",
        "\n",
        "$$\n",
        "\\tau = 2 \\pi = 6.2831855\n",
        "$$\n",
        "\n",
        "$\\pi$ Formula's written in terms of $\\tau$:\n",
        "\n",
        "$\n",
        "\\displaystyle{\n",
        "\\sin(x + \\tau) = sin(x) \\\\\n",
        "e^{\\tau i } = 1 \\\\\n",
        "n! \\approx \\sqrt{\\tau n} (\\frac{n}{e})^n \\\\\n",
        "c_n = \\frac{1}{\\tau} \\int^\\tau_0 f(x)e^{in\\tau}dx\n",
        "}\n",
        "$"
      ],
      "metadata": {
        "id": "H-4uzpt-UNPV"
      }
    },
    {
      "cell_type": "markdown",
      "source": [
        "### Basel problem\n",
        "$$\n",
        "1 +  \\frac{1}{4} + \\frac{1}{9} + \\frac{1}{16} + \\cdots =  \\frac{\\pi^2}{6} \\\\\n",
        "$$"
      ],
      "metadata": {
        "id": "_Q-54AuzA9Rg"
      }
    },
    {
      "cell_type": "markdown",
      "source": [
        "### Prime Regularities\n",
        "$$\n",
        "\\begin{align}\n",
        "1 -  \\frac{1}{3} + \\frac{1}{5} - \\frac{1}{7} + \\cdots &=  \\frac{\\pi}{4} \\\\\n",
        "&=  \\int^1_0 (1-x^2 + x^4 - \\cdots) dx \\\\\n",
        "&=\\int^1_0 \\frac {1}{1+x^2} dx \\\\\n",
        "&=\\tan^{-1}(1) \\\\\n",
        "&= \\frac{\\pi}{4} \\\\\n",
        "\\end{align}\n",
        "$$"
      ],
      "metadata": {
        "id": "fOcH-T5bBAcY"
      }
    },
    {
      "cell_type": "markdown",
      "source": [
        "### Wallis Product\n",
        "$$\n",
        "\\frac{2}{1} \\cdot \\frac{2}{3} \\cdot \\frac{4}{3} \\cdot \\frac{4}{5} \\cdot \\frac{6}{5} \\cdot \\frac{6}{7} \\cdot \\frac{8}{7} \\cdot \\frac{8}{9} \\cdot \\frac{10}{9} \\cdot \\frac{10}{11} \\cdots =  \\frac{\\pi}{2}\n",
        "$$"
      ],
      "metadata": {
        "id": "zAVSY3OepDSu"
      }
    },
    {
      "cell_type": "markdown",
      "source": [
        "## Trigonometry\n",
        "\n",
        "> You'd think it's about triangles, but reall it's about circles.\n"
      ],
      "metadata": {
        "id": "Xh5rQjHg9-2r"
      }
    },
    {
      "cell_type": "markdown",
      "source": [
        "\n",
        "$$\n",
        "\\begin{align}\n",
        "\\sin(\\pi) &= 0 \\\\\n",
        "\\cos(\\pi) &= -1 \\\\\n",
        "\\tan(\\pi) &= 0 \\\\\n",
        "\\cot(\\pi) &= \\text{undefined} \\\\\n",
        "\\\\\n",
        "\\sin\\left(\\frac{\\pi}{2}\\right) &= 1 \\\\\n",
        "\\cos\\left(\\frac{\\pi}{2}\\right) &= 0 \\\\\n",
        "\\tan\\left(\\frac{\\pi}{2}\\right) &= \\text{undefined} \\\\\n",
        "\\cot\\left(\\frac{\\pi}{2}\\right) &= 0 \\\\\n",
        "\\\\\n",
        "\\sin\\left(\\frac{\\pi}{3}\\right) &= \\frac{\\sqrt{3}}{2} \\\\\n",
        "\\cos\\left(\\frac{\\pi}{3}\\right) &= \\frac{1}{2} \\\\\n",
        "\\tan\\left(\\frac{\\pi}{3}\\right) &= \\sqrt{3} \\\\\n",
        "\\cot\\left(\\frac{\\pi}{3}\\right) &= \\frac{1}{\\sqrt{3}} \\\\\n",
        "\\\\\n",
        "\\sin\\left(\\frac{\\pi}{4}\\right) &= \\frac{1}{\\sqrt{2}} \\\\\n",
        "\\cos\\left(\\frac{\\pi}{4}\\right) &= \\frac{1}{\\sqrt{2}} \\\\\n",
        "\\tan\\left(\\frac{\\pi}{4}\\right) &= 1 \\\\\n",
        "\\cot\\left(\\frac{\\pi}{4}\\right) &= 1 \\\\\n",
        "\\\\\n",
        "\\sin\\left(\\frac{\\pi}{6}\\right) &= \\frac{1}{2} \\\\\n",
        "\\cos\\left(\\frac{\\pi}{6}\\right) &= \\frac{\\sqrt{3}}{2} \\\\\n",
        "\\tan\\left(\\frac{\\pi}{6}\\right) &= \\frac{1}{\\sqrt{3}} \\\\\n",
        "\\cot\\left(\\frac{\\pi}{6}\\right) &= \\sqrt{3} \\\\\n",
        "\\end{align}\n",
        "$$"
      ],
      "metadata": {
        "id": "HmZ22X6mI3m4"
      }
    },
    {
      "cell_type": "markdown",
      "source": [
        "\n",
        "![unit circle](https://kids.kiddle.co/images/9/9d/Circle-trig6.svg)"
      ],
      "metadata": {
        "id": "L5RKIoGXDE5L"
      }
    },
    {
      "cell_type": "markdown",
      "source": [
        "### Sine\n",
        "\n",
        "The y-axis on a unit circle.\n",
        "\n",
        "the sine of an angle is the ratio of the oposite side to the hypotenuse."
      ],
      "metadata": {
        "id": "FKJ2wSOLEGyC"
      }
    },
    {
      "cell_type": "markdown",
      "source": [
        "![sine graph](https://upload.wikimedia.org/wikipedia/commons/d/d2/Sine_one_period.svg)"
      ],
      "metadata": {
        "id": "9PqZBtxmEn_h"
      }
    },
    {
      "cell_type": "markdown",
      "source": [
        "### Cosine\n",
        "\n",
        "The x-axis on a unit circle.\n",
        "\n",
        "the cosine of an angle is the ratio of the adjacent side to the hypotenuse.\n",
        "\n",
        "$\\displaystyle{\n",
        "\\cos^2(x) = \\frac{1 + \\cos(2x)}{2}\n",
        "}$"
      ],
      "metadata": {
        "id": "zWyHXNuVAz_e"
      }
    },
    {
      "cell_type": "markdown",
      "source": [
        "![cosine graph](https://upload.wikimedia.org/wikipedia/commons/0/0a/Cosine_one_period.svg)"
      ],
      "metadata": {
        "id": "DUlJprXQE15k"
      }
    },
    {
      "cell_type": "markdown",
      "source": [
        "### Tangent\n",
        "\n",
        "the tangent of an angle is the ratio of the oposite side to the adjacent.\n"
      ],
      "metadata": {
        "id": "2q1J-hSv75RW"
      }
    },
    {
      "cell_type": "markdown",
      "source": [
        "![tangent grap](https://upload.wikimedia.org/wikipedia/commons/7/74/Tangent-plot.svg)"
      ],
      "metadata": {
        "id": "3VYglN5GE_ey"
      }
    },
    {
      "cell_type": "markdown",
      "source": [
        "### Cotangent\n",
        "\n",
        "the cotangent of an angle is the ratio of the adjacent side to the oposite.\n"
      ],
      "metadata": {
        "id": "QyVLGyULFEfi"
      }
    },
    {
      "cell_type": "markdown",
      "source": [
        "![cotangent grap](https://upload.wikimedia.org/wikipedia/commons/b/bf/Cotangent.svg)"
      ],
      "metadata": {
        "id": "eWzgOhe7FEfj"
      }
    },
    {
      "cell_type": "markdown",
      "source": [
        "### Formulas\n",
        "\n",
        "$$\n",
        "\\cos(\\alpha + \\beta) = \\cos(\\alpha)\\cos(\\beta) - \\sin(\\alpha)\\sin(\\beta) \\\\\n",
        "\\sin(\\alpha + \\beta) = \\cos(\\alpha)\\sin(\\beta) + \\cos(\\beta)\\sin(\\alpha) \\\\\n",
        "$$"
      ],
      "metadata": {
        "id": "fIOyxfalKN0X"
      }
    },
    {
      "cell_type": "markdown",
      "source": [
        "## Complex (Imaginary) Numbers\n",
        "\n",
        "Comlex numbers exist in a two-dimensional grid, the y-axis of a number line.\n",
        "\n",
        "$$\n",
        "i = \\sqrt{-1}\n",
        "$$"
      ],
      "metadata": {
        "id": "hADidL9aJU1E"
      }
    },
    {
      "cell_type": "markdown",
      "source": [
        "### Adding complex numbers\n",
        "\n",
        "Real numbes are added together, imaginary numbers are added together.\n",
        "\n",
        "$\n",
        "(4+i) + (-2+2i) = (4-2)+(2+1)i = 2 + 3i\n",
        "$\n"
      ],
      "metadata": {
        "id": "4oU311HDnzCL"
      }
    },
    {
      "cell_type": "markdown",
      "source": [
        "### Multiplying complex numbers\n",
        "\n",
        "$\n",
        "(3,2) \\overset{\\text{rotate } 90 ^{\\circ}}{\\longrightarrow} (-2,3)\n",
        "$\n",
        "\n",
        "Generalized:\n",
        "$$\n",
        "(a,b) \\overset{\\text{rotate } 90 ^{\\circ}}{\\longrightarrow} (-b, a) \\\\\n",
        "(-b,a) \\overset{\\text{rotate } 90 ^{\\circ}}{\\longrightarrow} (-a, -b) \\\\\n",
        "$$\n",
        "\n",
        "Multiplying by an imaginary nubmer looks like rotating the vector 90 degress without moving the position of $i$\n",
        "\n",
        "$\n",
        "i \\cdot (3+2i) = 3i + 2\\underbrace{i^2}_{-1} = -2 + 3i \\\\\n",
        "(2+i)(2-i) = 4 -2i +2i -i^2 = 4 - (-1) = 5\n",
        "$\n",
        "\n",
        "$\\displaystyle{\n",
        "\\begin{align}\n",
        "\\cos(75^{\\circ}) &= \\cos(45^{\\circ} + 30^{\\circ}) \\\\\n",
        "&= (\\cos(45^{\\circ}) + \\sin(45^{\\circ})i) \\cdot (\\cos(30^{\\circ})+\\sin(30^{\\circ})i) \\\\\n",
        "&= [(\\sqrt{2}/2) + (\\sqrt{2}/2)i] \\cdot [(\\sqrt{3}/2) + (1/2)i] \\\\\n",
        "&= [(\\sqrt{2}/2)(\\sqrt{3}/2)] - [(\\sqrt{2}/2) + (1/2)] \\text{ (real part only)}\\\\\n",
        "&= \\sqrt{6}/4 - \\sqrt{2}/4 = (\\sqrt{6} - \\sqrt{2})/4\n",
        "\\end{align}}\n",
        "$"
      ],
      "metadata": {
        "id": "ezesS-ikofNA"
      }
    },
    {
      "cell_type": "markdown",
      "source": [
        "### CIS\n",
        "\n",
        "$$\n",
        "cis(\\alpha) = \\cos(\\alpha) + i \\sin(\\alpha) = e^{i\\alpha} \\\\[1cm]\n",
        "cis(\\alpha) \\cdot cis(\\beta) = cis(\\alpha + \\beta)\n",
        "$$"
      ],
      "metadata": {
        "id": "OSCsfgPq8I9Q"
      }
    },
    {
      "cell_type": "markdown",
      "source": [
        "## Euler Number\n",
        "\n",
        "Properties of Euler number:\n",
        "* $e=2.71828$\n",
        "* A logarithm with Euler ($e$) as its base is Natural logarithm ($\\log_e a = \\ln(a)$)\n",
        "* Derivative $\\frac{d}{dx}e^{f(x)} = e^{f(x)} \\space \\frac{d}{dx}{f(x)}$\n"
      ],
      "metadata": {
        "id": "F_gI35xnFvGr"
      }
    },
    {
      "cell_type": "markdown",
      "source": [
        "### Euler's Formula\n",
        "\n",
        "Multiplying by $i$ has the effect of rotating numbers $90^{\\circ}$.\n",
        "velocity (derivative) of $e^{i}$ at a time is a vector that's rotated $90^{\\circ}$.\n",
        "$e^{it}$ travels a whole circle in $\\pi$ seconds\n",
        "\n",
        "$$\n",
        "e^{it} = \\cos t + i \\sin t\n",
        "$$\n",
        "\n",
        "Examples\n",
        "\n",
        "$\n",
        "e^{i\\pi} = -1 \\\\\n",
        "e^{i 0} = 1 \\\\\n",
        "e^{-i 0} = 1 \\\\\n",
        "$"
      ],
      "metadata": {
        "id": "wzcjAj-PEHlD"
      }
    },
    {
      "cell_type": "markdown",
      "source": [
        "### Euler's Theorem\n",
        "\n",
        "$$\n",
        "x \\in \\mathbb{R} \\\\\n",
        "e^x = \\exp(x) = x^0 + x^1 + \\frac{1}{2}x^2 + \\frac{1}{6}x^3 + \\cdots + \\frac{1}{n!}x^n\n",
        "$$\n",
        "\n",
        "$$\n",
        "\\exp(a+b) = \\exp(a) \\times \\exp(b)\n",
        "$$\n",
        "\n",
        "Example:\n",
        "\n",
        "$\n",
        "\\displaystyle{\n",
        "x  = {\\pi i} \\\\\n",
        "e^{\\pi i} = {\\pi i}^0 + {\\pi i}^1 + \\frac{1}{2}{\\pi i}^2 + \\frac{1}{6}{\\pi i}^3 + \\cdots + \\frac{1}{n!}{\\pi i}^n}\n",
        "$"
      ],
      "metadata": {
        "id": "YTxyAycDHPaP"
      }
    },
    {
      "cell_type": "markdown",
      "source": [
        "### $e$ to the power of a matrix\n",
        "\n",
        "The rate of change of vectors can also be written an Euler exponential relative to its initial point\n",
        "\n",
        "$$\n",
        "\\vec{v}(t) = e^{Mt}\\vec{v}_0 \\longrightarrow \\frac{d}{dt}\\vec{v}(t) = M\\vec{v}(t) \\\\[1cm]\n",
        "\\frac{d}{dt} \\begin{bmatrix}x(t)\\\\y(t)\\end{bmatrix} =\n",
        "\\begin{bmatrix}a & b\\\\b & c\\end{bmatrix} \\begin{bmatrix}x(t)\\\\y(t)\\end{bmatrix}\n",
        "\\Rightarrow \\begin{bmatrix}x(t)\\\\y(t)\\end{bmatrix} =\n",
        "e^{\\begin{bmatrix}a & b\\\\b & c\\end{bmatrix}t}\\begin{bmatrix}x(0)\\\\y(0)\\end{bmatrix}\n",
        "$$\n"
      ],
      "metadata": {
        "id": "qLdAevCLGohh"
      }
    },
    {
      "cell_type": "markdown",
      "source": [
        "**Example**: The rate at which x changes in repective to y is -y. ie $\\frac{d}{dt}x = -y(t)$. The rate at which y changes in repective to x is x. ie $\\frac{d}{dt}y = x(t)$. Find functions for $x(t)$ and $y(t)$ where these conditions are true.\n",
        "\n",
        "Guessing\n",
        "$\n",
        "x(t) = cos(t) \\:\\:\\: y(t) = sin(t) \\\\\n",
        "x(0) = x_0 \\:\\:\\: y(0) = y_0\n",
        "$\n",
        "\n",
        "But for a general approach, we can imagine their relation in a 2D space, where y-axis is for y and x-axis is for x.\n",
        "$\n",
        "\\begin{bmatrix}x(t)\\\\y(t)\\end{bmatrix} = \\begin{bmatrix}a\\\\b\\end{bmatrix} \\text{where a and b are real number} \\longrightarrow\n",
        "\\begin{bmatrix}x'(t)\\\\y'(t)\\end{bmatrix} = \\begin{bmatrix}-y(t)\\\\x(t)\\end{bmatrix} \\\\\n",
        "\\text{Which can be rewritten as a product of a matrix and a vector} \\\\\n",
        "\\begin{bmatrix}x'(t)\\\\y'(t)\\end{bmatrix} = \\begin{bmatrix}0&-1\\\\1&0\\end{bmatrix}\\begin{bmatrix}x(t)\\\\y(t)\\end{bmatrix} \\\\\n",
        "$\n",
        "\n",
        "The matrix is a 90 degree tranformation matrix, the only way this can happen is if our 2D space travels in a form of circle.\n",
        "To generalize the roation, we can write:\n",
        "\n",
        "$\n",
        "\\begin{bmatrix}x(t)\\\\y(t)\\end{bmatrix} = \\begin{bmatrix}\\cos(t) & - \\sin(t) \\\\ \\sin(t) & \\cos(t) \\end{bmatrix}\\begin{bmatrix}x_0\\\\y_0\\end{bmatrix} \\\\\n",
        "$\n",
        "\n",
        "Which can be solved as (using dot product):\n",
        "\n",
        "$\n",
        "x(t) = \\cos(t)x_0 - \\sin(t)y_0 \\\\\n",
        "y(t) = \\sin(t)x_0 + \\cos(t)y_0\n",
        "$"
      ],
      "metadata": {
        "id": "u5WQVRDYI6QI"
      }
    },
    {
      "cell_type": "markdown",
      "source": [
        "\n",
        "From this we can derive that the rate of change of some vector is equal to a certain matrix times itself.\n",
        "\n",
        "$$\n",
        "\\frac{d}{dt}\\vec{v}(t) = M\\vec{v}(t)\n",
        "$$\n",
        "\n",
        "Similarly, If we have a differntial equation $\\frac{d}{dt}x(t)=r \\cdot x(t)$, we can write a solution in terms of $e$ as:\n",
        "$\n",
        "x(t) = e^{rt} \\cdot x_0\n",
        "$\n",
        "\n",
        "So for the derivative of the vector, we can write the vector function as a product of a matrix that changes with time and the initial condition of a vector.\n",
        "\n",
        "$$\n",
        "\\frac{d}{dt}\\vec{v}(t) = M\\vec{v}(t)\n",
        "\\longrightarrow\n",
        "\\vec{v}(t) = e^{Mt}\\vec{v}_0\n",
        "$$\n",
        "\n",
        "In other words:\n",
        "\n",
        "$$\n",
        "\\frac{d}{dt} \\begin{bmatrix}x(t)\\\\y(t)\\end{bmatrix} =\n",
        "\\begin{bmatrix}a & b\\\\b & c\\end{bmatrix} \\begin{bmatrix}x(t)\\\\y(t)\\end{bmatrix}\n",
        "\\Rightarrow \\begin{bmatrix}x(t)\\\\y(t)\\end{bmatrix} =\n",
        "e^{\\begin{bmatrix}a & b\\\\b & c\\end{bmatrix}t}\\begin{bmatrix}x(0)\\\\y(0)\\end{bmatrix}\n",
        "$$\n"
      ],
      "metadata": {
        "id": "1vO8nn-WRRYk"
      }
    },
    {
      "cell_type": "markdown",
      "source": [
        "For our example it would be:\n",
        "\n",
        "$\n",
        "\\begin{bmatrix}x(t)\\\\y(t)\\end{bmatrix} =\n",
        "e^{\\begin{bmatrix}0 & -1 \\\\1 & 0\\end{bmatrix}t}\\begin{bmatrix}x(0)\\\\y(0)\\end{bmatrix}\n",
        "$"
      ],
      "metadata": {
        "id": "6nHBomTmUOMr"
      }
    },
    {
      "cell_type": "markdown",
      "source": [
        "\n",
        "\n",
        "---\n",
        "\n",
        "\n",
        "**Example 2 with numbers**\n",
        "\n",
        "The Matrix has to have the same number of rows and columns.\n",
        "\n",
        "$\n",
        "\\displaystyle{\n",
        "x = {\\begin{bmatrix}3&1&4\\\\1&5&9\\\\2&6&5\\end{bmatrix}} \\\\[2cm]\n",
        "e^{\\begin{bmatrix}3&1&4\\\\1&5&9\\\\2&6&5\\end{bmatrix}} =\n",
        "{\\begin{bmatrix}3&1&4\\\\1&5&9\\\\2&6&5\\end{bmatrix}}^0 +\n",
        "{\\begin{bmatrix}3&1&4\\\\1&5&9\\\\2&6&5\\end{bmatrix}}^1 +\n",
        "\\frac{1}{2}{\\begin{bmatrix}3&1&4\\\\1&5&9\\\\2&6&5\\end{bmatrix}}^2 +\n",
        "\\frac{1}{6}{\\begin{bmatrix}3&1&4\\\\1&5&9\\\\2&6&5\\end{bmatrix}}^3 +\n",
        "\\cdots + \\frac{1}{n!}{\\begin{bmatrix}3&1&4\\\\1&5&9\\\\2&6&5\\end{bmatrix}}^n\n",
        "\\\\[2cm]\n",
        "\\text{Matrix to the power of zero is an identity matrix} \\\\[1cm]\n",
        "{\\begin{bmatrix}3&1&4\\\\1&5&9\\\\2&6&5\\end{bmatrix}}^2 =\n",
        "{\\begin{bmatrix}3&1&4\\\\1&5&9\\\\2&6&5\\end{bmatrix}}{\\begin{bmatrix}3&1&4\\\\1&5&9\\\\2&6&5\\end{bmatrix}} =\n",
        "{\\begin{bmatrix}18&32&41\\\\26&80&94\\\\22&62&87\\end{bmatrix}}\n",
        "\\\\[2cm]\n",
        "{\\begin{bmatrix}3&1&4\\\\1&5&9\\\\2&6&5\\end{bmatrix}}^3 =\n",
        "{\\begin{bmatrix}3&1&4\\\\1&5&9\\\\2&6&5\\end{bmatrix}}{\\begin{bmatrix}18&32&41\\\\26&80&94\\\\22&62&87\\end{bmatrix}} =\n",
        "{\\begin{bmatrix}168&424&565\\\\346&990&1294\\\\302&854&1081\\end{bmatrix}}\n",
        "}\\\\[2cm]\n",
        "$\n",
        "\n",
        "Also each matrix is multiplied by an scaler, which means each number would be multiplied by that number\n",
        "\n",
        "$$\n",
        "\\frac{1}{n!}{\\begin{bmatrix}a&b&c\\\\d&e&f\\\\g&h&i\\end{bmatrix}} =\n",
        "{\\begin{bmatrix}a/n!&b/n!&c/n!\\\\d/n!&e/n!&f/n!\\\\g/n!&h/n!&i/n!\\end{bmatrix}}\n",
        "$$\n",
        "\n",
        "\n"
      ],
      "metadata": {
        "id": "mWSwN2C8YA-t"
      }
    }
  ]
}