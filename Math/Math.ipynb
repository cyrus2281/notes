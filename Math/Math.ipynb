{
  "nbformat": 4,
  "nbformat_minor": 0,
  "metadata": {
    "colab": {
      "provenance": [],
      "toc_visible": true,
      "authorship_tag": "ABX9TyOVu5bR6rzelUD25QOV/s6A",
      "include_colab_link": true
    },
    "kernelspec": {
      "name": "python3",
      "display_name": "Python 3"
    },
    "language_info": {
      "name": "python"
    }
  },
  "cells": [
    {
      "cell_type": "markdown",
      "metadata": {
        "id": "view-in-github",
        "colab_type": "text"
      },
      "source": [
        "<a href=\"https://colab.research.google.com/github/cyrus2281/notes/blob/main/Math/Math.ipynb\" target=\"_parent\"><img src=\"https://colab.research.google.com/assets/colab-badge.svg\" alt=\"Open In Colab\"/></a>"
      ]
    },
    {
      "cell_type": "markdown",
      "source": [
        "# Linear Algebra"
      ],
      "metadata": {
        "id": "xEknEZHZbH8O"
      }
    },
    {
      "cell_type": "markdown",
      "source": [
        "## **Axioms**\n",
        "The rules and formulas of linear algebra applies to any vector space, as long as the following rulses, known as **Axioms**, are met.\n",
        "\n",
        "1. $\\vec{u} + (\\vec{v}+\\vec{w}) = (\\vec{u}+\\vec{v})+\\vec{w}$\n",
        "2. $\\vec{v}+\\vec{w} = \\vec{w} + \\vec{v}$\n",
        "3. There is a vector 0 such that $0+\\vec{v}=\\vec{v}$ for all $\\vec{v}$\n",
        "4. For every vector $\\vec{v}$ there is a vector $-\\vec{v}$ so that $\\vec{v}+(-\\vec{v})=0$\n",
        "5. $a(b\\vec{v}) = (ab)\\vec{v}$\n",
        "6. $1\\vec{v}=\\vec{v}$\n",
        "7. $a(\\vec{v} + \\vec{w}) = a\\vec{v} + a\\vec{w}$\n",
        "8. $(a+b)\\vec{v} = a\\vec{v} + b\\vec{v}$"
      ],
      "metadata": {
        "id": "jxwAHVOfvsj6"
      }
    },
    {
      "cell_type": "markdown",
      "source": [
        "## Vectors\n",
        "\n",
        "**In physics:** Arrows pointing in space. It is defined by a length and a direction. It can be moved around and it's still the same vector. They can be in 2 or 3 dimentional world.\n",
        "\n",
        "**In Computer Science:** Ordered list of numbers. It can be of any dimention\n",
        "\n",
        "**In Mathematics:** Anything where there's a sensible notion of adding two vetors and multiplying a vector by a number.\n",
        "\n"
      ],
      "metadata": {
        "id": "vT2WbMjAbSfc"
      }
    },
    {
      "cell_type": "markdown",
      "source": [
        "### Unit Vectors\n",
        "\n",
        "**$\\hat{i}$**: A vector pointing to right with length of one. $\\begin{bmatrix} 1 \\\\ 0 \\end {bmatrix}$\n",
        "\n",
        "**$\\hat{j}$**: A vector pointing to top with length of one $\\begin{bmatrix} 0 \\\\ 1 \\end {bmatrix}$\n",
        "\n",
        "Together these are the **basis vectors** of the xy coordiante system.\n",
        "\n",
        "$$\n",
        "\\begin{bmatrix}\n",
        "-5 \\\\\n",
        "2\n",
        "\\end{bmatrix}\n",
        "=\n",
        "\\begin{bmatrix}\n",
        "-5 \\hat{i} \\\\\n",
        "2 \\hat{j}\n",
        "\\end{bmatrix}\n",
        "$$\n",
        "\n",
        "\n",
        "**$\\hat{k}$**: A vector in Z dimnetion in a 3D space $\\begin{bmatrix} 0 \\\\ 0 \\\\ 1 \\end {bmatrix}$"
      ],
      "metadata": {
        "id": "t3GKNy1WgVv6"
      }
    },
    {
      "cell_type": "markdown",
      "source": [
        "### Vector Summation\n",
        "\n",
        "$$\n",
        "\\begin{bmatrix}\n",
        "x_1 \\\\\n",
        "y_1\n",
        "\\end{bmatrix}\n",
        "+\n",
        "\\begin{bmatrix}\n",
        "x_2\\\\ \n",
        "y_2\n",
        "\\end{bmatrix}\n",
        "=\n",
        "\\begin{bmatrix}\n",
        "x_1 + x_2\\\\ \n",
        "y_1 + y_2\n",
        "\\end{bmatrix}\n",
        "$$\n"
      ],
      "metadata": {
        "id": "ErevL6nidtLX"
      }
    },
    {
      "cell_type": "markdown",
      "source": [
        "### Vector Multiplication (Scaling)\n",
        "\n",
        "Scaler is a number that scales a vector. $k$\n",
        "\n",
        "$$\n",
        "k\n",
        "\\cdot\n",
        "\\begin{bmatrix}\n",
        "x\\\\ \n",
        "y\n",
        "\\end{bmatrix}\n",
        "=\n",
        "\\begin{bmatrix}\n",
        "kx\\\\ \n",
        "ky\n",
        "\\end{bmatrix}\n",
        "$$"
      ],
      "metadata": {
        "id": "c_Ty0QhXelvN"
      }
    },
    {
      "cell_type": "markdown",
      "source": [
        "Two vectors of the same dimension\n",
        "$$\n",
        "\\begin{bmatrix}a \\\\ b \\\\ c \\\\ d \\end{bmatrix}\n",
        "\\cdot\n",
        "\\begin{bmatrix}e \\\\ f \\\\ g \\\\ h \\end{bmatrix}\n",
        "= a.e + b.f + c.g + d.h\n",
        "$$\n",
        "* The dot product of the vectors is positive if they're in the same direction\n",
        "* The dot product of the vectors is zero if they're in perpendicular\n",
        "* The dot product of the vectors is negative if they're in the opposite direction\n"
      ],
      "metadata": {
        "id": "FMZdri-zgSeQ"
      }
    },
    {
      "cell_type": "markdown",
      "source": [
        "### Linear Combination\n",
        "\n",
        "Linear Combination of $\\vec{v}$ and $\\vec{w}$\n",
        "\n",
        "$$\n",
        "a\\vec{v}+b\\vec{w}\n",
        "$$\n",
        "\n",
        "$a$ and $b$ are scalars\n",
        "\n",
        "With a combination of two scalars, you can reach every point on the xy plane. Unless the scalars are algined or are zero.\n",
        "\n",
        "**Span**\n",
        "> The **span** of $\\vec{v}$ and $\\vec{w}$ is the set of all their linear combinations.\n",
        "\n",
        "It's typical to think of a vector as a point that starts from origin and ends at the point.\n",
        "\n",
        "Linear Combination of $\\vec{v}$, $\\vec{w}$ and $\\vec{u}$ for 3 dimentions.\n",
        "\n",
        "$$\n",
        "a\\vec{v}+b\\vec{w}+c\\vec{u}\n",
        "$$\n",
        "\n",
        "\n",
        "**Linearly Dependent**\n",
        "> When a vector becomes redundant which you can remove without effecting the span, eg two vectors are algined, they are called **Linearly Dependent**.\n",
        "This means one of the vectors can be represented as a linear combination of others. $\\vec{w}=a\\vec{v}$\n",
        "\n",
        "eg: $\\vec{v}$ and $\\vec{w}$ are `\"Linearly depdendent\"`\n",
        "\n",
        "**Linearly independent**\n",
        "> On the other hand, if each vector does add a deminetion to the plane, it is called **Linearly independent**. $\\vec{w} \\neq a\\vec{v}$\n",
        "\n",
        "**Basis**\n",
        "> The **Basis** of a vector space is a set of *linearly independent* vectors that *span* the full space."
      ],
      "metadata": {
        "id": "Qdut1DFCiPWS"
      }
    },
    {
      "cell_type": "markdown",
      "source": [
        "### Linear Transformation\n",
        "A function that takes a vector and returns a transformed one. The word tranformation suggest movement.\n",
        " \n",
        "In Linear tranformation, all lines must stay a line, and origin remains the same.\n",
        "\n",
        "$$\n",
        "\\vec{v} = x\\hat{i} + y\\hat{j}\n",
        "\\\\\n",
        "\\text{Transformed }\\vec{v} = x (\\text{Transformed }\\hat{i}) + y (\\text{Transformed }\\hat{j}) \\\\[0.5cm]\n",
        "$$\n",
        "\n",
        "> Linear tranformatIons **preserve** addition and scalar multiplication.\n",
        "\n",
        "Meaning, in a linear tranformation, additivity and scaling remain the same: \n",
        "\n",
        "* Additivity: $L(\\vec{v}+\\vec{w})=L(\\vec{v})+L(\\vec{w})$\n",
        "* Scaling: $L(c\\vec{v})=cL(\\vec{v})$"
      ],
      "metadata": {
        "id": "1wkRY7nklziS"
      }
    },
    {
      "cell_type": "markdown",
      "source": [
        "Example: if $\\hat{i}$ is moved to $\\begin{bmatrix}1 \\\\ -2 \\end{bmatrix}$ and $\\hat{j}$ is moved to $\\begin{bmatrix} 3 \\\\ 0 \\end {bmatrix}$, the general tranformation rule would be:\n",
        "\n",
        "$$\n",
        "\\begin{bmatrix} x \\\\ y \\end {bmatrix} \\rightarrow\n",
        "x \\begin{bmatrix} 1 \\\\ -2 \\end {bmatrix} + \n",
        "y \\begin{bmatrix} 3 \\\\ 0 \\end {bmatrix}\n",
        "= \\begin{bmatrix} 1x+3y \\\\ -2x + 0y \\end {bmatrix}\n",
        "$$\n",
        "\n",
        "Or in a **matrix** notation, it would be:\n",
        "$$\n",
        "\\begin{bmatrix} 1 & 3 \\\\ -2 & 0 \\end {bmatrix}\n",
        "$$"
      ],
      "metadata": {
        "id": "uyGH7N69oGt_"
      }
    },
    {
      "cell_type": "markdown",
      "source": [
        "## Matrices"
      ],
      "metadata": {
        "id": "UzMIA2NFW5RI"
      }
    },
    {
      "cell_type": "markdown",
      "source": [
        "### Matrix tranformation\n",
        "\n",
        "\"2x2 Matrix\"\n",
        "$$\n",
        "\\begin{bmatrix} a & b \\\\ c & d \\end {bmatrix}\n",
        "\\begin{bmatrix} x \\\\ y \\end {bmatrix}\n",
        "\\\\\n",
        "x \\begin{bmatrix} a \\\\ c \\end {bmatrix} +\n",
        "y \\begin{bmatrix} b \\\\ d \\end {bmatrix}\n",
        "=\n",
        "\\begin{bmatrix} ax + by \\\\ cx + dy \\end {bmatrix}\n",
        "$$"
      ],
      "metadata": {
        "id": "J20yGJu3psPi"
      }
    },
    {
      "cell_type": "markdown",
      "source": [
        "**Composition**\n",
        "> A combination of multiple tranformation is called **composition**\n",
        "\n",
        "$$\n",
        "\\begin{bmatrix} a & b \\\\ c & d \\end {bmatrix} \\left(\n",
        "\\begin{bmatrix} e & f \\\\ g & h \\end {bmatrix}\n",
        "\\begin{bmatrix} x \\\\ y \\end {bmatrix} \\right)\n",
        "= \\begin{bmatrix}ae+bg & af + bh \\\\ ce + dg & cf + dh \\end {bmatrix}\\begin{bmatrix} x \\\\ y \\end {bmatrix} \n",
        "$$"
      ],
      "metadata": {
        "id": "Mxvaf7bpsIgX"
      }
    },
    {
      "cell_type": "markdown",
      "source": [
        "### Determinant\n",
        "**Determinant of that transformation**\n",
        "> The factor by which a linear tranformation changes any area is called the **determinant** of that transformation.\n",
        "$$\n",
        "\\text{det}\\left(\\begin{bmatrix} a & b \\\\ c & d \\end {bmatrix}\\right) = ad - bc\n",
        "$$\n",
        "\n",
        "Examples:\n",
        "$$\n",
        "\\text{det}\\left(\\begin{bmatrix} -1 & 1 \\\\ -1 & -1 \\end {bmatrix}\\right) = 2 \\\\[1cm]\n",
        "\\text{det}\\left(\\begin{bmatrix} 0.0 & 2.o \\\\ -1.5 & 1.o \\end {bmatrix}\\right) = 3 \\\\[1cm]\n",
        "\\text{det}\\left(\\begin{bmatrix} 4 & 2 \\\\ 2 & 1 \\end {bmatrix}\\right) = 0 \\\\[1cm]\n",
        "\\text{det}\\left(\\begin{bmatrix} 0 & 0 \\\\ 0 & 0 \\end {bmatrix}\\right) = 0 \\\\[1cm]\n",
        "$$"
      ],
      "metadata": {
        "id": "SZpMS8NK1wzr"
      }
    },
    {
      "cell_type": "markdown",
      "source": [
        "**invert of orientation of space**\n",
        "> A negative determinat flips the space and is called **invert of orientation of space**\n",
        "\n",
        "Normaly $L(\\hat{j})$ is to the *left* of $L(\\hat{i})$.\n",
        "If $L(\\hat{j})$ is to the *right**\\ of $L(\\hat{i})$ the orientation of space has been inverted.\n",
        "\n",
        "The absoulte value of the determinant shows the scale by which the area was transformed."
      ],
      "metadata": {
        "id": "QNNa-2xY323f"
      }
    },
    {
      "cell_type": "markdown",
      "source": [
        "Determinant of that transformation in 3D\n",
        "\n",
        "**Parallelepiped**\n",
        "> A cube in a 3 dimentional space that starts with a volume of 1, and has gone through a matric tranformation is called **parallelepiped**\n",
        "$$\n",
        "\\det\\left(\\begin{bmatrix} a & b & c \\\\ d & e & f \\\\ g & h & i \\end {bmatrix}\\right) = \\\\[1cm]\n",
        "a \\det\\left(\\begin{bmatrix} e & f \\\\ h & i \\end {bmatrix}\\right) - \n",
        "b \\det\\left(\\begin{bmatrix} d & f \\\\ g & i \\end {bmatrix}\\right) + \n",
        "c \\det\\left(\\begin{bmatrix} d & e \\\\ g & h \\end {bmatrix}\\right) \\\\[1cm]\n",
        "= a(ei-fh) - d(bi-ch) + g(bf-ec)  \\\\[0.5cm]\n",
        "= \\text{Volume of the parallelepiped}\n",
        "$$\n",
        "\n",
        "Exmple:\n",
        "$$\n",
        "\\det\\left(\\begin{bmatrix} 1.0 & 0.0 & 0.5 \\\\ 0.5 & 1.0 & 0.0 \\\\ 1.0 & 0.0 & 1.0\\end {bmatrix}\\right) = 0 \n",
        "$$\n",
        "\n"
      ],
      "metadata": {
        "id": "gG5AsXcF5Iqo"
      }
    },
    {
      "cell_type": "markdown",
      "source": [
        "### Dot Product\n",
        "https://www.mathsisfun.com/algebra/matrix-multiplying.\n"
      ],
      "metadata": {
        "id": "CSpK2ytvbNgg"
      }
    },
    {
      "cell_type": "markdown",
      "source": [
        "$$\n",
        "\\begin{bmatrix} a & b \\\\ c & d \\end {bmatrix} \n",
        "\\begin{bmatrix} e & f \\\\ g & h \\end {bmatrix} = \\\\\n",
        "\\begin{bmatrix} a & b \\\\ c & d \\end {bmatrix} \n",
        "\\begin{bmatrix} e \\\\ g \\end {bmatrix} + \n",
        "\\begin{bmatrix} a & b \\\\ c & d \\end {bmatrix} \n",
        "\\begin{bmatrix} f \\\\ h \\end {bmatrix} = \\\\\n",
        "e \\begin{bmatrix} a \\\\ c \\end {bmatrix} +\n",
        "g \\begin{bmatrix} b \\\\ d \\end {bmatrix} +\n",
        "f \\begin{bmatrix} a \\\\ c \\end {bmatrix} +\n",
        "h \\begin{bmatrix} b \\\\ d \\end {bmatrix} = \\\\\n",
        "\\begin{bmatrix}ae+bg & af + bh \\\\ ce + dg & cf + dh \\end{bmatrix}\n",
        "$$\n",
        "Shape:\n",
        "$$\n",
        "(m,n)\\times(n,p)=(m,p)\n",
        "$$"
      ],
      "metadata": {
        "id": "e1tEFQq3uagk"
      }
    },
    {
      "cell_type": "markdown",
      "source": [
        "Example: \n",
        "$$\n",
        "\\begin{bmatrix}\n",
        "1 & 2 & 3\\\\ \n",
        "4 & 5 & 6\n",
        "\\end{bmatrix} \\times\n",
        "\\begin{bmatrix}\n",
        "7 & 8\\\\\n",
        "9 & 10\\\\\n",
        "11 & 12\n",
        "\\end{bmatrix} = \\begin{bmatrix}\n",
        "58 & 64\\\\\n",
        "139 & 154\n",
        "\\end{bmatrix}\n",
        "\\\\\n",
        "(2,3)\\times(3,2)=(2,2)\n",
        "$$"
      ],
      "metadata": {
        "id": "ngUYtg1zuXGA"
      }
    },
    {
      "cell_type": "markdown",
      "source": [
        "Example 2\n",
        "\n",
        "$$\\begin{bmatrix}\n",
        "0  & 1 & 2\\\\ \n",
        "3  & 4 & 5\\\\ \n",
        "6  & 7 & 8\\\\ \n",
        "\\end{bmatrix}\n",
        "\\begin{bmatrix} x \\\\ y \\\\ z \\end {bmatrix}\n",
        "=\n",
        "x \\begin{bmatrix}\n",
        "0\\\\ \n",
        "3\\\\ \n",
        "6\\\\ \n",
        "\\end{bmatrix}+ \n",
        "y \\begin{bmatrix}\n",
        "1\\\\ \n",
        "4\\\\ \n",
        "7\\\\ \n",
        "\\end{bmatrix}+\n",
        "z \\begin{bmatrix}\n",
        "2\\\\ \n",
        "5\\\\ \n",
        "8\\\\ \n",
        "\\end{bmatrix}\n",
        "$$"
      ],
      "metadata": {
        "id": "_jSDCx7zzUc_"
      }
    },
    {
      "cell_type": "markdown",
      "source": [
        "Example 3\n",
        "\n",
        "multiplying a 3×1 by a 1×3 gets a 3×3 result:\n",
        "$$\n",
        "\\begin{bmatrix}\n",
        "4 \\\\ \n",
        "5 \\\\ \n",
        "6\n",
        "\\end{bmatrix}\\begin{bmatrix}\n",
        "1 & 2 & 3\\\\\n",
        "\\end{bmatrix} = \\begin{bmatrix}\n",
        "4\\times1  & 4\\times2 & 4\\times3\\\\ \n",
        "5\\times1  & 5\\times2 & 5\\times3\\\\ \n",
        "6\\times1  & 6\\times2 & 6\\times3\\\\ \n",
        "\\end{bmatrix} = \\begin{bmatrix}\n",
        "4 & 8 & 12\\\\ \n",
        "5 & 10 & 15\\\\ \n",
        "6 & 12 &  18\n",
        "\\end{bmatrix}\n",
        "$$"
      ],
      "metadata": {
        "id": "HskOcky-hBIH"
      }
    },
    {
      "cell_type": "markdown",
      "source": [
        "**Order of Multiplication**\n",
        "\n",
        "When we change the order of multiplication, the answer is (usually) different.\n",
        "$$\n",
        "AB \\neq BA\n",
        "$$"
      ],
      "metadata": {
        "id": "5js68JgYhvOB"
      }
    },
    {
      "cell_type": "markdown",
      "source": [
        "### Identity Matrix\n",
        "\n",
        "The \"Identity Matrix\" is the matrix equivalent of the number \"1\":\n",
        "$$\n",
        "I = \\begin{bmatrix}\n",
        "1 & 0 & 0\\\\ \n",
        "0 & 1 & 0\\\\ \n",
        "0 & 0 & 1\n",
        "\\end{bmatrix}\n",
        "$$\n",
        "\n",
        "* It is \"square\" (has same number of rows as columns)\n",
        "* It can be large or small (2×2, 100×100, ... whatever)\n",
        "* It has 1s on the main diagonal and 0s everywhere else\n",
        "* Its symbol is the capital letter I\n",
        "\n",
        "$$\n",
        "A \\times I = A\\\\\n",
        "I \\times A = A\n",
        "$$"
      ],
      "metadata": {
        "id": "hFnazoZKc__K"
      }
    },
    {
      "cell_type": "markdown",
      "source": [
        "## Inverse Transformation\n",
        "if $A\\vec{x}=\\vec{y}$, the transformation that converts $\\vec{y}$ to $A\\vec{x}$ is called the **inverse transformation**. It's deomstracted as $A^{-1}$\n",
        "\n",
        "applying inverse transformation Of a tranformation to it, causes it to go back to the origin.\n",
        "$$\n",
        "A^{-1}A=I = \\text{origin}\n",
        "$$\n",
        "The resulted tranformation does nothing and is called an **iDdentity matrix**\n"
      ],
      "metadata": {
        "id": "rUSkuk4E1ssH"
      }
    },
    {
      "cell_type": "markdown",
      "source": [
        "### **Change of basis**\n",
        "> The tranformation that converts our basis vectors to the second grid system basis vectors is the **change of basis**\n",
        "\n",
        "For example:\n",
        "* Our basis $\n",
        "\\begin{bmatrix}\n",
        "1 & 0 \\\\\n",
        "0 & 1\n",
        "\\end{bmatrix}\n",
        "$\n",
        "* Second grid basis:$\n",
        "\\begin{bmatrix}\n",
        "2 & -1 \\\\\n",
        "1 & 1\n",
        "\\end{bmatrix}$\n",
        "* Change of basis $\\begin{bmatrix}\n",
        "2 & -1 \\\\\n",
        "1 & 1 \\\\\n",
        "\\end{bmatrix}$\n",
        "\n",
        "This transforamtion, can convert our grid to the second grid, interestingly, numerically, it's converting the second grid to our grid"
      ],
      "metadata": {
        "id": "LiPYXEv97iNJ"
      }
    },
    {
      "cell_type": "markdown",
      "source": [
        "### Translating between coordinate systems\n",
        "$$\n",
        "\\text{Inverse} \\begin{bmatrix}\n",
        "\\hat{i}_{x} & \\hat{i}_{y} \\\\\n",
        "\\hat{j}_{x} & \\hat{j}_{y} \\\\\n",
        "\\end{bmatrix}^{-1} = A^{-1} \\\\[1cm]\n",
        "\\vec{V}_x A^{-1} = \\vec{V}_y\n",
        "$$\n",
        "\n",
        "Translating a tranformation \n",
        "$$\n",
        "A^{-1} M {A}\n",
        "$$\n",
        "The outer two matrixes are called empathy."
      ],
      "metadata": {
        "id": "eG00iKCnf63r"
      }
    },
    {
      "cell_type": "markdown",
      "source": [
        "## Rank\n",
        "\n",
        "**Rank**\n",
        "> Number of dimensions in the outpt of a tranformation. Or more precisely, the number of dimensions in the column space.\n",
        "\n",
        "**Column Space**\n",
        "> Set ofall possible outputs for $A\\vec{v}$ is called **column space** of $A$.\n",
        "\n",
        "The idea of column space helps us understand when a solution exists for an inverse tranforamtion\n",
        "\n",
        "**Rank 1**\n",
        "> When the ouput of a tranformation is a line (has a determine of 0) we say the tranformation has. a \"rank\" of one.\n",
        "\n",
        "**Rank 2**\n",
        "> When the ouput of a tranformation is on a 2D plane (has a determine of 0) we say the tranformation has. a \"rank\" of two.\n",
        "\n",
        "**Null Space (Kernel)**\n",
        "> The space of all vectors that become null in a \n",
        "transformation is called **\"Null space\"** or **\"Kernel\"**\n",
        "\n",
        "The idea of null space helps us understand what the set of all possible solutions could look like."
      ],
      "metadata": {
        "id": "y7iq5uvU90dH"
      }
    },
    {
      "cell_type": "markdown",
      "source": [
        "## Cross Product\n",
        "Given the two vectors $\\vec{v}$ and $\\vec{w}$, there's parallelogram that they span out. If you copy the vector $\\vec{v}$ and move its tail to the tip of $\\vec{w}$, and copy the vector $\\vec{w}$ and move its tail to the tip of $\\vec{v}$, the four vectors enclose a certain parallelogram.\n",
        "$$\n",
        "\\vec{v} \\times \\vec{w} = \\vec{p} =  \\text{Area of parallelogram} = determinant\n",
        "$$\n",
        "\n",
        "If $\\vec{v}$ is on the right of $\\vec{w}$, their cross product is positive.\n",
        "If $\\vec{v}$ is on the left of $\\vec{w}$, their cross product is negative.\n",
        "$$\n",
        "\\vec{v} \\times \\vec{w} =  -\\vec{w} \\times \\vec{v} \n",
        "$$\n",
        "Also\n",
        "$$\n",
        "(3\\vec{v}) \\times \\vec{w} =  3(\\vec{v} \\times \\vec{w})\n",
        "$$\n",
        "\n",
        "To caculcate the area, you just need to compute their determenant.\n",
        "$$\n",
        "\\vec{v} \\times \\vec{w} = \\det(\\begin{bmatrix} \\vec{v} & \\vec{w} \\end{bmatrix})\n",
        "$$"
      ],
      "metadata": {
        "id": "uaQCLUDCrO-L"
      }
    },
    {
      "cell_type": "markdown",
      "source": [
        "**Cross Product**\n",
        "> Cross Product is a vector with the length of determenant of vector $\\vec{v}$ and $\\vec{w}$ (the area of their parallelogram) which is perpendicular to their resulting parallelogram.\n",
        "\n",
        "For the direction, point the 4 figure of the right hand in the direction of $\\vec{v}$, stick out the middle fingure in the direction of $\\vec{w}$, then pointing up the thumb shows the direction for their cross product.\n",
        "\n",
        "The formula:\n",
        "$$\n",
        "\\begin{bmatrix} v_1 \\\\ v_2 \\\\ v_3 \\end{bmatrix}\n",
        "\\times\n",
        "\\begin{bmatrix} w_1 \\\\ w_2 \\\\ w_3 \\end{bmatrix}\n",
        "= \n",
        "\\begin{bmatrix} \n",
        "  v_2 \\cdot w_3  - w_2 \\cdot v_3 \\\\\n",
        "  v_3 \\cdot w_1  - w_3 \\cdot v_1 \\\\\n",
        "  v_1 \\cdot w_2  - w_1 \\cdot v_2 \\\\\n",
        "\\end{bmatrix}\n",
        "$$\n",
        "\n",
        "OR\n",
        "\n",
        "$$\n",
        "\\begin{bmatrix} v_1 \\\\ v_2 \\\\ v_3 \\end{bmatrix}\n",
        "\\times\n",
        "\\begin{bmatrix} w_1 \\\\ w_2 \\\\ w_3 \\end{bmatrix}\n",
        "= \n",
        "\\det \\left(\\begin{bmatrix} \n",
        "  \\hat{i} & v_1 & w_1 \\\\ \n",
        "  \\hat{j} & v_2 & w_2 \\\\ \n",
        "  \\hat{k} & v_3 & w_3 \n",
        "\\end{bmatrix}\\right)\n",
        "\\\\ = \\\\\n",
        "\\hat{i}(v_2w_2-v_3w_3)+\\hat{j}(v_3w_1-v_1w_3)+\\hat{k}(v_1w_2-v_2w_1)\n",
        "$$"
      ],
      "metadata": {
        "id": "IF9SDHiyzqM6"
      }
    },
    {
      "cell_type": "markdown",
      "source": [
        "## Cramer's Rule\n",
        "\n",
        "$$\n",
        " \\begin{bmatrix} a & b \\\\ c & d \\end{bmatrix} \n",
        " \\begin{bmatrix} x \\\\ y \\end{bmatrix} = \\begin{bmatrix} m \\\\ n \\end{bmatrix} \\\\[1cm]\n",
        " x = \\frac{\\text{Area}} {\\det(A)} = \n",
        " \\frac{\\det\\left(\\begin{bmatrix} m & b \\\\ n & d \\end{bmatrix} \\right)} \n",
        " {\\det\\left(\\begin{bmatrix} a & b \\\\ c & d \\end{bmatrix} \\right)} \\\\[1.5cm]\n",
        "  y = \\frac{\\text{Area}} {\\det(A)} = \n",
        " \\frac{\\det\\left(\\begin{bmatrix} a & m \\\\ c & n  \\end{bmatrix} \\right)} \n",
        " {\\det\\left(\\begin{bmatrix} a & b \\\\ c & d \\end{bmatrix} \\right)} \\\\[1cm]\n",
        "$$"
      ],
      "metadata": {
        "id": "Hpujf5wwYyR4"
      }
    },
    {
      "cell_type": "markdown",
      "source": [
        "## Eigenvectors and Eigenvalues\n",
        "During a tranformation, the vetors (lines) that remain on the same span (only expand or squish) are called **Eigenvectors**, and their scale is called **Eigenvalues**.\n",
        "$$\n",
        "A\\vec{v} = \\lambda \\vec{v}\n",
        "$$\n",
        "* $A$ Transformation matrix\n",
        "* $\\vec{v}$ Eigenvector\n",
        "* $\\lambda$ a number, Eigenvalue\n",
        "\n",
        "The matrix-vector product, $A\\vec{v}$, gives the samE result as just scaling the eigenvector, $\\vec{v}$, by some value, $\\lambda$.\n",
        "\n",
        "Rewritting the vector-scaler multiplication as a matrix multiplication:\n",
        "$$\n",
        "\\lambda \\vec{v}\n",
        "=\n",
        "\\begin{bmatrix}\n",
        "\\lambda & 0 & 0 \\\\\n",
        "0 & \\lambda & 0 \\\\\n",
        "0 & 0 & \\lambda \n",
        "\\end{bmatrix}\n",
        "\\vec{v}\n",
        "=\n",
        "\\left(\n",
        "\\lambda \n",
        "\\begin{bmatrix}\n",
        "1 & 0 & 0 \\\\\n",
        "0 & 1 & 0 \\\\\n",
        "0 & 0 & 1 \n",
        "\\end{bmatrix}\n",
        "\\right)\n",
        "\\vec{v}\n",
        "=\n",
        "(\\lambda I)\n",
        "\\vec{v}\n",
        "$$\n",
        "\n",
        "Factoring the $\\vec{v}$:\n",
        "$$\n",
        "(A - \\lambda I) \\vec{v} =\\vec{0}\n",
        "$$\n",
        "Assuming $\\vec{v} \\neq 0$, It will only be zero if the span is reduced, ie the determinant is zero.\n",
        "$$\n",
        "\\det(A - \\lambda I) = 0\n",
        "$$\n",
        "If there is $\\det(A - \\lambda I) = 0$, we can read off as saying the $\\vec{v}$ is an eigenvector of $A$, staying on its own span during the tranformation A.\n",
        "\n",
        "\n"
      ],
      "metadata": {
        "id": "MiJFEx1DmdJY"
      }
    },
    {
      "cell_type": "markdown",
      "source": [
        "Example:\n",
        "Given the matrix tranformation of $\n",
        "\\begin{bmatrix}\n",
        "3 & 1 \\\\\n",
        "0 & 2\n",
        "\\end{bmatrix}\n",
        "$, find if a value $\\lambda$ is an eigenvalue.\n",
        "\n",
        "$$\n",
        "\\det \\left ( \n",
        "\\begin{bmatrix}\n",
        "3 - \\lambda & 1 \\\\\n",
        "0 & 2 - \\lambda\n",
        "\\end{bmatrix}\n",
        "\\right ) = 0 \\\\[0.5cm]\n",
        "(3-\\lambda)(2-\\lambda) - (1)(0) = 0 \\\\[0.5cm]\n",
        "(3-\\lambda)(2-\\lambda) = 0 \\\\[1cm]\n",
        "\\lambda=2 \\text{  or  } \\lambda=3\n",
        "$$"
      ],
      "metadata": {
        "id": "aWD_b90XsHCc"
      }
    },
    {
      "cell_type": "markdown",
      "source": [
        "### **Eigenbasis**\n",
        "> During a matrix tranformation, if both basis vectors are eigenvectors, they're called **Eigenbasis**\n",
        "\n",
        "If the basis vectors are not eigenvectors in a tranformation, but there are at least 2 eigenvectors in the transformation, we can create a new grid system with the eigenvectors as the basis vectors.\n",
        "\n",
        "For the above example, that would be: $\\hat{i}=\\begin{bmatrix}3 \\\\ 0\\end{bmatrix}$, and $\\hat{j}=\\begin{bmatrix}1 \\\\ 2\\end{bmatrix}$ resulting the a tranformation of $\\begin{bmatrix}3 & 1 \\\\ 0 & 2\\end{bmatrix}$\n",
        "\n",
        "To convert to and from our new grid system, we can wrap the tranforamtion in the change of basis matrix and inverse of change of basis vector:\n",
        "$$\n",
        "A^{-1}MA\n",
        "$$\n",
        "For above example:\n",
        "$$\n",
        "\\begin{bmatrix}1 & -1 \\\\ 0 & 1\\end{bmatrix}^{-1}\n",
        "\\begin{bmatrix}3 & 1 \\\\ 0 & 2\\end{bmatrix}\n",
        "\\begin{bmatrix}1 & -1 \\\\ 0 & 1\\end{bmatrix} = \n",
        "\\begin{bmatrix}3 & 0 \\\\ 0 & 2\\end{bmatrix}\n",
        "$$\n",
        "\n",
        "The resulting matrix is guaranteed to be diagonal with its corresponding eigenvalues down that diagonal"
      ],
      "metadata": {
        "id": "GSjkAC7GuLMz"
      }
    },
    {
      "cell_type": "markdown",
      "source": [
        "**Calculating Eigenvalues Formula**\n",
        "\n",
        "Facts:\n",
        "\n",
        "1) $\\frac{1}{2}\\text{tr}\\left( \\begin{bmatrix}a & b \\\\ c & d \\end{bmatrix} \\right) = \\frac{a+d}{2} = \\frac{\\lambda_1 + \\lambda_2}{2} = m \\text{ (mean)}$\n",
        "\n",
        "2) $\\det\\left( \\begin{bmatrix}a & b \\\\ c & d \\end{bmatrix} \\right) = ad-bc = \\lambda_1 \\lambda_2 = p \\text{ (product)}$\n",
        "\n",
        "From 1 and 2:\n",
        "$$\n",
        "\\begin{align}\n",
        "p = m^2 - d^2 &= (m+d)(m-d) \\\\\n",
        "d^2 &= m^2 - p \\\\\n",
        "\\lambda_1, \\lambda_2 &= m \\pm \\sqrt{m^2 -p }\n",
        "\\end{align}\n",
        "$$\n"
      ],
      "metadata": {
        "id": "cXoonmqfhdKZ"
      }
    },
    {
      "cell_type": "markdown",
      "source": [
        "----\n",
        "\n",
        "# Resouces\n",
        "* [3Blue1Brown: Essence of linear algebra](https://youtube.com/playlist?list=PLZHQObOWTQDPD3MizzM2xVFitgF8hE_ab)\n",
        "* [Math is fun](https://www.mathsisfun.com)\n",
        "* [LaTex Generator](https://latex.codecogs.com/eqneditor/editor.php)"
      ],
      "metadata": {
        "id": "hO6aVIMt58u7"
      }
    }
  ]
}