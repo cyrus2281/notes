{
  "nbformat": 4,
  "nbformat_minor": 0,
  "metadata": {
    "colab": {
      "provenance": [],
      "toc_visible": true,
      "authorship_tag": "ABX9TyOd06KN2WfDNx7BOD1Y97Uh",
      "include_colab_link": true
    },
    "kernelspec": {
      "name": "python3",
      "display_name": "Python 3"
    },
    "language_info": {
      "name": "python"
    }
  },
  "cells": [
    {
      "cell_type": "markdown",
      "metadata": {
        "id": "view-in-github",
        "colab_type": "text"
      },
      "source": [
        "<a href=\"https://colab.research.google.com/github/cyrus2281/notes/blob/main/Math/Math.ipynb\" target=\"_parent\"><img src=\"https://colab.research.google.com/assets/colab-badge.svg\" alt=\"Open In Colab\"/></a>"
      ]
    },
    {
      "cell_type": "markdown",
      "source": [
        "# Math"
      ],
      "metadata": {
        "id": "mQs-H99K5PXF"
      }
    },
    {
      "cell_type": "markdown",
      "source": [
        "## Quadratic Formula\n",
        "\n",
        "For the formula $ax^2+bx+c=0$, these 3 key facts exists:\n",
        "\n",
        "If we factor the formula by $a$ ie $x^2+b'x+c'$. ($r$ and $s$ are the roots, $m$ is the median between them, $b'$ and $c'$ are the factored co-effiecients)\n",
        "\n",
        "$\n",
        "\\displaystyle{\n",
        "ax^2+bx+c=0 \\quad /a \\\\\n",
        "x^2+b'x+c \\\\\n",
        "\\\\\n",
        "(x-r)(x-s) \\rightarrow x^2 - (r+s)x +rs \\\\\n",
        "}\n",
        "$\n",
        "\n",
        "1. $b' = -(r+s)$\n",
        "2. $c' = rs$\n",
        "3. $c' = (m-d)(m+d) = m^2-d^2$\n"
      ],
      "metadata": {
        "id": "lohadBZw5REE"
      }
    },
    {
      "cell_type": "markdown",
      "source": [
        "### Simplified Quadratic Formula\n",
        "\n",
        "$\n",
        "m = \\frac{r+s}{2} = \\frac{-b'}{2} \\\\\n",
        "d^2 = m^2-c' \\\\\n",
        "d = \\sqrt{m^2-p} \\quad (p=c')\\\\\n",
        "r,s = m \\pm d\n",
        "$\n",
        "\n",
        "\n",
        "\n"
      ],
      "metadata": {
        "id": "XnF7matT5JVq"
      }
    },
    {
      "cell_type": "markdown",
      "source": [
        "### Traditional Quadratic Formula\n",
        "\n",
        "$$\n",
        "m = \\frac{-b}{2a} \\\\\n",
        "d^2 = \\sqrt{m^2-p}  = (\\frac{-b}{2})^2 - (\\frac{a}{c}) \\\\\n",
        "s,r = m \\pm d = -\\frac{b}{2a} \\pm \\sqrt{(\\frac{-b}{2a})^2 - \\frac{a}{c}} \\\\\n",
        "= -\\frac{b}{2a} \\pm \\sqrt{\\frac{1}{4a^2}(-b)^2 - \\frac{1}{4a^2} 4ac} \\\\\n",
        "= -\\frac{b}{2a} \\pm \\frac{1}{2a} \\sqrt{(-b)^2 - 4ac} \\\\[1cm]\n",
        "\\frac{-b \\pm \\sqrt{b^2 - 4ac}}{2a}\n",
        "$$"
      ],
      "metadata": {
        "id": "mwYyU9RK5NxL"
      }
    },
    {
      "cell_type": "markdown",
      "source": [
        "## Trigonometry\n",
        "\n",
        "> You'd think it's about triangles, but reall it's about circles.\n"
      ],
      "metadata": {
        "id": "Xh5rQjHg9-2r"
      }
    },
    {
      "cell_type": "markdown",
      "source": [
        "\n",
        "$$\n",
        "\\begin{align}\n",
        "\\sin(\\pi) &= 0 \\\\\n",
        "\\cos(\\pi) &= -1 \\\\\n",
        "\\tan(\\pi) &= 0 \\\\\n",
        "\\cot(\\pi) &= \\text{undefined} \\\\\n",
        "\\\\\n",
        "\\sin\\left(\\frac{\\pi}{2}\\right) &= 1 \\\\\n",
        "\\cos\\left(\\frac{\\pi}{2}\\right) &= 0 \\\\\n",
        "\\tan\\left(\\frac{\\pi}{2}\\right) &= \\text{undefined} \\\\\n",
        "\\cot\\left(\\frac{\\pi}{2}\\right) &= 0 \\\\\n",
        "\\\\\n",
        "\\sin\\left(\\frac{\\pi}{3}\\right) &= \\frac{\\sqrt{3}}{2} \\\\\n",
        "\\cos\\left(\\frac{\\pi}{3}\\right) &= \\frac{1}{2} \\\\\n",
        "\\tan\\left(\\frac{\\pi}{3}\\right) &= \\sqrt{3} \\\\\n",
        "\\cot\\left(\\frac{\\pi}{3}\\right) &= \\frac{1}{\\sqrt{3}} \\\\\n",
        "\\\\\n",
        "\\sin\\left(\\frac{\\pi}{4}\\right) &= \\frac{1}{\\sqrt{2}} \\\\\n",
        "\\cos\\left(\\frac{\\pi}{4}\\right) &= \\frac{1}{\\sqrt{2}} \\\\\n",
        "\\tan\\left(\\frac{\\pi}{4}\\right) &= 1 \\\\\n",
        "\\cot\\left(\\frac{\\pi}{4}\\right) &= 1 \\\\\n",
        "\\\\\n",
        "\\sin\\left(\\frac{\\pi}{6}\\right) &= \\frac{1}{2} \\\\\n",
        "\\cos\\left(\\frac{\\pi}{6}\\right) &= \\frac{\\sqrt{3}}{2} \\\\\n",
        "\\tan\\left(\\frac{\\pi}{6}\\right) &= \\frac{1}{\\sqrt{3}} \\\\\n",
        "\\cot\\left(\\frac{\\pi}{6}\\right) &= \\sqrt{3} \\\\\n",
        "\\end{align}\n",
        "$$"
      ],
      "metadata": {
        "id": "HmZ22X6mI3m4"
      }
    },
    {
      "cell_type": "markdown",
      "source": [
        "\n",
        "![unit circle](https://kids.kiddle.co/images/9/9d/Circle-trig6.svg)"
      ],
      "metadata": {
        "id": "L5RKIoGXDE5L"
      }
    },
    {
      "cell_type": "markdown",
      "source": [
        "### Sine\n",
        "\n",
        "The y-axis on a unit circle.\n",
        "\n",
        "the sine of an angle is the ratio of the oposite side to the hypotenuse."
      ],
      "metadata": {
        "id": "FKJ2wSOLEGyC"
      }
    },
    {
      "cell_type": "markdown",
      "source": [
        "![sine graph](https://upload.wikimedia.org/wikipedia/commons/d/d2/Sine_one_period.svg)"
      ],
      "metadata": {
        "id": "9PqZBtxmEn_h"
      }
    },
    {
      "cell_type": "markdown",
      "source": [
        "### Cosine\n",
        "\n",
        "The x-axis on a unit circle.\n",
        "\n",
        "the cosine of an angle is the ratio of the adjacent side to the hypotenuse.\n",
        "\n",
        "$\\displaystyle{\n",
        "\\cos^2(x) = \\frac{1 + \\cos(2x)}{2}\n",
        "}$"
      ],
      "metadata": {
        "id": "zWyHXNuVAz_e"
      }
    },
    {
      "cell_type": "markdown",
      "source": [
        "![cosine graph](https://upload.wikimedia.org/wikipedia/commons/0/0a/Cosine_one_period.svg)"
      ],
      "metadata": {
        "id": "DUlJprXQE15k"
      }
    },
    {
      "cell_type": "markdown",
      "source": [
        "### Tangent\n",
        "\n",
        "the tangent of an angle is the ratio of the oposite side to the adjacent.\n"
      ],
      "metadata": {
        "id": "2q1J-hSv75RW"
      }
    },
    {
      "cell_type": "markdown",
      "source": [
        "![tangent grap](https://upload.wikimedia.org/wikipedia/commons/7/74/Tangent-plot.svg)"
      ],
      "metadata": {
        "id": "3VYglN5GE_ey"
      }
    },
    {
      "cell_type": "markdown",
      "source": [
        "### Cotangent\n",
        "\n",
        "the cotangent of an angle is the ratio of the adjacent side to the oposite.\n"
      ],
      "metadata": {
        "id": "QyVLGyULFEfi"
      }
    },
    {
      "cell_type": "markdown",
      "source": [
        "![cotangent grap](https://upload.wikimedia.org/wikipedia/commons/b/bf/Cotangent.svg)"
      ],
      "metadata": {
        "id": "eWzgOhe7FEfj"
      }
    }
  ]
}