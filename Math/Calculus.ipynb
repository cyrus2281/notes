{
  "nbformat": 4,
  "nbformat_minor": 0,
  "metadata": {
    "colab": {
      "provenance": [],
      "toc_visible": true,
      "authorship_tag": "ABX9TyNzNwCUU48Til6tq2jatFNT",
      "include_colab_link": true
    },
    "kernelspec": {
      "name": "python3",
      "display_name": "Python 3"
    },
    "language_info": {
      "name": "python"
    }
  },
  "cells": [
    {
      "cell_type": "markdown",
      "metadata": {
        "id": "view-in-github",
        "colab_type": "text"
      },
      "source": [
        "<a href=\"https://colab.research.google.com/github/cyrus2281/notes/blob/main/Math/Calculus.ipynb\" target=\"_parent\"><img src=\"https://colab.research.google.com/assets/colab-badge.svg\" alt=\"Open In Colab\"/></a>"
      ]
    },
    {
      "cell_type": "markdown",
      "source": [
        "# Calculus"
      ],
      "metadata": {
        "id": "KRQ3hcmy-oVj"
      }
    },
    {
      "cell_type": "markdown",
      "source": [
        ">[Calculus](#scrollTo=KRQ3hcmy-oVj)\n",
        "\n",
        ">>[Limit](#scrollTo=HlWFEn3n_-rr)\n",
        "\n",
        ">>>[Limit of Discontinuity:](#scrollTo=LRWYBMgndQYQ)\n",
        "\n",
        ">>>>[Continuity](#scrollTo=q_QqTGNIy3kf)\n",
        "\n",
        ">>>[Precise Definition of Limit](#scrollTo=47-fRyI-eGwk)\n",
        "\n",
        ">>>[Limits of Combination](#scrollTo=GR6Yzv7ve-cy)\n",
        "\n",
        ">>>[Limits of Composites](#scrollTo=1OMs98Cbf3dM)\n",
        "\n",
        ">>>[Limits of infinity & Asympototes](#scrollTo=U5_PGBlNkhKP)\n",
        "\n",
        ">>>[The Intermediate Value Theorem (IVT):](#scrollTo=xrxTceYdigr-)\n",
        "\n",
        ">>>[Indeterminate Forms](#scrollTo=hpA8vEGtpYkh)\n",
        "\n",
        ">>>[Solving methods for limit](#scrollTo=syxvcyC2javj)\n",
        "\n",
        ">>>>[Substitution](#scrollTo=ve15TcgKjdZP)\n",
        "\n",
        ">>>>[Factoring](#scrollTo=wTqAHu9lkmnU)\n",
        "\n",
        ">>>>[Reciprocal Polynomials](#scrollTo=glZT68-RyICI)\n",
        "\n",
        ">>>>[Conjugate Method](#scrollTo=oObtBrzRlpAJ)\n",
        "\n",
        ">>>>[Trigonometric Approach](#scrollTo=-1tfC6_ZocaO)\n",
        "\n",
        ">>>>[Squeeze Theorem](#scrollTo=5AOb_zW-zJWg)\n",
        "\n",
        ">>>>[L'Hopital's Rule](#scrollTo=cJ2W2gesqsuV)\n",
        "\n",
        ">>>>[Common Rules](#scrollTo=-YO9DlZIKreL)\n",
        "\n",
        ">>[Derivative](#scrollTo=lry2dP4wCqFb)\n",
        "\n",
        ">>>[Rules:](#scrollTo=xuspJIbMXBtI)\n",
        "\n",
        ">>>>[Power Rule](#scrollTo=KQsoYnUI5-9u)\n",
        "\n",
        ">>>>[Sum Difference Rule](#scrollTo=vkTXORp6SKWy)\n",
        "\n",
        ">>>>[Product Rule](#scrollTo=2hrFvKfSTurS)\n",
        "\n",
        ">>>>[Quotient Rule](#scrollTo=OpPGfEM4RE21)\n",
        "\n",
        ">>>>[Chain Rule](#scrollTo=8VMPHikYVMBg)\n",
        "\n",
        ">>>>[Exponential Rule](#scrollTo=ZuMSrH47qo_M)\n",
        "\n",
        ">>>>>[Euler Exponential Rule](#scrollTo=fwZaRC69uvEC)\n",
        "\n",
        ">>>>[Logarithm Rule](#scrollTo=Ol-H88vrdHsp)\n",
        "\n",
        ">>>>>[Natural Logarithm Rule](#scrollTo=sICwlRO4fC-y)\n",
        "\n",
        ">>>>[Vector Rule](#scrollTo=nDk7g1DJOuaP)\n",
        "\n",
        ">>>[Implicit Differentiation](#scrollTo=EZXYWaiC6n9g)\n",
        "\n",
        ">>>>[Logarithmic Differentiation](#scrollTo=rEX7y9bvjUwN)\n",
        "\n",
        ">>>[Higher Order Derivatives](#scrollTo=G71pNNJw3XIQ)\n",
        "\n",
        ">>[Integrals](#scrollTo=jP_me6GmsQKX)\n",
        "\n",
        ">>>[Average of a graph](#scrollTo=FrPHbwcSA1wC)\n",
        "\n",
        ">>[Fundamental Theorem of Calculus](#scrollTo=bavIZmyssYXn)\n",
        "\n",
        ">>[Taylor Series](#scrollTo=jj-fW1xh8CLz)\n",
        "\n",
        ">>[Differential Equation](#scrollTo=DFTgIiQ6dt6a)\n",
        "\n",
        ">>>[Ordinary Differential Equations](#scrollTo=KcdE5OstnjH5)\n",
        "\n",
        ">>>[Partial Differentail Equations](#scrollTo=5V5nwUupnovv)\n",
        "\n",
        ">>>>[Solving a PDE](#scrollTo=gEsnIXTMzShu)\n",
        "\n",
        ">>[Fourier series](#scrollTo=bsZIK6WIAtDu)\n",
        "\n",
        ">>[Resources](#scrollTo=jo-tCekvBvGS)\n",
        "\n"
      ],
      "metadata": {
        "colab_type": "toc",
        "id": "S1F37jpCX3sz"
      }
    },
    {
      "cell_type": "markdown",
      "source": [
        "## Limit"
      ],
      "metadata": {
        "id": "HlWFEn3n_-rr"
      }
    },
    {
      "cell_type": "markdown",
      "source": [
        "**Real Analysis**\n",
        "\n",
        "* $\\epsilon$: (Epsilon) distance, as small as you want\n",
        "* $\\delta$: (Delta) difference around a point\n",
        "\n",
        "When a limit exits:\n",
        "\n",
        "You can always find a range of inputs around the limiting input, some distance $\\delta$ away from 0, so that any input within a distance $\\delta$ of 0 corresponds to an output with a distance $\\epsilon$ of $x$. The key point is that this is true for any $\\epsilon$, no mater how small.\n",
        "\n",
        "When a limit doesn't exist:\n",
        "\n",
        "you can find a sufficiently small $\\epsilon$, so that no matter how small you make your range around 0, no matter how tiny $\\delta$ is, the corresponding range of outputs is just always too bi. There is no limiting ouput value that they get arbitarily close to."
      ],
      "metadata": {
        "id": "Oe5Wzst5ltAd"
      }
    },
    {
      "cell_type": "markdown",
      "source": [
        "$\\lim\\limits_{x \\rightarrow a} f(x) = L$ Limit of $f(x)$ as $x$ goes to $a$ is $L$\n"
      ],
      "metadata": {
        "id": "nUDJHJPlbC8G"
      }
    },
    {
      "cell_type": "markdown",
      "source": [
        "Degree of numerator:dominator in infinite limit:\n",
        "\n",
        "$\n",
        "\\left \\{\n",
        "\\begin{matrix}\n",
        "N=D & N<D & N>D \\\\\n",
        "\\frac{2x^3+3x^2}{7x^3+1} & \\frac{5x^2}{7x^3+1} & \\frac{5x^2}{7x^3+1} \\\\\n",
        "\\frac{2}{7} & 0 & \\pm \\infty\n",
        "\\end{matrix}\n",
        "\\right .\n",
        "$"
      ],
      "metadata": {
        "id": "mDxCHECybmmk"
      }
    },
    {
      "cell_type": "markdown",
      "source": [
        "### Limit of Discontinuity:\n",
        "* Point: Point discontinuity\n",
        "* Jump: No general limit\n",
        "* Infinite: infinte discontinuity"
      ],
      "metadata": {
        "id": "LRWYBMgndQYQ"
      }
    },
    {
      "cell_type": "markdown",
      "source": [
        "![image.png](data:image/png;base64,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)"
      ],
      "metadata": {
        "id": "Eyw3SgsndqKB"
      }
    },
    {
      "cell_type": "markdown",
      "source": [
        "#### Continuity"
      ],
      "metadata": {
        "id": "q_QqTGNIy3kf"
      }
    },
    {
      "cell_type": "markdown",
      "source": [
        "**Continuity of a function** = Domain of the function.\n",
        "\n",
        "**Removable discontinuity:** a discontinuity that can be removed by factoring & simplifying the equation"
      ],
      "metadata": {
        "id": "ivb3X81IhV4n"
      }
    },
    {
      "cell_type": "markdown",
      "source": [
        "**Proof of continuity**\n",
        "\n",
        "To make a function continous at a point, plugging the domain difference sovle the equation, and prove by showing the equavalncy with limit\n",
        "\n",
        "$$\n",
        "f(x) = \\left\\{\\begin{matrix}\n",
        "c^2-x^2 & x < 0 \\\\\n",
        "2(x-c)^2 & x \\ge 0\n",
        "\\end{matrix}\\right.\n",
        "\\Rightarrow\n",
        "\\left\\{\\begin{matrix}\n",
        "c^2-(0)^2 \\\\\n",
        "2((0)-c)^2\n",
        "\\end{matrix}\\right.\n",
        "\\Rightarrow\n",
        "\\left\\{\\begin{matrix}\n",
        "c^2 \\\\\n",
        "2c^2\n",
        "\\end{matrix}\\right.\n",
        "\\Rightarrow c^2 = 2c^2\n",
        "\\Rightarrow c^2 = 0\n",
        "\\Rightarrow c = 0\n",
        "\\\\[5mm] \\therefore\n",
        "f(x) = \\left\\{\\begin{matrix}\n",
        "0^2-x^2 & x < 0  \\\\  \n",
        "2(x-0)^2 & x \\ge 0\n",
        "\\end{matrix}\\right.\n",
        "\\Rightarrow\n",
        "\\begin{matrix}\n",
        "\\lim\\limits_{x \\rightarrow 0^-} -x^2 = 0 \\\\\n",
        "\\lim\\limits_{x \\rightarrow 0^+} 2x^2 = 0\n",
        "\\end{matrix}\n",
        "\\therefore \\text{proved it's continuous}\n",
        "$$\n",
        "\n",
        "\n",
        "\n",
        "A point is continuous if it has a derivative at that point"
      ],
      "metadata": {
        "id": "RC718FTNygSB"
      }
    },
    {
      "cell_type": "markdown",
      "source": [
        "### Precise Definition of Limit\n",
        "1. The limit on the right-hand should exist\n",
        "2. The limit on the left-hand should exist\n",
        "3. The limit on the left and right hand should be equal.\n",
        "\n",
        "Precise definition of limit:\n",
        "$\\lim\\limits_{x \\rightarrow a} f(x) = L$ for $\\epsilon >0$ there is some number of $\\delta>0$.\n",
        "\n",
        "$|f(x)-L| > \\epsilon$ whenever $0 < |x-a| < \\delta$\n"
      ],
      "metadata": {
        "id": "47-fRyI-eGwk"
      }
    },
    {
      "cell_type": "markdown",
      "source": [
        "### Limits of Combination\n",
        "\n",
        "$$\n",
        "\\begin{align}\n",
        "\\lim\\limits_{x \\rightarrow a} \\left[f(x)+g(x)\\right] &= \\lim\\limits_{x \\rightarrow a} f(x) + \\lim\\limits_{x \\rightarrow a} g(x) \\\\[3mm]\n",
        "\\lim\\limits_{x \\rightarrow a} \\left[c \\cdot f(x)\\right] &= c \\cdot \\lim\\limits_{x \\rightarrow a} f(x) \\\\[3mm]\n",
        "\\lim\\limits_{x \\rightarrow a} \\left[f(x) \\cdot g(x)\\right] &= \\lim\\limits_{x \\rightarrow a} f(x) \\cdot \\lim\\limits_{x \\rightarrow a} g(x) \\\\[3mm]\n",
        "\\lim\\limits_{x \\rightarrow a} \\left[\\frac{f(x)}{g(x)}\\right] &= \\frac{\\lim\\limits_{x \\rightarrow a} f(x)}{ \\lim\\limits_{x \\rightarrow a} g(x)}\n",
        "\\quad \\text{if } \\lim\\limits_{x \\rightarrow a} g(x) \\ne 0 \\\\[3mm]\n",
        "\\lim\\limits_{x \\rightarrow a} \\left[f(x)\\right]^n &= \\left[ \\lim\\limits_{x \\rightarrow a} f(x)\\right]^n \\\\[3mm]\n",
        "\\lim\\limits_{x \\rightarrow a} \\sqrt[n]{f(x)} &= \\sqrt[n]{ \\lim\\limits_{x \\rightarrow a} f(x)} \\\\[3mm]\n",
        "\\end{align}\n",
        "$$"
      ],
      "metadata": {
        "id": "GR6Yzv7ve-cy"
      }
    },
    {
      "cell_type": "markdown",
      "source": [
        "### Limits of Composites\n",
        "\n",
        "Several funcitons inside each other.\n",
        "$$\n",
        "\\lim\\limits_{x \\rightarrow a} [f(g(x))] =\n",
        "\\lim\\limits_{x \\rightarrow a} f \\circ g =\n",
        "f (\\lim\\limits_{x \\rightarrow a} g(x))\n",
        "$$\n",
        "Only if $f(x)$ is continues at $\\lim\\limits_{x \\rightarrow a} g(x)$\n",
        "\n"
      ],
      "metadata": {
        "id": "1OMs98Cbf3dM"
      }
    },
    {
      "cell_type": "markdown",
      "source": [
        "### Limits of infinity & Asympototes\n",
        "\n",
        "Examples:\n",
        "\n",
        "$\n",
        "\\lim\\limits_{x \\rightarrow \\infty} \\frac{1}{x} = 0 \\\\\n",
        "\\lim\\limits_{x \\rightarrow \\infty} x^2 = \\infty \\\\\n",
        "\\lim\\limits_{x \\rightarrow \\infty} \\sin x = \\text{DNE} \\\\\n",
        "\\lim\\limits_{x \\rightarrow 0^+} \\ln x = -\\infty \\\\\n",
        "\\lim\\limits_{x \\rightarrow -\\infty} e^x = 0 \\\\\n",
        "$"
      ],
      "metadata": {
        "id": "U5_PGBlNkhKP"
      }
    },
    {
      "cell_type": "markdown",
      "source": [
        "### The Intermediate Value Theorem (IVT):\n",
        "\n",
        "> The Intermediate Value Theorem (IVT) states that a function $y=f(x)$ is continues on a closed interval $[a,b]$ and takes on every value between $f(a)$ and $f(b)$. In other words, if $y_0$ is between $f(a)$ and $f(b)$, then $y_0=f(c)$ for some $c$ in $[a,b]$."
      ],
      "metadata": {
        "id": "xrxTceYdigr-"
      }
    },
    {
      "cell_type": "markdown",
      "source": [
        "### Indeterminate Forms\n",
        "\n",
        "> If a limit doesn't evaluate to a number. ie $\\frac{\\infty}{\\infty}, \\frac{0}{0}, 0\\cdot \\infty, \\infty - \\infty, 0^0, \\infty^0, 1^\\infty$\n",
        "\n",
        "$\n",
        "\\lim\\limits_{x \\rightarrow 0} \\frac{5 - \\sqrt{x^2+25}}{x^2} = \\frac{5-5}{0} = \\frac{0}{0} \\\\\n",
        "\\lim\\limits_{x \\rightarrow 0} \\frac{\\ln x}{x} = \\frac{\\infty}{\\infty} \\\\\n",
        "$"
      ],
      "metadata": {
        "id": "hpA8vEGtpYkh"
      }
    },
    {
      "cell_type": "markdown",
      "source": [
        "### Solving methods for limit"
      ],
      "metadata": {
        "id": "syxvcyC2javj"
      }
    },
    {
      "cell_type": "markdown",
      "source": [
        "#### Substitution\n",
        "\n",
        "Plugging the value in the function.\n",
        "\n",
        "Example:\n",
        "\n",
        "$\n",
        "\\begin{align}\n",
        "\\lim\\limits_{x \\rightarrow 3} x^3-4x^2+2x + 5 &= 3^3-4(3)^2+2(3) +5  \\\\\n",
        "&= 27-36+6+5 \\\\\n",
        "&=2  \\\\\n",
        "\\end{align}\n",
        "$"
      ],
      "metadata": {
        "id": "ve15TcgKjdZP"
      }
    },
    {
      "cell_type": "markdown",
      "source": [
        "#### Factoring\n",
        "Factoring out the part that is causing $\\frac{0}{0}$.\n",
        "\n",
        "Example:\n",
        "\n",
        "$\n",
        "\\begin{align}\n",
        "\\lim\\limits_{x \\rightarrow 2} \\frac{x^2-5x+b}{x^2-4}  &=  \\lim\\limits_{x \\rightarrow 2} \\frac{(x-3)(x-2)}{(x+2)(x-2)}  \\\\\n",
        "&= \\lim\\limits_{x \\rightarrow 2} \\frac{x-3}{x+2}  \\\\\n",
        "&=  \\frac{2-3}{2+2} \\\\\n",
        "&= \\frac{-1}{4}\n",
        "\\end{align}\n",
        "$"
      ],
      "metadata": {
        "id": "wTqAHu9lkmnU"
      }
    },
    {
      "cell_type": "markdown",
      "source": [
        "#### Reciprocal Polynomials\n",
        "\n",
        "If the power of nominator is greater than the dominator for $x \\rightarrow \\infty$, the limit is $\\infty$.\n",
        "\n",
        "$\\displaystyle{\n",
        "\\lim \\limits_{x\\rightarrow \\infty} \\frac{2x^4+5x+3}{3x^2+7x-9} = \\frac{\\infty}{1} = \\infty\n",
        "}$\n",
        "\n",
        "If the power of nominator is equal to the dominator for $x \\rightarrow \\infty$, the limit is the ratio of x coeffients.\n",
        "\n",
        "$\\displaystyle{\n",
        "\\lim \\limits_{x\\rightarrow \\infty} \\frac{2x^2+5x+3}{3x^2+7x-9} = \\frac{2}{3}\n",
        "}$\n",
        "\n",
        "If the power of nominator is lower than the dominator for $x \\rightarrow \\infty$, the limit is zero.\n",
        "\n",
        "$\\displaystyle{\n",
        "\\lim \\limits_{x\\rightarrow \\infty} \\frac{2x^2+5x+3}{3x^4+7x-9} = \\frac{1}{\\infty} = 0\n",
        "}$"
      ],
      "metadata": {
        "id": "glZT68-RyICI"
      }
    },
    {
      "cell_type": "markdown",
      "source": [
        "#### Conjugate Method\n",
        "When there is no term that you can factor\n",
        "\n",
        "Example:\n",
        "\n",
        "$\n",
        "\\begin{align}\n",
        "\\lim\\limits_{x \\rightarrow 4} \\frac{x-4}{\\sqrt{x}-2}  &=  \n",
        "\\lim\\limits_{x \\rightarrow 4} \\frac{x-4}{\\sqrt{x}-2} \\cdot  \\frac{\\sqrt{x}+2}{\\sqrt{x}+2}  \\\\\n",
        "&= \\lim\\limits_{x \\rightarrow 4} \\frac{(x-4)(\\sqrt{x}+2)}{x-4}  \\\\\n",
        "&= \\lim\\limits_{x \\rightarrow 4} (\\sqrt{x}+2)  \\\\\n",
        "&= \\sqrt{4}+2 \\\\\n",
        "&= 4\n",
        "\\end{align}\n",
        "$"
      ],
      "metadata": {
        "id": "oObtBrzRlpAJ"
      }
    },
    {
      "cell_type": "markdown",
      "source": [
        "#### Trigonometric Approach\n",
        "For trigonometric limit always try to Make it into one of these forms.\n",
        "\n",
        "$\n",
        "\\left \\{\n",
        "\\begin{matrix}\n",
        "\\lim\\limits_{\\Theta \\rightarrow 0} \\frac{\\sin(\\Theta)}{\\Theta} = 1 \\\\[3mm]\n",
        "\\lim\\limits_{\\Theta \\rightarrow 0} \\cos(\\Theta) = 1 \\\\[3mm]\n",
        "\\lim\\limits_{\\Theta \\rightarrow 0} \\sin(\\Theta) = 0\n",
        "\\end{matrix}\n",
        "\\right . \\\\\n",
        "$"
      ],
      "metadata": {
        "id": "-1tfC6_ZocaO"
      }
    },
    {
      "cell_type": "markdown",
      "source": [
        "Example:\n",
        "\n",
        "$\n",
        "\\begin{align}\n",
        "\\lim\\limits_{\\Theta \\rightarrow 0} \\frac{\\Theta^2}{\\sin\\Theta}  \n",
        "&= \\lim\\limits_{\\Theta \\rightarrow 0} \\frac{\\Theta^2}{\\sin\\Theta} \\cdot \\frac{\\frac{1}{\\Theta}}{\\frac{1}{\\Theta}} \\\\[2mm]\n",
        "&= \\lim\\limits_{\\Theta \\rightarrow 0} \\frac{\\Theta}{\\frac{\\sin\\Theta}{\\Theta}} \\\\[2mm]\n",
        "&= \\frac{\\lim\\limits_{\\Theta \\rightarrow 0} \\Theta}{\\lim\\limits_{\\Theta \\rightarrow 0} \\frac{\\sin\\Theta}{\\Theta}} \\\\[2mm]\n",
        "&= \\frac{0}{1} \\\\[2mm]\n",
        "&= 0\n",
        "\\end{align}\n",
        "$\n",
        "\n",
        "$\n",
        "\\begin{align}\n",
        "\\lim\\limits_{x \\rightarrow 0} \\frac{1-\\cos x}{x}  \n",
        "&= \\lim\\limits_{x \\rightarrow 0} \\frac{1-\\cos x}{x} \\cdot \\frac{1+\\cos x}{1+\\cos x} \\\\[2mm]\n",
        "&= \\lim\\limits_{x \\rightarrow 0} \\frac{\\sin^2x}{x(1+\\cos x)} \\\\[2mm]\n",
        "&= \\lim\\limits_{x \\rightarrow 0} \\frac{\\sin x}{x} \\cdot \\lim\\limits_{x \\rightarrow 0} \\frac{\\sin x}{(1+\\cos x)} \\\\[2mm]\n",
        "&= 1 \\times \\frac{0}{1+1} \\\\[2mm]\n",
        "&= 0\n",
        "\\end{align}\n",
        "$"
      ],
      "metadata": {
        "id": "mmrIX5_7pOu_"
      }
    },
    {
      "cell_type": "markdown",
      "source": [
        "For infinte limit plugging the values close to $a$ fo find whether it is a positive, negative, or neither limit"
      ],
      "metadata": {
        "id": "qwtiNZnzoINR"
      }
    },
    {
      "cell_type": "markdown",
      "source": [
        "#### Squeeze Theorem\n",
        "Another way to find the limit of a function is to write the function between 2 enequalities. In other word, for the funtion $f(x)$, if we can write $f(a) \\le f(x) \\le f(b)$ and $\\lim f(a) = lim f(b) = L$ then $lim f(x) = L$\n",
        "\n",
        "Example:\n",
        "\n",
        "$$\n",
        "\\begin{align}\n",
        "\\lim\\limits_{x \\rightarrow 0} x^2 \\sin(\\frac{1}{x}) &\\Rightarrow -1 \\le \\sin x \\le 1 \\\\\n",
        "&\\Rightarrow \\frac{-1}{1} \\le \\sin \\frac{1}{x} \\le \\frac{1}{1} \\\\\n",
        "&\\left.\\begin{matrix}\n",
        "\\Rightarrow -x^2 \\le  x^2 \\sin \\frac{1}{x} \\le x^2 \\\\\n",
        "\\lim\\limits_{x \\rightarrow 0} -x^2 = 0 \\\\\n",
        "\\lim\\limits_{x \\rightarrow 0} x^2 = 0 \\\\\n",
        "\\end{matrix}\n",
        "\\right \\}\n",
        "\\Rightarrow \\lim\\limits_{x \\rightarrow 0} x^2 \\sin(\\frac{1}{x}) = 0\n",
        "\\end{align}\n",
        "$$"
      ],
      "metadata": {
        "id": "5AOb_zW-zJWg"
      }
    },
    {
      "cell_type": "markdown",
      "source": [
        "#### L'Hopital's Rule\n",
        "\n",
        "Using derivatives to solve a limit, when we have a $\\frac{0}{0}$ case.\n",
        "\n",
        "$$\n",
        "\\lim\\limits_{x \\rightarrow a} \\frac{f(x)}{g(x)} =\n",
        "\\lim\\limits_{x \\rightarrow a} \\frac{ \\frac{df}{dx} (a)}{\\frac{dg}{dx} (a)}\n",
        "$$\n",
        "\n",
        "Example:\n",
        "\n",
        "$$\n",
        "\\begin{align}\n",
        "\\lim\\limits_{x \\rightarrow 0} (\\frac{\\sin(x)}{x})\n",
        "&= \\lim\\limits_{x \\rightarrow 0} \\frac{\\cos(x)}{1} \\\\\n",
        "&= \\frac{\\cos(0)}{1} \\\\\n",
        "&= 1\n",
        "\\end{align}\n",
        "$$"
      ],
      "metadata": {
        "id": "cJ2W2gesqsuV"
      }
    },
    {
      "cell_type": "markdown",
      "source": [
        "#### Common Rules\n",
        "\n",
        "$$\n",
        "\\lim\\limits_{x \\rightarrow \\infty} (1+\\frac{1}{x})^x = e \\\\[3mm]\n",
        "\\lim\\limits_{x \\rightarrow 0} (1+x)^{\\frac{1}{x}} = e \\\\[3mm]\n",
        "\\lim\\limits_{x \\rightarrow 0} \\frac{e^x-1}{x} = 1 \\\\[3mm]\n",
        "\\lim\\limits_{\\Theta \\rightarrow \\infty} \\frac{\\sin(\\Theta)}{\\Theta} = 0 \\\\[3mm]\n",
        "\\lim\\limits_{\\Theta \\rightarrow 0} \\frac{\\cos(\\Theta)-1}{\\Theta} = 0 \\\\[3mm]\n",
        "$$"
      ],
      "metadata": {
        "id": "-YO9DlZIKreL"
      }
    },
    {
      "cell_type": "markdown",
      "source": [
        "## Derivative\n",
        "\n",
        "> Instantaneous rate of change. Amount of displacement $A$ over the amount of displacement $t$, where $f(t)=A$. which is $\\displaystyle{\\frac{dA}{dt}}$ where $dt \\rightarrow 0$\n",
        "\n",
        "True definition in math:\n",
        "> The slope of the line tangent to the graph. Derivative\n",
        " models the slope of a function at any particular point, or in other words, the best constant **approximation** around a point."
      ],
      "metadata": {
        "id": "lry2dP4wCqFb"
      }
    },
    {
      "cell_type": "markdown",
      "source": [
        "Derivative of a function can be calculated using one of the 2 limit functions\n",
        "\n",
        "$$\n",
        "\\left\\{\\begin{align}\n",
        "f'(a) &= \\lim\\limits_{x \\rightarrow a} \\frac{f(x)-f(a)}{x-a}  &\\text{ : Definition of derivatives (Slope of tangent)} \\\\[3mm]\n",
        "f'(x) &= \\lim\\limits_{h \\rightarrow 0} \\frac{f(x+h)-f(x)}{h}  &\\text{ : Definition of quotient (Slope of tangent)}\n",
        "\\end{align}\\right.\n",
        "$$\n",
        "\n",
        "For a better approximation of the derivative, we can use the double side limitas it has an error of $h^2$ comparing to the single sided which has an error of $h$.\n",
        "$$\n",
        "f'(x) = \\lim\\limits_{h \\rightarrow 0} \\frac{f(x+h)-f(x-h)}{2h}\n",
        "$$"
      ],
      "metadata": {
        "id": "2aWTm41FVski"
      }
    },
    {
      "cell_type": "markdown",
      "source": [
        "Methods of notation of derivatives.\n",
        "$$\n",
        "\\begin{matrix}\n",
        "\\text{Derivative} & \\text{Second Derivative} \\\\\n",
        "\\frac{d}{dx}f(x) & \\frac{d^2}{dx^2} f(x) \\\\\n",
        "f'(x) & f''(x) \\\\\n",
        "\\dot{f}(x) & \\ddot{f}(x) \\\\\n",
        "\\frac{\\partial}{\\partial x}f(x) & \\frac{\\partial^2}{\\partial x^2} f(x) \\\\\n",
        "\\end{matrix}\n",
        "$$"
      ],
      "metadata": {
        "id": "3IulTNRMoszE"
      }
    },
    {
      "cell_type": "markdown",
      "source": [
        "**Secant Line:**\n",
        "> **Secant** is a line that intersects a curve at a minimum of two distinct points. the slope of secant is calculated with\n",
        "$m = \\frac{\\Delta y}{\\Delta x} = \\frac{f(x_2)-f(x_1)}{x_2-x_1}$"
      ],
      "metadata": {
        "id": "j3inqK2lYzAS"
      }
    },
    {
      "cell_type": "markdown",
      "source": [
        "### Rules:"
      ],
      "metadata": {
        "id": "xuspJIbMXBtI"
      }
    },
    {
      "cell_type": "markdown",
      "source": [
        "#### Power Rule\n",
        "\n",
        "$$\n",
        "\\frac{d}{dx}(ax^n)=anx^{x-1}\n",
        "$$\n"
      ],
      "metadata": {
        "id": "KQsoYnUI5-9u"
      }
    },
    {
      "cell_type": "markdown",
      "source": [
        "Proof:\n",
        "\n",
        "$$\n",
        "f(x)=x^n \\\\\n",
        "\\begin{align}\n",
        "\\underbrace{(x+dx)^n}_{\\text{Nudged output}} &=\n",
        "\\overbrace{(x+dx)(x+dx)(x+dx)\\cdots(x+dx)}^{n \\text{ times}} \\\\\n",
        "&= x^n +\n",
        "\\underset{\\overbrace{\n",
        "+ \\space dx \\cdot x \\cdot x \\cdots x \\\\\n",
        "+ \\space x \\cdot dx \\cdot x \\cdots x \\\\\n",
        "+ \\space x \\cdot x \\cdot dx \\cdots x \\\\\n",
        "\\space \\vdots \\\\\n",
        "+ \\space x \\cdot x \\cdot x \\cdots dx \\\\\n",
        "}}{nx^{n-1}dx}\n",
        "+ (\\text{Multiple of }dx^2)\n",
        "\\end{align}\n",
        "$$"
      ],
      "metadata": {
        "id": "uCVdMVtR9AQJ"
      }
    },
    {
      "cell_type": "markdown",
      "source": [
        "Proof by implicit differentiation:\n",
        "$$\n",
        "y = x^r \\\\\n",
        "\\ln|y| = \\ln |x|^r \\\\\n",
        "\\ln|y| = r \\ln|x| \\\\\n",
        "\\frac{d}{dx}\\left[\\ln|y| = r \\ln|x|\\right] \\\\\n",
        "\\frac{1}{y} \\frac{dy}{dx} = r \\frac{1}{x} \\\\\n",
        "\\frac{dy}{dx} = r \\frac{1}{x} y\\\\\n",
        "\\frac{dy}{dx} = \\frac{rx^r}{x} \\\\\n",
        "\\frac{dy}{dx} = rx^{r-1} \\\\\n",
        "$$"
      ],
      "metadata": {
        "id": "Gv5z8hQjg23g"
      }
    },
    {
      "cell_type": "markdown",
      "source": [
        "Example:\n",
        "$$\n",
        "\\begin{align}\n",
        "1&) \\space \\frac{d(x^3+2x^2+7)}{dx} = 3x^2+2(2)x^1+7(0) =3x^2+4x \\\\\n",
        "2&) \\space \\frac{d}{dx}(\\sqrt[5]{x^2}) =\\frac{d}{dx} x^{\\frac{2}{5}} = \\frac{2}{5}x^{\\frac{-3}{5}}\n",
        "\\end{align}\n",
        "$$"
      ],
      "metadata": {
        "id": "ND_XLcL_6UiR"
      }
    },
    {
      "cell_type": "markdown",
      "source": [
        "#### Sum Difference Rule\n",
        "$$\n",
        "\\frac{d}{dx}g(x) \\pm h(x) = \\frac{d}{dx}g(x)\\pm\\frac{d}{dx}h(x)\n",
        "$$\n",
        "\n",
        "Example:\n",
        "\n",
        "$$\n",
        "1) \\frac{d}{dx} \\sin(x)+x^2 = \\cos(x) + 2x\n",
        "$$"
      ],
      "metadata": {
        "id": "vkTXORp6SKWy"
      }
    },
    {
      "cell_type": "markdown",
      "source": [
        "#### Product Rule\n",
        "\n",
        "Left d(Right) + Right d(Left)\n",
        "\n",
        "$$\n",
        "\\frac{d}{dx}g(x)h(x) = \\frac{d}{dx}g(x) \\cdot h(x)+g(x)\\cdot \\frac{d}{dx}h(x)\n",
        "$$\n",
        "\n",
        "Proof by implicit differentiation:\n",
        "$$\n",
        "y = f.g \\\\\n",
        "\\ln y = \\ln (f.g) \\\\\n",
        "\\ln y = \\ln f + \\ln g \\\\\n",
        "\\frac{d}{dx}[\\ln y = \\ln f + \\ln g] \\\\\n",
        "\\frac{1}{y} y' = \\frac{1}{f}  f' + \\frac{1}{g}  g' \\\\\n",
        "y' = y ( \\frac{1}{f}  f' + \\frac{1}{g}  g') \\\\\n",
        "y' = fg ( \\frac{f'}{f} + \\frac{g'}{g}) \\\\\n",
        "y' = f'g + fg' \\\\\n",
        "$$"
      ],
      "metadata": {
        "id": "2hrFvKfSTurS"
      }
    },
    {
      "cell_type": "markdown",
      "source": [],
      "metadata": {
        "id": "daZVq-q2h9TT"
      }
    },
    {
      "cell_type": "markdown",
      "source": [
        "\n",
        "Example:\n",
        "\n",
        "$\n",
        "\\frac{d}{dx} \\sin(x)x^2 = \\cos(x) (x^2) + (\\sin(x)) 2x \\\\\n",
        "\\frac{d}{dx} 2\\sin(x) = \\cos(x) (2) + (\\sin(x)) (0) = 2\\cos(x) \\\\\n",
        "\\frac{d}{dx} x^2x^3x^4 = 2x x^3 x^4 + x^2 3x^2 x^4 + x^2 x^3 4x^3 = 2x^8 + 3x^8 + 4x^8 = 9x^8\n",
        "$\n"
      ],
      "metadata": {
        "id": "_mBXj_ROh8lr"
      }
    },
    {
      "cell_type": "markdown",
      "source": [
        "#### Quotient Rule\n",
        "\n",
        "$$\n",
        "\\frac{d}{dx}\\frac{g(x)}{h(x)} = \\frac{\\frac{d}{dx}g(x) \\cdot h(x)-g(x)\\cdot \\frac{d}{dx}h(x)}{h(x)^2}\n",
        "$$\n",
        "\n",
        "Proof: Using a combination of product rule and chain rule.\n",
        "$$\n",
        "\\frac{f}{g} = fg^{-1} = f'g^{-1} + f (-g^{-2}g') = \\frac{f'}{g} - \\frac{fg'}{g^2} = \\frac{f'g}{g^2} - \\frac{fg'}{g^2} = \\frac{f'g - fg'}{g^2}\n",
        "$$\n",
        "\n",
        "Example:\n",
        "\n",
        "$$\n",
        "\\frac{x^2}{1+x^3} = \\frac{2x(1+x^3) - x^2(3x^2)}{(1+x^3)^2} = \\frac{2x-x^4}{x^6+2x^3+1}\n",
        "$$"
      ],
      "metadata": {
        "id": "OpPGfEM4RE21"
      }
    },
    {
      "cell_type": "markdown",
      "source": [
        "#### Chain Rule\n",
        "\n",
        "d(Outer) x d(Inner)\n",
        "\n",
        "$$\n",
        "\\frac{d}{dx}g(h(x)) = \\frac{d}{dh}g(h(x)) \\cdot \\frac{d}{dx}h(x)\n",
        "$$\n",
        "\n",
        "Concept:\n",
        "$$\n",
        "\\left.\\begin{matrix}\n",
        "y = f(u) \\\\\n",
        "u = g(x)\n",
        "\\end{matrix}\\right\\}\n",
        "\\frac{du}{dy} \\cdot \\frac{dx}{du} = \\frac{dx}{dy}\n",
        "$$\n",
        "\n",
        "Example:\n",
        "\n",
        "$\\displaystyle{\n",
        "\\frac{d}{dx} \\sin(x^2) = \\cos(x^2)  2x \\\\\n",
        "\\frac{d}{dx} 2(x^5)^3 = 6(x^5)^2 (5x^4) \\\\\n",
        "\\frac{d}{dx}\\frac{1}{1+e^{-x}} = \\frac{e^{-x}}{(1+e^{-x})^2} \\quad \\text{sigmoid function} \\\\\n",
        "\\frac{d}{dx} \\sum_{i=1}^N (b_i + a_ix)^2 = 2  \\sum_{i=1}^N a_i(b_i+a_ix) \\\\\n",
        "\\frac{d}{dx} t \\cdot \\ln (wx) + (1-t) \\cdot \\ln(1-wx) = \\frac{t}{x}-\\frac{w(1-t)}{1-wx} \\quad \\text{Log Loss} \\\\\n",
        "\\frac{d}{dp} p \\cdot \\ln (p) + (1-p) \\cdot \\ln(1-p) = \\ln (p) - \\ln(1-p) \\quad \\text{Entropy} \\\\\n",
        "}$\n"
      ],
      "metadata": {
        "id": "8VMPHikYVMBg"
      }
    },
    {
      "cell_type": "markdown",
      "source": [
        "#### Exponential Rule\n",
        "\n",
        "$$\n",
        "\\frac{d}{dx}a^{f(x)} = a^{f(x)} \\space \\ln(a) \\space \\frac{d}{dx}f(x)\n",
        "$$\n",
        "\n",
        "> **Natural logarithm** is a logarithm with Euler ($e$) as its base.\n",
        "* $ e = 2.71828$\n",
        "* $\\log_e a = \\ln(a)$\n"
      ],
      "metadata": {
        "id": "ZuMSrH47qo_M"
      }
    },
    {
      "cell_type": "markdown",
      "source": [
        "Proof:\n",
        "$$\n",
        "f(x) = b^x \\\\\n",
        "\\begin{align} \\\\\n",
        "f'(x) = \\lim\\limits_{h \\rightarrow 0} \\frac{f(x+h)-f(x)}{h} &= \\lim\\limits_{h \\rightarrow 0} \\frac{b^{x+h}-b^x}{h} \\\\\n",
        "&= \\lim\\limits_{h \\rightarrow 0} \\frac{b^xb^h-b^x}{h} \\\\\n",
        "&= b^x \\lim\\limits_{h \\rightarrow 0} \\frac{b^h-1}{h} &\\text{note: } e^{\\ln x} = x \\\\\n",
        "&= b^x \\lim\\limits_{h \\rightarrow 0} \\frac{e^{\\ln (b^h)}-1}{h} &\\text{note: } \\ln a^b = b \\ln a \\\\\n",
        "&= b^x \\lim\\limits_{h \\rightarrow 0} \\frac{e^{h \\ln b}-1}{h} &\\text{substitution: } t = h \\ln b \\;\\&\\; h = t / \\ln b \\\\\n",
        "&= b^x \\lim\\limits_{t \\rightarrow 0} \\frac{e^t-1}{\\frac{t}{\\ln b}} \\\\\n",
        "&= b^x \\ln b \\lim\\limits_{t \\rightarrow 0}  (\\frac{e^t-1}{t}) &\\text{Common rule: } \\lim\\limits_{x \\rightarrow 0} \\frac{e^x-1}{x} = 1 \\\\\n",
        "&= b^x \\ln b\n",
        "\\end{align}\n",
        "$$"
      ],
      "metadata": {
        "id": "rwkiyquJSG22"
      }
    },
    {
      "cell_type": "markdown",
      "source": [
        "\n",
        "Example:\n",
        "\n",
        "$$\n",
        "\\begin{align}\n",
        "&1) \\space \\frac{d}{dx} 42^{6x} = 42^{6x} \\ln(42) 6\n",
        "\\end{align}\n",
        "$$"
      ],
      "metadata": {
        "id": "Mg_5T_1ISF-h"
      }
    },
    {
      "cell_type": "markdown",
      "source": [
        "##### Euler Exponential Rule\n",
        "$$\n",
        "\\frac{d}{dx}e^{f(x)} = e^{f(x)} \\space \\frac{d}{dx}{f(x)}\n",
        "$$\n",
        "\n",
        "Example:\n",
        "\n",
        "$$\n",
        "\\begin{align}\n",
        "&1) \\space \\frac{d}{dx} 3e^{2x} = 3e^{2x}(2) = 6e^{2x}\n",
        "\\end{align}\n",
        "$$"
      ],
      "metadata": {
        "id": "fwZaRC69uvEC"
      }
    },
    {
      "cell_type": "markdown",
      "source": [
        "#### Logarithm Rule\n",
        "\n",
        "$$\n",
        "\\frac{d}{dx} \\log_bx = \\frac{1}{x \\ln(b)} x'\n",
        "$$\n",
        "\n",
        "Proof:\n",
        "$$\n",
        "\\begin{align}\n",
        "y = \\log_bx \\Rightarrow b^y &= x \\\\\n",
        "\\frac{d}{dx} b^y &= \\frac{d}{dx} x \\\\\n",
        "b^y \\ln(b) \\frac{dy}{dx} &= 1 \\\\\n",
        "\\frac{dy}{dx} &= \\frac{1}{b^y \\ln(b)} \\\\\n",
        "\\frac{dy}{dx} &= \\frac{1}{x \\ln(b)} \\\\\n",
        "\\end{align}\n",
        "$$"
      ],
      "metadata": {
        "id": "Ol-H88vrdHsp"
      }
    },
    {
      "cell_type": "markdown",
      "source": [
        "##### Natural Logarithm Rule\n",
        "\n",
        "$$\n",
        "\\frac{d}{dx} \\ln x = \\frac{1}{x} x' \\quad  x > 0\n",
        "$$\n",
        "\n",
        "Proof:\n",
        "$$\n",
        "\\begin{align}\n",
        "y = \\ln x \\Rightarrow e^y &= x \\\\\n",
        "\\frac{d}{dx} e^y &= \\frac{d}{dx} x \\\\\n",
        "b^y \\ln(e) \\frac{dy}{dx} &= 1 \\\\\n",
        "\\frac{dy}{dx} &= \\frac{1}{b^y} \\\\\n",
        "\\frac{dy}{dx} &= \\frac{1}{x} \\\\\n",
        "\\end{align}\n",
        "$$"
      ],
      "metadata": {
        "id": "sICwlRO4fC-y"
      }
    },
    {
      "cell_type": "markdown",
      "source": [
        "#### Trigonometric Rules\n",
        "\n",
        "$$\n",
        "\\sin' x = \\cos x \\\\\n",
        "\\cos' x = - \\sin x \\\\\n",
        "\\tan' x = 1 + \\tan^2x = \\sec^2 x \\\\\n",
        "$$\n"
      ],
      "metadata": {
        "id": "3zwUN1Dy3NAI"
      }
    },
    {
      "cell_type": "markdown",
      "source": [
        "\n",
        "Proof for $\\sin' x = \\cos x$:\n",
        "\n",
        "$\n",
        "\\displaystyle{\\begin{align}\n",
        "y' = \\lim \\limits_{h\\rightarrow0} \\frac{\\sin(x+h) - \\sin x}{h} &= \\lim \\limits_{h\\rightarrow0} \\frac{\\sin h \\cos x + \\sin x \\cos h - \\sin x }{h} \\\\\n",
        "&= \\lim \\limits_{h\\rightarrow0} \\frac{\\sin x \\cos h - \\sin x }{h} + \\lim \\limits_{h\\rightarrow0} \\frac{\\sin h \\cos x}{h} \\\\\n",
        "&= \\sin x \\lim \\limits_{h\\rightarrow0} \\frac{ \\cos h - 1 }{h} + \\cos x \\lim \\limits_{h\\rightarrow0} \\frac{\\sin h }{h}\n",
        "\\quad \\text{Common rule:} \\lim\\limits_{\\Theta \\rightarrow \\infty} \\frac{\\sin(\\Theta)}{\\Theta} = 0 \\;\\text{and}\\;\n",
        "\\lim\\limits_{\\Theta \\rightarrow 0} \\frac{\\cos(\\Theta)-1}{\\Theta} = 0 \\\\\n",
        "&= \\sin x (0) + \\cos x (1) \\\\\n",
        "&= \\cos x\n",
        "\\end{align}}\n",
        "$"
      ],
      "metadata": {
        "id": "GJTMjUk4KUP3"
      }
    },
    {
      "cell_type": "markdown",
      "source": [
        "Proof for $\\cos' x = - \\sin x$:\n",
        "\n",
        "$\n",
        "\\displaystyle{\\begin{align}\n",
        "y' = \\lim \\limits_{h\\rightarrow0} \\frac{\\sin(x+h) - \\sin x}{h} &= \\lim \\limits_{h\\rightarrow0} \\frac{\\cos h \\cos x - \\sin x \\sin h - \\cos x }{h} \\\\\n",
        "&= \\lim \\limits_{h\\rightarrow0} \\frac{\\cos x \\cos h - \\cos x }{h} - \\lim \\limits_{h\\rightarrow0} \\frac{\\sin h \\sin x}{h} \\\\\n",
        "&= \\cos x  \\lim \\limits_{h\\rightarrow0} \\frac{\\cos h - 1 }{h} - \\sin x \\lim \\limits_{h\\rightarrow0} \\frac{\\sin h}{h}\n",
        "\\quad \\text{Common rule:} \\lim\\limits_{\\Theta \\rightarrow \\infty} \\frac{\\sin(\\Theta)}{\\Theta} = 0 \\;\\text{and}\\;\n",
        "\\lim\\limits_{\\Theta \\rightarrow 0} \\frac{\\cos(\\Theta)-1}{\\Theta} = 0 \\\\\n",
        "&= \\cos x (0) - \\sin x (1) \\\\\n",
        "&= -\\sin x\n",
        "\\end{align}}\n",
        "$"
      ],
      "metadata": {
        "id": "bU4WHsnNGXeO"
      }
    },
    {
      "cell_type": "markdown",
      "source": [
        "Proof for $\\tan' x = 1 + \\tan^2x = \\sec^2 x$:\n",
        "\n",
        "$\n",
        "\\displaystyle{\\begin{align}\n",
        "y = \\frac{\\sin x}{\\cos x} &= \\sin x (\\cos x)^{-1} \\\\\n",
        "y' &= \\cos x (\\cos x)^{-1} + \\sin x (- (\\cos x)^{-2}(-\\sin x)) \\\\\n",
        "y' &= 1 + \\frac{\\sin^2x}{\\cos^2x} \\\\\n",
        "y' &= 1 + \\tan^2x = \\sec^2x\n",
        "\\end{align}}\n",
        "$\n",
        "\n"
      ],
      "metadata": {
        "id": "RlQ9cNh9K12t"
      }
    },
    {
      "cell_type": "markdown",
      "source": [
        "##### Hyperbolic Trigonometric Rules\n",
        "\n",
        "$$\n",
        "\\sinh'x = \\cosh x \\\\\n",
        "\\cosh'x = \\sinh x \\\\\n",
        "\\tanh'x = 1 - \\tanh^2x = \\mathrm{sech}^2  x\n",
        "$$"
      ],
      "metadata": {
        "id": "dtsij0823UDq"
      }
    },
    {
      "cell_type": "markdown",
      "source": [
        "##### Inverse Trigonometric Rules\n",
        "\n",
        "$$\n",
        "\\begin{align}\n",
        "sin'^{-1}x = \\arcsin' x &= \\frac{1}{\\sqrt{1-x^2}}\\\\\n",
        "cos'^{-1}x = \\arccos' x &= \\frac{-1}{\\sqrt{1-x^2}} = -\\arcsin' x\\\\\n",
        "tan'^{-1}x = \\arctan' x &= \\frac{1}{1+x^2} \\\\\n",
        "\\end{align}\n",
        "$$"
      ],
      "metadata": {
        "id": "PdIBf_VXORZh"
      }
    },
    {
      "cell_type": "markdown",
      "source": [
        "Proof for $\\arcsin' x$:\n",
        "\n",
        "$\\displaystyle{\n",
        "y = \\arcsin x \\Rightarrow \\sin y = x \\\\\n",
        "\\frac{d}{dx} ( \\sin y = x ) \\\\\n",
        "\\cos y \\cdot y' = 1 \\\\\n",
        "y' = \\frac{1}{\\cos y} \\quad \\quad \\text{if } \\sin y = x \\text{ and } 1 - \\sin^2 = \\cos \\text{ then } \\sin y = 1 - x^2 \\\\\n",
        "y' = \\frac{1}{\\sqrt{1-x^2}} \\\\\n",
        "}$\n"
      ],
      "metadata": {
        "id": "OaiH1WaoOguJ"
      }
    },
    {
      "cell_type": "markdown",
      "source": [
        "Proof for $\\arccos' x$:\n",
        "\n",
        "$\\displaystyle{\n",
        "y = \\arccos x \\Rightarrow \\cos y = x \\\\\n",
        "\\frac{d}{dx} ( \\cos y = x ) \\\\\n",
        "-\\sin y \\cdot y' = 1 \\\\\n",
        "y' = \\frac{1}{-\\sin y} \\quad \\quad \\text{if } \\cos y = x \\text{ and } 1 - \\cos^2 = \\sin \\text{ then } \\sin y = 1 - x^2 \\\\\n",
        "y' = -\\frac{1}{\\sqrt{1-x^2}} \\\\\n",
        "}$\n"
      ],
      "metadata": {
        "id": "cds7GMTaXmig"
      }
    },
    {
      "cell_type": "markdown",
      "source": [
        "\n",
        "Proof for $\\arctan' x$:\n",
        "\n",
        "$\\displaystyle{\n",
        "y = \\arctan x \\Rightarrow \\tan y = x \\\\\n",
        "\\frac{d}{dx} ( \\tan y = x ) \\\\\n",
        "\\sec^2y \\cdot y' = 1 \\\\\n",
        "y' = \\frac{1}{\\sec^2y} \\quad \\quad \\text{if } \\tan y = x \\text{ and } \\sec ^2\\left(x\\right)-\\tan ^2\\left(x\\right)=1 \\text{ then } \\sec^2 y = 1 + x^2 \\\\\n",
        "y' = \\frac{1}{1+x^2}\n",
        "}$"
      ],
      "metadata": {
        "id": "eOP7P6VmZEF2"
      }
    },
    {
      "cell_type": "markdown",
      "source": [
        "#### Vector Rule\n",
        "\n",
        "The derivative of a vector is the vector times a Matrix transformation.\n",
        "\n",
        "$$\n",
        "\\frac{d}{dx} \\vec{v} = M \\vec{v}\n",
        "$$\n",
        "\n",
        "$$\n",
        "\\frac{d}{dx} \\begin{bmatrix}x(t)\\\\y(t)\\end{bmatrix} =\n",
        "\\begin{bmatrix}a & b\\\\b & c\\end{bmatrix} \\begin{bmatrix}x(t)\\\\y(t)\\end{bmatrix}\n",
        "$$"
      ],
      "metadata": {
        "id": "nDk7g1DJOuaP"
      }
    },
    {
      "cell_type": "markdown",
      "source": [
        "### Implicit Differentiation\n",
        "\n",
        "Implicit differentiation allows you to take the derivative of a function that contains both $x$ and $y$ on the same side of the equation.\n",
        "\n",
        "Method 1\n",
        "* We find the $\\frac{dy}{dx}$ of both sides.\n",
        "* derivative of $y$ just like $x$, then multiply by $\\frac{dy}{dx}$\n",
        "* set $\\frac{dy}{dx}$ at one size and solve the equation.\n",
        "\n",
        "Method 2\n",
        "* We find the derivative for each function and multiply it by its differentiation.\n",
        "* group the differentiation (eg by dividing both sides by $dx$)\n",
        "* set $\\frac{dy}{dx}$ at one size and solve the equation.\n",
        "\n",
        "> To find the tangent line, plug-in both $(x_1, y_1)$ into the derivavite equation.\n",
        "\n",
        "Example:\n",
        "\n",
        "$\n",
        "\\begin{align}\n",
        "1) \\space x^3+y^3 = 9xy\n",
        "&\\Rightarrow 3x^2(dx) + 3y^2(dy) = (9(dx))(y) + (9x)(1(dy)) \\\\\n",
        "&\\Rightarrow (3x^2(dx) + 3y^2(dy) = 9y(dx) + 9x(dy))\\frac{1}{dx} \\\\\n",
        "&\\Rightarrow 3x^2 + 3y^2(\\frac{dy}{dx}) = 9y + 9x(\\frac{dy}{dx}) \\\\\n",
        "&\\Rightarrow 3y^2(\\frac{dy}{dx}) - 9x(\\frac{dy}{dx}) = 9y - 3x^2 \\\\\n",
        "&\\Rightarrow (\\frac{dy}{dx}) (3y^2 - 9x) = 9y - 3x^2 \\\\\n",
        "&\\Rightarrow \\frac{dy}{dx}= \\frac{9y - 3x^2}{3y^2 - 9x} \\\\\n",
        "&\\Rightarrow \\frac{dy}{dx}= \\frac{3(3y - x^2)}{3(y^2 - 3x)} \\\\\n",
        "&\\Rightarrow \\frac{dy}{dx}= \\frac{3y - x^2}{y^2 - 3x} \\\\\n",
        "\\end{align}\n",
        "$\n",
        "\n",
        "$\n",
        "\\begin{align}\n",
        "2) \\space \\sin(x)y^2 = x\n",
        "&\\Rightarrow (\\cos(x)(dx))(y^2) + (\\sin(x))(2y(dy)) = 1(dx) \\\\\n",
        "&\\Rightarrow \\cos(x)y^2 + \\sin(x)2y\\frac{dy}{dx} = 1 \\\\\n",
        "&\\Rightarrow \\sin(x)2y\\frac{dy}{dx} = -\\cos(x)y^2 \\\\\n",
        "&\\Rightarrow \\frac{dy}{dx} = \\frac{-\\cos(x)y^2}{\\sin(x)2y} \\\\\n",
        "&\\Rightarrow \\frac{dy}{dx} = \\frac{-\\cos(x)y}{2\\sin(x)} \\\\\n",
        "&\\Rightarrow \\frac{dy}{dx} = -\\frac{1}{2}\\cot(x)y \\\\\n",
        "\\end{align}\n",
        "$\n",
        "\n"
      ],
      "metadata": {
        "id": "EZXYWaiC6n9g"
      }
    },
    {
      "cell_type": "markdown",
      "source": [
        "#### Logarithmic Differentiation\n",
        "\n",
        "Solvoing for derivative by getting the natural log of both sides, and then solving the differentiation\n",
        "\n",
        "Examples:\n",
        "\n",
        "$\\displaystyle{\n",
        "\\begin{align}\n",
        "y = \\frac{x^{3/4} \\sqrt{x^2+1}}{(3x+2)^5} &=  \\ln y = 3/4 \\ln x + 1/2 \\ln (x^2+1) - 5 \\ln (3x+2) \\\\\n",
        "\\frac{d}{dx} [\\ln y &= 3/4 \\ln x + 1/2 \\ln (x^2+1) - 5 \\ln (3x+2) ]\\\\\n",
        "\\frac{1}{y}y' &= 3/4 \\frac{1}{x} + 1/2 \\frac{1}{x^2+1}2x - 5\\frac{1}{3x+2}3 \\\\\n",
        "y' &= \\frac{x^{3/4} \\sqrt{x^2+1}}{(3x+2)^5} \\left(  \\frac{3}{4x} +  \\frac{x}{x^2+1} - \\frac{15}{3x+2} \\right) \\\\\n",
        "\\end{align}\n",
        "}$\n",
        "\n",
        "$\\displaystyle{\n",
        "\\begin{align}\n",
        "y = f(x)^{g(x)} = \\ln y &= \\ln (f(x)^{g(x)}) \\\\\n",
        "\\ln y &= g(x) \\ln f(x) \\\\\n",
        "\\frac{d}{dx} [\\ln y &= g(x) \\ln f(x) ]\\\\\n",
        "\\frac{1}{y}y' &= g'(x)\\ln f(x) + g(x) \\frac{f'(x)}{f(x)}\\\\\n",
        "y' &=  f(x)^{g(x)} \\left( g'(x)\\ln f(x) + g(x) \\frac{f'(x)}{f(x)} \\right )\\\\\n",
        "\\end{align} \\\\\n",
        "\\frac{d}{dv} \\frac{1}{\\sqrt{v}}e^{-\\frac{1}{2}\\frac{x^2}{v}} =  \n",
        "\\frac{1}{\\sqrt{v}}e^{-\\frac{1}{2}\\frac{x^2}{v}} \\left ( \\frac{x^2-2v}{2v^2} \\right )\\quad \\text{Guassion with respect to variance} \\\\\n",
        "}$"
      ],
      "metadata": {
        "id": "rEX7y9bvjUwN"
      }
    },
    {
      "cell_type": "markdown",
      "source": [
        "### Higher Order Derivatives\n",
        "\n",
        "Change to slope, the derivative of derivative of a funciton\n",
        "$$\n",
        "\\frac{d^2f}{dx^2}\n",
        "=\n",
        "\\frac{d\\left(\\frac{df}{dx}\\right)}{dx}\n",
        "$$"
      ],
      "metadata": {
        "id": "G71pNNJw3XIQ"
      }
    },
    {
      "cell_type": "markdown",
      "source": [
        "### Applications\n"
      ],
      "metadata": {
        "id": "t_vom1jgOAhK"
      }
    },
    {
      "cell_type": "markdown",
      "source": [
        "#### Min and Max of a function.\n",
        "\n",
        "$\\frac{d}{dx} = 0$ shows a local minimum or maximum.\n",
        "\n",
        "If $f'$ changes from + to - at c, then $f(c)$ is a local maximum, but if $f'$ changes from - to + at c, then $f(c)$ is a local minimum.\n",
        "If $f'$ it's + to + or - to -, there is no local minimum or maximum at c.\n",
        "\n",
        "$f$ has a local maximum at $x*$ if there exists some $E > 0$ such that $f(x*) \\ge f(x)$ whenever $|x-x*|< E$.\n",
        "$f$ has a locaL minimum at $x*$ if there exists some $E > 0$ such that $f(x*) \\le f(x)$ whenever $|x-x*| < E$.\n",
        "\n",
        "Let $x*$ be a number is the domain $D$ of the function $f$. Then $f(x*)$ is the global maimum of $f$ on $D$ if $f(x*) \\ge f(x)$ for all $x$ in $D$.\n",
        "global minimum of $f$ on $D$ if $f(x*) \\le f(x)$ for all $x$ in $D$."
      ],
      "metadata": {
        "id": "0aoyUzNpWYzg"
      }
    },
    {
      "cell_type": "markdown",
      "source": [
        "#### Direction of Concavity\n",
        "\n",
        "$f''(x) > 0$ then $f(x)$ is concave up.\n",
        "$f''(x) < 0$, then $f(x)$ is concave down.\n",
        "If $f''(x) = 0$, it's inconclusive.\n",
        "\n",
        "Can be used to find out if $f'(x)$ is a minimum or a maximum.\n"
      ],
      "metadata": {
        "id": "wJUtnRf0WmWJ"
      }
    },
    {
      "cell_type": "markdown",
      "source": [
        "\n",
        "Example, Find the $X*$ for the min/max of $y=x^2$:\n",
        "\n",
        "$\n",
        "y = x^2 \\\\\n",
        "y' = 2x \\Rightarrow 2x = 0 \\rightarrow x = 0 \\\\\n",
        "y'' = 2 \\rightarrow \\text{concav up, local minimum}\n",
        "$\n",
        "\n",
        "Example: Entropy (Bernoulli), where $y'=0$ and is it a min or max\n",
        "\n",
        "$\n",
        "y = p \\cdot \\ln p + (1-p) \\ln(1-p) \\\\\n",
        "y' = \\ln p - \\ln(1-p) \\rightarrow \\ln p - \\ln(1-p)  = 0 \\rightarrow \\ln p = \\ln(1-p) \\rightarrow p = 1 - p \\rightarrow 2p = 1 \\rightarrow p = \\frac{1}{2} \\\\\n",
        "y'' =  \\frac{1}{p} + \\frac{1}{1-p} \\rightarrow  \\frac{1}{\\frac{1}{2}} + \\frac{1}{1-\\frac{1}{2}} = 4 \\therefore \\text{minimum}\n",
        "$\n",
        "\n",
        "Example: Gaussian Mean, where $y'=0$ and is it a min or max\n",
        "\n",
        "> log (and ln) are moNotonreally increasing functions, meaning they always increase the value of x. So if $\\ln y* > \\ln y$ then $y* > y$.\n",
        "\n",
        "$\n",
        "\\displaystyle{\n",
        "y = e^{-\\frac{1}{2}(x-\\mu)^2} \\\\\n",
        "\\ln(y) = -\\frac{1}{2}(x-\\mu)^2 \\\\\n",
        "\\frac{d}{d\\mu} -\\frac{1}{2}(x-\\mu)^2 = x-\\mu \\rightarrow x-\\mu = 0 \\rightarrow \\mu = x \\\\\n",
        "\\frac{d}{d\\mu} x-\\mu = -1 \\therefore \\text{maximum}\n",
        "}$\n",
        "\n",
        "Example: Gaussian Variance, where $y'=0$ and is it a min or max\n",
        "\n",
        "$\n",
        "\\displaystyle{\n",
        "y = \\frac{1}{\\sqrt{v}}e^{-\\frac{1}{2}\\frac{x^2}{v}} \\\\\n",
        "ln(y) = -\\frac{1}{2}\\ln v + -x^2 (2v)^{-1} \\\\\n",
        "\\frac{d}{dv} -\\frac{1}{2}\\ln v + -x^2 (2v)^{-1} = \\frac{x^2 - v}{2v^2} \\rightarrow x^2 - v = 0 \\rightarrow v = x^2 \\\\\n",
        "\\frac{d}{dv} -\\frac{x^2}{v^2} - \\frac{1}{v} = -2\\frac{x^2}{v^3}+\\frac{1}{v^2}  \\rightarrow - \\frac{1}{x^4} < 0 \\therefore \\text{maximum}\n",
        "}$"
      ],
      "metadata": {
        "id": "B1LWazZGdI82"
      }
    },
    {
      "cell_type": "markdown",
      "source": [
        "#### Solving Limits (L'Hopital's Rule)\n",
        "\n",
        "Check limits section\n",
        "$$\n",
        "\\lim\\limits_{x \\rightarrow a} \\frac{f(x)}{g(x)} =\n",
        "\\lim\\limits_{x \\rightarrow a} \\frac{ \\frac{df}{dx} (a)}{\\frac{dg}{dx} (a)}\n",
        "$$\n",
        "\n",
        "Example: Prove $\\lim\\limits_{n \\rightarrow \\infty} (1+\\frac{1}{n})^n = e$\n",
        "\n",
        "$\\displaystyle{\n",
        "y = \\lim\\limits_{n \\rightarrow \\infty} (1+\\frac{1}{n})^n  = e \\\\\n",
        "\\ln(y) =  (\\lim\\limits_{n \\rightarrow \\infty} \\ln (1+\\frac{1}{n})^n) = \\ln(e) \\\\\n",
        "\\lim\\limits_{n \\rightarrow \\infty} n \\cdot \\ln (1+\\frac{1}{n}) = \\lim\\limits_{n \\rightarrow \\infty} \\cdot \\frac{\\ln (1+\\frac{1}{n})}{\\frac{1}{n}} = \\frac{0}{0} \\\\\n",
        "\\lim\\limits_{n \\rightarrow \\infty} \\frac{\\frac{1}{1+\\frac{1}{n}}\\cdot \\frac{-1}{n^2}}{-\\frac{1}{n^2}} \\\\\n",
        "\\lim\\limits_{n \\rightarrow \\infty} \\frac{1}{1+\\frac{1}{n}} = \\frac{1}{1} = 1 = \\ln(e)\n",
        "}$\n",
        "\n",
        "\n",
        "Example: Prove $\\lim\\limits_{x \\rightarrow 0} \\frac{\\sin x}{x} = 1$\n",
        "\n",
        "$\\displaystyle{\n",
        "\\lim\\limits_{x \\rightarrow 0} \\frac{\\sin x}{x} \\\\\n",
        "= \\lim\\limits_{x \\rightarrow 0} \\frac{\\cos x}{1} \\\\\n",
        "= 1\n",
        "}$"
      ],
      "metadata": {
        "id": "ufX8c2gZg6st"
      }
    },
    {
      "cell_type": "markdown",
      "source": [
        "#### Newton's Method\n",
        "\n",
        "Newton's Method is used to find the zero to a function.\n",
        "We pick a random point, find the tangent line at the point, find where it cross the x-axis. Now we repeat with the new point.\n",
        "\n",
        "$$\n",
        "m = \\frac{f(x_0) - 0}{x_0 - x_1} = f'(x_0) \\\\\n",
        "\\Rightarrow x_0 - x_1 = \\frac{f(x_0)}{f'(x_0)} \\Rightarrow x_1 = x_0 - \\frac{f(x_0)}{f'(x_0)} \\\\[1cm]\n",
        "x_{k+1} = x_k \\frac{f(x_k)}{f'(x_k)}\n",
        "$$\n",
        "\n",
        "![Newton's Method](https://upload.wikimedia.org/wikipedia/commons/8/8c/Newton_iteration.svg)\n",
        "\n",
        "To find the zeros for $f'(x)=0$, we'd have: (Newton's Method used for optimization)\n",
        "\n",
        "$$\n",
        "x_{k+1} = x_k \\frac{f'(x_k)}{f''(x_k)}\n",
        "$$\n"
      ],
      "metadata": {
        "id": "LGgC68Ndkglf"
      }
    },
    {
      "cell_type": "code",
      "source": [
        "import numpy as np\n",
        "import matplotlib.pyplot as plt\n",
        "\n",
        "# x ∈ [-2,2]\n",
        "x = np.linspace(-2,2,100)\n",
        "# the function f(x)\n",
        "def f(x):\n",
        "  return -0.5 * 9.8 * x ** 2 + 2 * x + 1\n",
        "# y for x in f(x)\n",
        "y = f(x)\n",
        "\n",
        "\n",
        "\n",
        "# Derivative of f\n",
        "def f_derivative(x):\n",
        "  return -0.5 * 9.8 * 2 * x + 2\n",
        "\n",
        "# Derivative of f'\n",
        "def f_2_derivative(x):\n",
        "  return -0.5 * 9.8 * 2\n",
        "\n",
        "# Newton's method for zero's of f\n",
        "print(\"Finding zero for f\")\n",
        "x_old = -1 # initial guess\n",
        "while True:\n",
        "  x_new = x_old - f(x_old) / f_derivative(x_old)\n",
        "  print(x_new)\n",
        "\n",
        "  # stop when the value of x hasn't changed too much\n",
        "  if np.abs(x_new - x_old) < 1e-10:\n",
        "    break\n",
        "\n",
        "  # reassigning x_old for the next step\n",
        "  x_old = x_new\n",
        "\n",
        "f_zero = x_new\n",
        "print(\"answer for f:\", x_new)\n",
        "\n",
        "# Newton's method for zero's of f\n",
        "print(\"Finding zero for f'\")\n",
        "x_old = -1 # initial guess\n",
        "while True:\n",
        "  x_new = x_old - f_derivative(x_old) / f_2_derivative(x_old)\n",
        "  print(x_new)\n",
        "\n",
        "  # stop when the value of x hasn't changed too much\n",
        "  if np.abs(x_new - x_old) < 1e-10:\n",
        "    break\n",
        "\n",
        "  # reassigning x_old for the next step\n",
        "  x_old = x_new\n",
        "\n",
        "print(\"answer for f':\", x_new)\n",
        "\n",
        "# Plotting\n",
        "plt.axhline(y=0, color='k')\n",
        "plt.axvline(x=0, color='k')\n",
        "plt.grid()\n",
        "plt.scatter([f_zero], [f(f_zero)], c=\"blue\")\n",
        "plt.scatter([x_new], [f(x_new)], c=\"red\")\n",
        "plt.plot(x,y);"
      ],
      "metadata": {
        "colab": {
          "base_uri": "https://localhost:8080/",
          "height": 638
        },
        "id": "O8qDT2IenZNH",
        "outputId": "79f3f23e-aec6-4738-c2d3-304f953227f6"
      },
      "execution_count": 6,
      "outputs": [
        {
          "output_type": "stream",
          "name": "stdout",
          "text": [
            "Finding zero for f\n",
            "-0.5\n",
            "-0.322463768115942\n",
            "-0.2925336675153506\n",
            "-0.29163175116112455\n",
            "-0.2916309306737859\n",
            "-0.2916309306731069\n",
            "answer for f: -0.2916309306731069\n",
            "Finding zero for f'\n",
            "0.20408163265306123\n",
            "0.20408163265306123\n",
            "answer for f': 0.20408163265306123\n"
          ]
        },
        {
          "output_type": "display_data",
          "data": {
            "text/plain": [
              "<Figure size 640x480 with 1 Axes>"
            ],
            "image/png": "[encoded data removed]"
          },
          "metadata": {}
        }
      ]
    },
    {
      "cell_type": "markdown",
      "source": [
        "## Integrals"
      ],
      "metadata": {
        "id": "jP_me6GmsQKX"
      }
    },
    {
      "cell_type": "markdown",
      "source": [
        "Integrals = Antiderivative = Area under a curve\n",
        "$$\n",
        "\\left.\\begin{matrix}\n",
        "\\int_a^b f(x) dx \\\\\n",
        "\\frac{dF}{dx} = f(x)\n",
        "\\end{matrix}\\right\\}\n",
        "F(b)-(a)\n",
        "$$"
      ],
      "metadata": {
        "id": "U0mMpmbk4Zi1"
      }
    },
    {
      "cell_type": "markdown",
      "source": [
        "### Average of a graph\n",
        "\n",
        "The average slope of a bunch of tangent lines\n",
        "\n",
        "$$\n",
        "\\frac{\\int^b_a f(x) dx}{b-a} = \\frac{F(b) - F(a)}{b-a}\n",
        "$$\n",
        "\n"
      ],
      "metadata": {
        "id": "FrPHbwcSA1wC"
      }
    },
    {
      "cell_type": "markdown",
      "source": [
        "## Fundamental Theorem of Calculus"
      ],
      "metadata": {
        "id": "bavIZmyssYXn"
      }
    },
    {
      "cell_type": "markdown",
      "source": [
        "## Taylor Series\n",
        "\n",
        "> Taylor series translate derivative information at a single point to approximation information around that point\n",
        "\n",
        "Taking non-polynomial functions, and finding polynomials that approximate them near some input. The motive is that polynomials tend to be much easier to deal with than other functions. They're easier to compute, easier to take derivatives, easier to integrate, and etc.\n",
        "\n",
        "$$\n",
        "\\cos(x) \\Rightarrow P(x) = c_0 + c_1x + c_2x^2 \\\\[.5cm]\n",
        "\\left .\n",
        "\\begin{align}\n",
        "&\\cos(x) \\overset{x=0}{\\rightarrow} 1 \\Rightarrow P(x) = 1 + c_1x + c_2x^2 \\rightarrow c_1=1 \\\\\n",
        "&\\frac{d(cos)}{dx}(0) = -sin(0) = 0 \\Rightarrow \\frac{dP}{dx}(x) = c_1 + 2c_2x \\rightarrow \\frac{dP}{dx}(0) = c_1 + 0 = 0 \\rightarrow c1_=0 \\\\\n",
        "&\\frac{d^2(cos)}{dx^2}(0) = -cos(0) = -1 \\Rightarrow \\frac{d^2P}{dx^2}(x) = 2c_2 \\rightarrow \\frac{d^2P}{dx^2}(0) = 2c_2 = -1 \\rightarrow c_2 = \\frac{-1}{2}\n",
        "\\end{align}\n",
        "\\right \\}\n",
        "\\Rightarrow P(x) = 1 + 0x + (\\frac{-1}{2})x^2 \\\\[1cm]\n",
        "$$\n",
        "\n",
        "\n",
        "We can *try* to make our polynomical by taking more parameters ($c_3x^3, c_4x^4,$ ...) and solving with higher order derivatives"
      ],
      "metadata": {
        "id": "jj-fW1xh8CLz"
      }
    },
    {
      "cell_type": "markdown",
      "source": [
        "To take approximation around other points than 0, you'd need to write the polynomial in terms of powers of $(x-a)$.\n",
        "\n",
        "eg for approximating at $\\pi$, it would be $P_\\pi(x) = c_0 + c_1(x-\\pi)^1 + c_2(x-\\pi)^2 + c_3(x-\\pi)^3 + \\cdots$"
      ],
      "metadata": {
        "id": "ofsMU3MmBrd4"
      }
    },
    {
      "cell_type": "markdown",
      "source": [
        "Since the derivate of $x^5$ is 5x4x3x2x1$x^0$ we can write the Taylor series for point $x=0$ as the polynomial formula:\n",
        "\n",
        "$$\n",
        "P(x) = f(0) + \\space\n",
        "\\frac{df}{dx}(0)\\frac{x^1}{1!} + \\space\n",
        "\\frac{d^2f}{dx^2}(0)\\frac{x^2}{2!} + \\space\n",
        "\\frac{d^3f}{dx^3}(0)\\frac{x^3}{3!} + \\space\n",
        "\\frac{d^4f}{dx^4}(0)\\frac{x^4}{4!} + \\cdots\n",
        "$$"
      ],
      "metadata": {
        "id": "dgF6di8ZC5Z9"
      }
    },
    {
      "cell_type": "markdown",
      "source": [
        "Or in general for any point:\n",
        "\n",
        "$$\n",
        "P(x) = f(a) + \\space\n",
        "\\frac{df}{dx}(a)\\frac{(x-a)^1}{1!} + \\space\n",
        "\\frac{d^2f}{dx^2}(a)\\frac{(x-a)^2}{2!} + \\space\n",
        "\\frac{d^3f}{dx^3}(a)\\frac{(x-a)^3}{3!} + \\cdots\n",
        "$$"
      ],
      "metadata": {
        "id": "2k5ZsB5QEXlz"
      }
    },
    {
      "cell_type": "markdown",
      "source": [
        "**Series**\n",
        "> Infinite sum\n",
        "\n",
        "**Convergence**\n",
        "> When adding more and more terms gets you increasingly close to some specific avlue, you say the series **converges** to that value. Or by extending the definition of equality to include this kind of sereis convergence, you'd say the sereis as a whole, the infinite sum, equals the value it converges to.\n",
        "\n",
        "**Diverges**\n",
        "> When the derivatiVe information of $f(x)$ doesn't propagate out that far where adding more terms of the series doesn't approach anything, you'd say the sereis **diverges**.\n",
        "\n",
        "**Radius of convergence**\n",
        "> The maximum distance between the input you're appoximating near, and points where the outputs of these polynomials actually do converge, is called the **radius of convergence** for the Taylor series"
      ],
      "metadata": {
        "id": "5MWCylTlG2dS"
      }
    },
    {
      "cell_type": "markdown",
      "source": [
        "## Differential Equation\n",
        "\n",
        "Figuring out what a function is based on information about its rate of change.\n",
        "\n",
        "For looking for function who derivative and/or higher order derivatives are defined in terms of itself.\n"
      ],
      "metadata": {
        "id": "DFTgIiQ6dt6a"
      }
    },
    {
      "cell_type": "markdown",
      "source": [
        "### Ordinary Differential Equations\n",
        "\n",
        "**Ordinary Differential Equations (ODE)**\n",
        "> Functions with a single input, often thought of as time. A finite collection of values changing with time. (The one independent variable doesn't have to be time)"
      ],
      "metadata": {
        "id": "KcdE5OstnjH5"
      }
    },
    {
      "cell_type": "markdown",
      "source": [
        "**Example**: consider the trajectory of something you throw in the air. The force of gravity near the surface of the earth causes things to accelerate downward at 9.8 m/s per second. If you look at some object free from other forces, and record its velocity every second, these vectors will accrue an additional downward component of 9.8 m/s every second. We call this constant 9.8 “g”.\n",
        "\n",
        "Focus on the y-coordinate, as a function of time. It’s derivative gives the vertical component of velocity, whose derivative in turn gives the vertical component of acceleration. For compactness,\n",
        "let’s write this first derivative as y-dot, and the second derivative as y-double-dot.\n",
        "$$\n",
        "\\ddot{y}(t) = -g \\\\\n",
        "\\frac{d(???)}{dt}(t) = -g \\\\\n",
        "\\text{What fraction has slope} -g ? \\\\\n",
        "\\frac{d(-gt+v_0)}{dt}(t) = -g \\\\[0.7cm]\n",
        "\\frac{d(???)}{dt}(t) = -gt+v_0 \\\\\n",
        "\\text{What fraction has slope} -gt+v_0 ? \\\\\n",
        "\\frac{d(-\\frac{1}{2}gt^2+v_0t+y_0)}{dt}(t) = -gt+v_0 \\\\[.7cm]\n",
        "y(t) = -\\frac{1}{2}gt^2+v_0t+y_0\n",
        "$$"
      ],
      "metadata": {
        "id": "CP8YlannmchT"
      }
    },
    {
      "cell_type": "markdown",
      "source": [
        "### Partial Differentail Equations\n",
        "\n",
        "**Partial Differentail Equations (PDE)**\n",
        "> Functions that have multiple inputs. A whole continuum of values changing with time. Eg: the temperature of every point in a solid body, or the velocity of a fluid at every point in space."
      ],
      "metadata": {
        "id": "5V5nwUupnovv"
      }
    },
    {
      "cell_type": "markdown",
      "source": [
        "**Example**: imagine you have some object like a piece of metal, and you know how the heat is distributed across it at one moment; what the temperature of every individual point is. question is how will that distribution change over time, as heat flows from the warmer spots to the cooler ones.\n",
        "\n",
        "$$\n",
        "\\text{The Heat Equation (For a rode)} \\\\\n",
        "\\frac{\\partial T}{\\partial t}(x,t) = \\alpha \\cdot \\frac{\\partial^2 T}{\\partial x^2}(x,t)\n",
        "$$\n",
        "\n",
        "But how?\n",
        "\n",
        "Temperature of a single point will change base on its 2 neighboring points. if the average is higher than 0, the temperature at the point will increase, if below than 0, the temerature will decrease.\n",
        "$$\n",
        "\\begin{align}\n",
        "\\frac{dT_2}{dt} &= \\alpha \\left( \\frac{T_1+T_3}{2} - T_2 \\right) \\\\\n",
        "&= \\alpha \\bigl( \\frac{T_1+T_3}{2} - \\frac{T_2+T_2}{2} \\bigr) \\\\\n",
        "&= \\frac{\\alpha}{2} \\bigl( \\; \\underbrace{\n",
        "   \\underbrace{(T_3 - T_2)}_{\\Delta T_2} - \\underbrace{(T_2 - T_1)}_{\\Delta T_1}\n",
        "}_{\\Delta \\Delta T_1} \\; \\bigr) \\\\\n",
        "&= \\frac{\\alpha}{2} \\Delta \\Delta T_1 \\; \\text{\"Second Difference\"} \\\\\n",
        "\\frac{\\partial T}{\\partial t}(x,t) &= \\alpha \\cdot \\frac{\\partial^2 T}{\\partial x^2}(x,t) \\\\\n",
        "\\\\\n",
        "&\\text{For case with more than 1 dimension} \\\\\n",
        "\\frac{\\partial T}{\\partial t} &= \\alpha \\cdot \\bigl(\n",
        "  \\underbrace{\n",
        "  \\frac{\\partial^2 T}{\\partial x^2} +\n",
        "  \\frac{\\partial^2 T}{\\partial y^2} +\n",
        "  \\frac{\\partial^2 T}{\\partial z^2} +\n",
        "  }_{\\text{\"Laplacian\" } \\nabla^2 T}\n",
        "\\bigr ) \\\\\n",
        "\\end{align}\n",
        "$$\n"
      ],
      "metadata": {
        "id": "Kb6BwyDBnrQB"
      }
    },
    {
      "cell_type": "markdown",
      "source": [
        "**Laplacian**\n",
        "> Adding all the second spatial second derivatives of a multivariate partial equation is knonwn as **Laplacian**. often written as $\\nabla^2$. It’s essentially a multivariable version of the second derivative, and the intuition for this equation is no different from the 1d case: This Laplacian can be thought of as measuring how different a point is from the average of its neighbors, but these neighbors aren’t just to the left and right, but they’re all around."
      ],
      "metadata": {
        "id": "2XNFpiLNxLKK"
      }
    },
    {
      "cell_type": "markdown",
      "source": [
        "#### Solving a PDE"
      ],
      "metadata": {
        "id": "gEsnIXTMzShu"
      }
    },
    {
      "cell_type": "markdown",
      "source": [
        "To Solve the problem, we need to meet 3 conditions:\n",
        "* The PDE\n",
        "* Boundary condition\n",
        "* Initial Condition"
      ],
      "metadata": {
        "id": "WDD4WRYQxDIk"
      }
    },
    {
      "cell_type": "markdown",
      "source": [
        "Creating a function\n",
        "\n",
        "* **Sine Curves**: Any function can be written in terms of a Sin function\n",
        "* **Linearity**: A function can be written as a sum of multiple solution functions\n",
        "* **Fourier series**: Any function can be expressed as a sum of sine waves"
      ],
      "metadata": {
        "id": "EpJ71x4Cu_cr"
      }
    },
    {
      "cell_type": "markdown",
      "source": [
        "**Heat Example Cont.**\n",
        "\n",
        "Original PDE:\n",
        "\n",
        "$$\n",
        "\\frac{\\partial T}{\\partial t}(x,t) = \\alpha \\cdot \\frac{\\partial^2 T}{\\partial x^2}(x,t)\n",
        "$$\n",
        "\n",
        "Rewriting it as a Sin equation:\n",
        "\n",
        "$$\n",
        "T(x,0) = \\sin(x) \\\\\n",
        "\\frac{\\partial T}{\\partial t}(x,0) = \\cos(x) \\\\\n",
        "\\frac{\\partial^2 T}{\\partial x^2}(x,0) = -\\sin(x) \\\\\n",
        "\\\\\n",
        "\\frac{\\partial T}{\\partial t}(x,0) = \\alpha \\cdot \\frac{\\partial^2 T}{\\partial x^2}(x,0)\n",
        "= - \\alpha \\cdot T(x,0)\n",
        "$$\n",
        "\n",
        "writting the $\\alpha$ in terms of exponential $e$ relative to time.\n",
        "\n",
        "$$\n",
        "T(x,0) = \\sin(x) e^{-\\alpha t}\n",
        "$$\n",
        "\n",
        "Considering the boundaries where the rate of change is zero (the curve is flat),\n",
        "\n",
        "$$\n",
        "\\frac{\\partial T}{\\partial t}(0, 5) = \\frac{\\partial T}{\\partial t}(L, t) = 0\n",
        "$$\n",
        "\n",
        "We can rewrite in terms of $\\cos$ as $\\cos$ is just shifted $\\sin$. $\\cos$ is flat at $t=0$\n",
        "\n",
        "$$\n",
        "\\cos(x) \\overset{\\frac{\\partial}{\\partial t}}{\\rightarrow}\n",
        "-\\sin(x) \\overset{\\frac{\\partial}{\\partial t}}{\\rightarrow}\n",
        "-\\cos(x)\n",
        "\\\\\n",
        "\\cos(x) e^{-\\alpha t} \\overset{\\frac{\\partial}{\\partial t}}{\\rightarrow}\n",
        "-\\sin(x) e^{-\\alpha t} \\overset{\\frac{\\partial}{\\partial t}}{\\rightarrow}\n",
        "-\\cos(x) e^{-\\alpha t} \\\\\n",
        "$$\n",
        "Adjusting the frequency to meet the second boundary (flat at $L$)\n",
        "$$\n",
        "T = \\cos(w.x) \\overset{\\frac{\\partial}{\\partial t}}{\\rightarrow}\n",
        "-w \\sin(w.x) \\overset{\\frac{\\partial}{\\partial t}}{\\rightarrow}\n",
        "-w^2 \\cos(w.x)\n",
        "\\\\\n",
        "T = \\cos(\\underbrace{n \\:(\\pi/L)}_{w}\\cdot x)\n",
        "\\\\\n",
        "T = \\cos(n \\:(\\frac{\\pi}{L}) \\cdot x) \\; e^{-\\alpha (n \\:(\\frac{\\pi}{L}))^2 t}\n",
        "$$"
      ],
      "metadata": {
        "id": "UVmjIzkFzQ71"
      }
    },
    {
      "cell_type": "markdown",
      "source": [
        "## Fourier series\n",
        "\n",
        "A funciton of real numbers broken down to a sum of Sin functions\n",
        "\n",
        "$$\n",
        "c_n = \\int^1_0 e^{-2 \\pi i n t } f(t) dt\n",
        "$$"
      ],
      "metadata": {
        "id": "bsZIK6WIAtDu"
      }
    },
    {
      "cell_type": "markdown",
      "source": [
        "![fourier series](https://upload.wikimedia.org/wikipedia/commons/b/bd/Fourier_series_square_wave_circles_animation.svg)"
      ],
      "metadata": {
        "id": "EEDep8KBXoEm"
      }
    },
    {
      "cell_type": "markdown",
      "source": [
        "## Resources\n",
        "\n",
        "* https://www.youtube.com/playlist?list=PLZHQObOWTQDMsr9K-rj53DwVRMYO3t5Yr\n",
        "* https://www.symbolab.com/cheat-sheets/"
      ],
      "metadata": {
        "id": "jo-tCekvBvGS"
      }
    }
  ]
}