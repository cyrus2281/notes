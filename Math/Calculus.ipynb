{
  "nbformat": 4,
  "nbformat_minor": 0,
  "metadata": {
    "colab": {
      "provenance": [],
      "authorship_tag": "ABX9TyNbYwbmjvLtw2k6XcKiezJS",
      "include_colab_link": true
    },
    "kernelspec": {
      "name": "python3",
      "display_name": "Python 3"
    },
    "language_info": {
      "name": "python"
    }
  },
  "cells": [
    {
      "cell_type": "markdown",
      "metadata": {
        "id": "view-in-github",
        "colab_type": "text"
      },
      "source": [
        "<a href=\"https://colab.research.google.com/github/cyrus2281/notes/blob/main/Math/Calculus.ipynb\" target=\"_parent\"><img src=\"https://colab.research.google.com/assets/colab-badge.svg\" alt=\"Open In Colab\"/></a>"
      ]
    },
    {
      "cell_type": "markdown",
      "source": [
        "# Calculas"
      ],
      "metadata": {
        "id": "KRQ3hcmy-oVj"
      }
    },
    {
      "cell_type": "markdown",
      "source": [
        "## Limit"
      ],
      "metadata": {
        "id": "HlWFEn3n_-rr"
      }
    },
    {
      "cell_type": "markdown",
      "source": [
        "## Derivative\n",
        "\n",
        "> Instantaneous rate of change. Amount of displacement $A$ over the amount of displacement $t$, where $f(t)=A$. which is $\\displaystyle{\\frac{dA}{dt}}$ where $dt \\rightarrow 0$\n",
        "\n",
        "True definition in math:\n",
        "> The slope of the line tangent to the graph. Derivative \n",
        " models the slope of a function at any particular point, or in other words, the best constant **approximation** around a point."
      ],
      "metadata": {
        "id": "lry2dP4wCqFb"
      }
    },
    {
      "cell_type": "markdown",
      "source": [
        "Derivative of a function can be calculated using one of the 2 limit functions\n",
        "$$\n",
        "\\left\\{\\begin{matrix}\n",
        "f'(a) = \\lim\\limits_{x \\rightarrow a} \\frac{f(x)-f(a)}{x-a} \\\\\n",
        "f'(a) = \\lim\\limits_{h \\rightarrow 0} \\frac{f(x+h)-f(x)}{h}\n",
        "\\end{matrix}\\right.\n",
        "$$"
      ],
      "metadata": {
        "id": "2aWTm41FVski"
      }
    },
    {
      "cell_type": "markdown",
      "source": [
        "### Rules:"
      ],
      "metadata": {
        "id": "xuspJIbMXBtI"
      }
    },
    {
      "cell_type": "markdown",
      "source": [
        "#### Power Rule\n",
        "\n",
        "$$\n",
        "\\frac{d(x^n)}{dx}=nx^{x-1}\n",
        "$$\n"
      ],
      "metadata": {
        "id": "KQsoYnUI5-9u"
      }
    },
    {
      "cell_type": "markdown",
      "source": [
        "Proof:\n",
        "\n",
        "$$\n",
        "f(x)=x^n \\\\\n",
        "\\begin{align}\n",
        "\\underbrace{(x+dx)^n}_{\\text{Nudged output}} &=\n",
        "\\overbrace{(x+dx)(x+dx)(x+dx)\\cdots(x+dx)}^{n \\text{ times}} \\\\\n",
        "&= x^n + \n",
        "\\underset{\\overbrace{\n",
        "+ \\space dx \\cdot x \\cdot x \\cdots x \\\\\n",
        "+ \\space x \\cdot dx \\cdot x \\cdots x \\\\\n",
        "+ \\space x \\cdot x \\cdot dx \\cdots x \\\\\n",
        "\\space \\vdots \\\\\n",
        "+ \\space x \\cdot x \\cdot x \\cdots dx \\\\\n",
        "}}{nx^{n-1}dx}\n",
        "+ (\\text{Multiple of }dx^2)\n",
        "\\end{align}\n",
        "$$"
      ],
      "metadata": {
        "id": "uCVdMVtR9AQJ"
      }
    },
    {
      "cell_type": "markdown",
      "source": [
        "Example:\n",
        "$$\n",
        "1) \\space \\frac{d(x^3+2x^2+7)}{dx}=3x^2+2(2)x^1+7(0)=3x^2+4x\n",
        "$$"
      ],
      "metadata": {
        "id": "ND_XLcL_6UiR"
      }
    }
  ]
}