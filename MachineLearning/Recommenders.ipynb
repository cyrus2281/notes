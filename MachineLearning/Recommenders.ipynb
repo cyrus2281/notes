{
  "nbformat": 4,
  "nbformat_minor": 0,
  "metadata": {
    "colab": {
      "provenance": [],
      "toc_visible": true,
      "authorship_tag": "ABX9TyPDysbA0GNgRpyir8sAZ0Di",
      "include_colab_link": true
    },
    "kernelspec": {
      "name": "python3",
      "display_name": "Python 3"
    },
    "language_info": {
      "name": "python"
    }
  },
  "cells": [
    {
      "cell_type": "markdown",
      "metadata": {
        "id": "view-in-github",
        "colab_type": "text"
      },
      "source": [
        "<a href=\"https://colab.research.google.com/github/cyrus2281/notes/blob/main/MachineLearning/Recommenders.ipynb\" target=\"_parent\"><img src=\"https://colab.research.google.com/assets/colab-badge.svg\" alt=\"Open In Colab\"/></a>"
      ]
    },
    {
      "cell_type": "markdown",
      "source": [
        "# Recommenders"
      ],
      "metadata": {
        "id": "COYGNbvomdLn"
      }
    },
    {
      "cell_type": "markdown",
      "source": [
        "## Mathematical Recommenders"
      ],
      "metadata": {
        "id": "X7LG4JFYmfH9"
      }
    },
    {
      "cell_type": "markdown",
      "source": [
        "### Lift\n",
        "\n",
        "$$\n",
        "\\text{Lift} = \\frac{p(A,B)}{p(A)p(B)} = \\frac{p(A|B)}{p(A)} = \\frac{p(B|A)}{p(B)}\n",
        "$$\n",
        "\n",
        "- Symmetric\n",
        "- If A and B are independent, then $p(A|B) = p(A)$\n",
        "  - $p(A|B) / p(A) = 1$\n",
        "- if increasing the probability of B increases the probability of A, then Lift > 1"
      ],
      "metadata": {
        "id": "-NPdgLKNkwA2"
      }
    },
    {
      "cell_type": "markdown",
      "source": [
        "### Hacker News Formula\n",
        "\n",
        "Balancing Popularirty with Age\n",
        "\n",
        "$$\n",
        "\\frac{f(\\text{popularity})}{g(\\text{age})} \\\\[1cm]\n",
        "$$\n",
        "\n",
        "$$\n",
        "\\text{score} = \\frac{(\\text{ups} - \\text{downs} -1 )^{0.8}}{(\\text{age}+2)^{\\text{gravity}}} \\times \\text{penalty}\n",
        "$$\n",
        "\n",
        "- gravity = 1.8\n",
        "- penalty = multiplier to implement \"business rules\" (e.g. penalize self-posts, \"controversial\" posts, + many more rules)\n",
        "\n",
        "\\\n",
        "\n",
        "age starts from 2, to prevent division by zero\n",
        "\n",
        "exponent of numerator is bigger than the exponent of the denominator, meaning denominator grows faster.\n",
        "\n",
        "Age always overtakes popularity\n",
        "\n",
        "\\\n",
        "\n",
        "exponent 0.8 causes sublinear growth.\n",
        "meaning 0 → 100 worth more than 1000 → 1100\n",
        "\n"
      ],
      "metadata": {
        "id": "bNo3EqUbmjRp"
      }
    },
    {
      "cell_type": "markdown",
      "source": [
        "### Reddit Formula\n",
        "\n",
        "$$\n",
        "\\text{score} = \\text{sign}(\\text{ups}-\\text{down}) \\times \\log \\{ \\max(1, |\\text{ups} - \\text{downs}|) \\} + \\frac{\\text{age}}{45000}\n",
        "$$\n",
        "\n",
        "- log of the absoulte value of net votes - sublinear curve - initial votes matter more - max since log 0 is not possible\n",
        "\n",
        "\\\n",
        "\n",
        "- can be positive or negative\n",
        "  - The more downvotes you get, the futher your score goes down\n",
        "\n",
        "\\\n",
        "\n",
        "- age is in seconds from inception of reddit\n",
        "- age is always positive\n",
        "- newer links → more score\n",
        "- reddit scores will forever increase linearly\n"
      ],
      "metadata": {
        "id": "OX9Eah-ppQoq"
      }
    },
    {
      "cell_type": "markdown",
      "source": [
        "## Statistics"
      ],
      "metadata": {
        "id": "Ivwe3u2lzHp3"
      }
    },
    {
      "cell_type": "markdown",
      "source": [
        "### Smoothing (Dampening)\n",
        "\n",
        "To resolve the issue of 0 in sample data when getting mean\n",
        "\n",
        "$$\n",
        "r = \\frac{\\sum^N_{i=1} X_i + \\lambda \\mu_0}{N+\\lambda}\n",
        "$$\n",
        "\n",
        "\n",
        "- $\\lambda$ some random small non-zero number\n",
        "- $\\mu_0$ the global avergage or just some middle value\n",
        "\n",
        "\\\n",
        "\n",
        "For example:\n",
        "- 1000 reviews of 4 star - μ = 3 - λ = 1 → 3.999\n",
        "- 5 reviews of 4 star - μ = 3 - λ = 1 → 3.83\n",
        "- 1 review of 4 star - μ = 3 - λ = 1 → 3.5"
      ],
      "metadata": {
        "id": "S34-RUx8zI_f"
      }
    },
    {
      "cell_type": "markdown",
      "source": [
        "### Explore-Exploit Dilemma\n",
        "\n",
        "Example 1\n",
        "\n",
        "Imagine we want to find the slot machine with the highest win rate among 10 slot machines.\n",
        "\n",
        "Traditional statistical test can tell us whether or not there's a significant difference between win rates between machines.\n",
        "\n",
        "If playing each machine 100 times, meaning 1000 turns total, 900 (9/10) turns yielded a suboptimal reward.\n",
        "\n",
        "Hence the dilemma, Play more or play less!\n",
        "\n",
        "\n",
        "---\n",
        "\n",
        "Example 2\n",
        "\n",
        "Watching a bunach of YouTube videos on how to make eggs.\n",
        "\n",
        "Now your reccomendations are filled with videos about making eggs\n",
        "\n",
        "porbably suboptimal - once I've figured out how to make eggs, I don't want to watch more egg videos.\n",
        "\n",
        "YouTube is not exploiting the fact that I watched eggs video and not exploring other topics\n",
        "\n",
        "Should there be a stronger exploration component?\n",
        "\n",
        "Maybe I'd like to seE movie trailers or machine learning videos\n",
        "\n",
        "---\n",
        "\n",
        "How do we strike a balance between these 2 opposing forces?\n",
        "\n",
        "Smoothed average gives us one part of the solution\n",
        "\n",
        "Making good things look worse and bad things look better\n"
      ],
      "metadata": {
        "id": "gahD3CwG1XEv"
      }
    },
    {
      "cell_type": "markdown",
      "source": [
        "### Bayesian Method\n",
        "\n",
        "Bayesian method automatically balances need to explore and exploit\n",
        "\n",
        "- 2 fat distributions: explore both (totally random ranking)\n",
        "- 2 skinny distributions: exploit both (nearly deterministic ranking)\n",
        "- Mixed: explore and exploit co-exit\n",
        "\n",
        "\n",
        "Completely automatic - does not require A/B testing\n",
        "\n"
      ],
      "metadata": {
        "id": "N4WrwUfO6MUp"
      }
    }
  ]
}