{
  "nbformat": 4,
  "nbformat_minor": 0,
  "metadata": {
    "colab": {
      "provenance": [],
      "toc_visible": true,
      "authorship_tag": "ABX9TyNZ9ppwz9/cOLzQiMB/w0bi",
      "include_colab_link": true
    },
    "kernelspec": {
      "name": "python3",
      "display_name": "Python 3"
    },
    "language_info": {
      "name": "python"
    }
  },
  "cells": [
    {
      "cell_type": "markdown",
      "metadata": {
        "id": "view-in-github",
        "colab_type": "text"
      },
      "source": [
        "<a href=\"https://colab.research.google.com/github/cyrus2281/notes/blob/main/MachineLearning/Tensorflow/LazyProgrammer/01_Tensorflow_Machine_Learning_and_Neurons.ipynb\" target=\"_parent\"><img src=\"https://colab.research.google.com/assets/colab-badge.svg\" alt=\"Open In Colab\"/></a>"
      ]
    },
    {
      "cell_type": "markdown",
      "source": [
        "# Contents"
      ],
      "metadata": {
        "id": "AdR0sC3I0BW2"
      }
    },
    {
      "cell_type": "markdown",
      "source": [
        ">[Contents](#updateTitle=true&folderId=1tQy5G8Ez_uC7IO_awAeU041TrL-36P3f&scrollTo=AdR0sC3I0BW2)\n",
        "\n",
        ">[Getting Started](#updateTitle=true&folderId=1tQy5G8Ez_uC7IO_awAeU041TrL-36P3f&scrollTo=hbMFDDFFKQG-)\n",
        "\n",
        ">>[Download File](#updateTitle=true&folderId=1tQy5G8Ez_uC7IO_awAeU041TrL-36P3f&scrollTo=0wkd21_CJuIZ)\n",
        "\n",
        ">>>[Download file using wget](#updateTitle=true&folderId=1tQy5G8Ez_uC7IO_awAeU041TrL-36P3f&scrollTo=LHaGsGH8JwZS)\n",
        "\n",
        ">>>[Download file using tf.keras](#updateTitle=true&folderId=1tQy5G8Ez_uC7IO_awAeU041TrL-36P3f&scrollTo=IPZNEfNjJNyg)\n",
        "\n",
        ">>>[Upload File from Device](#updateTitle=true&folderId=1tQy5G8Ez_uC7IO_awAeU041TrL-36P3f&scrollTo=wVrxGUwlKK6S)\n",
        "\n",
        ">>>[Load File from Google Drive](#updateTitle=true&folderId=1tQy5G8Ez_uC7IO_awAeU041TrL-36P3f&scrollTo=sJgWXmNkLF6y)\n",
        "\n",
        ">>>[Download File from Google Colab](#updateTitle=true&folderId=1tQy5G8Ez_uC7IO_awAeU041TrL-36P3f&scrollTo=kiYyFK81aadf)\n",
        "\n",
        ">[Machine Learning](#updateTitle=true&folderId=1tQy5G8Ez_uC7IO_awAeU041TrL-36P3f&scrollTo=c2urpiNqz8GQ)\n",
        "\n",
        ">>[Linear Classification](#updateTitle=true&folderId=1tQy5G8Ez_uC7IO_awAeU041TrL-36P3f&scrollTo=M7XVYsZ6297S)\n",
        "\n",
        ">>>[Logistic Regression](#updateTitle=true&folderId=1tQy5G8Ez_uC7IO_awAeU041TrL-36P3f&scrollTo=0Mi1lgfW5Zwi)\n",
        "\n",
        ">>>>[Creating Model with tf.keras](#updateTitle=true&folderId=1tQy5G8Ez_uC7IO_awAeU041TrL-36P3f&scrollTo=nWvCUHIu61dv)\n",
        "\n",
        ">>>>>[Standardization](#updateTitle=true&folderId=1tQy5G8Ez_uC7IO_awAeU041TrL-36P3f&scrollTo=3OLPlLND9yC_)\n",
        "\n",
        ">>>>[Predicting Using the Model](#updateTitle=true&folderId=1tQy5G8Ez_uC7IO_awAeU041TrL-36P3f&scrollTo=-lbUXFo5_xQN)\n",
        "\n",
        ">>>>[Saving a Model](#updateTitle=true&folderId=1tQy5G8Ez_uC7IO_awAeU041TrL-36P3f&scrollTo=T-9Rb2AiZ6rC)\n",
        "\n",
        ">>>[Linear Regression](#updateTitle=true&folderId=1tQy5G8Ez_uC7IO_awAeU041TrL-36P3f&scrollTo=W2ngYYgCA-a_)\n",
        "\n",
        ">>>>[Learning Rate Scheduler](#updateTitle=true&folderId=1tQy5G8Ez_uC7IO_awAeU041TrL-36P3f&scrollTo=E4MuB-AwJDnt)\n",
        "\n",
        ">[The Neuron](#updateTitle=true&folderId=1tQy5G8Ez_uC7IO_awAeU041TrL-36P3f&scrollTo=z7h59ArNMdtt)\n",
        "\n",
        ">>[How does a model \"learn\"](#updateTitle=true&folderId=1tQy5G8Ez_uC7IO_awAeU041TrL-36P3f&scrollTo=96YQcPmFPyWO)\n",
        "\n",
        ">>>[Loss Function](#updateTitle=true&folderId=1tQy5G8Ez_uC7IO_awAeU041TrL-36P3f&scrollTo=ci9Lin07Wotc)\n",
        "\n",
        ">>>[Optimization](#updateTitle=true&folderId=1tQy5G8Ez_uC7IO_awAeU041TrL-36P3f&scrollTo=1Lt1m5bXREt4)\n",
        "\n",
        ">>>>[Gradient Descent](#updateTitle=true&folderId=1tQy5G8Ez_uC7IO_awAeU041TrL-36P3f&scrollTo=AmDmn_BfVFuG)\n",
        "\n"
      ],
      "metadata": {
        "colab_type": "toc",
        "id": "xCscqDDj0AKC"
      }
    },
    {
      "cell_type": "markdown",
      "source": [
        "# Getting Started"
      ],
      "metadata": {
        "id": "hbMFDDFFKQG-"
      }
    },
    {
      "cell_type": "markdown",
      "source": [
        "## Download File"
      ],
      "metadata": {
        "id": "0wkd21_CJuIZ"
      }
    },
    {
      "cell_type": "markdown",
      "source": [
        "### Download file using wget"
      ],
      "metadata": {
        "id": "LHaGsGH8JwZS"
      }
    },
    {
      "cell_type": "code",
      "source": [
        "# Download the data from a URL\n",
        "# sources: https://archive.ics.uci.edu/ml/datasets/Arrhythmia\n",
        "!wget https://archive.ics.uci.edu/ml/machine-learning-databases/arrhythmia/arrhythmia.data"
      ],
      "metadata": {
        "colab": {
          "base_uri": "https://localhost:8080/"
        },
        "id": "SqVnl0HSJ4Gf",
        "outputId": "cdb497e5-5617-485c-887d-b7b3df129bca"
      },
      "execution_count": null,
      "outputs": [
        {
          "output_type": "stream",
          "name": "stdout",
          "text": [
            "--2023-12-12 05:10:49--  https://archive.ics.uci.edu/ml/machine-learning-databases/arrhythmia/arrhythmia.data\n",
            "Resolving archive.ics.uci.edu (archive.ics.uci.edu)... 128.195.10.252\n",
            "Connecting to archive.ics.uci.edu (archive.ics.uci.edu)|128.195.10.252|:443... connected.\n",
            "HTTP request sent, awaiting response... 200 OK\n",
            "Length: unspecified\n",
            "Saving to: ‘arrhythmia.data.2’\n",
            "\n",
            "arrhythmia.data.2       [  <=>               ] 392.92K  1.25MB/s    in 0.3s    \n",
            "\n",
            "2023-12-12 05:10:49 (1.25 MB/s) - ‘arrhythmia.data.2’ saved [402355]\n",
            "\n"
          ]
        }
      ]
    },
    {
      "cell_type": "code",
      "source": [
        "# Check if the data has a header\n",
        "!head -n 1 arrhythmia.data"
      ],
      "metadata": {
        "colab": {
          "base_uri": "https://localhost:8080/"
        },
        "id": "VEz2UABDJ77R",
        "outputId": "51035349-07de-414a-a91e-a2108521fe77"
      },
      "execution_count": null,
      "outputs": [
        {
          "output_type": "stream",
          "name": "stdout",
          "text": [
            "75,0,190,80,91,193,371,174,121,-16,13,64,-2,?,63,0,52,44,0,0,32,0,0,0,0,0,0,0,44,20,36,0,28,0,0,0,0,0,0,52,40,0,0,0,60,0,0,0,0,0,0,52,0,0,0,0,0,0,0,0,0,0,0,0,56,36,0,0,32,0,0,0,0,0,0,48,32,0,0,0,56,0,0,0,0,0,0,80,0,0,0,0,0,0,0,0,0,0,0,0,40,52,0,0,28,0,0,0,0,0,0,0,48,48,0,0,32,0,0,0,0,0,0,0,52,52,0,0,36,0,0,0,0,0,0,0,52,48,0,0,32,0,0,0,0,0,0,0,56,44,0,0,32,0,0,0,0,0,0,-0.2,0.0,6.1,-1.0,0.0,0.0,0.6,2.1,13.6,30.8,0.0,0.0,1.7,-1.0,0.6,0.0,1.3,1.5,3.7,14.5,0.1,-5.2,1.4,0.0,0.0,0.0,0.8,-0.6,-10.7,-15.6,0.4,-3.9,0.0,0.0,0.0,0.0,-0.8,-1.7,-10.1,-22.0,0.0,0.0,5.7,-1.0,0.0,0.0,-0.1,1.2,14.1,22.5,0.0,-2.5,0.8,0.0,0.0,0.0,1.0,0.4,-4.8,-2.7,0.1,-6.0,0.0,0.0,0.0,0.0,-0.8,-0.6,-24.0,-29.7,0.0,0.0,2.0,-6.4,0.0,0.0,0.2,2.9,-12.6,15.2,-0.1,0.0,8.4,-10.0,0.0,0.0,0.6,5.9,-3.9,52.7,-0.3,0.0,15.2,-8.4,0.0,0.0,0.9,5.1,17.7,70.7,-0.4,0.0,13.5,-4.0,0.0,0.0,0.9,3.9,25.5,62.9,-0.3,0.0,9.0,-0.9,0.0,0.0,0.9,2.9,23.3,49.4,8\n"
          ]
        }
      ]
    },
    {
      "cell_type": "markdown",
      "source": [
        "### Download file using tf.keras"
      ],
      "metadata": {
        "id": "IPZNEfNjJNyg"
      }
    },
    {
      "cell_type": "code",
      "source": [
        "# use keras get_file to download the auto MPG datasets\n",
        "# sources: https://archive.ics.uci.edu/ml/datasets/Auto+MPG\n",
        "url = 'https://archive.ics.uci.edu/ml/machine-learning-databases/auto-mpg/auto-mpg.data'"
      ],
      "metadata": {
        "id": "Ht8f5vw_-Y0p"
      },
      "execution_count": null,
      "outputs": []
    },
    {
      "cell_type": "code",
      "source": [
        "import tensorflow as tf"
      ],
      "metadata": {
        "id": "wCwFwgm2JiGR"
      },
      "execution_count": null,
      "outputs": []
    },
    {
      "cell_type": "code",
      "source": [
        "# Check out the documentation for other args\n",
        "tf.keras.utils.get_file('auto-mpg.data', url)"
      ],
      "metadata": {
        "colab": {
          "base_uri": "https://localhost:8080/",
          "height": 35
        },
        "id": "i_SgsCNjJYXp",
        "outputId": "0e22016a-7761-40c8-e537-33515e56a82f"
      },
      "execution_count": null,
      "outputs": [
        {
          "output_type": "execute_result",
          "data": {
            "text/plain": [
              "'/root/.keras/datasets/auto-mpg.data'"
            ],
            "application/vnd.google.colaboratory.intrinsic+json": {
              "type": "string"
            }
          },
          "metadata": {},
          "execution_count": 5
        }
      ]
    },
    {
      "cell_type": "code",
      "source": [
        "!head /root/.keras/datasets/auto-mpg.data"
      ],
      "metadata": {
        "colab": {
          "base_uri": "https://localhost:8080/"
        },
        "id": "T09MnPPKJmEt",
        "outputId": "5861f28b-1c30-49ba-a550-d9df740d79b9"
      },
      "execution_count": null,
      "outputs": [
        {
          "output_type": "stream",
          "name": "stdout",
          "text": [
            "18.0   8   307.0      130.0      3504.      12.0   70  1\t\"chevrolet chevelle malibu\"\n",
            "15.0   8   350.0      165.0      3693.      11.5   70  1\t\"buick skylark 320\"\n",
            "18.0   8   318.0      150.0      3436.      11.0   70  1\t\"plymouth satellite\"\n",
            "16.0   8   304.0      150.0      3433.      12.0   70  1\t\"amc rebel sst\"\n",
            "17.0   8   302.0      140.0      3449.      10.5   70  1\t\"ford torino\"\n",
            "15.0   8   429.0      198.0      4341.      10.0   70  1\t\"ford galaxie 500\"\n",
            "14.0   8   454.0      220.0      4354.       9.0   70  1\t\"chevrolet impala\"\n",
            "14.0   8   440.0      215.0      4312.       8.5   70  1\t\"plymouth fury iii\"\n",
            "14.0   8   455.0      225.0      4425.      10.0   70  1\t\"pontiac catalina\"\n",
            "15.0   8   390.0      190.0      3850.       8.5   70  1\t\"amc ambassador dpl\"\n"
          ]
        }
      ]
    },
    {
      "cell_type": "markdown",
      "source": [
        "### Upload File from Device"
      ],
      "metadata": {
        "id": "wVrxGUwlKK6S"
      }
    },
    {
      "cell_type": "code",
      "source": [
        "from google.colab import files\n",
        "uploaded = files.upload()"
      ],
      "metadata": {
        "id": "4tUNx38qKUTF"
      },
      "execution_count": null,
      "outputs": []
    },
    {
      "cell_type": "markdown",
      "source": [
        "### Load File from Google Drive"
      ],
      "metadata": {
        "id": "sJgWXmNkLF6y"
      }
    },
    {
      "cell_type": "code",
      "source": [
        "# Access files from GG drive\n",
        "from google.colab import drive\n",
        "drive.mount('/content/gdrive')"
      ],
      "metadata": {
        "colab": {
          "base_uri": "https://localhost:8080/"
        },
        "id": "AzqSUj0vLNfu",
        "outputId": "9ebf97d8-c36c-4c81-9737-62510e9cfaac"
      },
      "execution_count": null,
      "outputs": [
        {
          "output_type": "stream",
          "name": "stdout",
          "text": [
            "Mounted at /content/gdrive\n"
          ]
        }
      ]
    },
    {
      "cell_type": "code",
      "source": [
        "!ls gdrive"
      ],
      "metadata": {
        "colab": {
          "base_uri": "https://localhost:8080/"
        },
        "id": "7DBzsRNnLaHJ",
        "outputId": "cc75b00d-ad1a-4094-e064-6c29c65e8d13"
      },
      "execution_count": null,
      "outputs": [
        {
          "output_type": "stream",
          "name": "stdout",
          "text": [
            "MyDrive\n"
          ]
        }
      ]
    },
    {
      "cell_type": "markdown",
      "source": [
        "### Download File from Google Colab"
      ],
      "metadata": {
        "id": "kiYyFK81aadf"
      }
    },
    {
      "cell_type": "code",
      "source": [
        "from google.colab import files\n",
        "files.download('/root/.keras/datasets/auto-mpg.data')"
      ],
      "metadata": {
        "colab": {
          "base_uri": "https://localhost:8080/",
          "height": 17
        },
        "id": "wR6dhcqsag4F",
        "outputId": "4313017b-d3f6-44ba-eab4-2485c3df92bf"
      },
      "execution_count": null,
      "outputs": [
        {
          "output_type": "display_data",
          "data": {
            "text/plain": [
              "<IPython.core.display.Javascript object>"
            ],
            "application/javascript": [
              "\n",
              "    async function download(id, filename, size) {\n",
              "      if (!google.colab.kernel.accessAllowed) {\n",
              "        return;\n",
              "      }\n",
              "      const div = document.createElement('div');\n",
              "      const label = document.createElement('label');\n",
              "      label.textContent = `Downloading \"${filename}\": `;\n",
              "      div.appendChild(label);\n",
              "      const progress = document.createElement('progress');\n",
              "      progress.max = size;\n",
              "      div.appendChild(progress);\n",
              "      document.body.appendChild(div);\n",
              "\n",
              "      const buffers = [];\n",
              "      let downloaded = 0;\n",
              "\n",
              "      const channel = await google.colab.kernel.comms.open(id);\n",
              "      // Send a message to notify the kernel that we're ready.\n",
              "      channel.send({})\n",
              "\n",
              "      for await (const message of channel.messages) {\n",
              "        // Send a message to notify the kernel that we're ready.\n",
              "        channel.send({})\n",
              "        if (message.buffers) {\n",
              "          for (const buffer of message.buffers) {\n",
              "            buffers.push(buffer);\n",
              "            downloaded += buffer.byteLength;\n",
              "            progress.value = downloaded;\n",
              "          }\n",
              "        }\n",
              "      }\n",
              "      const blob = new Blob(buffers, {type: 'application/binary'});\n",
              "      const a = document.createElement('a');\n",
              "      a.href = window.URL.createObjectURL(blob);\n",
              "      a.download = filename;\n",
              "      div.appendChild(a);\n",
              "      a.click();\n",
              "      div.remove();\n",
              "    }\n",
              "  "
            ]
          },
          "metadata": {}
        },
        {
          "output_type": "display_data",
          "data": {
            "text/plain": [
              "<IPython.core.display.Javascript object>"
            ],
            "application/javascript": [
              "download(\"download_7e1f70d3-d520-47bb-a756-851ffce55c12\", \"auto-mpg.data\", 30286)"
            ]
          },
          "metadata": {}
        }
      ]
    },
    {
      "cell_type": "markdown",
      "source": [
        "# Machine Learning"
      ],
      "metadata": {
        "id": "c2urpiNqz8GQ"
      }
    },
    {
      "cell_type": "markdown",
      "source": [
        "**Advertised Definition**\n",
        "\n",
        "> \"Machine learning is an application of artificial intelligence (AI) that provides systems the ability to automatically learn and improve from experience without being explicitly programmed. Machine learning focuses on the development of computer programs that can access data and use it to learn for themselves.\n",
        ">\n",
        "> The process of learning begins with observations or data, such as examples, direct experience, or instruction, in order to look for patterns in data and make better decisions in the future based on the examples that we provide. The primary aim is to allow the computers to learn automatically without human intervention or assistance and adjust actions accordingly.\"\n",
        "\n",
        "> Machine Learning(ML) can be explained as automating and improving the learning process of computers based on their experiences without actually being programmed i.e. without any human assistance. The process starts with feeding good quality data and then training our machines(computers) by building machine learning models using the data and different algorithms.\n"
      ],
      "metadata": {
        "id": "Xpc8bFOM0Dvd"
      }
    },
    {
      "cell_type": "markdown",
      "source": [
        "**Real Definition**\n",
        "\n",
        "> **Machine learning is nothing but a geometry probelm**\n",
        "\n",
        "Machine learning is not magic, it's just a glorified curve-fitting.\n",
        "\n",
        "E.g. Fit a line to a curve. $\\hat y = mx + b$\n",
        "\n",
        "\n",
        "Each layer in neural network model is basically a regression equation"
      ],
      "metadata": {
        "id": "DhE7K0Ga01bd"
      }
    },
    {
      "cell_type": "markdown",
      "source": [
        "## Linear Classification\n",
        "\n"
      ],
      "metadata": {
        "id": "M7XVYsZ6297S"
      }
    },
    {
      "cell_type": "markdown",
      "source": [
        "For 2D classification:\n",
        "- the horizontal axis is $x_1$\n",
        "- the vertical axis is $x_2$\n",
        "\n",
        "$x_2 = mx_1 + b$ can be rewritten as:\n",
        "\n",
        "$$\n",
        "w_1x_1 + w_2x_2 + b = 0\n",
        "$$\n",
        "\n",
        "If we set that equal to $\n",
        "w_1x_1 + w_2x_2 + b = a\n",
        "$, we'd get:\n",
        "- if $a \\ge 0 \\rightarrow$ predict 1\n",
        "- if $a < 0 \\rightarrow$ predict 0\n",
        "\n",
        "\\\n",
        "\n",
        "Mathematically, it can be written as a step function (only 1 or 0)\n",
        "$\n",
        "\\hat y = u(a), \\quad a= w_1x_1 + w_2x_2 + b\n",
        "$\n",
        "\n",
        "\\\n",
        "\n",
        "In Deep Learning, we prefer smooth, differentiable functions (\"sigmoid\"):\n",
        "\n",
        "$\n",
        "\\hat y = \\sigma(a), \\quad a= w_1x_1 + w_2x_2 + b\n",
        "$\n",
        "\n",
        "\\\n",
        "\n",
        "We interpret this output as *the probability that y=1 given x*.\n",
        "\n",
        "To make prediction, we roudn, e.g.: if $p(y=1|x) \\ge 50\\% \\rightarrow$ 1, else 0"
      ],
      "metadata": {
        "id": "bzOIWAqZ3BWf"
      }
    },
    {
      "cell_type": "markdown",
      "source": [
        "### Logistic Regression\n",
        "\n",
        "Ths \"S-shaped\" curve is called a sigmoid. A linear model that uses sigmoid is called **logistic regression**.\n",
        "\n",
        "$$\n",
        "p(y=1|x)= \\sigma(w_1x_1 + w_2x_2 + b ) \\\\\n",
        "$$\n",
        "\n",
        "Sigmoid function is also sometimes called logistic function.\n",
        "\n",
        "Its argument is called **\"logit\"**, although a more modern name is \"**activation**\"\n",
        "\n",
        "\\\n",
        "\n",
        "For $n$ number of inputs, we can generalize the formula as:\n",
        "\n",
        "$$\n",
        "p(y=1|x)= \\sigma(w^Tx + b ) = \\sigma(\\sum_{d=1}^Dw_dx_d + b) \\\\\n",
        "$$\n",
        "\n"
      ],
      "metadata": {
        "id": "0Mi1lgfW5Zwi"
      }
    },
    {
      "cell_type": "markdown",
      "source": [
        "#### Creating Model with tf.keras\n",
        "\n",
        "In tf.keras, this can be implemented useing a *Dense* layer.\n",
        "\n",
        "```python\n",
        "model = tf.keras.models.Sequential([\n",
        "    tf.keras.layers.Input(shape=(D,)),\n",
        "    tf.keras.layers.Dense(1, activation='sigmoid')\n",
        "])\n",
        "```"
      ],
      "metadata": {
        "id": "nWvCUHIu61dv"
      }
    },
    {
      "cell_type": "code",
      "source": [
        "import tensorflow as tf\n",
        "\n",
        "# Load in the data\n",
        "from sklearn.datasets import load_breast_cancer"
      ],
      "metadata": {
        "id": "TBFg3eGL8lrq"
      },
      "execution_count": null,
      "outputs": []
    },
    {
      "cell_type": "code",
      "source": [
        "# Load the data\n",
        "data = load_breast_cancer()\n",
        "\n",
        "# Check the type of data\n",
        "type(data)"
      ],
      "metadata": {
        "colab": {
          "base_uri": "https://localhost:8080/"
        },
        "id": "IfClx6o78urf",
        "outputId": "a73c3276-2d78-419c-8944-c62f9fb1dafa"
      },
      "execution_count": null,
      "outputs": [
        {
          "output_type": "execute_result",
          "data": {
            "text/plain": [
              "sklearn.utils._bunch.Bunch"
            ]
          },
          "metadata": {},
          "execution_count": 13
        }
      ]
    },
    {
      "cell_type": "code",
      "source": [
        "data.keys(), data.data.shape, data.target[:5]"
      ],
      "metadata": {
        "colab": {
          "base_uri": "https://localhost:8080/"
        },
        "id": "dCK0RtXD83LW",
        "outputId": "9a6ea9df-96ab-475c-dcb5-80bb1dae9e59"
      },
      "execution_count": null,
      "outputs": [
        {
          "output_type": "execute_result",
          "data": {
            "text/plain": [
              "(dict_keys(['data', 'target', 'frame', 'target_names', 'DESCR', 'feature_names', 'filename', 'data_module']),\n",
              " (569, 30),\n",
              " array([0, 0, 0, 0, 0]))"
            ]
          },
          "metadata": {},
          "execution_count": 14
        }
      ]
    },
    {
      "cell_type": "code",
      "source": [
        "data.target_names, data.target.shape, data.feature_names[:5]"
      ],
      "metadata": {
        "colab": {
          "base_uri": "https://localhost:8080/"
        },
        "id": "z0EyiDEu9Y9J",
        "outputId": "2dc23ce8-2216-426a-a79a-e6d57d52dba3"
      },
      "execution_count": null,
      "outputs": [
        {
          "output_type": "execute_result",
          "data": {
            "text/plain": [
              "(array(['malignant', 'benign'], dtype='<U9'),\n",
              " (569,),\n",
              " array(['mean radius', 'mean texture', 'mean perimeter', 'mean area',\n",
              "        'mean smoothness'], dtype='<U23'))"
            ]
          },
          "metadata": {},
          "execution_count": 15
        }
      ]
    },
    {
      "cell_type": "code",
      "source": [
        "from sklearn.model_selection import train_test_split\n",
        "\n",
        "# Split the data intro train and test sets\n",
        "X_train, X_test, y_train, y_test = train_test_split(data.data, data.target, test_size=0.33)\n",
        "N, D = X_train.shape"
      ],
      "metadata": {
        "id": "193shFDG9h8a"
      },
      "execution_count": null,
      "outputs": []
    },
    {
      "cell_type": "markdown",
      "source": [
        "##### Standardization\n",
        "\n",
        "Normalization (Standardization): To prevent outliers changing the effect of other values.\n",
        "\n",
        "$$\n",
        "z = \\frac{x-\\mu}{\\sigma}\n",
        "$$\n",
        "\n",
        "- μ = Mean\n",
        "- σ = Standard Deviation"
      ],
      "metadata": {
        "id": "3OLPlLND9yC_"
      }
    },
    {
      "cell_type": "code",
      "source": [
        "# Scale the data\n",
        "from sklearn.preprocessing import StandardScaler\n",
        "\n",
        "scaler = StandardScaler()\n",
        "X_train = scaler.fit_transform(X_train)\n",
        "X_test = scaler.transform(X_test)"
      ],
      "metadata": {
        "id": "aUzEL5Gv9v46"
      },
      "execution_count": null,
      "outputs": []
    },
    {
      "cell_type": "code",
      "source": [
        "# Build the model\n",
        "# model = tf.keras.models.Sequential([\n",
        "#     tf.keras.layers.Input(shape=(D,)),\n",
        "#     tf.keras.layers.Dense(1, activation='sigmoid')\n",
        "# ])\n",
        "\n",
        "# Alternatively, can do:\n",
        "model = tf.keras.models.Sequential()\n",
        "model.add(tf.keras.layers.Dense(1, input_shape=(D,), activation='sigmoid'))\n",
        "\n",
        "model.compile(optimizer='adam',\n",
        "              loss = 'binary_crossentropy',\n",
        "              metrics=['accuracy']\n",
        "              )\n",
        "\n",
        "# training the model\n",
        "r = model.fit(X_train, y_train, validation_data=(X_test, y_test), epochs=100, verbose=\"\")\n",
        "\n",
        "# Evaluate the model - evaluate() returns loss and accuracy\n",
        "print(\"Train score: \", model.evaluate(X_train, y_train))\n",
        "print(\"Test score: \", model.evaluate(X_test, y_test))"
      ],
      "metadata": {
        "colab": {
          "base_uri": "https://localhost:8080/"
        },
        "id": "II2LgV8I-HBZ",
        "outputId": "4c14d262-0a6f-4b44-a4c9-1dbe3f3a28e6"
      },
      "execution_count": null,
      "outputs": [
        {
          "output_type": "stream",
          "name": "stdout",
          "text": [
            "12/12 [==============================] - 0s 2ms/step - loss: 0.1068 - accuracy: 0.9764\n",
            "Train score:  [0.10679317265748978, 0.9763779640197754]\n",
            "6/6 [==============================] - 0s 3ms/step - loss: 0.1199 - accuracy: 0.9681\n",
            "Test score:  [0.1198975145816803, 0.9680851101875305]\n"
          ]
        }
      ]
    },
    {
      "cell_type": "code",
      "source": [
        "# Plot what's returned by model.fit()\n",
        "\n",
        "import matplotlib.pyplot as plt\n",
        "plt.plot(r.history['loss'], label='loss')\n",
        "plt.plot(r.history['val_loss'], label='val_loss')\n",
        "plt.legend()"
      ],
      "metadata": {
        "colab": {
          "base_uri": "https://localhost:8080/",
          "height": 447
        },
        "id": "adIOXSR7-imU",
        "outputId": "d8194850-7c87-4f64-8825-3d20d56ac57d"
      },
      "execution_count": null,
      "outputs": [
        {
          "output_type": "execute_result",
          "data": {
            "text/plain": [
              "<matplotlib.legend.Legend at 0x7b8e5421d150>"
            ]
          },
          "metadata": {},
          "execution_count": 19
        },
        {
          "output_type": "display_data",
          "data": {
            "text/plain": [
              "<Figure size 640x480 with 1 Axes>"
            ],
            "image/png": "[encoded data removed]"
          },
          "metadata": {}
        }
      ]
    },
    {
      "cell_type": "code",
      "source": [
        "plt.plot(r.history['accuracy'], label='acc')\n",
        "plt.plot(r.history['val_accuracy'], label='val_acc')\n",
        "plt.legend()"
      ],
      "metadata": {
        "colab": {
          "base_uri": "https://localhost:8080/",
          "height": 447
        },
        "id": "zOkyMkDf-l1V",
        "outputId": "ae75e452-f7e3-4447-b8f3-bcb83bce2256"
      },
      "execution_count": null,
      "outputs": [
        {
          "output_type": "execute_result",
          "data": {
            "text/plain": [
              "<matplotlib.legend.Legend at 0x7b8e519bf4c0>"
            ]
          },
          "metadata": {},
          "execution_count": 20
        },
        {
          "output_type": "display_data",
          "data": {
            "text/plain": [
              "<Figure size 640x480 with 1 Axes>"
            ],
            "image/png": "[encoded data removed]"
          },
          "metadata": {}
        }
      ]
    },
    {
      "cell_type": "markdown",
      "source": [
        "#### Predicting Using the Model"
      ],
      "metadata": {
        "id": "-lbUXFo5_xQN"
      }
    },
    {
      "cell_type": "code",
      "source": [
        "# Make predictions\n",
        "P = model.predict(X_test)\n",
        "P[:5] # They are outputs of the sigmoid, interpreted as probabilities p(y =1 | x)"
      ],
      "metadata": {
        "colab": {
          "base_uri": "https://localhost:8080/"
        },
        "id": "7SLWzk5d_4rO",
        "outputId": "66161cb4-98c2-44ca-a227-e291a1f08e17"
      },
      "execution_count": null,
      "outputs": [
        {
          "output_type": "stream",
          "name": "stdout",
          "text": [
            "6/6 [==============================] - 0s 2ms/step\n"
          ]
        },
        {
          "output_type": "execute_result",
          "data": {
            "text/plain": [
              "array([[3.0656224e-07],\n",
              "       [2.1873946e-01],\n",
              "       [9.9972856e-01],\n",
              "       [6.6934630e-02],\n",
              "       [9.8097777e-01]], dtype=float32)"
            ]
          },
          "metadata": {},
          "execution_count": 21
        }
      ]
    },
    {
      "cell_type": "code",
      "source": [
        "# Round to get the actual predictions\n",
        "import numpy as np\n",
        "P = np.round(P).flatten()\n",
        "P[:5]"
      ],
      "metadata": {
        "colab": {
          "base_uri": "https://localhost:8080/"
        },
        "id": "ZVwOUPijY6Q6",
        "outputId": "c5a43f24-c306-4f4c-afe8-8a9829571fcd"
      },
      "execution_count": null,
      "outputs": [
        {
          "output_type": "execute_result",
          "data": {
            "text/plain": [
              "array([0., 0., 1., 0., 1.], dtype=float32)"
            ]
          },
          "metadata": {},
          "execution_count": 22
        }
      ]
    },
    {
      "cell_type": "code",
      "source": [
        "# Calculate the accuracy, compare it to evaluate() output\n",
        "print(\"Manually calculated accuracy: \", np.mean(P == y_test))\n",
        "print(\"Evaluate output: \", model.evaluate(X_test, y_test))"
      ],
      "metadata": {
        "colab": {
          "base_uri": "https://localhost:8080/"
        },
        "id": "xJvz0q5TZIDw",
        "outputId": "97e29211-5265-407c-dc7e-d0fd604cc164"
      },
      "execution_count": null,
      "outputs": [
        {
          "output_type": "stream",
          "name": "stdout",
          "text": [
            "Manually calculated accuracy:  0.9680851063829787\n",
            "6/6 [==============================] - 0s 5ms/step - loss: 0.1199 - accuracy: 0.9681\n",
            "Evaluate output:  [0.1198975145816803, 0.9680851101875305]\n"
          ]
        }
      ]
    },
    {
      "cell_type": "markdown",
      "source": [
        "#### Saving a Model"
      ],
      "metadata": {
        "id": "T-9Rb2AiZ6rC"
      }
    },
    {
      "cell_type": "code",
      "source": [
        "# Save model to a file\n",
        "model.save('linearclassifier')"
      ],
      "metadata": {
        "id": "wuuFFO1waE77"
      },
      "execution_count": null,
      "outputs": []
    },
    {
      "cell_type": "code",
      "source": [
        "model = tf.keras.models.load_model('linearclassifier')\n",
        "print(model.layers)\n",
        "model.evaluate(X_test, y_test)"
      ],
      "metadata": {
        "colab": {
          "base_uri": "https://localhost:8080/"
        },
        "id": "mdzkunDYaSdU",
        "outputId": "ee0e616e-dae6-4cfd-8df9-80cd11aed744"
      },
      "execution_count": null,
      "outputs": [
        {
          "output_type": "stream",
          "name": "stdout",
          "text": [
            "[<keras.src.layers.core.dense.Dense object at 0x7b8e51893ca0>]\n",
            "6/6 [==============================] - 0s 4ms/step - loss: 0.1199 - accuracy: 0.9681\n"
          ]
        },
        {
          "output_type": "execute_result",
          "data": {
            "text/plain": [
              "[0.1198975145816803, 0.9680851101875305]"
            ]
          },
          "metadata": {},
          "execution_count": 25
        }
      ]
    },
    {
      "cell_type": "markdown",
      "source": [
        "### Linear Regression\n",
        "\n",
        "> The linst of best fit\n",
        "$$\n",
        "\\hat y = mx + b \\\\\n",
        "$$\n",
        "More generalized:\n",
        "$$\n",
        "\\hat y = w^Tx + b = \\sum_{d=1}^Dw_dx_d + b \\\\\n",
        "$$\n",
        "\n",
        "\n",
        "\n",
        "In this section we use Linear Rergession to prove Moore's law that the number of transistors in an integrated circuit doubles about every two years.\n",
        "\n",
        "\\"
      ],
      "metadata": {
        "id": "W2ngYYgCA-a_"
      }
    },
    {
      "cell_type": "markdown",
      "source": [
        "Our original model for exponential growth is:\n",
        "$$\n",
        "C = A_0r^t\n",
        "$$\n",
        "\n",
        "Where $C$ is transistor the count and $t$ is the year.\n",
        "\n",
        "$r$ is the rate of growth. For example, when $t$ goes from 1 to 2, $C$ increase by a factor $f$. When $t$ goes from 2 to 3, $C$ increase by a factor of $r$ again.\n",
        "\n",
        "When we take the log of both sides, we get\n",
        "\n",
        "$$\n",
        "\\log C = \\log r \\times t + \\log A_0\n",
        "$$\n",
        "\n",
        "This is our linear equation:\n",
        "\n",
        "$$\n",
        "\\hat y = ax + b\n",
        "$$\n",
        "\n",
        "where:\n",
        "\n",
        "$$\n",
        "\\hat y = \\log C \\\\\n",
        "a = \\log r \\\\\n",
        "x = t \\\\\n",
        "b = \\log A_0\n",
        "$$\n",
        "\n",
        "We're intrested in $r$, because that's the rate of growth. Given our regression weights (Calculated from the model from code snippet below), we know that:\n",
        "\n",
        "$$\n",
        "a = 0.34188938\n",
        "$$\n",
        "\n",
        "So that:\n",
        "$$\n",
        "r = e^{0.34188938} = 1.4076\n",
        "$$\n",
        "\n",
        "\n",
        "To find the time it takes for transistor count to double, we simply need to find the amount of time it takes $C$ to increase to $2C$.\n",
        "\n",
        "Let's call the original starting time $t$, to correspond with the initial transistor count $C$.\n",
        "\n",
        "Let's call the end time $t'$, to correspond with the final transistor count $2C$.\n",
        "\n",
        "Then we also have:\n",
        "$$\n",
        "2C = A_0r^{t'}\n",
        "$$\n",
        "\n",
        "Combine this with our original equation:\n",
        "$$\n",
        "C = A_0 r^t\n",
        "$$\n",
        "\n",
        "We get (by dividing the 2 equations):\n",
        "$$\n",
        "\\frac{2C}{C} = \\frac{A_0r^{t'}}{A_0r^t}\n",
        "$$\n",
        "\n",
        "Which simplified to:\n",
        "$$\n",
        "2 = r^{(t'-t)}\n",
        "$$\n",
        "\n",
        "Solve for $t' - t$:\n",
        "$$\n",
        "t'-t = \\frac{\\log 2}{\\log r} = \\frac{\\log 2}{a}\n",
        "$$\n",
        "\n",
        "Important note! We haven't specified what the starting time $t$ actually is, and we don't have to since we just proved that this holds for any $t$.\n"
      ],
      "metadata": {
        "id": "oFPFVOpaEiVb"
      }
    },
    {
      "cell_type": "code",
      "source": [
        "import tensorflow as tf\n",
        "import pandas as pd\n",
        "import numpy as np\n",
        "import matplotlib.pyplot as plt"
      ],
      "metadata": {
        "id": "TL5-udVJBFak"
      },
      "execution_count": null,
      "outputs": []
    },
    {
      "cell_type": "code",
      "source": [
        "# Get the data\n",
        "!wget https://raw.githubusercontent.com/lazyprogrammer/machine_learning_examples/master/tf2.0/moore.csv"
      ],
      "metadata": {
        "colab": {
          "base_uri": "https://localhost:8080/"
        },
        "id": "-A2dK6-IBI_h",
        "outputId": "eb14c6e7-013c-481c-f490-ec3fb854b8c5"
      },
      "execution_count": null,
      "outputs": [
        {
          "output_type": "stream",
          "name": "stdout",
          "text": [
            "--2023-12-12 05:11:47--  https://raw.githubusercontent.com/lazyprogrammer/machine_learning_examples/master/tf2.0/moore.csv\n",
            "Resolving raw.githubusercontent.com (raw.githubusercontent.com)... 185.199.108.133, 185.199.109.133, 185.199.110.133, ...\n",
            "Connecting to raw.githubusercontent.com (raw.githubusercontent.com)|185.199.108.133|:443... connected.\n",
            "HTTP request sent, awaiting response... 200 OK\n",
            "Length: 2302 (2.2K) [text/plain]\n",
            "Saving to: ‘moore.csv.4’\n",
            "\n",
            "\rmoore.csv.4           0%[                    ]       0  --.-KB/s               \rmoore.csv.4         100%[===================>]   2.25K  --.-KB/s    in 0s      \n",
            "\n",
            "2023-12-12 05:11:47 (33.0 MB/s) - ‘moore.csv.4’ saved [2302/2302]\n",
            "\n"
          ]
        }
      ]
    },
    {
      "cell_type": "code",
      "source": [
        "# Load in the data\n",
        "data = pd.read_csv('moore.csv', header=None).values\n",
        "X = data[:,0].reshape(-1, 1) # Make it a 2-D array of size N x D where D = 1\n",
        "Y = data[:,1]\n",
        "\n",
        "# plot the data - it is exponential\n",
        "plt.scatter(X, Y)"
      ],
      "metadata": {
        "colab": {
          "base_uri": "https://localhost:8080/",
          "height": 462
        },
        "id": "ecBYrKokBMqP",
        "outputId": "acc52f02-f2e1-4169-8ef6-a5da4708a0a9"
      },
      "execution_count": null,
      "outputs": [
        {
          "output_type": "execute_result",
          "data": {
            "text/plain": [
              "<matplotlib.collections.PathCollection at 0x7b8e51123c70>"
            ]
          },
          "metadata": {},
          "execution_count": 28
        },
        {
          "output_type": "display_data",
          "data": {
            "text/plain": [
              "<Figure size 640x480 with 1 Axes>"
            ],
            "image/png": "[encoded data removed]"
          },
          "metadata": {}
        }
      ]
    },
    {
      "cell_type": "code",
      "source": [
        "# Since we want a linear model, we take the log of the exponential curvbe\n",
        "# Linear model\n",
        "Y = np.log(Y)\n",
        "plt.scatter(X, Y)"
      ],
      "metadata": {
        "colab": {
          "base_uri": "https://localhost:8080/",
          "height": 447
        },
        "id": "HNb-k_ntBej8",
        "outputId": "c14f1a1a-39fc-43a3-889c-3dbe72629db0"
      },
      "execution_count": null,
      "outputs": [
        {
          "output_type": "execute_result",
          "data": {
            "text/plain": [
              "<matplotlib.collections.PathCollection at 0x7b8e51742e30>"
            ]
          },
          "metadata": {},
          "execution_count": 29
        },
        {
          "output_type": "display_data",
          "data": {
            "text/plain": [
              "<Figure size 640x480 with 1 Axes>"
            ],
            "image/png": "[encoded data removed]"
          },
          "metadata": {}
        }
      ]
    },
    {
      "cell_type": "code",
      "source": [
        "# Centering the X data so the values are not too large\n",
        "X = X - X.mean()"
      ],
      "metadata": {
        "id": "-VjVltEICAN9"
      },
      "execution_count": null,
      "outputs": []
    },
    {
      "cell_type": "markdown",
      "source": [
        "#### Learning Rate Scheduler"
      ],
      "metadata": {
        "id": "E4MuB-AwJDnt"
      }
    },
    {
      "cell_type": "code",
      "source": [
        "# Learning Rate Scheduler\n",
        "def schedule(epoch, lr):\n",
        "  return 0.0001 if epoch >= 50 else 0.001\n",
        "\n",
        "scheduler = tf.keras.callbacks.LearningRateScheduler(schedule)"
      ],
      "metadata": {
        "id": "TKAQwO71JCBI"
      },
      "execution_count": null,
      "outputs": []
    },
    {
      "cell_type": "code",
      "source": [
        "# TF Model\n",
        "model = tf.keras.models.Sequential([\n",
        "    tf.keras.layers.Input(shape=(1,)),\n",
        "    tf.keras.layers.Dense(1),\n",
        "])\n",
        "\n",
        "model.compile(optimizer=tf.keras.optimizers.SGD(0.001, 0.9), loss='mse')\n",
        "# model.compile(optimizer='adam', loss='mse')\n",
        "\n",
        "# Train the Model\n",
        "r= model.fit(X, Y, epochs=200, callbacks=[scheduler], verbose=\"\")\n",
        "\n",
        "# Plot the loss\n",
        "plt.plot(r.history['loss'], label='loss')"
      ],
      "metadata": {
        "colab": {
          "base_uri": "https://localhost:8080/",
          "height": 447
        },
        "id": "RpHbGyE5CFlP",
        "outputId": "8cd0baf1-4582-412c-ae50-aed84132f750"
      },
      "execution_count": null,
      "outputs": [
        {
          "output_type": "execute_result",
          "data": {
            "text/plain": [
              "[<matplotlib.lines.Line2D at 0x7b8e513f22c0>]"
            ]
          },
          "metadata": {},
          "execution_count": 32
        },
        {
          "output_type": "display_data",
          "data": {
            "text/plain": [
              "<Figure size 640x480 with 1 Axes>"
            ],
            "image/png": "[encoded data removed]"
          },
          "metadata": {}
        }
      ]
    },
    {
      "cell_type": "code",
      "source": [
        "# Get the slop of the line\n",
        "print(model.layers)\n",
        "print(model.layers[0].get_weights()) # W , b"
      ],
      "metadata": {
        "colab": {
          "base_uri": "https://localhost:8080/"
        },
        "id": "I6m03oi4DHbi",
        "outputId": "30d97013-dfd6-436a-c76e-3f08db4e2ed9"
      },
      "execution_count": null,
      "outputs": [
        {
          "output_type": "stream",
          "name": "stdout",
          "text": [
            "[<keras.src.layers.core.dense.Dense object at 0x7b8e54617c10>]\n",
            "[array([[0.3334214]], dtype=float32), array([17.76154], dtype=float32)]\n"
          ]
        }
      ]
    },
    {
      "cell_type": "code",
      "source": [
        "# The slope of the line is:\n",
        "a = model.layers[0].get_weights()[0][0,0]"
      ],
      "metadata": {
        "id": "3-zYO4x5EUsw"
      },
      "execution_count": null,
      "outputs": []
    },
    {
      "cell_type": "code",
      "source": [
        "print(\"Time to double: \", np.log(2) / a)"
      ],
      "metadata": {
        "colab": {
          "base_uri": "https://localhost:8080/"
        },
        "id": "R0eovl3TEb1t",
        "outputId": "e8661d9d-1d96-4597-daab-603e4b3daa97"
      },
      "execution_count": null,
      "outputs": [
        {
          "output_type": "stream",
          "name": "stdout",
          "text": [
            "Time to double:  2.078892241408196\n"
          ]
        }
      ]
    },
    {
      "cell_type": "code",
      "source": [
        "# If you know the analytical solution (Only applicable to linear regression)\n",
        "X = np.array(X).flatten()\n",
        "Y = np.array(Y)\n",
        "denominater = X.dot(X) - X.mean() * X.sum()\n",
        "a = ( X.dot(Y) - Y.mean() * X.sum() ) / denominater\n",
        "b = ( Y.mean() * X.dot(X) - X.mean() * X.dot(Y) ) / denominater\n",
        "print(a, b)\n",
        "print(\"Time to double: \", np.log(2) / a)"
      ],
      "metadata": {
        "colab": {
          "base_uri": "https://localhost:8080/"
        },
        "id": "uoTWDgUuJpzF",
        "outputId": "dd01a1ee-1e77-4cf2-852a-9a2010052456"
      },
      "execution_count": null,
      "outputs": [
        {
          "output_type": "stream",
          "name": "stdout",
          "text": [
            "0.341682487387313 17.764939393631764\n",
            "Time to double:  2.0286295205239204\n"
          ]
        }
      ]
    },
    {
      "cell_type": "code",
      "source": [
        "# Making Predictions\n",
        "\n",
        "Yhat = model.predict(X).flatten()\n",
        "plt.scatter(X, Y)\n",
        "plt.plot(X, Yhat)"
      ],
      "metadata": {
        "colab": {
          "base_uri": "https://localhost:8080/",
          "height": 465
        },
        "id": "4vSlgCl2Zg6g",
        "outputId": "1709b1a7-d176-48d6-a0ce-a10196413e98"
      },
      "execution_count": null,
      "outputs": [
        {
          "output_type": "stream",
          "name": "stdout",
          "text": [
            "6/6 [==============================] - 0s 2ms/step\n"
          ]
        },
        {
          "output_type": "execute_result",
          "data": {
            "text/plain": [
              "[<matplotlib.lines.Line2D at 0x7b8e5149dc60>]"
            ]
          },
          "metadata": {},
          "execution_count": 37
        },
        {
          "output_type": "display_data",
          "data": {
            "text/plain": [
              "<Figure size 640x480 with 1 Axes>"
            ],
            "image/png": "[encoded data removed]"
          },
          "metadata": {}
        }
      ]
    },
    {
      "cell_type": "code",
      "source": [
        "# Manually calculation\n",
        "\n",
        "# Get the weights\n",
        "w, b = model.layers[0].get_weights()\n",
        "\n",
        "# Reshape X because we flattened it again earlier\n",
        "X = X.reshape(-1, 1)\n",
        "\n",
        "# (N x 1) x (1 x 1) + (1) --> (N x 1)\n",
        "Yhat2 = (X.dot(w) + b).flatten()\n",
        "\n",
        "# Don't use == for floating points\n",
        "np.allclose(Yhat, Yhat2)"
      ],
      "metadata": {
        "colab": {
          "base_uri": "https://localhost:8080/"
        },
        "id": "bKuLRLIYZo7t",
        "outputId": "903f8d08-6dc2-4290-87ff-bdb43de6feb1"
      },
      "execution_count": null,
      "outputs": [
        {
          "output_type": "execute_result",
          "data": {
            "text/plain": [
              "True"
            ]
          },
          "metadata": {},
          "execution_count": 38
        }
      ]
    },
    {
      "cell_type": "markdown",
      "source": [
        "# The Neuron\n",
        "\n",
        "A neuron is just a [logistic] regression model\n",
        "$$\n",
        "p(y=1|x) = \\sigma(w^Tx + b) = \\sigma(\\sum_{d=1}^Dw_dx_d + b) \\\\\n",
        "$$\n",
        "\n",
        "*Feature Importance*\n",
        "- Magnitude of $w_i$ tells us how important it is for predicting the output\n",
        "  - Extreme: if $w_i = 0$, then $x_i$ has no effect\n",
        "  - if $|w_i|$ large, then $x_i$ has a large influence (+ve or -ve)\n",
        "\n",
        "The **threshold** in this case i $-b$.\n",
        "As lOng as $w^Tx > -b$, then $w^Tx+b>0$, and the prediction is 1."
      ],
      "metadata": {
        "id": "z7h59ArNMdtt"
      }
    },
    {
      "cell_type": "markdown",
      "source": [
        "**How does a model \"learn\"**\n",
        "\n",
        "In linear regression, we call this the line of best fit.\n",
        "\n",
        "A model learns by reducing the loss using optimization.\n"
      ],
      "metadata": {
        "id": "96YQcPmFPyWO"
      }
    },
    {
      "cell_type": "markdown",
      "source": [
        "## Loss Function\n",
        "\n",
        "To calculate the performance of the model, we'd need an **Error Function**, also known as a **cost or loss function**.\n",
        "\n",
        "Typically represented by letters: $L, C, E, J$\n",
        "\n"
      ],
      "metadata": {
        "id": "ci9Lin07Wotc"
      }
    },
    {
      "cell_type": "markdown",
      "source": [
        "### Mean squared Error\n",
        "\n",
        "MSE (Mean squared Error) is a commonly used error function.\n",
        "\n",
        "$$\n",
        "\\text{MSE} = \\frac{1}{N} \\sum_{i=1}^N (y_i - \\hat y_i)^2\n",
        "$$\n",
        "\n",
        "For a 100% accurate model, this function returns 0, and it gets larger the less accurate our model is.\n",
        "\n",
        "- We want the error to be always positive, so the postive and negative error don't cancel each other out. Hence squared"
      ],
      "metadata": {
        "id": "IX_3hp4nc0j8"
      }
    },
    {
      "cell_type": "markdown",
      "source": [
        "#### Maximum Likelihood Estimation\n",
        "\n",
        "Maximum Likelihood Estimation (MLE)\n",
        "\n",
        "$$\n",
        "L = \\prod_{i=1}^N p(x_i)\n",
        "$$\n",
        "\n",
        "- p is the distribution model\n",
        "- L is the MLE\n",
        "- N is all the collected samples\n",
        "\n",
        "\n",
        "\\\n",
        "\n",
        "If distribution is Gaussion distribution we'd have:\n",
        "\n",
        "$$\n",
        "L = \\prod_{i=1}^N  \\frac{1}{\\sqrt{\\frac{2\\pi}{\\tau}}}e^{-\\frac{\\tau}{2}(x_i-\\mu)^2}\n",
        "$$\n",
        "\n",
        "Maximize L wrt μ\n",
        "\n",
        "For simpler calculation, we take the log first\n",
        "\n",
        "$$\n",
        "l = \\log L = \\sum_{i=1}^N \\log \\frac{1}{\\sqrt{2\\pi\\sigma^2}} -\\frac{1}{2\\sigma^2}(x_i -\\mu)^2\n",
        "$$\n",
        "\n",
        "Taking the derivative\n",
        "\n",
        "$$\n",
        "\\frac{\\partial l}{\\partial \\mu} = \\sum_{i=1}^N  \\frac{1}{\\sigma^2}(x_i - \\mu)\n",
        "$$\n",
        "\n",
        "Set derivative to zero and solve for μ:\n",
        "\n",
        "$$\n",
        "\\hat \\mu = \\frac{1}{N} \\sum^N_{i=1} x_i\n",
        "$$\n",
        "\n",
        "μ is sample mean of x. This is the **maximum lkelihood estimate** of μ."
      ],
      "metadata": {
        "id": "3iZlhEEMde3S"
      }
    },
    {
      "cell_type": "markdown",
      "source": [
        "Notice that these constants do not affect the final answer.\n",
        "\n",
        "$$\n",
        "l = C_1 - C_2 \\sum_{i=1}^N (x_i \\mu)^2 \\quad C_1 > 0, C_2 > 0\n",
        "$$\n",
        "\n",
        "If we set $C_1 = 0$ and $C_2 = 1/N$, we get\n",
        "\n",
        "$$\n",
        "l = -\\frac{1}{N} \\sum_{i=1}^N (x_i - \\mu )^2\n",
        "$$\n",
        "\n",
        "Now this is just negative of MSE.\n",
        "\n",
        "**Conclusion**\n",
        "\n",
        "Maximizing the likelihood is the **same** as minimizing the squared error"
      ],
      "metadata": {
        "id": "32eGG6kaigqX"
      }
    },
    {
      "cell_type": "markdown",
      "source": [
        "**An equivalent perspective**\n",
        "\n",
        "The result is that: when we use the squared error, we are making the assumption that the error of our model with respect to the data is Gaussian-distributed with mean zero\n",
        "\n",
        "$$\n",
        "y \\sim N(\\hat y, \\sigma^2) \\leftrightarrow y-\\hat y \\sim N(0,\\sigma^2)\n",
        "$$"
      ],
      "metadata": {
        "id": "kfzd8Ga2j1g_"
      }
    },
    {
      "cell_type": "markdown",
      "source": [
        "### Binary Cross Entropy\n",
        "\n",
        "Correct loss function to use for binary classification\n",
        "\n",
        "$$\n",
        "\\text{Loss} = - \\frac{1}{N} \\sum_{i=1}^N \\{ y_i \\log \\hat y_i + (1-y_i) \\log(1-\\hat y_i) \\}\n",
        "$$\n",
        "\n",
        "Targets are binary, so they should be either 0 or 1.\n",
        "\n",
        "The distribution would be Bernoulli.\n"
      ],
      "metadata": {
        "id": "c7-XPDrnky2T"
      }
    },
    {
      "cell_type": "markdown",
      "source": [
        "In order to calculate the likelihood of Bernoulli, we'd need its PMF.\n",
        "- PMF is for discrete random variables, PDF for continuous random variables.\n",
        "\n",
        "$$\n",
        "p(x) = \\mu^x(1-\\mu)^{1-x}\n",
        "$$\n",
        "\n",
        "**Likelihood**\n",
        "\n",
        "$$\n",
        "L = \\prod_{i=1}^N p(x_i) = \\prod_{i=1}^N \\mu^{x_i}(1-\\mu)^{1-x_i}\n",
        "$$\n",
        "\n",
        "Taking the log of likelihood for easier calculation\n",
        "\n",
        "$$\n",
        "l = \\log L = \\sum_{i=1}^N \\{ x_i \\log \\mu + (1-x_i) \\log(1-\\mu) \\}\n",
        "$$\n",
        "\n",
        "Calculating the maximum likelihood by setting the derivative to zero, and solving for \\mu\n",
        "\n",
        "$$\n",
        "\\frac{\\partial l}{\\partial \\mu} = \\sum_{i=1}^N  \\frac{x_i}{\\mu} - \\frac{1 - x_i}{1-\\mu}\n",
        "\\\\\n",
        "\\hat \\mu = \\frac{1}{N} \\sum^N_{i=1} x_i\n",
        "$$\n",
        "\n",
        "This is the same is number of 1 over N"
      ],
      "metadata": {
        "id": "XKoFr5Abl4s2"
      }
    },
    {
      "cell_type": "markdown",
      "source": [
        "This makes our loss invariant to the number of samples (N).\n",
        "If we have lots of samples, the sum of errors will be large only due to the large number of samples.\n",
        "Dividing by N makes the value more meaningful.\n",
        "\n",
        "$$\n",
        "\\text{Loss} = - \\frac{1}{N} \\sum_{i=1}^N \\{ y_i \\log \\hat y_i + (1-y_i) \\log(1-\\hat y-i) \\} \\\\\n",
        "$$\n",
        "\n",
        "Error is just negative log-likelihood.\n",
        "\n",
        "Similar to regression MSE, just Bernoulli distribution instead of Guassian Distribution.\n"
      ],
      "metadata": {
        "id": "TjcdsJYvoRxH"
      }
    },
    {
      "cell_type": "markdown",
      "source": [
        "### Categorical Cross-Entropy\n",
        "\n",
        "The distribution probability for categorical cross-entropy is \"*categorical distribution*\".\n",
        "\n",
        "We refer to the number of categories as K.\n",
        "\n",
        "$$\n",
        "p(x) = \\prod_{k=1}^K \\mu_k^{1(x=k)}\n",
        "$$\n",
        "\n",
        "- $1(x=k)$ returns 1 if condition true, 0 otherwise"
      ],
      "metadata": {
        "id": "iTeAFvZ7o_cH"
      }
    },
    {
      "cell_type": "markdown",
      "source": [
        "**Likelihood**\n",
        "\n",
        "$$\n",
        "L = \\prod_{i=1}^N p(x_i) = \\prod_{i=1}^N \\prod_{k=1}^K \\mu_k^{1(x_i=k)}\n",
        "$$\n",
        "\n",
        "Log-likelihood\n",
        "\n",
        "$$\n",
        "l = \\log L = \\sum_{i=1}^N \\sum_{k=1}^K 1(x_i=k) \\log \\mu_k\n",
        "$$\n",
        "\n",
        "**Categorical Cross-Entropy**\n",
        "\n",
        "$$\n",
        "\\text{Categorical Cross-Entropy} = - \\sum_{i=1}^N \\sum_{k=1}^K y_{ik} \\log \\hat y_{ik}\n",
        "$$\n",
        "\n",
        "- $y_{ik}$ is one-hot encoded value\n",
        "  - i = sample index, k = class label"
      ],
      "metadata": {
        "id": "mbE2TAHbqonW"
      }
    },
    {
      "cell_type": "markdown",
      "source": [
        "### Sparse Categorical Cross-Entropy\n",
        "\n",
        "one-hot encoding is inefficient, we can isntead calculate only the values with 1 instead of all zeros.\n",
        "\n",
        "This is the idea behind Sparse Categorical Cross-Entropy\n",
        "\n",
        "\\\n",
        "The regular Categorical Cross-Entropy uses the full N×K target, but the Sparse Categorical Cross-Entropy uses the original target (1-D N array)"
      ],
      "metadata": {
        "id": "vhQ1cW8FtGhr"
      }
    },
    {
      "cell_type": "markdown",
      "source": [
        "## Optimization\n",
        "\n",
        "> Optimization, Minimzing Cost: To train a model, we need to minimize its cost.\n",
        "\n",
        "Using calculus, we can find where the derivative (slope) is zero. (i.e. equivalent to finding a min or a max).\n",
        "\n",
        "\\\n",
        "\n",
        "To handle the cases with more than one variable, we use the multidemensional equivalent of derivative, the **gradient**.\n",
        "\n",
        "$$\n",
        "\\nabla_wJ = \\left(\n",
        "\\frac{\\partial J}{\\partial w_1},\n",
        "\\frac{\\partial J}{\\partial w_2},\\cdots,\n",
        "\\frac{\\partial J}{\\partial w_D},\n",
        "\\right)\n",
        "$$\n",
        "\n",
        "Set: $\\nabla_wJ =0$, solve for $w$.\n",
        "\n"
      ],
      "metadata": {
        "id": "1Lt1m5bXREt4"
      }
    },
    {
      "cell_type": "markdown",
      "source": [
        "In Tensorflow, it uses **automatic differentiation** to calculate the gradient."
      ],
      "metadata": {
        "id": "zMMNM2ocSmjH"
      }
    },
    {
      "cell_type": "markdown",
      "source": [
        "### Gradient Descent\n",
        "\n",
        "*If all I have to do is find the gradient and set it zero, then why was training iterative?*\n",
        "- E.g. why do we need \"epochs\", why do we check for \"convergence\"?\n",
        "\n",
        "Most of the time, it's not possible to solve for $\\nabla J =0$\n",
        "- Linear Regression is the exception\n",
        "\n",
        "When we can solve it, we call it the \"analytical solution\" or \"closed-form solution\".\n",
        "\n",
        "For Logistic Regression onward, we need gradient descent."
      ],
      "metadata": {
        "id": "AmDmn_BfVFuG"
      }
    },
    {
      "cell_type": "markdown",
      "source": [
        "**How (Basic)**\n",
        "\n",
        "We start at a randomly initialize point for both W and b.\n",
        "Since this is random these probably don't lead to a small cost.\n",
        "\n",
        "So then we find the gradient of our loss with respect to W and b. we then take small steps in this direction to update W and B on each iteration (epochs). this leads to a decrease in cost.\n",
        "\n",
        "All we're doing is taking small steps in the direction of the gradient with respect to W and B.\n",
        "\n",
        "How small should these small steps actually be? The step size is specified by the Greek letter $\\eta$ which we call the learning rate that specifies how fast or slow we want to train our model.\n",
        "\n",
        "It's important to set this value right because if you don't then your model won't get good results even if your model is actually a good model.\n"
      ],
      "metadata": {
        "id": "_sCJekNGV59Z"
      }
    }
  ]
}