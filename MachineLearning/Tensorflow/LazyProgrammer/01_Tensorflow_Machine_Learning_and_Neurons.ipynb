{
  "nbformat": 4,
  "nbformat_minor": 0,
  "metadata": {
    "colab": {
      "provenance": [],
      "toc_visible": true
    },
    "kernelspec": {
      "name": "python3",
      "display_name": "Python 3"
    },
    "language_info": {
      "name": "python"
    }
  },
  "cells": [
    {
      "cell_type": "markdown",
      "source": [
        "# Contents"
      ],
      "metadata": {
        "id": "AdR0sC3I0BW2"
      }
    },
    {
      "cell_type": "markdown",
      "source": [
        ">[Contents](#updateTitle=true&folderId=1tQy5G8Ez_uC7IO_awAeU041TrL-36P3f&scrollTo=AdR0sC3I0BW2)\n",
        "\n",
        ">[Getting Started](#updateTitle=true&folderId=1tQy5G8Ez_uC7IO_awAeU041TrL-36P3f&scrollTo=hbMFDDFFKQG-)\n",
        "\n",
        ">>[Download File](#updateTitle=true&folderId=1tQy5G8Ez_uC7IO_awAeU041TrL-36P3f&scrollTo=0wkd21_CJuIZ)\n",
        "\n",
        ">>>[Download file using wget](#updateTitle=true&folderId=1tQy5G8Ez_uC7IO_awAeU041TrL-36P3f&scrollTo=LHaGsGH8JwZS)\n",
        "\n",
        ">>>[Download file using tf.keras](#updateTitle=true&folderId=1tQy5G8Ez_uC7IO_awAeU041TrL-36P3f&scrollTo=IPZNEfNjJNyg)\n",
        "\n",
        ">>>[Upload File from Device](#updateTitle=true&folderId=1tQy5G8Ez_uC7IO_awAeU041TrL-36P3f&scrollTo=wVrxGUwlKK6S)\n",
        "\n",
        ">>>[Load File from Google Drive](#updateTitle=true&folderId=1tQy5G8Ez_uC7IO_awAeU041TrL-36P3f&scrollTo=sJgWXmNkLF6y)\n",
        "\n",
        ">[Machine Learning](#updateTitle=true&folderId=1tQy5G8Ez_uC7IO_awAeU041TrL-36P3f&scrollTo=c2urpiNqz8GQ)\n",
        "\n",
        ">>[Linear Classification](#updateTitle=true&folderId=1tQy5G8Ez_uC7IO_awAeU041TrL-36P3f&scrollTo=M7XVYsZ6297S)\n",
        "\n",
        ">>>[Logistic Regression](#updateTitle=true&folderId=1tQy5G8Ez_uC7IO_awAeU041TrL-36P3f&scrollTo=0Mi1lgfW5Zwi)\n",
        "\n",
        ">>>>[Creating Model with tf.keras](#updateTitle=true&folderId=1tQy5G8Ez_uC7IO_awAeU041TrL-36P3f&scrollTo=nWvCUHIu61dv)\n",
        "\n",
        ">>>>>[Standardization](#updateTitle=true&folderId=1tQy5G8Ez_uC7IO_awAeU041TrL-36P3f&scrollTo=3OLPlLND9yC_)\n",
        "\n",
        ">>>>[Predicting Using the Model](#updateTitle=true&folderId=1tQy5G8Ez_uC7IO_awAeU041TrL-36P3f&scrollTo=-lbUXFo5_xQN)\n",
        "\n",
        ">>>[Linear Regression](#updateTitle=true&folderId=1tQy5G8Ez_uC7IO_awAeU041TrL-36P3f&scrollTo=W2ngYYgCA-a_)\n",
        "\n",
        ">>>>>[Learning Rate Scheduler](#updateTitle=true&folderId=1tQy5G8Ez_uC7IO_awAeU041TrL-36P3f&scrollTo=E4MuB-AwJDnt)\n",
        "\n"
      ],
      "metadata": {
        "colab_type": "toc",
        "id": "xCscqDDj0AKC"
      }
    },
    {
      "cell_type": "markdown",
      "source": [
        "# Getting Started"
      ],
      "metadata": {
        "id": "hbMFDDFFKQG-"
      }
    },
    {
      "cell_type": "markdown",
      "source": [
        "## Download File"
      ],
      "metadata": {
        "id": "0wkd21_CJuIZ"
      }
    },
    {
      "cell_type": "markdown",
      "source": [
        "### Download file using wget"
      ],
      "metadata": {
        "id": "LHaGsGH8JwZS"
      }
    },
    {
      "cell_type": "code",
      "source": [
        "# Download the data from a URL\n",
        "# sources: https://archive.ics.uci.edu/ml/datasets/Arrhythmia\n",
        "!wget https://archive.ics.uci.edu/ml/machine-learning-databases/arrhythmia/arrhythmia.data"
      ],
      "metadata": {
        "colab": {
          "base_uri": "https://localhost:8080/"
        },
        "id": "SqVnl0HSJ4Gf",
        "outputId": "2e16ffb2-0505-460e-92ee-15c37434d67b"
      },
      "execution_count": 6,
      "outputs": [
        {
          "output_type": "stream",
          "name": "stdout",
          "text": [
            "--2023-12-11 23:12:52--  https://archive.ics.uci.edu/ml/machine-learning-databases/arrhythmia/arrhythmia.data\n",
            "Resolving archive.ics.uci.edu (archive.ics.uci.edu)... 128.195.10.252\n",
            "Connecting to archive.ics.uci.edu (archive.ics.uci.edu)|128.195.10.252|:443... connected.\n",
            "HTTP request sent, awaiting response... 200 OK\n",
            "Length: unspecified\n",
            "Saving to: ‘arrhythmia.data’\n",
            "\n",
            "arrhythmia.data         [  <=>               ] 392.92K  1.58MB/s    in 0.2s    \n",
            "\n",
            "2023-12-11 23:12:53 (1.58 MB/s) - ‘arrhythmia.data’ saved [402355]\n",
            "\n"
          ]
        }
      ]
    },
    {
      "cell_type": "code",
      "source": [
        "# Check if the data has a header\n",
        "!head arrhythmia.data"
      ],
      "metadata": {
        "colab": {
          "base_uri": "https://localhost:8080/"
        },
        "id": "VEz2UABDJ77R",
        "outputId": "5306766c-c4ca-4203-f968-23ced51d5e33"
      },
      "execution_count": 7,
      "outputs": [
        {
          "output_type": "stream",
          "name": "stdout",
          "text": [
            "75,0,190,80,91,193,371,174,121,-16,13,64,-2,?,63,0,52,44,0,0,32,0,0,0,0,0,0,0,44,20,36,0,28,0,0,0,0,0,0,52,40,0,0,0,60,0,0,0,0,0,0,52,0,0,0,0,0,0,0,0,0,0,0,0,56,36,0,0,32,0,0,0,0,0,0,48,32,0,0,0,56,0,0,0,0,0,0,80,0,0,0,0,0,0,0,0,0,0,0,0,40,52,0,0,28,0,0,0,0,0,0,0,48,48,0,0,32,0,0,0,0,0,0,0,52,52,0,0,36,0,0,0,0,0,0,0,52,48,0,0,32,0,0,0,0,0,0,0,56,44,0,0,32,0,0,0,0,0,0,-0.2,0.0,6.1,-1.0,0.0,0.0,0.6,2.1,13.6,30.8,0.0,0.0,1.7,-1.0,0.6,0.0,1.3,1.5,3.7,14.5,0.1,-5.2,1.4,0.0,0.0,0.0,0.8,-0.6,-10.7,-15.6,0.4,-3.9,0.0,0.0,0.0,0.0,-0.8,-1.7,-10.1,-22.0,0.0,0.0,5.7,-1.0,0.0,0.0,-0.1,1.2,14.1,22.5,0.0,-2.5,0.8,0.0,0.0,0.0,1.0,0.4,-4.8,-2.7,0.1,-6.0,0.0,0.0,0.0,0.0,-0.8,-0.6,-24.0,-29.7,0.0,0.0,2.0,-6.4,0.0,0.0,0.2,2.9,-12.6,15.2,-0.1,0.0,8.4,-10.0,0.0,0.0,0.6,5.9,-3.9,52.7,-0.3,0.0,15.2,-8.4,0.0,0.0,0.9,5.1,17.7,70.7,-0.4,0.0,13.5,-4.0,0.0,0.0,0.9,3.9,25.5,62.9,-0.3,0.0,9.0,-0.9,0.0,0.0,0.9,2.9,23.3,49.4,8\n",
            "56,1,165,64,81,174,401,149,39,25,37,-17,31,?,53,0,48,0,0,0,24,0,0,0,0,0,0,0,64,0,0,0,24,0,0,0,0,0,0,32,24,0,0,0,40,0,0,0,0,0,0,48,0,0,0,0,0,0,0,0,0,0,0,0,44,20,0,0,24,0,0,0,0,0,0,0,60,0,0,0,20,0,0,0,0,0,0,0,24,52,0,0,16,0,0,0,0,0,0,0,32,52,0,0,20,0,0,0,0,0,0,0,44,48,0,0,32,0,0,0,0,0,0,0,48,44,0,0,32,0,0,0,0,0,0,0,48,40,0,0,28,0,0,0,0,0,0,0,48,0,0,0,28,0,0,0,0,0,0,-0.6,0.0,7.2,0.0,0.0,0.0,0.4,1.5,17.2,26.5,0.0,0.0,5.5,0.0,0.0,0.0,0.1,1.7,17.6,29.5,0.3,-1.6,0.9,0.0,0.0,0.0,-0.3,0.4,-1.5,1.3,0.1,-6.4,0.0,0.0,0.0,0.0,-0.3,-1.6,-15.3,-25.5,-0.3,0.0,4.2,-0.9,0.0,0.0,0.4,0.7,8.3,12.3,0.2,0.0,2.2,0.0,0.0,0.0,-0.2,0.8,6.6,11.7,0.4,0.0,1.0,-8.8,0.0,0.0,0.5,-0.6,-21.6,-26.8,0.4,0.0,2.6,-7.9,0.0,0.0,0.8,2.0,-16.4,1.2,0.0,0.0,5.8,-7.7,0.0,0.0,0.9,3.8,-5.7,27.7,-0.2,0.0,9.5,-5.0,0.0,0.0,0.5,2.6,11.8,34.6,-0.4,0.0,11.0,-2.4,0.0,0.0,0.4,2.6,21.6,43.4,-0.5,0.0,8.5,0.0,0.0,0.0,0.2,2.1,20.4,38.8,6\n",
            "54,0,172,95,138,163,386,185,102,96,34,70,66,23,75,0,40,80,0,0,24,0,0,0,0,0,0,20,56,52,0,0,40,0,0,0,0,0,0,28,116,0,0,0,52,0,0,0,0,0,0,52,64,0,0,0,88,0,0,0,0,0,0,0,36,92,0,0,24,0,0,0,0,0,0,0,128,0,0,0,24,0,1,0,0,0,0,0,24,36,76,0,100,0,0,0,0,0,0,0,40,28,60,0,96,0,0,0,0,0,0,0,48,20,56,24,32,0,0,0,0,0,0,0,44,88,0,0,28,0,0,0,0,0,0,0,44,76,0,0,28,0,0,0,0,0,0,0,44,72,0,0,24,0,0,0,0,0,0,1.0,0.0,4.5,-2.8,0.0,0.0,0.3,2.5,-2.2,19.8,0.8,-0.4,6.4,-1.3,0.0,0.0,0.7,2.7,14.2,37.9,-0.2,-0.6,4.4,0.0,0.0,0.0,0.5,0.2,24.7,26.2,-1.0,-5.3,1.8,0.0,0.0,0.0,-0.5,-2.5,-8.0,-28.5,0.5,0.0,1.7,-2.7,0.0,0.0,-0.2,1.0,-9.4,-1.2,0.4,0.0,4.9,0.0,0.0,0.0,0.6,1.4,31.3,42.7,-0.8,0.0,0.7,-3.8,6.5,0.0,0.3,-3.3,18.7,-13.6,-0.9,0.0,2.2,-4.1,7.4,0.0,0.5,-2.4,20.9,-2.6,0.0,0.0,5.8,-4.1,4.0,-0.5,0.4,0.3,20.4,23.3,0.7,0.0,10.0,-5.7,0.0,0.0,0.5,2.2,-3.0,20.7,1.3,0.0,11.1,-3.4,0.0,0.0,0.4,3.4,11.5,48.2,0.9,0.0,9.5,-2.4,0.0,0.0,0.3,3.4,12.3,49.0,10\n",
            "55,0,175,94,100,202,380,179,143,28,11,-5,20,?,71,0,72,20,0,0,48,0,0,0,0,0,0,0,64,36,0,0,36,0,0,0,0,0,0,20,52,48,0,0,56,0,0,0,0,0,0,64,32,0,0,0,72,0,0,0,0,0,0,0,60,12,0,0,44,0,0,0,0,0,0,0,60,44,0,0,32,0,0,0,0,0,0,56,0,0,0,0,0,0,0,0,0,0,0,0,40,44,0,0,20,0,0,0,0,0,0,0,52,40,0,0,32,0,0,0,0,0,0,0,56,48,0,0,36,0,0,0,0,0,0,0,60,48,0,0,36,0,0,0,0,0,0,0,64,40,0,0,40,0,0,0,0,0,0,0.9,0.0,7.8,-0.7,0.0,0.0,1.1,1.9,27.3,45.1,0.1,0.0,9.1,-2.6,0.0,0.0,0.4,1.5,24.5,36.8,-0.4,-0.4,1.6,-2.2,0.0,0.0,-1.0,-0.9,-1.5,-9.2,-0.4,-8.2,1.8,0.0,0.0,0.0,-0.7,-1.7,-23.4,-35.6,0.9,0.0,3.2,-0.4,0.0,0.0,0.7,1.2,9.4,18.0,-0.1,0.0,5.1,-2.5,0.0,0.0,0.3,0.6,9.8,12.6,1.6,-6.5,0.0,0.0,0.0,0.0,-0.4,-0.4,-18.2,-22.4,2.1,0.0,1.2,-6.9,0.0,0.0,-0.5,2.9,-12.7,18.0,0.7,0.0,9.0,-7.9,0.0,0.0,0.1,4.1,7.6,51.0,0.4,0.0,15.0,-5.5,0.0,0.0,0.1,3.3,28.8,63.1,0.1,0.0,15.2,-3.7,0.0,0.0,0.6,3.0,36.8,68.0,0.1,0.0,12.2,-2.2,0.0,0.0,0.4,2.6,34.6,61.6,1\n",
            "75,0,190,80,88,181,360,177,103,-16,13,61,3,?,?,0,48,40,0,0,28,0,0,0,0,0,0,0,40,24,0,0,24,0,0,0,0,0,0,52,36,0,0,0,60,0,0,0,0,0,0,48,28,0,0,0,56,0,0,0,0,0,0,0,48,36,0,0,28,0,0,0,0,0,0,44,0,0,0,0,0,0,0,0,0,0,0,88,0,0,0,0,0,0,0,0,0,0,0,0,40,52,0,0,28,0,0,0,0,0,0,0,48,48,0,0,32,0,0,0,0,0,0,0,48,52,0,0,32,0,0,0,0,0,0,0,52,44,0,0,28,0,0,0,0,0,0,0,52,48,0,0,32,0,0,0,0,0,0,0.0,0.0,5.2,-1.4,0.0,0.0,0.9,2.3,9.6,31.6,0.1,0.0,1.6,-0.5,0.0,0.0,1.9,1.7,2.6,18.9,0.2,-3.8,1.2,0.0,0.0,0.0,1.0,-0.6,-7.7,-13.4,-0.1,-3.4,0.8,0.0,0.0,0.0,-1.4,-1.5,-7.0,-17.8,-0.1,0.0,4.4,-1.3,0.0,0.0,-0.1,1.1,8.2,16.5,0.6,-1.6,0.0,0.0,0.0,0.0,1.4,0.3,-3.5,-1.9,0.0,-5.7,0.0,0.0,0.0,0.0,-0.4,-0.5,-25.0,-30.0,-0.2,0.0,1.6,-6.0,0.0,0.0,-0.7,2.1,-12.4,8.6,-0.5,0.0,8.5,-10.2,0.0,0.0,-1.0,4.7,-4.0,43.0,-0.2,0.0,15.2,-7.8,0.0,0.0,-0.1,4.9,16.2,63.2,-0.2,0.0,9.1,-0.9,0.0,0.0,-0.2,2.9,21.7,48.9,-0.4,0.0,13.1,-3.6,0.0,0.0,-0.1,3.9,25.4,62.8,7\n",
            "13,0,169,51,100,167,321,174,91,107,66,52,88,?,84,0,36,48,0,0,20,0,0,0,0,0,0,20,44,36,0,0,44,0,0,0,0,0,0,24,64,0,0,0,48,0,0,0,0,0,0,44,36,0,0,0,52,0,0,0,0,0,0,0,28,64,0,0,16,0,0,0,0,0,0,24,44,40,0,0,44,0,0,0,0,0,0,0,36,60,0,0,24,0,0,0,0,0,0,20,32,60,0,0,40,0,0,0,0,0,0,24,32,60,0,0,44,0,0,0,0,0,0,0,52,40,0,0,36,0,0,0,0,0,0,0,44,40,0,0,32,0,0,0,0,0,0,20,36,56,0,0,40,0,0,0,0,0,0,0.5,0.0,2.7,-6.4,0.0,0.0,0.9,1.7,-10.5,7.1,0.1,-1.2,19.1,-2.3,0.0,0.0,1.4,4.3,36.7,84.8,-0.4,-2.3,21.7,0.0,0.0,0.0,0.7,2.6,66.7,95.8,-0.2,-9.0,3.2,0.0,0.0,0.0,-1.1,-2.9,-14.1,-39.0,0.5,0.0,1.8,-12.9,0.0,0.0,0.4,-0.4,-38.7,-42.1,-0.1,-1.6,19.9,-0.7,0.0,0.0,1.0,3.3,40.4,65.4,0.4,0.0,6.7,-24.4,0.0,0.0,-1.2,0.4,-61.2,-59.9,0.9,-0.5,11.9,-43.3,0.0,0.0,0.8,3.4,-111.4,-95.1,2.0,-0.8,19.8,-48.4,0.0,0.0,1.6,8.7,-114.5,-72.8,2.0,0.0,31.0,-25.7,0.0,0.0,0.8,5.9,29.2,85.8,0.6,0.0,19.5,-11.4,0.0,0.0,0.8,3.3,20.1,49.1,0.0,-0.6,12.2,-2.8,0.0,0.0,0.9,2.2,13.5,31.1,14\n",
            "40,1,160,52,77,129,377,133,77,77,49,75,65,?,70,0,44,0,0,0,24,0,0,0,0,0,0,0,40,32,0,0,24,0,0,0,0,0,0,0,44,28,0,0,24,0,0,0,0,0,0,44,16,0,0,0,48,0,0,0,0,0,0,36,0,0,0,0,0,0,0,0,0,0,0,0,44,16,0,0,24,0,0,0,0,0,0,0,20,56,0,0,12,0,0,0,0,0,0,0,24,56,0,0,16,0,0,0,0,0,0,0,36,48,0,0,24,0,0,0,0,0,0,0,40,44,0,0,28,0,0,0,0,0,0,0,40,44,0,0,24,0,0,0,0,0,0,0,44,0,0,0,24,0,0,0,0,0,0,-0.5,0.0,1.8,0.0,0.0,0.0,0.2,1.0,3.9,10.5,-0.1,0.0,7.6,-1.1,0.0,0.0,0.5,1.4,13.5,22.7,0.0,0.0,5.9,-0.5,0.0,0.0,0.3,0.6,12.2,15.0,0.1,-4.6,0.6,0.0,0.0,0.0,-0.4,-0.9,-9.7,-14.7,0.2,-2.1,0.0,0.0,0.0,0.0,-0.3,0.4,-3.7,-1.4,-0.2,0.0,6.8,-0.9,0.0,0.0,0.7,0.7,14.2,17.1,1.3,0.0,1.3,-11.5,0.0,0.0,-0.3,1.7,-30.9,-13.9,1.7,0.0,2.3,-17.5,0.0,0.0,-0.6,4.5,-46.3,-1.3,1.1,0.0,3.7,-11.0,0.0,0.0,-0.5,4.1,-19.8,21.2,0.1,0.0,7.7,-6.4,0.0,0.0,0.4,1.9,1.4,15.4,0.0,0.0,7.4,-2.5,0.0,0.0,0.4,1.3,9.3,18.9,-0.4,0.0,6.5,0.0,0.0,0.0,0.4,1.0,14.3,20.5,1\n",
            "49,1,162,54,78,0,376,157,70,67,7,8,51,?,67,0,44,36,0,0,24,0,0,0,0,0,0,0,52,32,0,0,28,0,0,0,0,0,0,0,56,28,0,0,24,0,0,0,0,0,0,48,32,0,0,0,56,0,0,0,0,0,0,52,0,0,0,0,0,0,0,0,0,0,0,0,52,28,0,0,28,0,0,0,0,0,0,0,20,44,0,0,8,0,0,0,0,0,0,0,24,48,0,0,16,0,0,0,0,0,0,0,36,44,0,0,24,0,0,0,0,0,0,0,44,48,0,0,28,0,0,0,0,0,0,0,48,44,0,0,28,0,0,0,0,0,0,0,48,40,0,0,24,0,0,0,0,0,0,-0.3,0.0,4.1,-1.1,0.0,0.0,0.8,1.0,7.1,13.7,-0.3,0.0,8.4,-1.5,0.0,0.0,0.6,0.7,19.4,22.9,0.0,0.0,4.4,-0.8,0.0,0.0,-0.3,-0.6,11.2,6.9,0.1,-6.3,1.3,0.0,0.0,0.0,-0.6,-0.8,-13.1,-17.9,0.1,-0.8,0.0,0.0,0.0,0.0,0.6,0.7,-2.0,2.9,-0.2,0.0,6.3,-1.2,0.0,0.0,0.2,0.3,14.7,16.8,0.7,0.0,0.5,-7.3,0.0,0.0,0.2,-0.1,-15.5,-16.4,0.9,0.0,0.7,-8.9,0.0,0.0,0.6,2.5,-20.5,4.0,0.8,0.0,2.1,-9.0,0.0,0.0,0.6,3.8,-16.1,21.1,0.1,0.0,6.6,-4.1,0.0,0.0,0.3,1.4,4.7,14.2,-0.2,0.0,8.5,-2.7,0.0,0.0,0.1,0.8,14.5,20.9,-0.3,0.0,8.2,-1.9,0.0,0.0,0.1,0.5,15.8,19.8,1\n",
            "44,0,168,56,84,118,354,160,63,61,69,78,66,84,64,0,40,0,0,0,20,0,0,0,0,0,0,0,44,12,0,0,28,0,0,0,0,0,0,0,36,8,0,0,20,0,0,0,0,0,0,40,12,0,0,0,44,0,0,0,0,0,0,0,0,0,0,0,0,0,0,0,0,0,0,0,36,12,0,0,20,0,0,0,0,0,0,0,20,56,0,0,12,0,0,0,0,0,0,0,24,48,0,0,12,0,0,0,0,0,0,0,28,44,0,0,16,0,0,0,0,0,0,0,44,32,0,0,32,0,0,0,0,0,0,0,44,28,0,0,28,0,0,0,0,0,0,0,40,24,0,0,24,0,0,0,0,0,0,0.1,0.0,2.3,0.0,0.0,0.0,0.4,1.0,4.6,11.6,1.2,0.0,5.4,-0.7,0.0,0.0,1.8,2.8,11.4,31.0,1.1,0.0,3.0,-0.4,0.0,0.0,1.4,1.8,5.3,17.9,-0.7,-3.9,0.5,0.0,0.0,0.0,-1.1,-1.9,-7.5,-20.4,-0.5,0.0,0.0,0.0,0.0,0.0,-0.6,-0.5,0.0,-3.4,1.1,0.0,4.2,-0.5,0.0,0.0,1.6,2.3,7.2,22.8,0.5,0.0,0.9,-5.5,0.0,0.0,-0.7,1.0,-14.5,-5.3,0.7,0.0,1.2,-6.4,0.0,0.0,-0.5,2.6,-13.9,10.0,1.5,0.0,2.4,-10.3,0.0,0.0,0.3,6.8,-19.3,43.2,0.8,0.0,7.9,-7.3,0.0,0.0,0.9,6.5,5.7,62.9,0.1,0.0,9.3,-3.8,0.0,0.0,0.8,3.8,15.1,48.5,0.1,0.0,7.0,-1.3,0.0,0.0,0.6,2.1,12.5,30.9,1\n",
            "50,1,167,67,89,130,383,156,73,85,34,70,71,?,63,0,44,40,0,0,28,0,0,0,0,0,0,0,56,24,0,0,32,0,0,0,0,0,0,0,72,0,0,0,28,0,0,0,0,0,0,56,28,0,0,0,60,0,0,0,0,0,0,0,28,56,0,0,16,0,0,0,0,0,0,0,60,0,0,0,32,0,0,0,0,0,0,0,24,36,32,0,68,0,0,0,0,0,0,0,36,44,0,0,20,0,0,0,0,0,0,0,40,48,0,0,24,0,0,0,0,0,0,0,56,40,0,0,40,0,0,0,0,0,0,0,52,36,0,0,32,0,0,0,0,0,0,20,44,36,0,0,44,0,0,0,0,0,0,-0.1,0.0,3.5,-2.0,0.0,0.0,0.4,1.3,3.7,13.5,0.0,0.0,9.9,-0.8,0.0,0.0,1.2,1.2,26.8,35.2,0.0,0.0,8.3,0.0,0.0,0.0,0.8,0.3,29.8,32.0,0.1,-6.1,1.1,0.0,0.0,0.0,-0.6,-1.2,-15.5,-24.1,0.0,0.0,0.6,-4.1,0.0,0.0,-0.1,0.8,-10.6,-4.9,-0.2,0.0,8.9,0.0,0.0,0.0,0.8,0.7,26.7,30.2,0.1,0.0,1.3,-5.4,1.9,0.0,0.2,0.8,-5.2,2.1,0.8,0.0,4.4,-8.5,0.0,0.0,0.8,3.9,-10.8,25.0,0.4,0.0,4.3,-7.3,0.0,0.0,1.1,4.0,-8.9,27.9,-0.5,0.0,7.0,-3.2,0.0,0.0,1.1,1.3,13.2,22.3,-0.5,0.0,10.9,-2.5,0.0,0.0,1.0,1.0,23.8,29.6,-0.5,-0.6,10.8,-1.7,0.0,0.0,0.8,0.9,20.1,25.1,10\n"
          ]
        }
      ]
    },
    {
      "cell_type": "markdown",
      "source": [
        "### Download file using tf.keras"
      ],
      "metadata": {
        "id": "IPZNEfNjJNyg"
      }
    },
    {
      "cell_type": "code",
      "source": [
        "# use keras get_file to download the auto MPG datasets\n",
        "# sources: https://archive.ics.uci.edu/ml/datasets/Auto+MPG\n",
        "url = 'https://archive.ics.uci.edu/ml/machine-learning-databases/auto-mpg/auto-mpg.data'"
      ],
      "metadata": {
        "id": "Ht8f5vw_-Y0p"
      },
      "execution_count": 1,
      "outputs": []
    },
    {
      "cell_type": "code",
      "source": [
        "import tensorflow as tf\n"
      ],
      "metadata": {
        "id": "wCwFwgm2JiGR"
      },
      "execution_count": 3,
      "outputs": []
    },
    {
      "cell_type": "code",
      "source": [
        "# Check out the documentation for other args\n",
        "tf.keras.utils.get_file('auto-mpg.data', url)"
      ],
      "metadata": {
        "colab": {
          "base_uri": "https://localhost:8080/",
          "height": 70
        },
        "id": "i_SgsCNjJYXp",
        "outputId": "6228c75a-d2c9-49f8-ad5a-3e396e058de7"
      },
      "execution_count": 4,
      "outputs": [
        {
          "output_type": "stream",
          "name": "stdout",
          "text": [
            "Downloading data from https://archive.ics.uci.edu/ml/machine-learning-databases/auto-mpg/auto-mpg.data\n",
            "   8192/Unknown - 0s 0us/step"
          ]
        },
        {
          "output_type": "execute_result",
          "data": {
            "text/plain": [
              "'/root/.keras/datasets/auto-mpg.data'"
            ],
            "application/vnd.google.colaboratory.intrinsic+json": {
              "type": "string"
            }
          },
          "metadata": {},
          "execution_count": 4
        }
      ]
    },
    {
      "cell_type": "code",
      "source": [
        "!head /root/.keras/datasets/auto-mpg.data"
      ],
      "metadata": {
        "colab": {
          "base_uri": "https://localhost:8080/"
        },
        "id": "T09MnPPKJmEt",
        "outputId": "0061e73d-477d-4323-f23f-08cfbfed93d5"
      },
      "execution_count": 5,
      "outputs": [
        {
          "output_type": "stream",
          "name": "stdout",
          "text": [
            "18.0   8   307.0      130.0      3504.      12.0   70  1\t\"chevrolet chevelle malibu\"\n",
            "15.0   8   350.0      165.0      3693.      11.5   70  1\t\"buick skylark 320\"\n",
            "18.0   8   318.0      150.0      3436.      11.0   70  1\t\"plymouth satellite\"\n",
            "16.0   8   304.0      150.0      3433.      12.0   70  1\t\"amc rebel sst\"\n",
            "17.0   8   302.0      140.0      3449.      10.5   70  1\t\"ford torino\"\n",
            "15.0   8   429.0      198.0      4341.      10.0   70  1\t\"ford galaxie 500\"\n",
            "14.0   8   454.0      220.0      4354.       9.0   70  1\t\"chevrolet impala\"\n",
            "14.0   8   440.0      215.0      4312.       8.5   70  1\t\"plymouth fury iii\"\n",
            "14.0   8   455.0      225.0      4425.      10.0   70  1\t\"pontiac catalina\"\n",
            "15.0   8   390.0      190.0      3850.       8.5   70  1\t\"amc ambassador dpl\"\n"
          ]
        }
      ]
    },
    {
      "cell_type": "markdown",
      "source": [
        "### Upload File from Device"
      ],
      "metadata": {
        "id": "wVrxGUwlKK6S"
      }
    },
    {
      "cell_type": "code",
      "source": [
        "from google.colab import files\n",
        "uploaded = files.upload()"
      ],
      "metadata": {
        "id": "4tUNx38qKUTF"
      },
      "execution_count": null,
      "outputs": []
    },
    {
      "cell_type": "markdown",
      "source": [
        "### Load File from Google Drive"
      ],
      "metadata": {
        "id": "sJgWXmNkLF6y"
      }
    },
    {
      "cell_type": "code",
      "source": [
        "# Access files from GG drive\n",
        "from google.colab import drive\n",
        "drive.mount('/content/gdrive')"
      ],
      "metadata": {
        "colab": {
          "base_uri": "https://localhost:8080/"
        },
        "id": "AzqSUj0vLNfu",
        "outputId": "6cce69c1-40c3-44ca-e8d9-187b786b1efd"
      },
      "execution_count": 9,
      "outputs": [
        {
          "output_type": "stream",
          "name": "stdout",
          "text": [
            "Mounted at /content/gdrive\n"
          ]
        }
      ]
    },
    {
      "cell_type": "code",
      "source": [
        "!ls gdrive"
      ],
      "metadata": {
        "colab": {
          "base_uri": "https://localhost:8080/"
        },
        "id": "7DBzsRNnLaHJ",
        "outputId": "20548672-d866-44b3-8967-d2759f79c02f"
      },
      "execution_count": 10,
      "outputs": [
        {
          "output_type": "stream",
          "name": "stdout",
          "text": [
            "MyDrive\n"
          ]
        }
      ]
    },
    {
      "cell_type": "markdown",
      "source": [
        "# Machine Learning"
      ],
      "metadata": {
        "id": "c2urpiNqz8GQ"
      }
    },
    {
      "cell_type": "markdown",
      "source": [
        "**Advertised Definition**\n",
        "\n",
        "> \"Machine learning is an application of artificial intelligence (AI) that provides systems the ability to automatically learn and improve from experience without being explicitly programmed. Machine learning focuses on the development of computer programs that can access data and use it to learn for themselves.\n",
        ">\n",
        "> The process of learning begins with observations or data, such as examples, direct experience, or instruction, in order to look for patterns in data and make better decisions in the future based on the examples that we provide. The primary aim is to allow the computers to learn automatically without human intervention or assistance and adjust actions accordingly.\"\n",
        "\n",
        "> Machine Learning(ML) can be explained as automating and improving the learning process of computers based on their experiences without actually being programmed i.e. without any human assistance. The process starts with feeding good quality data and then training our machines(computers) by building machine learning models using the data and different algorithms.\n"
      ],
      "metadata": {
        "id": "Xpc8bFOM0Dvd"
      }
    },
    {
      "cell_type": "markdown",
      "source": [
        "**Real Definition**\n",
        "\n",
        "> **Machine learning is nothing but a geometry probelm**\n",
        "\n",
        "Machine learning is not magic, it's just a glorified curve-fitting.\n",
        "\n",
        "E.g. Fit a line to a curve. $\\hat y = mx + b$\n",
        "\n",
        "\n",
        "Each layer in neural network model is basically a regression equation"
      ],
      "metadata": {
        "id": "DhE7K0Ga01bd"
      }
    },
    {
      "cell_type": "markdown",
      "source": [
        "## Linear Classification\n",
        "\n"
      ],
      "metadata": {
        "id": "M7XVYsZ6297S"
      }
    },
    {
      "cell_type": "markdown",
      "source": [
        "For 2D classification:\n",
        "- the horizontal axis is $x_1$\n",
        "- the vertical axis is $x_2$\n",
        "\n",
        "$x_2 = mx_1 + b$ can be rewritten as:\n",
        "\n",
        "$$\n",
        "w_1x_1 + w_2x_2 + b = 0\n",
        "$$\n",
        "\n",
        "If we set that equal to $\n",
        "w_1x_1 + w_2x_2 + b = a\n",
        "$, we'd get:\n",
        "- if $a \\ge 0 \\rightarrow$ predict 1\n",
        "- if $a < 0 \\rightarrow$ predict 0\n",
        "\n",
        "\\\n",
        "\n",
        "Mathematically, it can be written as a step function (only 1 or 0)\n",
        "$\n",
        "\\hat y = u(a), \\quad a= w_1x_1 + w_2x_2 + b\n",
        "$\n",
        "\n",
        "\\\n",
        "\n",
        "In Deep Learning, we prefer smooth, differentiable functions (\"sigmoid\"):\n",
        "\n",
        "$\n",
        "\\hat y = \\sigma(a), \\quad a= w_1x_1 + w_2x_2 + b\n",
        "$\n",
        "\n",
        "\\\n",
        "\n",
        "We interpret this output as *the probability that y=1 given x*.\n",
        "\n",
        "To make prediction, we roudn, e.g.: if $p(y=1|x) \\ge 50\\% \\rightarrow$ 1, else 0"
      ],
      "metadata": {
        "id": "bzOIWAqZ3BWf"
      }
    },
    {
      "cell_type": "markdown",
      "source": [
        "### Logistic Regression\n",
        "\n",
        "Ths \"S-shaped\" curve is called a sigmoid. A linear model that uses sigmoid is called **logistic regression**.\n",
        "\n",
        "$$\n",
        "p(y=1|x)= \\sigma(w_1x_1 + w_2x_2 + b ) \\\\\n",
        "$$\n",
        "\n",
        "Sigmoid function is also sometimes called logistic function.\n",
        "\n",
        "Its argument is called **\"logit\"**, although a more modern name is \"**activation**\"\n",
        "\n",
        "\\\n",
        "\n",
        "For $n$ number of inputs, we can generalize the formula as:\n",
        "\n",
        "$$\n",
        "p(y=1|x)= \\sigma(w^Tx + b ) = \\sigma(\\sum_{d=1}^Dw_dx_d + b) \\\\\n",
        "$$\n",
        "\n"
      ],
      "metadata": {
        "id": "0Mi1lgfW5Zwi"
      }
    },
    {
      "cell_type": "markdown",
      "source": [
        "#### Creating Model with tf.keras\n",
        "\n",
        "In tf.keras, this can be implemented useing a *Dense* layer.\n",
        "\n",
        "```python\n",
        "model = tf.keras.models.Sequential([\n",
        "    tf.keras.layers.Input(shape=(D,)),\n",
        "    tf.keras.layers.Dense(1, activation='sigmoid')\n",
        "])\n",
        "```"
      ],
      "metadata": {
        "id": "nWvCUHIu61dv"
      }
    },
    {
      "cell_type": "code",
      "source": [
        "import tensorflow as tf\n",
        "\n",
        "# Load in the data\n",
        "from sklearn.datasets import load_breast_cancer"
      ],
      "metadata": {
        "id": "TBFg3eGL8lrq"
      },
      "execution_count": 2,
      "outputs": []
    },
    {
      "cell_type": "code",
      "source": [
        "# Load the data\n",
        "data = load_breast_cancer()\n",
        "\n",
        "# Check the type of data\n",
        "type(data)"
      ],
      "metadata": {
        "colab": {
          "base_uri": "https://localhost:8080/"
        },
        "id": "IfClx6o78urf",
        "outputId": "dd21e3c2-f90d-4591-8b42-efbdc2c4448e"
      },
      "execution_count": 3,
      "outputs": [
        {
          "output_type": "execute_result",
          "data": {
            "text/plain": [
              "sklearn.utils._bunch.Bunch"
            ]
          },
          "metadata": {},
          "execution_count": 3
        }
      ]
    },
    {
      "cell_type": "code",
      "source": [
        "data.keys(), data.data.shape, data.target[:5]"
      ],
      "metadata": {
        "colab": {
          "base_uri": "https://localhost:8080/"
        },
        "id": "dCK0RtXD83LW",
        "outputId": "98586e33-f144-4d2f-f74a-55f38223f3d6"
      },
      "execution_count": 12,
      "outputs": [
        {
          "output_type": "execute_result",
          "data": {
            "text/plain": [
              "(dict_keys(['data', 'target', 'frame', 'target_names', 'DESCR', 'feature_names', 'filename', 'data_module']),\n",
              " (569, 30),\n",
              " array([0, 0, 0, 0, 0]))"
            ]
          },
          "metadata": {},
          "execution_count": 12
        }
      ]
    },
    {
      "cell_type": "code",
      "source": [
        "data.target_names, data.target.shape, data.feature_names[:5]"
      ],
      "metadata": {
        "colab": {
          "base_uri": "https://localhost:8080/"
        },
        "id": "z0EyiDEu9Y9J",
        "outputId": "cac657d8-1a91-48c4-f981-8019175c6d35"
      },
      "execution_count": 14,
      "outputs": [
        {
          "output_type": "execute_result",
          "data": {
            "text/plain": [
              "(array(['malignant', 'benign'], dtype='<U9'),\n",
              " (569,),\n",
              " array(['mean radius', 'mean texture', 'mean perimeter', 'mean area',\n",
              "        'mean smoothness'], dtype='<U23'))"
            ]
          },
          "metadata": {},
          "execution_count": 14
        }
      ]
    },
    {
      "cell_type": "code",
      "source": [
        "from sklearn.model_selection import train_test_split\n",
        "\n",
        "# Split the data intro train and test sets\n",
        "X_train, X_test, y_train, y_test = train_test_split(data.data, data.target, test_size=0.33)\n",
        "N, D = X_train.shape"
      ],
      "metadata": {
        "id": "193shFDG9h8a"
      },
      "execution_count": 15,
      "outputs": []
    },
    {
      "cell_type": "markdown",
      "source": [
        "##### Standardization\n",
        "\n",
        "Normalization (Standardization): To prevent outliers changing the effect of other values.\n",
        "\n",
        "$$\n",
        "z = \\frac{x-\\mu}{\\sigma}\n",
        "$$\n",
        "\n",
        "- μ = Mean\n",
        "- σ = Standard Deviation"
      ],
      "metadata": {
        "id": "3OLPlLND9yC_"
      }
    },
    {
      "cell_type": "code",
      "source": [
        "# Scale the data\n",
        "from sklearn.preprocessing import StandardScaler\n",
        "\n",
        "scaler = StandardScaler()\n",
        "X_train = scaler.fit_transform(X_train)\n",
        "X_test = scaler.transform(X_test)"
      ],
      "metadata": {
        "id": "aUzEL5Gv9v46"
      },
      "execution_count": null,
      "outputs": []
    },
    {
      "cell_type": "code",
      "source": [
        "# Build the model\n",
        "# model = tf.keras.models.Sequential([\n",
        "#     tf.keras.layers.Input(shape=(D,)),\n",
        "#     tf.keras.layers.Dense(1, activation='sigmoid')\n",
        "# ])\n",
        "\n",
        "# Alternatively, can do:\n",
        "model = tf.keras.models.Sequential()\n",
        "model.add(tf.keras.layers.Dense(1, input_shape=(D,), activation='sigmoid'))\n",
        "\n",
        "model.compile(optimizer='adam',\n",
        "              loss = 'binary_crossentropy',\n",
        "              metrics=['accuracy']\n",
        "              )\n",
        "\n",
        "# training the model\n",
        "r = model.fit(X_train, y_train, validation_data=(X_test, y_test), epochs=100, verbose=\"\")\n",
        "\n",
        "# Evaluate the model - evaluate() returns loss and accuracy\n",
        "print(\"Train score: \", model.evaluate(X_train, y_train))\n",
        "print(\"Test score: \", model.evaluate(X_test, y_test))"
      ],
      "metadata": {
        "colab": {
          "base_uri": "https://localhost:8080/"
        },
        "id": "II2LgV8I-HBZ",
        "outputId": "3e1924b0-3a1b-4141-fce7-6a4c368ee8ef"
      },
      "execution_count": 24,
      "outputs": [
        {
          "output_type": "stream",
          "name": "stdout",
          "text": [
            "12/12 [==============================] - 0s 2ms/step - loss: 1.0352 - accuracy: 0.8189\n",
            "Train score:  [1.0351619720458984, 0.8188976645469666]\n",
            "6/6 [==============================] - 0s 2ms/step - loss: 0.9346 - accuracy: 0.8245\n",
            "Test score:  [0.9345874190330505, 0.8244680762290955]\n"
          ]
        }
      ]
    },
    {
      "cell_type": "code",
      "source": [
        "# Plot what's returned by model.fit()\n",
        "\n",
        "import matplotlib.pyplot as plt\n",
        "plt.plot(r.history['loss'], label='loss')\n",
        "plt.plot(r.history['val_loss'], label='val_loss')\n",
        "plt.legend()"
      ],
      "metadata": {
        "colab": {
          "base_uri": "https://localhost:8080/",
          "height": 447
        },
        "id": "adIOXSR7-imU",
        "outputId": "74356ef4-4cd9-4a1d-bb8e-08ebb5fbfcc1"
      },
      "execution_count": 20,
      "outputs": [
        {
          "output_type": "execute_result",
          "data": {
            "text/plain": [
              "<matplotlib.legend.Legend at 0x77ff9b629db0>"
            ]
          },
          "metadata": {},
          "execution_count": 20
        },
        {
          "output_type": "display_data",
          "data": {
            "text/plain": [
              "<Figure size 640x480 with 1 Axes>"
            ],
            "image/png": "[encoded data removed]"
          },
          "metadata": {}
        }
      ]
    },
    {
      "cell_type": "code",
      "source": [
        "plt.plot(r.history['accuracy'], label='acc')\n",
        "plt.plot(r.history['val_accuracy'], label='val_acc')\n",
        "plt.legend()"
      ],
      "metadata": {
        "colab": {
          "base_uri": "https://localhost:8080/",
          "height": 447
        },
        "id": "zOkyMkDf-l1V",
        "outputId": "82696431-6b50-4e94-c82d-c51b9ab1f9bd"
      },
      "execution_count": 21,
      "outputs": [
        {
          "output_type": "execute_result",
          "data": {
            "text/plain": [
              "<matplotlib.legend.Legend at 0x77ff9b653eb0>"
            ]
          },
          "metadata": {},
          "execution_count": 21
        },
        {
          "output_type": "display_data",
          "data": {
            "text/plain": [
              "<Figure size 640x480 with 1 Axes>"
            ],
            "image/png": "[encoded data removed]"
          },
          "metadata": {}
        }
      ]
    },
    {
      "cell_type": "markdown",
      "source": [
        "#### Predicting Using the Model"
      ],
      "metadata": {
        "id": "-lbUXFo5_xQN"
      }
    },
    {
      "cell_type": "code",
      "source": [],
      "metadata": {
        "id": "7SLWzk5d_4rO"
      },
      "execution_count": null,
      "outputs": []
    },
    {
      "cell_type": "markdown",
      "source": [
        "### Linear Regression\n",
        "\n",
        "In this section we use Linear Rergession to prove Moore's law that the number of transistors in an integrated circuit doubles about every two years.\n",
        "\n",
        "\\"
      ],
      "metadata": {
        "id": "W2ngYYgCA-a_"
      }
    },
    {
      "cell_type": "markdown",
      "source": [
        "Our original model for exponential growth is:\n",
        "$$\n",
        "C = A_0r^t\n",
        "$$\n",
        "\n",
        "Where $C$ is transistor the count and $t$ is the year.\n",
        "\n",
        "$r$ is the rate of growth. For example, when $t$ goes from 1 to 2, $C$ increase by a factor $f$. When $t$ goes from 2 to 3, $C$ increase by a factor of $r$ again.\n",
        "\n",
        "When we take the log of both sides, we get\n",
        "\n",
        "$$\n",
        "\\log C = \\log r \\times t + \\log A_0\n",
        "$$\n",
        "\n",
        "This is our linear equation:\n",
        "\n",
        "$$\n",
        "\\hat y = ax + b\n",
        "$$\n",
        "\n",
        "where:\n",
        "\n",
        "$$\n",
        "\\hat y = \\log C \\\\\n",
        "a = \\log r \\\\\n",
        "x = t \\\\\n",
        "b = \\log A_0\n",
        "$$\n",
        "\n",
        "We're intrested in $r$, because that's the rate of growth. Given our regression weights (Calculated from the model from code snippet below), we know that:\n",
        "\n",
        "$$\n",
        "a = 0.34188938\n",
        "$$\n",
        "\n",
        "So that:\n",
        "$$\n",
        "r = e^{0.34188938} = 1.4076\n",
        "$$\n",
        "\n",
        "\n",
        "To find the time it takes for transistor count to double, we simply need to find the amount of time it takes $C$ to increase to $2C$.\n",
        "\n",
        "Let's call the original starting time $t$, to correspond with the initial transistor count $C$.\n",
        "\n",
        "Let's call the end time $t'$, to correspond with the final transistor count $2C$.\n",
        "\n",
        "Then we also have:\n",
        "$$\n",
        "2C = A_0r^{t'}\n",
        "$$\n",
        "\n",
        "Combine this with our original equation:\n",
        "$$\n",
        "C = A_0 r^t\n",
        "$$\n",
        "\n",
        "We get (by dividing the 2 equations):\n",
        "$$\n",
        "\\frac{2C}{C} = \\frac{A_0r^{t'}}{A_0r^t}\n",
        "$$\n",
        "\n",
        "Which simplified to:\n",
        "$$\n",
        "2 = r^{(t'-t)}\n",
        "$$\n",
        "\n",
        "Solve for $t' - t$:\n",
        "$$\n",
        "t'-t = \\frac{\\log 2}{\\log r} = \\frac{\\log 2}{a}\n",
        "$$\n",
        "\n",
        "Important note! We haven't specified what the starting time $t$ actually is, and we don't have to since we just proved that this holds for any $t$.\n"
      ],
      "metadata": {
        "id": "oFPFVOpaEiVb"
      }
    },
    {
      "cell_type": "code",
      "source": [
        "import tensorflow as tf\n",
        "import pandas as pd\n",
        "import numpy as np\n",
        "import matplotlib.pyplot as plt"
      ],
      "metadata": {
        "id": "TL5-udVJBFak"
      },
      "execution_count": 27,
      "outputs": []
    },
    {
      "cell_type": "code",
      "source": [
        "# Get the data\n",
        "!wget https://raw.githubusercontent.com/lazyprogrammer/machine_learning_examples/master/tf2.0/moore.csv"
      ],
      "metadata": {
        "colab": {
          "base_uri": "https://localhost:8080/"
        },
        "id": "-A2dK6-IBI_h",
        "outputId": "2c232952-262b-4962-9c6c-b84e9c8472a8"
      },
      "execution_count": 25,
      "outputs": [
        {
          "output_type": "stream",
          "name": "stdout",
          "text": [
            "--2023-12-12 03:14:14--  https://raw.githubusercontent.com/lazyprogrammer/machine_learning_examples/master/tf2.0/moore.csv\n",
            "Resolving raw.githubusercontent.com (raw.githubusercontent.com)... 185.199.108.133, 185.199.109.133, 185.199.110.133, ...\n",
            "Connecting to raw.githubusercontent.com (raw.githubusercontent.com)|185.199.108.133|:443... connected.\n",
            "HTTP request sent, awaiting response... 200 OK\n",
            "Length: 2302 (2.2K) [text/plain]\n",
            "Saving to: ‘moore.csv’\n",
            "\n",
            "\rmoore.csv             0%[                    ]       0  --.-KB/s               \rmoore.csv           100%[===================>]   2.25K  --.-KB/s    in 0s      \n",
            "\n",
            "2023-12-12 03:14:14 (23.7 MB/s) - ‘moore.csv’ saved [2302/2302]\n",
            "\n"
          ]
        }
      ]
    },
    {
      "cell_type": "code",
      "source": [
        "# Load in the data\n",
        "data = pd.read_csv('moore.csv', header=None).values\n",
        "X = data[:,0].reshape(-1, 1) # Make it a 2-D array of size N x D where D = 1\n",
        "Y = data[:,1]\n",
        "\n",
        "# plot the data - it is exponential\n",
        "plt.scatter(X, Y)"
      ],
      "metadata": {
        "colab": {
          "base_uri": "https://localhost:8080/",
          "height": 462
        },
        "id": "ecBYrKokBMqP",
        "outputId": "a35ae7d5-291e-4054-d44a-e6153650b796"
      },
      "execution_count": 28,
      "outputs": [
        {
          "output_type": "execute_result",
          "data": {
            "text/plain": [
              "<matplotlib.collections.PathCollection at 0x77ff9b2f9330>"
            ]
          },
          "metadata": {},
          "execution_count": 28
        },
        {
          "output_type": "display_data",
          "data": {
            "text/plain": [
              "<Figure size 640x480 with 1 Axes>"
            ],
            "image/png": "[encoded data removed]"
          },
          "metadata": {}
        }
      ]
    },
    {
      "cell_type": "code",
      "source": [
        "# Since we want a linear model, we take the log of the exponential curvbe\n",
        "# Linear model\n",
        "Y = np.log(Y)\n",
        "plt.scatter(X, Y)"
      ],
      "metadata": {
        "colab": {
          "base_uri": "https://localhost:8080/",
          "height": 447
        },
        "id": "HNb-k_ntBej8",
        "outputId": "0455c400-c54a-4054-d8ed-3b97aaddd2d7"
      },
      "execution_count": 29,
      "outputs": [
        {
          "output_type": "execute_result",
          "data": {
            "text/plain": [
              "<matplotlib.collections.PathCollection at 0x77ff9b1d9120>"
            ]
          },
          "metadata": {},
          "execution_count": 29
        },
        {
          "output_type": "display_data",
          "data": {
            "text/plain": [
              "<Figure size 640x480 with 1 Axes>"
            ],
            "image/png": "[encoded data removed]"
          },
          "metadata": {}
        }
      ]
    },
    {
      "cell_type": "code",
      "source": [
        "# Centering the X data so the values are not too large\n",
        "X = X - X.mean()"
      ],
      "metadata": {
        "id": "-VjVltEICAN9"
      },
      "execution_count": 30,
      "outputs": []
    },
    {
      "cell_type": "markdown",
      "source": [
        "##### Learning Rate Scheduler"
      ],
      "metadata": {
        "id": "E4MuB-AwJDnt"
      }
    },
    {
      "cell_type": "code",
      "source": [
        "# Learning Rate Scheduler\n",
        "def schedule(epoch, lr):\n",
        "  return 0.0001 if epoch >= 50 else 0.001\n",
        "\n",
        "scheduler = tf.keras.callbacks.LearningRateScheduler(schedule)"
      ],
      "metadata": {
        "id": "TKAQwO71JCBI"
      },
      "execution_count": null,
      "outputs": []
    },
    {
      "cell_type": "code",
      "source": [
        "# TF Model\n",
        "model = tf.keras.models.Sequential([\n",
        "    tf.keras.layers.Input(shape=(1,)),\n",
        "    tf.keras.layers.Dense(1),\n",
        "])\n",
        "\n",
        "model.compile(optimizer=tf.keras.optimizers.SGD(0.001, 0.9), loss='mse')\n",
        "# model.compile(optimizer='adam', loss='mse')\n",
        "\n",
        "# Train the Model\n",
        "r= model.fit(X, Y, epochs=200, callbacks=[scheduler], verbose=\"\")\n",
        "\n",
        "# Plot the loss\n",
        "plt.plot(r.history['loss'], label='loss')"
      ],
      "metadata": {
        "colab": {
          "base_uri": "https://localhost:8080/",
          "height": 447
        },
        "id": "RpHbGyE5CFlP",
        "outputId": "643b71d9-8175-4a39-b334-479a4a38a604"
      },
      "execution_count": 31,
      "outputs": [
        {
          "output_type": "execute_result",
          "data": {
            "text/plain": [
              "[<matplotlib.lines.Line2D at 0x77ffa4267d30>]"
            ]
          },
          "metadata": {},
          "execution_count": 31
        },
        {
          "output_type": "display_data",
          "data": {
            "text/plain": [
              "<Figure size 640x480 with 1 Axes>"
            ],
            "image/png": "[encoded data removed]"
          },
          "metadata": {}
        }
      ]
    },
    {
      "cell_type": "code",
      "source": [
        "# Get the slop of the line\n",
        "print(model.layers)\n",
        "print(model.layers[0].get_weights()) # W , b"
      ],
      "metadata": {
        "colab": {
          "base_uri": "https://localhost:8080/"
        },
        "id": "I6m03oi4DHbi",
        "outputId": "a405b4b1-95d7-407c-aa4b-ec996d026605"
      },
      "execution_count": 32,
      "outputs": [
        {
          "output_type": "stream",
          "name": "stdout",
          "text": [
            "[<keras.src.layers.core.dense.Dense object at 0x77ff9b5cb6a0>]\n",
            "[array([[0.33926997]], dtype=float32), array([17.77223], dtype=float32)]\n"
          ]
        }
      ]
    },
    {
      "cell_type": "code",
      "source": [
        "# The slope of the line is:\n",
        "a = model.layers[0].get_weights()[0][0,0]"
      ],
      "metadata": {
        "id": "3-zYO4x5EUsw"
      },
      "execution_count": 33,
      "outputs": []
    },
    {
      "cell_type": "code",
      "source": [
        "print(\"Time to double: \", np.log(2) / a)"
      ],
      "metadata": {
        "colab": {
          "base_uri": "https://localhost:8080/"
        },
        "id": "R0eovl3TEb1t",
        "outputId": "36b632c7-c3d4-4eb2-c90b-1e417921ba1e"
      },
      "execution_count": 34,
      "outputs": [
        {
          "output_type": "stream",
          "name": "stdout",
          "text": [
            "Time to double:  2.0430549422422737\n"
          ]
        }
      ]
    },
    {
      "cell_type": "code",
      "source": [
        "# If you know the analytical solution (Only applicable to linear regression)\n",
        "X = np.array(X).flatten()\n",
        "Y = np.array(Y)\n",
        "denominater = X.dot(X) - X.mean() * X.sum()\n",
        "a = ( X.dot(Y) - Y.mean() * X.sum() ) / denominater\n",
        "b = ( Y.mean() * X.dot(X) - X.mean() * X.dot(Y) ) / denominater\n",
        "print(a, b)\n",
        "print(\"Time to double: \", np.log(2) / a)"
      ],
      "metadata": {
        "colab": {
          "base_uri": "https://localhost:8080/"
        },
        "id": "uoTWDgUuJpzF",
        "outputId": "c1199e35-19a3-45e2-8713-69dafd9a6d03"
      },
      "execution_count": 35,
      "outputs": [
        {
          "output_type": "stream",
          "name": "stdout",
          "text": [
            "0.341682487387313 17.764939393631764\n",
            "Time to double:  2.0286295205239204\n"
          ]
        }
      ]
    }
  ]
}