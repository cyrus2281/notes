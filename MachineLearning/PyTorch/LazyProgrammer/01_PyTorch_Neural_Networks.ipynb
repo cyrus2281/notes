{
  "nbformat": 4,
  "nbformat_minor": 0,
  "metadata": {
    "colab": {
      "provenance": [],
      "toc_visible": true,
      "gpuType": "T4"
    },
    "kernelspec": {
      "name": "python3",
      "display_name": "Python 3"
    },
    "language_info": {
      "name": "python"
    },
    "accelerator": "GPU"
  },
  "cells": [
    {
      "cell_type": "markdown",
      "source": [
        "# Content\n"
      ],
      "metadata": {
        "id": "zXBUjSnNweZj"
      }
    },
    {
      "cell_type": "markdown",
      "source": [
        ">[Content](#folderId=1J9TOWvQFM0L3uKI8TxMbi2cJKrikq3i-&updateTitle=true&scrollTo=zXBUjSnNweZj)\n",
        "\n",
        ">[Neural Networks](#folderId=1J9TOWvQFM0L3uKI8TxMbi2cJKrikq3i-&updateTitle=true&scrollTo=vc8WxKSxryRw)\n",
        "\n",
        ">>[Linear Regression](#folderId=1J9TOWvQFM0L3uKI8TxMbi2cJKrikq3i-&updateTitle=true&scrollTo=VmR989Y_qmMW)\n",
        "\n",
        ">>[Logistic Regression](#folderId=1J9TOWvQFM0L3uKI8TxMbi2cJKrikq3i-&updateTitle=true&scrollTo=FQssfpdxywqs)\n",
        "\n",
        ">>>[Save and Load Model](#folderId=1J9TOWvQFM0L3uKI8TxMbi2cJKrikq3i-&updateTitle=true&scrollTo=sP8HXTlm4OUu)\n",
        "\n"
      ],
      "metadata": {
        "colab_type": "toc",
        "id": "7szQLjs6wa5Y"
      }
    },
    {
      "cell_type": "markdown",
      "source": [
        "# Neural Networks"
      ],
      "metadata": {
        "id": "vc8WxKSxryRw"
      }
    },
    {
      "cell_type": "markdown",
      "source": [
        "## Linear Regression"
      ],
      "metadata": {
        "id": "VmR989Y_qmMW"
      }
    },
    {
      "cell_type": "code",
      "execution_count": 7,
      "metadata": {
        "id": "D-h15f6AneX3"
      },
      "outputs": [],
      "source": [
        "import torch\n",
        "import torch.nn as nn\n",
        "import numpy as np\n",
        "import matplotlib.pyplot as plt"
      ]
    },
    {
      "cell_type": "code",
      "source": [
        "# we would like to generate 20 data points\n",
        "N = 20\n",
        "\n",
        "# random data on the x-axis in (-5, +5)\n",
        "X = np.random.random(N)*10 - 5\n",
        "\n",
        "# a line plus some noise\n",
        "Y = 0.5 * X - 1 + np.random.randn(N)\n",
        "\n",
        "# Plot the data\n",
        "plt.scatter(X, Y);"
      ],
      "metadata": {
        "colab": {
          "base_uri": "https://localhost:8080/",
          "height": 430
        },
        "id": "4nwF7QH3uMnT",
        "outputId": "fe4b16dd-b09e-4ccb-b43c-48e686e024ff"
      },
      "execution_count": 8,
      "outputs": [
        {
          "output_type": "display_data",
          "data": {
            "text/plain": [
              "<Figure size 640x480 with 1 Axes>"
            ],
            "image/png": "[encoded data removed]"
          },
          "metadata": {}
        }
      ]
    },
    {
      "cell_type": "code",
      "source": [
        "# In ML we want our data to be of shape:\n",
        "# (num_samples x num_dimensions)\n",
        "X = X.reshape(N, 1)\n",
        "Y = Y.reshape(N, 1)\n",
        "\n",
        "# PyTorch uses float32 by default\n",
        "# Numpy creates float64 by default\n",
        "inputs = torch.from_numpy(X.astype(np.float32))\n",
        "targets = torch.from_numpy(Y.astype(np.float32))\n",
        "\n",
        "type(inputs)"
      ],
      "metadata": {
        "colab": {
          "base_uri": "https://localhost:8080/"
        },
        "id": "Z1uulo3EuV3i",
        "outputId": "3f19f923-4be5-4bfc-a85b-5ca4c682824d"
      },
      "execution_count": 9,
      "outputs": [
        {
          "output_type": "execute_result",
          "data": {
            "text/plain": [
              "torch.Tensor"
            ]
          },
          "metadata": {},
          "execution_count": 9
        }
      ]
    },
    {
      "cell_type": "code",
      "source": [
        "# Create the linear regression model\n",
        "model = nn.Linear(1, 1)\n",
        "\n",
        "# Loss and optimizer\n",
        "criterion = nn.MSELoss()\n",
        "optimizer = torch.optim.SGD(model.parameters(), lr=0.1)"
      ],
      "metadata": {
        "id": "atdVSfnzuR_M"
      },
      "execution_count": 10,
      "outputs": []
    },
    {
      "cell_type": "code",
      "source": [
        "# Train the model\n",
        "n_epochs = 30\n",
        "losses = []\n",
        "for it in range(n_epochs):\n",
        "  # zero the parameter gradients\n",
        "  optimizer.zero_grad()\n",
        "\n",
        "  # Forward pass\n",
        "  outputs = model(inputs)\n",
        "  loss = criterion(outputs, targets)\n",
        "\n",
        "  # keep the loss so we can plot it later\n",
        "  losses.append(loss.item())\n",
        "\n",
        "  # Backward and optimize\n",
        "  loss.backward()\n",
        "  optimizer.step()\n",
        "\n",
        "  print(f'Epoch {it+1}/{n_epochs}, Loss: {loss.item():.4f}')"
      ],
      "metadata": {
        "colab": {
          "base_uri": "https://localhost:8080/"
        },
        "id": "d2ZLzVCZui4q",
        "outputId": "8ab5e5d7-ce52-4e2a-9c5a-6bddbed89a8d"
      },
      "execution_count": 11,
      "outputs": [
        {
          "output_type": "stream",
          "name": "stdout",
          "text": [
            "Epoch 1/30, Loss: 8.0657\n",
            "Epoch 2/30, Loss: 5.3005\n",
            "Epoch 3/30, Loss: 3.5662\n",
            "Epoch 4/30, Loss: 2.4755\n",
            "Epoch 5/30, Loss: 1.7875\n",
            "Epoch 6/30, Loss: 1.3525\n",
            "Epoch 7/30, Loss: 1.0767\n",
            "Epoch 8/30, Loss: 0.9014\n",
            "Epoch 9/30, Loss: 0.7897\n",
            "Epoch 10/30, Loss: 0.7184\n",
            "Epoch 11/30, Loss: 0.6728\n",
            "Epoch 12/30, Loss: 0.6436\n",
            "Epoch 13/30, Loss: 0.6248\n",
            "Epoch 14/30, Loss: 0.6127\n",
            "Epoch 15/30, Loss: 0.6049\n",
            "Epoch 16/30, Loss: 0.5999\n",
            "Epoch 17/30, Loss: 0.5966\n",
            "Epoch 18/30, Loss: 0.5945\n",
            "Epoch 19/30, Loss: 0.5931\n",
            "Epoch 20/30, Loss: 0.5923\n",
            "Epoch 21/30, Loss: 0.5917\n",
            "Epoch 22/30, Loss: 0.5913\n",
            "Epoch 23/30, Loss: 0.5911\n",
            "Epoch 24/30, Loss: 0.5909\n",
            "Epoch 25/30, Loss: 0.5908\n",
            "Epoch 26/30, Loss: 0.5907\n",
            "Epoch 27/30, Loss: 0.5907\n",
            "Epoch 28/30, Loss: 0.5907\n",
            "Epoch 29/30, Loss: 0.5906\n",
            "Epoch 30/30, Loss: 0.5906\n"
          ]
        }
      ]
    },
    {
      "cell_type": "code",
      "source": [
        "# Plot the loss per iteration\n",
        "plt.plot(losses);"
      ],
      "metadata": {
        "colab": {
          "base_uri": "https://localhost:8080/",
          "height": 430
        },
        "id": "oHGEBz0-uloF",
        "outputId": "a83b85d4-56bd-4685-c8ae-2c1894b80abb"
      },
      "execution_count": 12,
      "outputs": [
        {
          "output_type": "display_data",
          "data": {
            "text/plain": [
              "<Figure size 640x480 with 1 Axes>"
            ],
            "image/png": "[encoded data removed]"
          },
          "metadata": {}
        }
      ]
    },
    {
      "cell_type": "code",
      "source": [
        "# Plot the graph\n",
        "predicted = model(inputs).detach().numpy() # Throws error if not detached first\n",
        "plt.scatter(X, Y, label='Original data')\n",
        "plt.plot(X, predicted, label='Fitted line')\n",
        "plt.legend()\n",
        "plt.show()"
      ],
      "metadata": {
        "colab": {
          "base_uri": "https://localhost:8080/",
          "height": 430
        },
        "id": "7n1p61v6un48",
        "outputId": "0fce43a1-83e5-4397-8010-41da1d1ad44c"
      },
      "execution_count": 13,
      "outputs": [
        {
          "output_type": "display_data",
          "data": {
            "text/plain": [
              "<Figure size 640x480 with 1 Axes>"
            ],
            "image/png": "[encoded data removed]"
          },
          "metadata": {}
        }
      ]
    },
    {
      "cell_type": "code",
      "source": [
        "# Another way, instead of calling detach\n",
        "with torch.no_grad():\n",
        "  out = model(inputs).numpy()\n",
        "out"
      ],
      "metadata": {
        "colab": {
          "base_uri": "https://localhost:8080/"
        },
        "id": "5_hZhPJGwEwe",
        "outputId": "69f72d69-cadd-4c16-8708-6baeef490dd3"
      },
      "execution_count": 15,
      "outputs": [
        {
          "output_type": "execute_result",
          "data": {
            "text/plain": [
              "array([[-0.21129191],\n",
              "       [-1.4522172 ],\n",
              "       [-2.6882527 ],\n",
              "       [ 1.4075803 ],\n",
              "       [-2.7937555 ],\n",
              "       [ 1.540198  ],\n",
              "       [ 1.2103118 ],\n",
              "       [ 1.0122842 ],\n",
              "       [ 1.4273728 ],\n",
              "       [-2.3007736 ],\n",
              "       [ 1.434842  ],\n",
              "       [ 0.4251157 ],\n",
              "       [-2.2886307 ],\n",
              "       [-3.161564  ],\n",
              "       [-1.3392979 ],\n",
              "       [-3.171773  ],\n",
              "       [-2.85942   ],\n",
              "       [ 1.1497535 ],\n",
              "       [-2.7146525 ],\n",
              "       [-1.1201562 ]], dtype=float32)"
            ]
          },
          "metadata": {},
          "execution_count": 15
        }
      ]
    },
    {
      "cell_type": "code",
      "source": [
        "# True values of (w, b) are (0.5, -1)\n",
        "w = model.weight.data.numpy()\n",
        "b = model.bias.data.numpy()\n",
        "print(w, b)"
      ],
      "metadata": {
        "colab": {
          "base_uri": "https://localhost:8080/"
        },
        "id": "dI2ydhmCwQlu",
        "outputId": "147110fe-111d-4f69-e884-45a7568b48c4"
      },
      "execution_count": 16,
      "outputs": [
        {
          "output_type": "stream",
          "name": "stdout",
          "text": [
            "[[0.62295854]] [-1.2115074]\n"
          ]
        }
      ]
    },
    {
      "cell_type": "markdown",
      "source": [
        "## Logistic Regression"
      ],
      "metadata": {
        "id": "FQssfpdxywqs"
      }
    },
    {
      "cell_type": "code",
      "source": [
        "import torch\n",
        "import torch.nn as nn\n",
        "import numpy as np\n",
        "import matplotlib.pyplot as plt\n",
        "from sklearn.model_selection import train_test_split\n",
        "from sklearn.preprocessing import StandardScaler\n",
        "from sklearn.datasets import load_breast_cancer"
      ],
      "metadata": {
        "id": "P657kJTH3djx"
      },
      "execution_count": 27,
      "outputs": []
    },
    {
      "cell_type": "code",
      "source": [
        "# load the data\n",
        "data = load_breast_cancer()\n",
        "\n",
        "# check the type of 'data'\n",
        "type(data)"
      ],
      "metadata": {
        "colab": {
          "base_uri": "https://localhost:8080/"
        },
        "id": "uwolAHyp3gy-",
        "outputId": "e3501f5a-d298-4a0c-861b-fad74731c182"
      },
      "execution_count": 19,
      "outputs": [
        {
          "output_type": "execute_result",
          "data": {
            "text/plain": [
              "sklearn.utils._bunch.Bunch"
            ]
          },
          "metadata": {},
          "execution_count": 19
        }
      ]
    },
    {
      "cell_type": "code",
      "source": [
        "# this basically acts like a dictionary where you can treat the keys like attributes\n",
        "data.keys()"
      ],
      "metadata": {
        "colab": {
          "base_uri": "https://localhost:8080/"
        },
        "id": "yzukiYcQ3lIQ",
        "outputId": "bc88e0b0-66e0-4c91-b93b-26dcc660b312"
      },
      "execution_count": 20,
      "outputs": [
        {
          "output_type": "execute_result",
          "data": {
            "text/plain": [
              "dict_keys(['data', 'target', 'frame', 'target_names', 'DESCR', 'feature_names', 'filename', 'data_module'])"
            ]
          },
          "metadata": {},
          "execution_count": 20
        }
      ]
    },
    {
      "cell_type": "code",
      "source": [
        "# 'data' (the attribute) means the input data\n",
        "data.data.shape\n",
        "# it has 569 samples, 30 features"
      ],
      "metadata": {
        "colab": {
          "base_uri": "https://localhost:8080/"
        },
        "id": "py3hQPNJ3n4y",
        "outputId": "72aba9a0-5ffd-4cc7-d3ef-f3d6a8655030"
      },
      "execution_count": 21,
      "outputs": [
        {
          "output_type": "execute_result",
          "data": {
            "text/plain": [
              "(569, 30)"
            ]
          },
          "metadata": {},
          "execution_count": 21
        }
      ]
    },
    {
      "cell_type": "code",
      "source": [
        "# 'targets'\n",
        "data.target\n",
        "# note how the targets are just 0s and 1s\n",
        "# normally, when you have K targets, they are labeled 0..K-1"
      ],
      "metadata": {
        "colab": {
          "base_uri": "https://localhost:8080/"
        },
        "id": "LVmJenhg3qEA",
        "outputId": "0f798e9c-3121-4a7d-e43c-65e7328c968b"
      },
      "execution_count": 22,
      "outputs": [
        {
          "output_type": "execute_result",
          "data": {
            "text/plain": [
              "array([0, 0, 0, 0, 0, 0, 0, 0, 0, 0, 0, 0, 0, 0, 0, 0, 0, 0, 0, 1, 1, 1,\n",
              "       0, 0, 0, 0, 0, 0, 0, 0, 0, 0, 0, 0, 0, 0, 0, 1, 0, 0, 0, 0, 0, 0,\n",
              "       0, 0, 1, 0, 1, 1, 1, 1, 1, 0, 0, 1, 0, 0, 1, 1, 1, 1, 0, 1, 0, 0,\n",
              "       1, 1, 1, 1, 0, 1, 0, 0, 1, 0, 1, 0, 0, 1, 1, 1, 0, 0, 1, 0, 0, 0,\n",
              "       1, 1, 1, 0, 1, 1, 0, 0, 1, 1, 1, 0, 0, 1, 1, 1, 1, 0, 1, 1, 0, 1,\n",
              "       1, 1, 1, 1, 1, 1, 1, 0, 0, 0, 1, 0, 0, 1, 1, 1, 0, 0, 1, 0, 1, 0,\n",
              "       0, 1, 0, 0, 1, 1, 0, 1, 1, 0, 1, 1, 1, 1, 0, 1, 1, 1, 1, 1, 1, 1,\n",
              "       1, 1, 0, 1, 1, 1, 1, 0, 0, 1, 0, 1, 1, 0, 0, 1, 1, 0, 0, 1, 1, 1,\n",
              "       1, 0, 1, 1, 0, 0, 0, 1, 0, 1, 0, 1, 1, 1, 0, 1, 1, 0, 0, 1, 0, 0,\n",
              "       0, 0, 1, 0, 0, 0, 1, 0, 1, 0, 1, 1, 0, 1, 0, 0, 0, 0, 1, 1, 0, 0,\n",
              "       1, 1, 1, 0, 1, 1, 1, 1, 1, 0, 0, 1, 1, 0, 1, 1, 0, 0, 1, 0, 1, 1,\n",
              "       1, 1, 0, 1, 1, 1, 1, 1, 0, 1, 0, 0, 0, 0, 0, 0, 0, 0, 0, 0, 0, 0,\n",
              "       0, 0, 1, 1, 1, 1, 1, 1, 0, 1, 0, 1, 1, 0, 1, 1, 0, 1, 0, 0, 1, 1,\n",
              "       1, 1, 1, 1, 1, 1, 1, 1, 1, 1, 1, 0, 1, 1, 0, 1, 0, 1, 1, 1, 1, 1,\n",
              "       1, 1, 1, 1, 1, 1, 1, 1, 1, 0, 1, 1, 1, 0, 1, 0, 1, 1, 1, 1, 0, 0,\n",
              "       0, 1, 1, 1, 1, 0, 1, 0, 1, 0, 1, 1, 1, 0, 1, 1, 1, 1, 1, 1, 1, 0,\n",
              "       0, 0, 1, 1, 1, 1, 1, 1, 1, 1, 1, 1, 1, 0, 0, 1, 0, 0, 0, 1, 0, 0,\n",
              "       1, 1, 1, 1, 1, 0, 1, 1, 1, 1, 1, 0, 1, 1, 1, 0, 1, 1, 0, 0, 1, 1,\n",
              "       1, 1, 1, 1, 0, 1, 1, 1, 1, 1, 1, 1, 0, 1, 1, 1, 1, 1, 0, 1, 1, 0,\n",
              "       1, 1, 1, 1, 1, 1, 1, 1, 1, 1, 1, 1, 0, 1, 0, 0, 1, 0, 1, 1, 1, 1,\n",
              "       1, 0, 1, 1, 0, 1, 0, 1, 1, 0, 1, 0, 1, 1, 1, 1, 1, 1, 1, 1, 0, 0,\n",
              "       1, 1, 1, 1, 1, 1, 0, 1, 1, 1, 1, 1, 1, 1, 1, 1, 1, 0, 1, 1, 1, 1,\n",
              "       1, 1, 1, 0, 1, 0, 1, 1, 0, 1, 1, 1, 1, 1, 0, 0, 1, 0, 1, 0, 1, 1,\n",
              "       1, 1, 1, 0, 1, 1, 0, 1, 0, 1, 0, 0, 1, 1, 1, 0, 1, 1, 1, 1, 1, 1,\n",
              "       1, 1, 1, 1, 1, 0, 1, 0, 0, 1, 1, 1, 1, 1, 1, 1, 1, 1, 1, 1, 1, 1,\n",
              "       1, 1, 1, 1, 1, 1, 1, 1, 1, 1, 1, 1, 0, 0, 0, 0, 0, 0, 1])"
            ]
          },
          "metadata": {},
          "execution_count": 22
        }
      ]
    },
    {
      "cell_type": "code",
      "source": [
        "# their meaning is not lost\n",
        "data.target_names"
      ],
      "metadata": {
        "colab": {
          "base_uri": "https://localhost:8080/"
        },
        "id": "oEXeZgy93r8d",
        "outputId": "a050da2c-316b-4da4-fd9c-b5ccccaf632b"
      },
      "execution_count": 23,
      "outputs": [
        {
          "output_type": "execute_result",
          "data": {
            "text/plain": [
              "array(['malignant', 'benign'], dtype='<U9')"
            ]
          },
          "metadata": {},
          "execution_count": 23
        }
      ]
    },
    {
      "cell_type": "code",
      "source": [
        "# there are also 569 corresponding targets\n",
        "data.target.shape"
      ],
      "metadata": {
        "colab": {
          "base_uri": "https://localhost:8080/"
        },
        "id": "zPTJurBs3tcH",
        "outputId": "a9411544-ae62-4b73-ff9b-b358a26b3a3d"
      },
      "execution_count": 24,
      "outputs": [
        {
          "output_type": "execute_result",
          "data": {
            "text/plain": [
              "(569,)"
            ]
          },
          "metadata": {},
          "execution_count": 24
        }
      ]
    },
    {
      "cell_type": "code",
      "source": [
        "# split the data into train and test sets\n",
        "# this lets us simulate how our model will perform in the future\n",
        "X_train, X_test, y_train, y_test = train_test_split(data.data, data.target, test_size=0.33)\n",
        "N, D = X_train.shape\n",
        "\n",
        "scaler = StandardScaler()\n",
        "X_train = scaler.fit_transform(X_train)\n",
        "X_test = scaler.transform(X_test)"
      ],
      "metadata": {
        "id": "a99kd7z83x-j"
      },
      "execution_count": 28,
      "outputs": []
    },
    {
      "cell_type": "code",
      "source": [
        "# Convert data into torch tensors\n",
        "X_train = torch.from_numpy(X_train.astype(np.float32))\n",
        "X_test = torch.from_numpy(X_test.astype(np.float32))\n",
        "y_train = torch.from_numpy(y_train.astype(np.float32).reshape(-1, 1)) # In PyTorch we need the output to be a 2d array of (N, 1) instead of an 1d array\n",
        "y_test = torch.from_numpy(y_test.astype(np.float32).reshape(-1, 1))"
      ],
      "metadata": {
        "id": "n632uhla396C"
      },
      "execution_count": 29,
      "outputs": []
    },
    {
      "cell_type": "code",
      "source": [
        "# Build the model\n",
        "model = nn.Sequential(\n",
        "    nn.Linear(D, 1),\n",
        "    nn.Sigmoid()\n",
        ")\n",
        "\n",
        "# We don't put the sigmoid in the model anymore since it will be calculated along with the loss in the criterion.\n",
        "# model = nn.Linear(D, 1)\n",
        "\n",
        "# Loss and optimizer\n",
        "criterion = nn.BCELoss()\n",
        "\n",
        "# This function calculates the BCE loss directly from the logits which are the outputs from the logistic function.\n",
        "# criterion = nn.BCEWithLogitsLoss()\n",
        "\n",
        "optimizer = torch.optim.Adam(model.parameters())"
      ],
      "metadata": {
        "id": "v3R5fj_e36tb"
      },
      "execution_count": 30,
      "outputs": []
    },
    {
      "cell_type": "code",
      "source": [
        "# Train the model\n",
        "n_epochs = 1000\n",
        "\n",
        "# Stuff to store\n",
        "train_losses = np.zeros(n_epochs)\n",
        "test_losses = np.zeros(n_epochs)\n",
        "train_accuracies = np.zeros(n_epochs)\n",
        "test_accuracies = np.zeros(n_epochs)\n",
        "\n",
        "for it in range(n_epochs):\n",
        "  # zero the parameter gradients\n",
        "  optimizer.zero_grad()\n",
        "\n",
        "  # Forward pass\n",
        "  outputs = model(X_train)\n",
        "  loss = criterion(outputs, y_train)\n",
        "\n",
        "  # Backward and optimize\n",
        "  loss.backward()\n",
        "  optimizer.step()\n",
        "\n",
        "  # Get test loss. For this we will run the model again, but now on the test set and recalculate the loss for it.\n",
        "  outputs_test = model(X_test)\n",
        "  loss_test = criterion(outputs_test, y_test)\n",
        "\n",
        "  # Save losses\n",
        "  train_losses[it] = loss.item()\n",
        "  test_losses[it] = loss_test.item()\n",
        "\n",
        "\n",
        "  # Get accuracy\n",
        "  with torch.no_grad():\n",
        "    p_train = np.round(outputs.numpy())\n",
        "    train_acc = np.mean(p_train == y_train.numpy())\n",
        "\n",
        "    p_test = np.round(outputs_test.numpy())\n",
        "    test_acc = np.mean(p_test == y_test.numpy())\n",
        "\n",
        "  #Save accuracies\n",
        "  train_accuracies[it] = train_acc\n",
        "  test_accuracies[it] = test_acc\n",
        "\n",
        "  if (it + 1) % 50 == 0:\n",
        "    print(f'Epoch {it+1}/{n_epochs}, Train Loss: {loss.item():.4f}, Test Loss: {loss_test.item():.4f}, Train Acc: {train_acc:.4f}, Test Acc: {test_acc:.4f}')"
      ],
      "metadata": {
        "colab": {
          "base_uri": "https://localhost:8080/"
        },
        "id": "LScLv_J13_7U",
        "outputId": "2e678149-1772-4f85-ce6e-7b4cf8802171"
      },
      "execution_count": 31,
      "outputs": [
        {
          "output_type": "stream",
          "name": "stdout",
          "text": [
            "Epoch 50/1000, Train Loss: 0.5664, Test Loss: 0.5736, Train Acc: 0.7874, Test Acc: 0.7766\n",
            "Epoch 100/1000, Train Loss: 0.4127, Test Loss: 0.4090, Train Acc: 0.9108, Test Acc: 0.9096\n",
            "Epoch 150/1000, Train Loss: 0.3299, Test Loss: 0.3194, Train Acc: 0.9344, Test Acc: 0.9415\n",
            "Epoch 200/1000, Train Loss: 0.2784, Test Loss: 0.2640, Train Acc: 0.9528, Test Acc: 0.9628\n",
            "Epoch 250/1000, Train Loss: 0.2434, Test Loss: 0.2265, Train Acc: 0.9554, Test Acc: 0.9628\n",
            "Epoch 300/1000, Train Loss: 0.2180, Test Loss: 0.1995, Train Acc: 0.9606, Test Acc: 0.9681\n",
            "Epoch 350/1000, Train Loss: 0.1989, Test Loss: 0.1793, Train Acc: 0.9633, Test Acc: 0.9681\n",
            "Epoch 400/1000, Train Loss: 0.1838, Test Loss: 0.1635, Train Acc: 0.9659, Test Acc: 0.9681\n",
            "Epoch 450/1000, Train Loss: 0.1717, Test Loss: 0.1509, Train Acc: 0.9685, Test Acc: 0.9734\n",
            "Epoch 500/1000, Train Loss: 0.1617, Test Loss: 0.1406, Train Acc: 0.9685, Test Acc: 0.9734\n",
            "Epoch 550/1000, Train Loss: 0.1533, Test Loss: 0.1321, Train Acc: 0.9711, Test Acc: 0.9734\n",
            "Epoch 600/1000, Train Loss: 0.1461, Test Loss: 0.1248, Train Acc: 0.9711, Test Acc: 0.9734\n",
            "Epoch 650/1000, Train Loss: 0.1399, Test Loss: 0.1185, Train Acc: 0.9738, Test Acc: 0.9734\n",
            "Epoch 700/1000, Train Loss: 0.1345, Test Loss: 0.1131, Train Acc: 0.9738, Test Acc: 0.9734\n",
            "Epoch 750/1000, Train Loss: 0.1297, Test Loss: 0.1084, Train Acc: 0.9738, Test Acc: 0.9734\n",
            "Epoch 800/1000, Train Loss: 0.1255, Test Loss: 0.1041, Train Acc: 0.9738, Test Acc: 0.9734\n",
            "Epoch 850/1000, Train Loss: 0.1217, Test Loss: 0.1004, Train Acc: 0.9738, Test Acc: 0.9734\n",
            "Epoch 900/1000, Train Loss: 0.1182, Test Loss: 0.0970, Train Acc: 0.9764, Test Acc: 0.9734\n",
            "Epoch 950/1000, Train Loss: 0.1151, Test Loss: 0.0939, Train Acc: 0.9764, Test Acc: 0.9734\n",
            "Epoch 1000/1000, Train Loss: 0.1123, Test Loss: 0.0911, Train Acc: 0.9790, Test Acc: 0.9734\n"
          ]
        }
      ]
    },
    {
      "cell_type": "code",
      "source": [
        "# Plot the train loss and test loss per iteration\n",
        "plt.plot(train_losses, label='train loss')\n",
        "plt.plot(test_losses, label='test loss')\n",
        "plt.legend()\n",
        "plt.show()"
      ],
      "metadata": {
        "colab": {
          "base_uri": "https://localhost:8080/",
          "height": 430
        },
        "id": "Z19OYyjO4GXv",
        "outputId": "adbae3b8-f121-455b-dfd3-02b8b066f158"
      },
      "execution_count": 32,
      "outputs": [
        {
          "output_type": "display_data",
          "data": {
            "text/plain": [
              "<Figure size 640x480 with 1 Axes>"
            ],
            "image/png": "[encoded data removed]"
          },
          "metadata": {}
        }
      ]
    },
    {
      "cell_type": "code",
      "source": [
        "# Plot the train acc and test acc per iteration\n",
        "plt.plot(train_accuracies, label = 'train acc')\n",
        "plt.plot(test_accuracies, label = 'test acc')\n",
        "plt.legend()\n",
        "plt.show()"
      ],
      "metadata": {
        "colab": {
          "base_uri": "https://localhost:8080/",
          "height": 430
        },
        "id": "L2M3aVXk4IGX",
        "outputId": "0692b06c-e067-4f3b-d6d4-7140c4c2bcb3"
      },
      "execution_count": 33,
      "outputs": [
        {
          "output_type": "display_data",
          "data": {
            "text/plain": [
              "<Figure size 640x480 with 1 Axes>"
            ],
            "image/png": "[encoded data removed]"
          },
          "metadata": {}
        }
      ]
    },
    {
      "cell_type": "code",
      "source": [
        "# Get accuracy\n",
        "with torch.no_grad():\n",
        "  p_train = model(X_train)\n",
        "  p_train = np.round(p_train.numpy())\n",
        "  train_acc = np.mean(y_train.numpy() == p_train)\n",
        "\n",
        "  p_test = model(X_test)\n",
        "  p_test = np.round(p_test.numpy())\n",
        "  test_acc = np.mean(y_test.numpy() == p_test)\n",
        "print(f\"Train acc: {train_acc:.4f}, Test acc: {test_acc:.4f}\")"
      ],
      "metadata": {
        "colab": {
          "base_uri": "https://localhost:8080/"
        },
        "id": "h7AHanHx4KRI",
        "outputId": "2db45af1-3197-4e6f-b64e-620e1beb3015"
      },
      "execution_count": 34,
      "outputs": [
        {
          "output_type": "stream",
          "name": "stdout",
          "text": [
            "Train acc: 0.9790, Test acc: 0.9734\n"
          ]
        }
      ]
    },
    {
      "cell_type": "markdown",
      "source": [
        "### Save and Load Model"
      ],
      "metadata": {
        "id": "sP8HXTlm4OUu"
      }
    },
    {
      "cell_type": "code",
      "source": [
        "# Look at the state dict\n",
        "model.state_dict()"
      ],
      "metadata": {
        "colab": {
          "base_uri": "https://localhost:8080/"
        },
        "id": "aF-_75hV4Q4x",
        "outputId": "8fbc701c-a7f4-4a7a-c385-68c98c9286b9"
      },
      "execution_count": 35,
      "outputs": [
        {
          "output_type": "execute_result",
          "data": {
            "text/plain": [
              "OrderedDict([('0.weight',\n",
              "              tensor([[-0.3507, -0.5537, -0.3271, -0.2566, -0.2634, -0.1337, -0.3113, -0.4842,\n",
              "                       -0.0696,  0.5199, -0.4179,  0.0270, -0.4713, -0.2177,  0.0490,  0.0698,\n",
              "                        0.0194, -0.2528,  0.0112,  0.6345, -0.3092, -0.3225, -0.3122, -0.1879,\n",
              "                       -0.4533, -0.1696, -0.4545, -0.1962, -0.2190, -0.2546]])),\n",
              "             ('0.bias', tensor([0.4475]))])"
            ]
          },
          "metadata": {},
          "execution_count": 35
        }
      ]
    },
    {
      "cell_type": "code",
      "source": [
        "# Save the model\n",
        "torch.save(model.state_dict(), 'mymodel.pt')"
      ],
      "metadata": {
        "id": "Vc6w8Aqf4r7B"
      },
      "execution_count": 36,
      "outputs": []
    },
    {
      "cell_type": "code",
      "source": [
        "# Load the model\n",
        "# Note: this makes more sense and is more compact when\n",
        "# your model is a big class, as we will be seeing later.\n",
        "model2 = nn.Sequential(\n",
        "    nn.Linear(D, 1),\n",
        "    nn.Sigmoid()\n",
        ")\n",
        "model2.load_state_dict(torch.load('mymodel.pt'))"
      ],
      "metadata": {
        "colab": {
          "base_uri": "https://localhost:8080/"
        },
        "id": "utfKaVKo4vEs",
        "outputId": "cab25a5c-7635-4424-fc8b-1cb3e4b4a951"
      },
      "execution_count": 37,
      "outputs": [
        {
          "output_type": "execute_result",
          "data": {
            "text/plain": [
              "<All keys matched successfully>"
            ]
          },
          "metadata": {},
          "execution_count": 37
        }
      ]
    },
    {
      "cell_type": "code",
      "source": [
        "# Evaluate the new model\n",
        "# Results should be the same!\n",
        "with torch.no_grad():\n",
        "  p_train = model2(X_train)\n",
        "  p_train = np.round(p_train.numpy())\n",
        "  train_acc = np.mean(y_train.numpy() == p_train)\n",
        "\n",
        "  p_test = model2(X_test)\n",
        "  p_test = np.round(p_test.numpy())\n",
        "  test_acc = np.mean(y_test.numpy() == p_test)\n",
        "print(f\"Train acc: {train_acc:.4f}, Test acc: {test_acc:.4f}\")"
      ],
      "metadata": {
        "colab": {
          "base_uri": "https://localhost:8080/"
        },
        "id": "XENTqcsZ4znn",
        "outputId": "c518febe-6800-4809-b09d-e9d5fcd36952"
      },
      "execution_count": 38,
      "outputs": [
        {
          "output_type": "stream",
          "name": "stdout",
          "text": [
            "Train acc: 0.9790, Test acc: 0.9734\n"
          ]
        }
      ]
    }
  ]
}