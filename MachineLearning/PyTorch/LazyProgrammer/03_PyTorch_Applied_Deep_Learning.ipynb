{
  "nbformat": 4,
  "nbformat_minor": 0,
  "metadata": {
    "colab": {
      "provenance": [],
      "toc_visible": true,
      "gpuType": "T4",
      "authorship_tag": "ABX9TyPo2X2IJ9uohdb4nA9EbAsx",
      "include_colab_link": true
    },
    "kernelspec": {
      "name": "python3",
      "display_name": "Python 3"
    },
    "language_info": {
      "name": "python"
    },
    "accelerator": "GPU"
  },
  "cells": [
    {
      "cell_type": "markdown",
      "metadata": {
        "id": "view-in-github",
        "colab_type": "text"
      },
      "source": [
        "<a href=\"https://colab.research.google.com/github/cyrus2281/notes/blob/main/MachineLearning/PyTorch/LazyProgrammer/03_PyTorch_Applied_Deep_Learning.ipynb\" target=\"_parent\"><img src=\"https://colab.research.google.com/assets/colab-badge.svg\" alt=\"Open In Colab\"/></a>"
      ]
    },
    {
      "cell_type": "markdown",
      "source": [
        "# Content"
      ],
      "metadata": {
        "id": "NJEQ6paQCREJ"
      }
    },
    {
      "cell_type": "markdown",
      "source": [
        ">[Content](#scrollTo=NJEQ6paQCREJ&uniqifier=2)\n",
        "\n",
        ">[Recurrent Neural Networks](#scrollTo=xLCEXDUlCXcd&uniqifier=2)\n",
        "\n",
        ">>[RNNs for Image Classification](#scrollTo=eGD76N1kCbvm&uniqifier=2)\n",
        "\n",
        ">>[RNNs for Stock Return Prediction](#scrollTo=4_hWgrOkCknq&uniqifier=2)\n",
        "\n",
        ">>>[Price Prediction](#scrollTo=7JQ-aWBwH6zM&uniqifier=2)\n",
        "\n",
        ">>>[Returns](#scrollTo=tHOwz6LxH4RJ&uniqifier=2)\n",
        "\n",
        ">>>[Binary Classification](#scrollTo=mLVRD2tmHxoJ&uniqifier=2)\n",
        "\n",
        ">[Convolutional Neural Networks](#scrollTo=ygOcP49fTl89&uniqifier=2)\n",
        "\n",
        ">>[CNN for Text Classification](#scrollTo=8IN6rxx4TxNY&uniqifier=2)\n",
        "\n",
        ">[Recommender Systems](#scrollTo=ZXwiqfwHoNdR&uniqifier=2)\n",
        "\n",
        ">[Stock Prediciton with Reinforcement Learning](#scrollTo=EdwFMJ1A_GU0&uniqifier=2)\n",
        "\n"
      ],
      "metadata": {
        "colab_type": "toc",
        "id": "gxb5suOJCWmD"
      }
    },
    {
      "cell_type": "markdown",
      "source": [
        "# Recurrent Neural Networks"
      ],
      "metadata": {
        "id": "xLCEXDUlCXcd"
      }
    },
    {
      "cell_type": "markdown",
      "source": [
        "## RNNs for Image Classification"
      ],
      "metadata": {
        "id": "eGD76N1kCbvm"
      }
    },
    {
      "cell_type": "code",
      "metadata": {
        "id": "RLRAMkHlAZzS"
      },
      "source": [
        "import torch\n",
        "import torch.nn as nn\n",
        "import torchvision\n",
        "import torchvision.transforms as transforms\n",
        "import numpy as np\n",
        "import matplotlib.pyplot as plt\n",
        "from datetime import datetime"
      ],
      "execution_count": null,
      "outputs": []
    },
    {
      "cell_type": "code",
      "metadata": {
        "id": "zEBmkG72ApTG"
      },
      "source": [
        "train_dataset = torchvision.datasets.MNIST(\n",
        "    root='.',\n",
        "    train=True,\n",
        "    transform=transforms.ToTensor(),\n",
        "    download=True)\n",
        "test_dataset = torchvision.datasets.MNIST(\n",
        "    root='.',\n",
        "    train=False,\n",
        "    transform=transforms.ToTensor(),\n",
        "    download=True)\n",
        "\n",
        "batch_size = 128\n",
        "train_loader = torch.utils.data.DataLoader(dataset=train_dataset,\n",
        "                                           batch_size=batch_size,\n",
        "                                           shuffle=True)\n",
        "\n",
        "test_loader = torch.utils.data.DataLoader(dataset=test_dataset,\n",
        "                                          batch_size=batch_size,\n",
        "                                          shuffle=False)"
      ],
      "execution_count": null,
      "outputs": []
    },
    {
      "cell_type": "code",
      "metadata": {
        "id": "8kmEdNk7A48P"
      },
      "source": [
        "# Build the model\n",
        "class RNN(nn.Module):\n",
        "  def __init__(self, n_inputs, n_hidden, n_rnnlayers, n_outputs):\n",
        "    super(RNN, self).__init__()\n",
        "    self.D = n_inputs\n",
        "    self.M = n_hidden\n",
        "    self.K = n_outputs\n",
        "    self.L = n_rnnlayers\n",
        "\n",
        "    self.rnn = nn.LSTM(\n",
        "        input_size=self.D,\n",
        "        hidden_size=self.M,\n",
        "        num_layers=self.L,\n",
        "        batch_first=True)\n",
        "    self.fc =nn.Linear(self.M, self.K)\n",
        "\n",
        "  def forward(self, X):\n",
        "    # initial hidden states\n",
        "    h0 = torch.zeros(self.L, X.size(0), self.M).to(device)\n",
        "    c0 = torch.zeros(self.L, X.size(0), self.M).to(device)\n",
        "\n",
        "    # get RNN unit output\n",
        "    out, _ = self.rnn(X, (h0, c0))\n",
        "\n",
        "    # we only want h(T) at the final time step\n",
        "    out = self.fc(out[:, -1, :])\n",
        "    return out"
      ],
      "execution_count": null,
      "outputs": []
    },
    {
      "cell_type": "code",
      "metadata": {
        "id": "vi3WnU0QBMyc"
      },
      "source": [
        "model = RNN(28, 128, 2, 10)"
      ],
      "execution_count": null,
      "outputs": []
    },
    {
      "cell_type": "code",
      "metadata": {
        "id": "mi93D1klBJXG",
        "colab": {
          "base_uri": "https://localhost:8080/"
        },
        "outputId": "d718c82b-c4eb-48ab-aba7-a3181965cb65"
      },
      "source": [
        "device = torch.device(\"cuda:0\" if torch.cuda.is_available() else \"cpu\")\n",
        "print(device)\n",
        "model.to(device)"
      ],
      "execution_count": null,
      "outputs": [
        {
          "output_type": "stream",
          "name": "stdout",
          "text": [
            "cuda:0\n"
          ]
        },
        {
          "output_type": "execute_result",
          "data": {
            "text/plain": [
              "RNN(\n",
              "  (rnn): LSTM(28, 128, num_layers=2, batch_first=True)\n",
              "  (fc): Linear(in_features=128, out_features=10, bias=True)\n",
              ")"
            ]
          },
          "metadata": {},
          "execution_count": 121
        }
      ]
    },
    {
      "cell_type": "code",
      "metadata": {
        "id": "Ej0jEPioBWSK"
      },
      "source": [
        "# Loss and optimizer\n",
        "criterion = nn.CrossEntropyLoss()\n",
        "optimizer = torch.optim.Adam(model.parameters())"
      ],
      "execution_count": null,
      "outputs": []
    },
    {
      "cell_type": "code",
      "metadata": {
        "id": "vTs4-FkVBgcJ",
        "colab": {
          "base_uri": "https://localhost:8080/"
        },
        "outputId": "adb49312-bae2-4434-ec61-4c3785316e5d"
      },
      "source": [
        "# Train the model\n",
        "n_epochs = 10\n",
        "\n",
        "# Stuff to store\n",
        "train_losses = np.zeros(n_epochs)\n",
        "test_losses = np.zeros(n_epochs)\n",
        "\n",
        "for it in range(n_epochs):\n",
        "  train_loss = []\n",
        "  for inputs, targets in train_loader:\n",
        "    # move data to GPU\n",
        "    inputs, targets = inputs.to(device), targets.to(device)\n",
        "\n",
        "    # reshape the input\n",
        "    inputs = inputs.view(-1, 28, 28)\n",
        "\n",
        "    # zero the parameter gradients\n",
        "    optimizer.zero_grad()\n",
        "\n",
        "    # Forward pass\n",
        "    outputs = model(inputs)\n",
        "    loss = criterion(outputs, targets)\n",
        "\n",
        "    # Backward and optimize\n",
        "    loss.backward()\n",
        "    optimizer.step()\n",
        "\n",
        "    train_loss.append(loss.item())\n",
        "\n",
        "  # Get train loss and test loss\n",
        "  train_loss = np.mean(train_loss) # a little misleading\n",
        "\n",
        "  test_loss = []\n",
        "  for inputs, targets in test_loader:\n",
        "    inputs, targets = inputs.to(device), targets.to(device)\n",
        "    inputs = inputs.view(-1, 28, 28)\n",
        "    outputs = model(inputs)\n",
        "    loss = criterion(outputs, targets)\n",
        "    test_loss.append(loss.item())\n",
        "  test_loss = np.mean(test_loss)\n",
        "\n",
        "  # Save losses\n",
        "  train_losses[it] = train_loss\n",
        "  test_losses[it] = test_loss\n",
        "\n",
        "  print(f'Epoch {it+1}/{n_epochs}, Train Loss: {train_loss:.4f}, Test Loss: {test_loss:.4f}')"
      ],
      "execution_count": null,
      "outputs": [
        {
          "output_type": "stream",
          "name": "stdout",
          "text": [
            "Epoch 1/10, Train Loss: 0.5841, Test Loss: 0.1778\n",
            "Epoch 2/10, Train Loss: 0.1344, Test Loss: 0.0895\n",
            "Epoch 3/10, Train Loss: 0.0873, Test Loss: 0.0842\n",
            "Epoch 4/10, Train Loss: 0.0611, Test Loss: 0.0652\n",
            "Epoch 5/10, Train Loss: 0.0539, Test Loss: 0.0577\n",
            "Epoch 6/10, Train Loss: 0.0441, Test Loss: 0.0483\n",
            "Epoch 7/10, Train Loss: 0.0356, Test Loss: 0.0553\n",
            "Epoch 8/10, Train Loss: 0.0344, Test Loss: 0.0473\n",
            "Epoch 9/10, Train Loss: 0.0310, Test Loss: 0.0385\n",
            "Epoch 10/10, Train Loss: 0.0253, Test Loss: 0.0550\n"
          ]
        }
      ]
    },
    {
      "cell_type": "code",
      "metadata": {
        "id": "1kG8ZXl_Bxkc",
        "colab": {
          "base_uri": "https://localhost:8080/",
          "height": 430
        },
        "outputId": "d1c306d9-9b03-4ce3-ab5a-e279967cbc4e"
      },
      "source": [
        "# Plot the train loss and test loss per iteration\n",
        "plt.plot(train_losses, label='train loss')\n",
        "plt.plot(test_losses, label='test loss')\n",
        "plt.legend()\n",
        "plt.show()"
      ],
      "execution_count": null,
      "outputs": [
        {
          "output_type": "display_data",
          "data": {
            "text/plain": [
              "<Figure size 640x480 with 1 Axes>"
            ],
            "image/png": "[encoded data removed]"
          },
          "metadata": {}
        }
      ]
    },
    {
      "cell_type": "code",
      "metadata": {
        "id": "XJ-3Of0QB0nl",
        "colab": {
          "base_uri": "https://localhost:8080/"
        },
        "outputId": "1c055426-0409-48b1-ea4a-e90eb6c3af40"
      },
      "source": [
        "n_correct = 0.\n",
        "n_total = 0.\n",
        "for inputs, targets in train_loader:\n",
        "  # move data to GPU\n",
        "  inputs, targets = inputs.to(device), targets.to(device)\n",
        "\n",
        "  # reshape the input\n",
        "  inputs = inputs.view(-1, 28, 28)\n",
        "\n",
        "  # Forward pass\n",
        "  outputs = model(inputs)\n",
        "\n",
        "  # Get prediction\n",
        "  # torch.max returns both max and argmax\n",
        "  _, predictions = torch.max(outputs, 1)\n",
        "\n",
        "  # update counts\n",
        "  n_correct += (predictions == targets).sum().item()\n",
        "  n_total += targets.shape[0]\n",
        "\n",
        "train_acc = n_correct / n_total\n",
        "\n",
        "\n",
        "n_correct = 0.\n",
        "n_total = 0.\n",
        "for inputs, targets in test_loader:\n",
        "  # move data to GPU\n",
        "  inputs, targets = inputs.to(device), targets.to(device)\n",
        "\n",
        "  # reshape the input\n",
        "  inputs = inputs.view(-1, 28, 28)\n",
        "\n",
        "  # Forward pass\n",
        "  outputs = model(inputs)\n",
        "\n",
        "  # Get prediction\n",
        "  # torch.max returns both max and argmax\n",
        "  _, predictions = torch.max(outputs, 1)\n",
        "\n",
        "  # update counts\n",
        "  n_correct += (predictions == targets).sum().item()\n",
        "  n_total += targets.shape[0]\n",
        "\n",
        "test_acc = n_correct / n_total\n",
        "print(f\"Train acc: {train_acc:.4f}, Test acc: {test_acc:.4f}\")"
      ],
      "execution_count": null,
      "outputs": [
        {
          "output_type": "stream",
          "name": "stdout",
          "text": [
            "Train acc: 0.9893, Test acc: 0.9834\n"
          ]
        }
      ]
    },
    {
      "cell_type": "code",
      "metadata": {
        "id": "cRy84czhB70y"
      },
      "source": [
        "# Plot confusion matrix\n",
        "from sklearn.metrics import confusion_matrix\n",
        "import numpy as np\n",
        "import itertools\n",
        "\n",
        "def plot_confusion_matrix(cm, classes,\n",
        "                          normalize=False,\n",
        "                          title='Confusion matrix',\n",
        "                          cmap=plt.cm.Blues):\n",
        "  \"\"\"\n",
        "  This function prints and plots the confusion matrix.\n",
        "  Normalization can be applied by setting `normalize=True`.\n",
        "  \"\"\"\n",
        "  if normalize:\n",
        "      cm = cm.astype('float') / cm.sum(axis=1)[:, np.newaxis]\n",
        "      print(\"Normalized confusion matrix\")\n",
        "  else:\n",
        "      print('Confusion matrix, without normalization')\n",
        "\n",
        "  print(cm)\n",
        "\n",
        "  plt.imshow(cm, interpolation='nearest', cmap=cmap)\n",
        "  plt.title(title)\n",
        "  plt.colorbar()\n",
        "  tick_marks = np.arange(len(classes))\n",
        "  plt.xticks(tick_marks, classes, rotation=45)\n",
        "  plt.yticks(tick_marks, classes)\n",
        "\n",
        "  fmt = '.2f' if normalize else 'd'\n",
        "  thresh = cm.max() / 2.\n",
        "  for i, j in itertools.product(range(cm.shape[0]), range(cm.shape[1])):\n",
        "      plt.text(j, i, format(cm[i, j], fmt),\n",
        "               horizontalalignment=\"center\",\n",
        "               color=\"white\" if cm[i, j] > thresh else \"black\")\n",
        "\n",
        "  plt.tight_layout()\n",
        "  plt.ylabel('True label')\n",
        "  plt.xlabel('Predicted label')\n",
        "  plt.show()"
      ],
      "execution_count": null,
      "outputs": []
    },
    {
      "cell_type": "code",
      "metadata": {
        "id": "gJnoU8dDB8Ss",
        "colab": {
          "base_uri": "https://localhost:8080/",
          "height": 697
        },
        "outputId": "52ca9cb1-f286-41a3-cf9c-b00f3945879f"
      },
      "source": [
        "# get all predictions in an array and plot confusion matrix\n",
        "\n",
        "x_test = test_dataset.data.numpy()\n",
        "y_test = test_dataset.targets.numpy()\n",
        "p_test = np.array([])\n",
        "for inputs, targets in test_loader:\n",
        "  # move data to GPU\n",
        "  inputs, targets = inputs.to(device), targets.to(device)\n",
        "\n",
        "  # reshape the input\n",
        "  inputs = inputs.view(-1, 28, 28)\n",
        "\n",
        "  # Forward pass\n",
        "  outputs = model(inputs)\n",
        "\n",
        "  # Get prediction\n",
        "  _, predictions = torch.max(outputs, 1)\n",
        "\n",
        "  # update p_test\n",
        "  p_test = np.concatenate((p_test, predictions.cpu().numpy()))\n",
        "\n",
        "cm = confusion_matrix(y_test, p_test)\n",
        "plot_confusion_matrix(cm, list(range(10)))"
      ],
      "execution_count": null,
      "outputs": [
        {
          "output_type": "stream",
          "name": "stdout",
          "text": [
            "Confusion matrix, without normalization\n",
            "[[ 977    0    1    0    0    0    1    1    0    0]\n",
            " [   1 1124    2    0    0    0    1    3    3    1]\n",
            " [   4    0 1019    0    2    0    2    5    0    0]\n",
            " [   0    0    3 1003    0    0    0    2    0    2]\n",
            " [   0    0    0    0  965    0    4    1    0   12]\n",
            " [   1    0    1   22    0  849    3    2   11    3]\n",
            " [  12    2    0    0    3    2  931    0    7    1]\n",
            " [   0    1    3    0    2    0    0 1019    0    3]\n",
            " [   5    0    1    5    1    1    1    4  955    1]\n",
            " [   1    0    0    1    9    0    0    3    3  992]]\n"
          ]
        },
        {
          "output_type": "display_data",
          "data": {
            "text/plain": [
              "<Figure size 640x480 with 2 Axes>"
            ],
            "image/png": "[encoded data removed]"
          },
          "metadata": {}
        }
      ]
    },
    {
      "cell_type": "code",
      "metadata": {
        "id": "8s77akBTCTRQ",
        "colab": {
          "base_uri": "https://localhost:8080/",
          "height": 452
        },
        "outputId": "ef25705d-510f-462d-8f6c-da4f88845f05"
      },
      "source": [
        "# Show some misclassified examples\n",
        "misclassified_idx = np.where(p_test != y_test)[0]\n",
        "i = np.random.choice(misclassified_idx)\n",
        "plt.imshow(x_test[i], cmap='gray')\n",
        "plt.title(\"True label: %s Predicted: %s\" % (y_test[i], int(p_test[i])));"
      ],
      "execution_count": null,
      "outputs": [
        {
          "output_type": "display_data",
          "data": {
            "text/plain": [
              "<Figure size 640x480 with 1 Axes>"
            ],
            "image/png": "[encoded data removed]"
          },
          "metadata": {}
        }
      ]
    },
    {
      "cell_type": "markdown",
      "source": [
        "## RNNs for Stock Return Prediction"
      ],
      "metadata": {
        "id": "4_hWgrOkCknq"
      }
    },
    {
      "cell_type": "code",
      "metadata": {
        "id": "3YERLTJjD4kk"
      },
      "source": [
        "import torch\n",
        "import torch.nn as nn\n",
        "import numpy as np\n",
        "import pandas as pd\n",
        "import matplotlib.pyplot as plt\n",
        "from sklearn.preprocessing import StandardScaler"
      ],
      "execution_count": null,
      "outputs": []
    },
    {
      "cell_type": "markdown",
      "metadata": {
        "id": "7JQ-aWBwH6zM"
      },
      "source": [
        "### Price Prediction"
      ]
    },
    {
      "cell_type": "code",
      "metadata": {
        "id": "0ARJutSvD772"
      },
      "source": [
        "# yes, you can read dataframes from URLs!\n",
        "df = pd.read_csv('https://raw.githubusercontent.com/lazyprogrammer/machine_learning_examples/master/tf2.0/sbux.csv')"
      ],
      "execution_count": null,
      "outputs": []
    },
    {
      "cell_type": "code",
      "metadata": {
        "id": "2Enitd48EA1e",
        "colab": {
          "base_uri": "https://localhost:8080/",
          "height": 206
        },
        "outputId": "f8706a2a-1f7f-479a-95a6-3d9331d0cee4"
      },
      "source": [
        "df.head()"
      ],
      "execution_count": null,
      "outputs": [
        {
          "output_type": "execute_result",
          "data": {
            "text/plain": [
              "         date    open    high     low   close   volume  Name\n",
              "0  2013-02-08  27.920  28.325  27.920  28.185  7146296  SBUX\n",
              "1  2013-02-11  28.260  28.260  27.930  28.070  5457354  SBUX\n",
              "2  2013-02-12  28.000  28.275  27.975  28.130  8665592  SBUX\n",
              "3  2013-02-13  28.230  28.230  27.750  27.915  7022056  SBUX\n",
              "4  2013-02-14  27.765  27.905  27.675  27.775  8899188  SBUX"
            ],
            "text/html": [
              "\n",
              "  <div id=\"df-b972cd70-8b51-4934-9999-528c4e48cfd6\" class=\"colab-df-container\">\n",
              "    <div>\n",
              "<style scoped>\n",
              "    .dataframe tbody tr th:only-of-type {\n",
              "        vertical-align: middle;\n",
              "    }\n",
              "\n",
              "    .dataframe tbody tr th {\n",
              "        vertical-align: top;\n",
              "    }\n",
              "\n",
              "    .dataframe thead th {\n",
              "        text-align: right;\n",
              "    }\n",
              "</style>\n",
              "<table border=\"1\" class=\"dataframe\">\n",
              "  <thead>\n",
              "    <tr style=\"text-align: right;\">\n",
              "      <th></th>\n",
              "      <th>date</th>\n",
              "      <th>open</th>\n",
              "      <th>high</th>\n",
              "      <th>low</th>\n",
              "      <th>close</th>\n",
              "      <th>volume</th>\n",
              "      <th>Name</th>\n",
              "    </tr>\n",
              "  </thead>\n",
              "  <tbody>\n",
              "    <tr>\n",
              "      <th>0</th>\n",
              "      <td>2013-02-08</td>\n",
              "      <td>27.920</td>\n",
              "      <td>28.325</td>\n",
              "      <td>27.920</td>\n",
              "      <td>28.185</td>\n",
              "      <td>7146296</td>\n",
              "      <td>SBUX</td>\n",
              "    </tr>\n",
              "    <tr>\n",
              "      <th>1</th>\n",
              "      <td>2013-02-11</td>\n",
              "      <td>28.260</td>\n",
              "      <td>28.260</td>\n",
              "      <td>27.930</td>\n",
              "      <td>28.070</td>\n",
              "      <td>5457354</td>\n",
              "      <td>SBUX</td>\n",
              "    </tr>\n",
              "    <tr>\n",
              "      <th>2</th>\n",
              "      <td>2013-02-12</td>\n",
              "      <td>28.000</td>\n",
              "      <td>28.275</td>\n",
              "      <td>27.975</td>\n",
              "      <td>28.130</td>\n",
              "      <td>8665592</td>\n",
              "      <td>SBUX</td>\n",
              "    </tr>\n",
              "    <tr>\n",
              "      <th>3</th>\n",
              "      <td>2013-02-13</td>\n",
              "      <td>28.230</td>\n",
              "      <td>28.230</td>\n",
              "      <td>27.750</td>\n",
              "      <td>27.915</td>\n",
              "      <td>7022056</td>\n",
              "      <td>SBUX</td>\n",
              "    </tr>\n",
              "    <tr>\n",
              "      <th>4</th>\n",
              "      <td>2013-02-14</td>\n",
              "      <td>27.765</td>\n",
              "      <td>27.905</td>\n",
              "      <td>27.675</td>\n",
              "      <td>27.775</td>\n",
              "      <td>8899188</td>\n",
              "      <td>SBUX</td>\n",
              "    </tr>\n",
              "  </tbody>\n",
              "</table>\n",
              "</div>\n",
              "    <div class=\"colab-df-buttons\">\n",
              "\n",
              "  <div class=\"colab-df-container\">\n",
              "    <button class=\"colab-df-convert\" onclick=\"convertToInteractive('df-b972cd70-8b51-4934-9999-528c4e48cfd6')\"\n",
              "            title=\"Convert this dataframe to an interactive table.\"\n",
              "            style=\"display:none;\">\n",
              "\n",
              "  <svg xmlns=\"http://www.w3.org/2000/svg\" height=\"24px\" viewBox=\"0 -960 960 960\">\n",
              "    <path d=\"M120-120v-720h720v720H120Zm60-500h600v-160H180v160Zm220 220h160v-160H400v160Zm0 220h160v-160H400v160ZM180-400h160v-160H180v160Zm440 0h160v-160H620v160ZM180-180h160v-160H180v160Zm440 0h160v-160H620v160Z\"/>\n",
              "  </svg>\n",
              "    </button>\n",
              "\n",
              "  <style>\n",
              "    .colab-df-container {\n",
              "      display:flex;\n",
              "      gap: 12px;\n",
              "    }\n",
              "\n",
              "    .colab-df-convert {\n",
              "      background-color: #E8F0FE;\n",
              "      border: none;\n",
              "      border-radius: 50%;\n",
              "      cursor: pointer;\n",
              "      display: none;\n",
              "      fill: #1967D2;\n",
              "      height: 32px;\n",
              "      padding: 0 0 0 0;\n",
              "      width: 32px;\n",
              "    }\n",
              "\n",
              "    .colab-df-convert:hover {\n",
              "      background-color: #E2EBFA;\n",
              "      box-shadow: 0px 1px 2px rgba(60, 64, 67, 0.3), 0px 1px 3px 1px rgba(60, 64, 67, 0.15);\n",
              "      fill: #174EA6;\n",
              "    }\n",
              "\n",
              "    .colab-df-buttons div {\n",
              "      margin-bottom: 4px;\n",
              "    }\n",
              "\n",
              "    [theme=dark] .colab-df-convert {\n",
              "      background-color: #3B4455;\n",
              "      fill: #D2E3FC;\n",
              "    }\n",
              "\n",
              "    [theme=dark] .colab-df-convert:hover {\n",
              "      background-color: #434B5C;\n",
              "      box-shadow: 0px 1px 3px 1px rgba(0, 0, 0, 0.15);\n",
              "      filter: drop-shadow(0px 1px 2px rgba(0, 0, 0, 0.3));\n",
              "      fill: #FFFFFF;\n",
              "    }\n",
              "  </style>\n",
              "\n",
              "    <script>\n",
              "      const buttonEl =\n",
              "        document.querySelector('#df-b972cd70-8b51-4934-9999-528c4e48cfd6 button.colab-df-convert');\n",
              "      buttonEl.style.display =\n",
              "        google.colab.kernel.accessAllowed ? 'block' : 'none';\n",
              "\n",
              "      async function convertToInteractive(key) {\n",
              "        const element = document.querySelector('#df-b972cd70-8b51-4934-9999-528c4e48cfd6');\n",
              "        const dataTable =\n",
              "          await google.colab.kernel.invokeFunction('convertToInteractive',\n",
              "                                                    [key], {});\n",
              "        if (!dataTable) return;\n",
              "\n",
              "        const docLinkHtml = 'Like what you see? Visit the ' +\n",
              "          '<a target=\"_blank\" href=https://colab.research.google.com/notebooks/data_table.ipynb>data table notebook</a>'\n",
              "          + ' to learn more about interactive tables.';\n",
              "        element.innerHTML = '';\n",
              "        dataTable['output_type'] = 'display_data';\n",
              "        await google.colab.output.renderOutput(dataTable, element);\n",
              "        const docLink = document.createElement('div');\n",
              "        docLink.innerHTML = docLinkHtml;\n",
              "        element.appendChild(docLink);\n",
              "      }\n",
              "    </script>\n",
              "  </div>\n",
              "\n",
              "\n",
              "<div id=\"df-d0558f23-b712-4442-b5c2-7d8c360d6344\">\n",
              "  <button class=\"colab-df-quickchart\" onclick=\"quickchart('df-d0558f23-b712-4442-b5c2-7d8c360d6344')\"\n",
              "            title=\"Suggest charts\"\n",
              "            style=\"display:none;\">\n",
              "\n",
              "<svg xmlns=\"http://www.w3.org/2000/svg\" height=\"24px\"viewBox=\"0 0 24 24\"\n",
              "     width=\"24px\">\n",
              "    <g>\n",
              "        <path d=\"M19 3H5c-1.1 0-2 .9-2 2v14c0 1.1.9 2 2 2h14c1.1 0 2-.9 2-2V5c0-1.1-.9-2-2-2zM9 17H7v-7h2v7zm4 0h-2V7h2v10zm4 0h-2v-4h2v4z\"/>\n",
              "    </g>\n",
              "</svg>\n",
              "  </button>\n",
              "\n",
              "<style>\n",
              "  .colab-df-quickchart {\n",
              "      --bg-color: #E8F0FE;\n",
              "      --fill-color: #1967D2;\n",
              "      --hover-bg-color: #E2EBFA;\n",
              "      --hover-fill-color: #174EA6;\n",
              "      --disabled-fill-color: #AAA;\n",
              "      --disabled-bg-color: #DDD;\n",
              "  }\n",
              "\n",
              "  [theme=dark] .colab-df-quickchart {\n",
              "      --bg-color: #3B4455;\n",
              "      --fill-color: #D2E3FC;\n",
              "      --hover-bg-color: #434B5C;\n",
              "      --hover-fill-color: #FFFFFF;\n",
              "      --disabled-bg-color: #3B4455;\n",
              "      --disabled-fill-color: #666;\n",
              "  }\n",
              "\n",
              "  .colab-df-quickchart {\n",
              "    background-color: var(--bg-color);\n",
              "    border: none;\n",
              "    border-radius: 50%;\n",
              "    cursor: pointer;\n",
              "    display: none;\n",
              "    fill: var(--fill-color);\n",
              "    height: 32px;\n",
              "    padding: 0;\n",
              "    width: 32px;\n",
              "  }\n",
              "\n",
              "  .colab-df-quickchart:hover {\n",
              "    background-color: var(--hover-bg-color);\n",
              "    box-shadow: 0 1px 2px rgba(60, 64, 67, 0.3), 0 1px 3px 1px rgba(60, 64, 67, 0.15);\n",
              "    fill: var(--button-hover-fill-color);\n",
              "  }\n",
              "\n",
              "  .colab-df-quickchart-complete:disabled,\n",
              "  .colab-df-quickchart-complete:disabled:hover {\n",
              "    background-color: var(--disabled-bg-color);\n",
              "    fill: var(--disabled-fill-color);\n",
              "    box-shadow: none;\n",
              "  }\n",
              "\n",
              "  .colab-df-spinner {\n",
              "    border: 2px solid var(--fill-color);\n",
              "    border-color: transparent;\n",
              "    border-bottom-color: var(--fill-color);\n",
              "    animation:\n",
              "      spin 1s steps(1) infinite;\n",
              "  }\n",
              "\n",
              "  @keyframes spin {\n",
              "    0% {\n",
              "      border-color: transparent;\n",
              "      border-bottom-color: var(--fill-color);\n",
              "      border-left-color: var(--fill-color);\n",
              "    }\n",
              "    20% {\n",
              "      border-color: transparent;\n",
              "      border-left-color: var(--fill-color);\n",
              "      border-top-color: var(--fill-color);\n",
              "    }\n",
              "    30% {\n",
              "      border-color: transparent;\n",
              "      border-left-color: var(--fill-color);\n",
              "      border-top-color: var(--fill-color);\n",
              "      border-right-color: var(--fill-color);\n",
              "    }\n",
              "    40% {\n",
              "      border-color: transparent;\n",
              "      border-right-color: var(--fill-color);\n",
              "      border-top-color: var(--fill-color);\n",
              "    }\n",
              "    60% {\n",
              "      border-color: transparent;\n",
              "      border-right-color: var(--fill-color);\n",
              "    }\n",
              "    80% {\n",
              "      border-color: transparent;\n",
              "      border-right-color: var(--fill-color);\n",
              "      border-bottom-color: var(--fill-color);\n",
              "    }\n",
              "    90% {\n",
              "      border-color: transparent;\n",
              "      border-bottom-color: var(--fill-color);\n",
              "    }\n",
              "  }\n",
              "</style>\n",
              "\n",
              "  <script>\n",
              "    async function quickchart(key) {\n",
              "      const quickchartButtonEl =\n",
              "        document.querySelector('#' + key + ' button');\n",
              "      quickchartButtonEl.disabled = true;  // To prevent multiple clicks.\n",
              "      quickchartButtonEl.classList.add('colab-df-spinner');\n",
              "      try {\n",
              "        const charts = await google.colab.kernel.invokeFunction(\n",
              "            'suggestCharts', [key], {});\n",
              "      } catch (error) {\n",
              "        console.error('Error during call to suggestCharts:', error);\n",
              "      }\n",
              "      quickchartButtonEl.classList.remove('colab-df-spinner');\n",
              "      quickchartButtonEl.classList.add('colab-df-quickchart-complete');\n",
              "    }\n",
              "    (() => {\n",
              "      let quickchartButtonEl =\n",
              "        document.querySelector('#df-d0558f23-b712-4442-b5c2-7d8c360d6344 button');\n",
              "      quickchartButtonEl.style.display =\n",
              "        google.colab.kernel.accessAllowed ? 'block' : 'none';\n",
              "    })();\n",
              "  </script>\n",
              "</div>\n",
              "\n",
              "    </div>\n",
              "  </div>\n"
            ]
          },
          "metadata": {},
          "execution_count": 131
        }
      ]
    },
    {
      "cell_type": "code",
      "metadata": {
        "id": "kCITTItVECqS",
        "colab": {
          "base_uri": "https://localhost:8080/",
          "height": 206
        },
        "outputId": "aeff0979-6f9d-4266-8062-90487396d9f3"
      },
      "source": [
        "df.tail()"
      ],
      "execution_count": null,
      "outputs": [
        {
          "output_type": "execute_result",
          "data": {
            "text/plain": [
              "            date    open   high    low  close    volume  Name\n",
              "1254  2018-02-01  56.280  56.42  55.89  56.00  14690146  SBUX\n",
              "1255  2018-02-02  55.900  56.32  55.70  55.77  15358909  SBUX\n",
              "1256  2018-02-05  55.530  56.26  54.57  54.69  16059955  SBUX\n",
              "1257  2018-02-06  53.685  56.06  53.56  55.61  17415065  SBUX\n",
              "1258  2018-02-07  55.080  55.43  54.44  54.46  13927022  SBUX"
            ],
            "text/html": [
              "\n",
              "  <div id=\"df-e18254c7-9771-42f2-a357-237e5789d6cc\" class=\"colab-df-container\">\n",
              "    <div>\n",
              "<style scoped>\n",
              "    .dataframe tbody tr th:only-of-type {\n",
              "        vertical-align: middle;\n",
              "    }\n",
              "\n",
              "    .dataframe tbody tr th {\n",
              "        vertical-align: top;\n",
              "    }\n",
              "\n",
              "    .dataframe thead th {\n",
              "        text-align: right;\n",
              "    }\n",
              "</style>\n",
              "<table border=\"1\" class=\"dataframe\">\n",
              "  <thead>\n",
              "    <tr style=\"text-align: right;\">\n",
              "      <th></th>\n",
              "      <th>date</th>\n",
              "      <th>open</th>\n",
              "      <th>high</th>\n",
              "      <th>low</th>\n",
              "      <th>close</th>\n",
              "      <th>volume</th>\n",
              "      <th>Name</th>\n",
              "    </tr>\n",
              "  </thead>\n",
              "  <tbody>\n",
              "    <tr>\n",
              "      <th>1254</th>\n",
              "      <td>2018-02-01</td>\n",
              "      <td>56.280</td>\n",
              "      <td>56.42</td>\n",
              "      <td>55.89</td>\n",
              "      <td>56.00</td>\n",
              "      <td>14690146</td>\n",
              "      <td>SBUX</td>\n",
              "    </tr>\n",
              "    <tr>\n",
              "      <th>1255</th>\n",
              "      <td>2018-02-02</td>\n",
              "      <td>55.900</td>\n",
              "      <td>56.32</td>\n",
              "      <td>55.70</td>\n",
              "      <td>55.77</td>\n",
              "      <td>15358909</td>\n",
              "      <td>SBUX</td>\n",
              "    </tr>\n",
              "    <tr>\n",
              "      <th>1256</th>\n",
              "      <td>2018-02-05</td>\n",
              "      <td>55.530</td>\n",
              "      <td>56.26</td>\n",
              "      <td>54.57</td>\n",
              "      <td>54.69</td>\n",
              "      <td>16059955</td>\n",
              "      <td>SBUX</td>\n",
              "    </tr>\n",
              "    <tr>\n",
              "      <th>1257</th>\n",
              "      <td>2018-02-06</td>\n",
              "      <td>53.685</td>\n",
              "      <td>56.06</td>\n",
              "      <td>53.56</td>\n",
              "      <td>55.61</td>\n",
              "      <td>17415065</td>\n",
              "      <td>SBUX</td>\n",
              "    </tr>\n",
              "    <tr>\n",
              "      <th>1258</th>\n",
              "      <td>2018-02-07</td>\n",
              "      <td>55.080</td>\n",
              "      <td>55.43</td>\n",
              "      <td>54.44</td>\n",
              "      <td>54.46</td>\n",
              "      <td>13927022</td>\n",
              "      <td>SBUX</td>\n",
              "    </tr>\n",
              "  </tbody>\n",
              "</table>\n",
              "</div>\n",
              "    <div class=\"colab-df-buttons\">\n",
              "\n",
              "  <div class=\"colab-df-container\">\n",
              "    <button class=\"colab-df-convert\" onclick=\"convertToInteractive('df-e18254c7-9771-42f2-a357-237e5789d6cc')\"\n",
              "            title=\"Convert this dataframe to an interactive table.\"\n",
              "            style=\"display:none;\">\n",
              "\n",
              "  <svg xmlns=\"http://www.w3.org/2000/svg\" height=\"24px\" viewBox=\"0 -960 960 960\">\n",
              "    <path d=\"M120-120v-720h720v720H120Zm60-500h600v-160H180v160Zm220 220h160v-160H400v160Zm0 220h160v-160H400v160ZM180-400h160v-160H180v160Zm440 0h160v-160H620v160ZM180-180h160v-160H180v160Zm440 0h160v-160H620v160Z\"/>\n",
              "  </svg>\n",
              "    </button>\n",
              "\n",
              "  <style>\n",
              "    .colab-df-container {\n",
              "      display:flex;\n",
              "      gap: 12px;\n",
              "    }\n",
              "\n",
              "    .colab-df-convert {\n",
              "      background-color: #E8F0FE;\n",
              "      border: none;\n",
              "      border-radius: 50%;\n",
              "      cursor: pointer;\n",
              "      display: none;\n",
              "      fill: #1967D2;\n",
              "      height: 32px;\n",
              "      padding: 0 0 0 0;\n",
              "      width: 32px;\n",
              "    }\n",
              "\n",
              "    .colab-df-convert:hover {\n",
              "      background-color: #E2EBFA;\n",
              "      box-shadow: 0px 1px 2px rgba(60, 64, 67, 0.3), 0px 1px 3px 1px rgba(60, 64, 67, 0.15);\n",
              "      fill: #174EA6;\n",
              "    }\n",
              "\n",
              "    .colab-df-buttons div {\n",
              "      margin-bottom: 4px;\n",
              "    }\n",
              "\n",
              "    [theme=dark] .colab-df-convert {\n",
              "      background-color: #3B4455;\n",
              "      fill: #D2E3FC;\n",
              "    }\n",
              "\n",
              "    [theme=dark] .colab-df-convert:hover {\n",
              "      background-color: #434B5C;\n",
              "      box-shadow: 0px 1px 3px 1px rgba(0, 0, 0, 0.15);\n",
              "      filter: drop-shadow(0px 1px 2px rgba(0, 0, 0, 0.3));\n",
              "      fill: #FFFFFF;\n",
              "    }\n",
              "  </style>\n",
              "\n",
              "    <script>\n",
              "      const buttonEl =\n",
              "        document.querySelector('#df-e18254c7-9771-42f2-a357-237e5789d6cc button.colab-df-convert');\n",
              "      buttonEl.style.display =\n",
              "        google.colab.kernel.accessAllowed ? 'block' : 'none';\n",
              "\n",
              "      async function convertToInteractive(key) {\n",
              "        const element = document.querySelector('#df-e18254c7-9771-42f2-a357-237e5789d6cc');\n",
              "        const dataTable =\n",
              "          await google.colab.kernel.invokeFunction('convertToInteractive',\n",
              "                                                    [key], {});\n",
              "        if (!dataTable) return;\n",
              "\n",
              "        const docLinkHtml = 'Like what you see? Visit the ' +\n",
              "          '<a target=\"_blank\" href=https://colab.research.google.com/notebooks/data_table.ipynb>data table notebook</a>'\n",
              "          + ' to learn more about interactive tables.';\n",
              "        element.innerHTML = '';\n",
              "        dataTable['output_type'] = 'display_data';\n",
              "        await google.colab.output.renderOutput(dataTable, element);\n",
              "        const docLink = document.createElement('div');\n",
              "        docLink.innerHTML = docLinkHtml;\n",
              "        element.appendChild(docLink);\n",
              "      }\n",
              "    </script>\n",
              "  </div>\n",
              "\n",
              "\n",
              "<div id=\"df-3ef361f1-878e-4fb9-bad6-76b90dd71b71\">\n",
              "  <button class=\"colab-df-quickchart\" onclick=\"quickchart('df-3ef361f1-878e-4fb9-bad6-76b90dd71b71')\"\n",
              "            title=\"Suggest charts\"\n",
              "            style=\"display:none;\">\n",
              "\n",
              "<svg xmlns=\"http://www.w3.org/2000/svg\" height=\"24px\"viewBox=\"0 0 24 24\"\n",
              "     width=\"24px\">\n",
              "    <g>\n",
              "        <path d=\"M19 3H5c-1.1 0-2 .9-2 2v14c0 1.1.9 2 2 2h14c1.1 0 2-.9 2-2V5c0-1.1-.9-2-2-2zM9 17H7v-7h2v7zm4 0h-2V7h2v10zm4 0h-2v-4h2v4z\"/>\n",
              "    </g>\n",
              "</svg>\n",
              "  </button>\n",
              "\n",
              "<style>\n",
              "  .colab-df-quickchart {\n",
              "      --bg-color: #E8F0FE;\n",
              "      --fill-color: #1967D2;\n",
              "      --hover-bg-color: #E2EBFA;\n",
              "      --hover-fill-color: #174EA6;\n",
              "      --disabled-fill-color: #AAA;\n",
              "      --disabled-bg-color: #DDD;\n",
              "  }\n",
              "\n",
              "  [theme=dark] .colab-df-quickchart {\n",
              "      --bg-color: #3B4455;\n",
              "      --fill-color: #D2E3FC;\n",
              "      --hover-bg-color: #434B5C;\n",
              "      --hover-fill-color: #FFFFFF;\n",
              "      --disabled-bg-color: #3B4455;\n",
              "      --disabled-fill-color: #666;\n",
              "  }\n",
              "\n",
              "  .colab-df-quickchart {\n",
              "    background-color: var(--bg-color);\n",
              "    border: none;\n",
              "    border-radius: 50%;\n",
              "    cursor: pointer;\n",
              "    display: none;\n",
              "    fill: var(--fill-color);\n",
              "    height: 32px;\n",
              "    padding: 0;\n",
              "    width: 32px;\n",
              "  }\n",
              "\n",
              "  .colab-df-quickchart:hover {\n",
              "    background-color: var(--hover-bg-color);\n",
              "    box-shadow: 0 1px 2px rgba(60, 64, 67, 0.3), 0 1px 3px 1px rgba(60, 64, 67, 0.15);\n",
              "    fill: var(--button-hover-fill-color);\n",
              "  }\n",
              "\n",
              "  .colab-df-quickchart-complete:disabled,\n",
              "  .colab-df-quickchart-complete:disabled:hover {\n",
              "    background-color: var(--disabled-bg-color);\n",
              "    fill: var(--disabled-fill-color);\n",
              "    box-shadow: none;\n",
              "  }\n",
              "\n",
              "  .colab-df-spinner {\n",
              "    border: 2px solid var(--fill-color);\n",
              "    border-color: transparent;\n",
              "    border-bottom-color: var(--fill-color);\n",
              "    animation:\n",
              "      spin 1s steps(1) infinite;\n",
              "  }\n",
              "\n",
              "  @keyframes spin {\n",
              "    0% {\n",
              "      border-color: transparent;\n",
              "      border-bottom-color: var(--fill-color);\n",
              "      border-left-color: var(--fill-color);\n",
              "    }\n",
              "    20% {\n",
              "      border-color: transparent;\n",
              "      border-left-color: var(--fill-color);\n",
              "      border-top-color: var(--fill-color);\n",
              "    }\n",
              "    30% {\n",
              "      border-color: transparent;\n",
              "      border-left-color: var(--fill-color);\n",
              "      border-top-color: var(--fill-color);\n",
              "      border-right-color: var(--fill-color);\n",
              "    }\n",
              "    40% {\n",
              "      border-color: transparent;\n",
              "      border-right-color: var(--fill-color);\n",
              "      border-top-color: var(--fill-color);\n",
              "    }\n",
              "    60% {\n",
              "      border-color: transparent;\n",
              "      border-right-color: var(--fill-color);\n",
              "    }\n",
              "    80% {\n",
              "      border-color: transparent;\n",
              "      border-right-color: var(--fill-color);\n",
              "      border-bottom-color: var(--fill-color);\n",
              "    }\n",
              "    90% {\n",
              "      border-color: transparent;\n",
              "      border-bottom-color: var(--fill-color);\n",
              "    }\n",
              "  }\n",
              "</style>\n",
              "\n",
              "  <script>\n",
              "    async function quickchart(key) {\n",
              "      const quickchartButtonEl =\n",
              "        document.querySelector('#' + key + ' button');\n",
              "      quickchartButtonEl.disabled = true;  // To prevent multiple clicks.\n",
              "      quickchartButtonEl.classList.add('colab-df-spinner');\n",
              "      try {\n",
              "        const charts = await google.colab.kernel.invokeFunction(\n",
              "            'suggestCharts', [key], {});\n",
              "      } catch (error) {\n",
              "        console.error('Error during call to suggestCharts:', error);\n",
              "      }\n",
              "      quickchartButtonEl.classList.remove('colab-df-spinner');\n",
              "      quickchartButtonEl.classList.add('colab-df-quickchart-complete');\n",
              "    }\n",
              "    (() => {\n",
              "      let quickchartButtonEl =\n",
              "        document.querySelector('#df-3ef361f1-878e-4fb9-bad6-76b90dd71b71 button');\n",
              "      quickchartButtonEl.style.display =\n",
              "        google.colab.kernel.accessAllowed ? 'block' : 'none';\n",
              "    })();\n",
              "  </script>\n",
              "</div>\n",
              "\n",
              "    </div>\n",
              "  </div>\n"
            ]
          },
          "metadata": {},
          "execution_count": 132
        }
      ]
    },
    {
      "cell_type": "code",
      "metadata": {
        "id": "lvZLvhINEEXm"
      },
      "source": [
        "# Start by doing the WRONG thing - trying to predict the price itself\n",
        "series = df['close'].values.reshape(-1, 1)"
      ],
      "execution_count": null,
      "outputs": []
    },
    {
      "cell_type": "code",
      "metadata": {
        "id": "sJlZEBuhEIhx"
      },
      "source": [
        "# Normalize the data\n",
        "# Note: I didn't think about where the true boundary is, this is just approx.\n",
        "scaler = StandardScaler()\n",
        "scaler.fit(series[:len(series) // 2])\n",
        "series = scaler.transform(series).flatten()"
      ],
      "execution_count": null,
      "outputs": []
    },
    {
      "cell_type": "code",
      "metadata": {
        "id": "lFWSq_z-EKp6",
        "colab": {
          "base_uri": "https://localhost:8080/"
        },
        "outputId": "c1ca94b3-23d9-491f-dd81-74b328262f5e"
      },
      "source": [
        "### build the dataset\n",
        "# let's see if we can use T past values to predict the next value\n",
        "T = 20\n",
        "D = 1\n",
        "X = []\n",
        "Y = []\n",
        "for t in range(len(series) - T):\n",
        "  x = series[t:t+T]\n",
        "  X.append(x)\n",
        "  y = series[t+T]\n",
        "  Y.append(y)\n",
        "\n",
        "X = np.array(X).reshape(-1, T, 1) # Now the data should be N x T x D\n",
        "Y = np.array(Y).reshape(-1, 1)\n",
        "N = len(X)\n",
        "print(\"X.shape\", X.shape, \"Y.shape\", Y.shape)"
      ],
      "execution_count": null,
      "outputs": [
        {
          "output_type": "stream",
          "name": "stdout",
          "text": [
            "X.shape (1239, 20, 1) Y.shape (1239, 1)\n"
          ]
        }
      ]
    },
    {
      "cell_type": "code",
      "metadata": {
        "id": "ejA41yIHEMMs"
      },
      "source": [
        "### try autoregressive RNN model\n",
        "class RNN(nn.Module):\n",
        "  def __init__(self, n_inputs, n_hidden, n_rnnlayers, n_outputs):\n",
        "    super(RNN, self).__init__()\n",
        "    self.D = n_inputs\n",
        "    self.M = n_hidden\n",
        "    self.K = n_outputs\n",
        "    self.L = n_rnnlayers\n",
        "\n",
        "    self.rnn = nn.LSTM(\n",
        "        input_size=self.D,\n",
        "        hidden_size=self.M,\n",
        "        num_layers=self.L,\n",
        "        batch_first=True)\n",
        "    self.fc = nn.Linear(self.M, self.K)\n",
        "\n",
        "  def forward(self, X):\n",
        "    # initial hidden states\n",
        "    h0 = torch.zeros(self.L, X.size(0), self.M).to(device)\n",
        "    c0 = torch.zeros(self.L, X.size(0), self.M).to(device)\n",
        "\n",
        "    # get RNN unit output\n",
        "    out, _ = self.rnn(X, (h0, c0))\n",
        "\n",
        "    # we only want h(T) at the final time step\n",
        "    out = self.fc(out[:, -1, :])\n",
        "    return out"
      ],
      "execution_count": null,
      "outputs": []
    },
    {
      "cell_type": "code",
      "metadata": {
        "id": "hxjVvws8EUfr"
      },
      "source": [
        "model = RNN(1, 5, 1, 1)"
      ],
      "execution_count": null,
      "outputs": []
    },
    {
      "cell_type": "code",
      "metadata": {
        "id": "7zL5f7KWEcVw",
        "colab": {
          "base_uri": "https://localhost:8080/"
        },
        "outputId": "8885e966-99f0-416b-975d-1b58c6367d31"
      },
      "source": [
        "device = torch.device(\"cuda:0\" if torch.cuda.is_available() else \"cpu\")\n",
        "print(device)\n",
        "model.to(device)"
      ],
      "execution_count": null,
      "outputs": [
        {
          "output_type": "stream",
          "name": "stdout",
          "text": [
            "cuda:0\n"
          ]
        },
        {
          "output_type": "execute_result",
          "data": {
            "text/plain": [
              "RNN(\n",
              "  (rnn): LSTM(1, 5, batch_first=True)\n",
              "  (fc): Linear(in_features=5, out_features=1, bias=True)\n",
              ")"
            ]
          },
          "metadata": {},
          "execution_count": 138
        }
      ]
    },
    {
      "cell_type": "code",
      "metadata": {
        "id": "h8Qlpc1sEvcA"
      },
      "source": [
        "# Loss and optimizer\n",
        "criterion = nn.MSELoss()\n",
        "optimizer = torch.optim.Adam(model.parameters(), lr=0.1)"
      ],
      "execution_count": null,
      "outputs": []
    },
    {
      "cell_type": "code",
      "metadata": {
        "id": "SbUEPOnZE1c9"
      },
      "source": [
        "# Training\n",
        "def full_gd(model,\n",
        "            criterion,\n",
        "            optimizer,\n",
        "            X_train,\n",
        "            y_train,\n",
        "            X_test,\n",
        "            y_test,\n",
        "            epochs=200):\n",
        "\n",
        "  # Stuff to store\n",
        "  train_losses = np.zeros(epochs)\n",
        "  test_losses = np.zeros(epochs)\n",
        "\n",
        "  for it in range(epochs):\n",
        "    # zero the parameter gradients\n",
        "    optimizer.zero_grad()\n",
        "\n",
        "    # Forward pass\n",
        "    outputs = model(X_train)\n",
        "    loss = criterion(outputs, y_train)\n",
        "\n",
        "    # Backward and optimize\n",
        "    loss.backward()\n",
        "    optimizer.step()\n",
        "\n",
        "    # Save losses\n",
        "    train_losses[it] = loss.item()\n",
        "\n",
        "    # Test loss\n",
        "    test_outputs = model(X_test)\n",
        "    test_loss = criterion(test_outputs, y_test)\n",
        "    test_losses[it] = test_loss.item()\n",
        "\n",
        "    if (it + 1) % 50 == 0:\n",
        "      print(f'Epoch {it+1}/{epochs}, Train Loss: {loss.item():.4f}, Test Loss: {test_loss.item():.4f}')\n",
        "\n",
        "  return train_losses, test_losses"
      ],
      "execution_count": null,
      "outputs": []
    },
    {
      "cell_type": "code",
      "metadata": {
        "id": "lnQkAXuxE8G5"
      },
      "source": [
        "# Make inputs and targets\n",
        "X_train = torch.from_numpy(X[:-N//2].astype(np.float32))\n",
        "y_train = torch.from_numpy(Y[:-N//2].astype(np.float32))\n",
        "X_test = torch.from_numpy(X[-N//2:].astype(np.float32))\n",
        "y_test = torch.from_numpy(Y[-N//2:].astype(np.float32))"
      ],
      "execution_count": null,
      "outputs": []
    },
    {
      "cell_type": "code",
      "metadata": {
        "id": "QM8yEi78E_RG"
      },
      "source": [
        "# move data to GPU\n",
        "X_train, y_train = X_train.to(device), y_train.to(device)\n",
        "X_test, y_test = X_test.to(device), y_test.to(device)"
      ],
      "execution_count": null,
      "outputs": []
    },
    {
      "cell_type": "code",
      "metadata": {
        "id": "eeU5KgjXFA7S",
        "colab": {
          "base_uri": "https://localhost:8080/"
        },
        "outputId": "cfa1a433-1270-4452-822f-1af1bf79b7d3"
      },
      "source": [
        "train_losses, test_losses = full_gd(\n",
        "  model,\n",
        "  criterion,\n",
        "  optimizer,\n",
        "  X_train,\n",
        "  y_train,\n",
        "  X_test,\n",
        "  y_test\n",
        ")"
      ],
      "execution_count": null,
      "outputs": [
        {
          "output_type": "stream",
          "name": "stdout",
          "text": [
            "Epoch 50/200, Train Loss: 0.0062, Test Loss: 0.0274\n",
            "Epoch 100/200, Train Loss: 0.0052, Test Loss: 0.0177\n",
            "Epoch 150/200, Train Loss: 0.0051, Test Loss: 0.0154\n",
            "Epoch 200/200, Train Loss: 0.0051, Test Loss: 0.0146\n"
          ]
        }
      ]
    },
    {
      "cell_type": "code",
      "metadata": {
        "id": "TA9ZKt4aFIGO",
        "colab": {
          "base_uri": "https://localhost:8080/",
          "height": 430
        },
        "outputId": "517795dd-b35f-4d5c-de24-1448e064d640"
      },
      "source": [
        "# Plot the train loss and test loss per iteration\n",
        "plt.plot(train_losses, label='train loss')\n",
        "plt.plot(test_losses, label='test loss')\n",
        "plt.legend()\n",
        "plt.show()"
      ],
      "execution_count": null,
      "outputs": [
        {
          "output_type": "display_data",
          "data": {
            "text/plain": [
              "<Figure size 640x480 with 1 Axes>"
            ],
            "image/png": "[encoded data removed]"
          },
          "metadata": {}
        }
      ]
    },
    {
      "cell_type": "code",
      "metadata": {
        "id": "1vAQGe6JFSM9"
      },
      "source": [
        "# One-step forecast using true targets\n",
        "validation_target = Y\n",
        "validation_predictions = []\n",
        "\n",
        "# index of first validation input\n",
        "i = 0\n",
        "\n",
        "X_on_device = torch.from_numpy(X.astype(np.float32)).to(device)\n",
        "\n",
        "while len(validation_predictions) < len(validation_target):\n",
        "  input_ = X_on_device[i].reshape(1, T, 1)\n",
        "  p = model(input_)[0,0].item() # 1x1 array -> scalar\n",
        "  i += 1\n",
        "\n",
        "  # update the predictions list\n",
        "  validation_predictions.append(p)"
      ],
      "execution_count": null,
      "outputs": []
    },
    {
      "cell_type": "code",
      "metadata": {
        "id": "WmlRrKo8FU9d",
        "colab": {
          "base_uri": "https://localhost:8080/",
          "height": 447
        },
        "outputId": "07dabf2b-a356-4a4f-b737-f40e99700c23"
      },
      "source": [
        "plt.plot(validation_target, label='forecast target')\n",
        "plt.plot(validation_predictions, label='forecast prediction')\n",
        "plt.legend()"
      ],
      "execution_count": null,
      "outputs": [
        {
          "output_type": "execute_result",
          "data": {
            "text/plain": [
              "<matplotlib.legend.Legend at 0x7f4ff0d60f40>"
            ]
          },
          "metadata": {},
          "execution_count": 146
        },
        {
          "output_type": "display_data",
          "data": {
            "text/plain": [
              "<Figure size 640x480 with 1 Axes>"
            ],
            "image/png": "[encoded data removed]"
          },
          "metadata": {}
        }
      ]
    },
    {
      "cell_type": "code",
      "metadata": {
        "id": "o_nIYq4tGU4g"
      },
      "source": [
        "# Multi-step forecast\n",
        "validation_target = Y[-N//2:]\n",
        "validation_predictions = []\n",
        "\n",
        "# last train input\n",
        "last_x = X_test[0].view(T)\n",
        "\n",
        "while len(validation_predictions) < len(validation_target):\n",
        "  input_ = last_x.reshape(1, T, 1)\n",
        "  p = model(input_)\n",
        "  # [0,0] # 1x1 array -> scalar\n",
        "\n",
        "  # update the predictions list\n",
        "  validation_predictions.append(p[0,0].item())\n",
        "\n",
        "  # make the new input\n",
        "  last_x = torch.cat((last_x[1:], p[0]))"
      ],
      "execution_count": null,
      "outputs": []
    },
    {
      "cell_type": "code",
      "metadata": {
        "id": "rc-qBmQlGs7-",
        "colab": {
          "base_uri": "https://localhost:8080/",
          "height": 447
        },
        "outputId": "e5041752-c003-48c4-8eb1-dac7a0cc2390"
      },
      "source": [
        "plt.plot(validation_target, label='forecast target')\n",
        "plt.plot(validation_predictions, label='forecast prediction')\n",
        "plt.legend()"
      ],
      "execution_count": null,
      "outputs": [
        {
          "output_type": "execute_result",
          "data": {
            "text/plain": [
              "<matplotlib.legend.Legend at 0x7f504c9cdae0>"
            ]
          },
          "metadata": {},
          "execution_count": 148
        },
        {
          "output_type": "display_data",
          "data": {
            "text/plain": [
              "<Figure size 640x480 with 1 Axes>"
            ],
            "image/png": "[encoded data removed]"
          },
          "metadata": {}
        }
      ]
    },
    {
      "cell_type": "markdown",
      "metadata": {
        "id": "tHOwz6LxH4RJ"
      },
      "source": [
        "### Returns"
      ]
    },
    {
      "cell_type": "code",
      "metadata": {
        "id": "xBjrWdZmG0KL"
      },
      "source": [
        "# calculate returns by first shifting the data\n",
        "df['PrevClose'] = df['close'].shift(1) # move everything up 1\n",
        "\n",
        "# so now it's like\n",
        "# close / prev close\n",
        "# x[2] x[1]\n",
        "# x[3] x[2]\n",
        "# x[4] x[3]\n",
        "# ...\n",
        "# x[t] x[t-1]"
      ],
      "execution_count": null,
      "outputs": []
    },
    {
      "cell_type": "code",
      "metadata": {
        "id": "a_JMC6A9G2Sr",
        "colab": {
          "base_uri": "https://localhost:8080/",
          "height": 206
        },
        "outputId": "e810e830-afe9-4025-9f7c-3ab999cf5814"
      },
      "source": [
        "df.head()"
      ],
      "execution_count": null,
      "outputs": [
        {
          "output_type": "execute_result",
          "data": {
            "text/plain": [
              "         date    open    high     low   close   volume  Name  PrevClose\n",
              "0  2013-02-08  27.920  28.325  27.920  28.185  7146296  SBUX        NaN\n",
              "1  2013-02-11  28.260  28.260  27.930  28.070  5457354  SBUX     28.185\n",
              "2  2013-02-12  28.000  28.275  27.975  28.130  8665592  SBUX     28.070\n",
              "3  2013-02-13  28.230  28.230  27.750  27.915  7022056  SBUX     28.130\n",
              "4  2013-02-14  27.765  27.905  27.675  27.775  8899188  SBUX     27.915"
            ],
            "text/html": [
              "\n",
              "  <div id=\"df-1940b206-dc3c-4038-af28-233baf67c448\" class=\"colab-df-container\">\n",
              "    <div>\n",
              "<style scoped>\n",
              "    .dataframe tbody tr th:only-of-type {\n",
              "        vertical-align: middle;\n",
              "    }\n",
              "\n",
              "    .dataframe tbody tr th {\n",
              "        vertical-align: top;\n",
              "    }\n",
              "\n",
              "    .dataframe thead th {\n",
              "        text-align: right;\n",
              "    }\n",
              "</style>\n",
              "<table border=\"1\" class=\"dataframe\">\n",
              "  <thead>\n",
              "    <tr style=\"text-align: right;\">\n",
              "      <th></th>\n",
              "      <th>date</th>\n",
              "      <th>open</th>\n",
              "      <th>high</th>\n",
              "      <th>low</th>\n",
              "      <th>close</th>\n",
              "      <th>volume</th>\n",
              "      <th>Name</th>\n",
              "      <th>PrevClose</th>\n",
              "    </tr>\n",
              "  </thead>\n",
              "  <tbody>\n",
              "    <tr>\n",
              "      <th>0</th>\n",
              "      <td>2013-02-08</td>\n",
              "      <td>27.920</td>\n",
              "      <td>28.325</td>\n",
              "      <td>27.920</td>\n",
              "      <td>28.185</td>\n",
              "      <td>7146296</td>\n",
              "      <td>SBUX</td>\n",
              "      <td>NaN</td>\n",
              "    </tr>\n",
              "    <tr>\n",
              "      <th>1</th>\n",
              "      <td>2013-02-11</td>\n",
              "      <td>28.260</td>\n",
              "      <td>28.260</td>\n",
              "      <td>27.930</td>\n",
              "      <td>28.070</td>\n",
              "      <td>5457354</td>\n",
              "      <td>SBUX</td>\n",
              "      <td>28.185</td>\n",
              "    </tr>\n",
              "    <tr>\n",
              "      <th>2</th>\n",
              "      <td>2013-02-12</td>\n",
              "      <td>28.000</td>\n",
              "      <td>28.275</td>\n",
              "      <td>27.975</td>\n",
              "      <td>28.130</td>\n",
              "      <td>8665592</td>\n",
              "      <td>SBUX</td>\n",
              "      <td>28.070</td>\n",
              "    </tr>\n",
              "    <tr>\n",
              "      <th>3</th>\n",
              "      <td>2013-02-13</td>\n",
              "      <td>28.230</td>\n",
              "      <td>28.230</td>\n",
              "      <td>27.750</td>\n",
              "      <td>27.915</td>\n",
              "      <td>7022056</td>\n",
              "      <td>SBUX</td>\n",
              "      <td>28.130</td>\n",
              "    </tr>\n",
              "    <tr>\n",
              "      <th>4</th>\n",
              "      <td>2013-02-14</td>\n",
              "      <td>27.765</td>\n",
              "      <td>27.905</td>\n",
              "      <td>27.675</td>\n",
              "      <td>27.775</td>\n",
              "      <td>8899188</td>\n",
              "      <td>SBUX</td>\n",
              "      <td>27.915</td>\n",
              "    </tr>\n",
              "  </tbody>\n",
              "</table>\n",
              "</div>\n",
              "    <div class=\"colab-df-buttons\">\n",
              "\n",
              "  <div class=\"colab-df-container\">\n",
              "    <button class=\"colab-df-convert\" onclick=\"convertToInteractive('df-1940b206-dc3c-4038-af28-233baf67c448')\"\n",
              "            title=\"Convert this dataframe to an interactive table.\"\n",
              "            style=\"display:none;\">\n",
              "\n",
              "  <svg xmlns=\"http://www.w3.org/2000/svg\" height=\"24px\" viewBox=\"0 -960 960 960\">\n",
              "    <path d=\"M120-120v-720h720v720H120Zm60-500h600v-160H180v160Zm220 220h160v-160H400v160Zm0 220h160v-160H400v160ZM180-400h160v-160H180v160Zm440 0h160v-160H620v160ZM180-180h160v-160H180v160Zm440 0h160v-160H620v160Z\"/>\n",
              "  </svg>\n",
              "    </button>\n",
              "\n",
              "  <style>\n",
              "    .colab-df-container {\n",
              "      display:flex;\n",
              "      gap: 12px;\n",
              "    }\n",
              "\n",
              "    .colab-df-convert {\n",
              "      background-color: #E8F0FE;\n",
              "      border: none;\n",
              "      border-radius: 50%;\n",
              "      cursor: pointer;\n",
              "      display: none;\n",
              "      fill: #1967D2;\n",
              "      height: 32px;\n",
              "      padding: 0 0 0 0;\n",
              "      width: 32px;\n",
              "    }\n",
              "\n",
              "    .colab-df-convert:hover {\n",
              "      background-color: #E2EBFA;\n",
              "      box-shadow: 0px 1px 2px rgba(60, 64, 67, 0.3), 0px 1px 3px 1px rgba(60, 64, 67, 0.15);\n",
              "      fill: #174EA6;\n",
              "    }\n",
              "\n",
              "    .colab-df-buttons div {\n",
              "      margin-bottom: 4px;\n",
              "    }\n",
              "\n",
              "    [theme=dark] .colab-df-convert {\n",
              "      background-color: #3B4455;\n",
              "      fill: #D2E3FC;\n",
              "    }\n",
              "\n",
              "    [theme=dark] .colab-df-convert:hover {\n",
              "      background-color: #434B5C;\n",
              "      box-shadow: 0px 1px 3px 1px rgba(0, 0, 0, 0.15);\n",
              "      filter: drop-shadow(0px 1px 2px rgba(0, 0, 0, 0.3));\n",
              "      fill: #FFFFFF;\n",
              "    }\n",
              "  </style>\n",
              "\n",
              "    <script>\n",
              "      const buttonEl =\n",
              "        document.querySelector('#df-1940b206-dc3c-4038-af28-233baf67c448 button.colab-df-convert');\n",
              "      buttonEl.style.display =\n",
              "        google.colab.kernel.accessAllowed ? 'block' : 'none';\n",
              "\n",
              "      async function convertToInteractive(key) {\n",
              "        const element = document.querySelector('#df-1940b206-dc3c-4038-af28-233baf67c448');\n",
              "        const dataTable =\n",
              "          await google.colab.kernel.invokeFunction('convertToInteractive',\n",
              "                                                    [key], {});\n",
              "        if (!dataTable) return;\n",
              "\n",
              "        const docLinkHtml = 'Like what you see? Visit the ' +\n",
              "          '<a target=\"_blank\" href=https://colab.research.google.com/notebooks/data_table.ipynb>data table notebook</a>'\n",
              "          + ' to learn more about interactive tables.';\n",
              "        element.innerHTML = '';\n",
              "        dataTable['output_type'] = 'display_data';\n",
              "        await google.colab.output.renderOutput(dataTable, element);\n",
              "        const docLink = document.createElement('div');\n",
              "        docLink.innerHTML = docLinkHtml;\n",
              "        element.appendChild(docLink);\n",
              "      }\n",
              "    </script>\n",
              "  </div>\n",
              "\n",
              "\n",
              "<div id=\"df-2f39faa1-ad86-4c8c-9617-b49a292d27bd\">\n",
              "  <button class=\"colab-df-quickchart\" onclick=\"quickchart('df-2f39faa1-ad86-4c8c-9617-b49a292d27bd')\"\n",
              "            title=\"Suggest charts\"\n",
              "            style=\"display:none;\">\n",
              "\n",
              "<svg xmlns=\"http://www.w3.org/2000/svg\" height=\"24px\"viewBox=\"0 0 24 24\"\n",
              "     width=\"24px\">\n",
              "    <g>\n",
              "        <path d=\"M19 3H5c-1.1 0-2 .9-2 2v14c0 1.1.9 2 2 2h14c1.1 0 2-.9 2-2V5c0-1.1-.9-2-2-2zM9 17H7v-7h2v7zm4 0h-2V7h2v10zm4 0h-2v-4h2v4z\"/>\n",
              "    </g>\n",
              "</svg>\n",
              "  </button>\n",
              "\n",
              "<style>\n",
              "  .colab-df-quickchart {\n",
              "      --bg-color: #E8F0FE;\n",
              "      --fill-color: #1967D2;\n",
              "      --hover-bg-color: #E2EBFA;\n",
              "      --hover-fill-color: #174EA6;\n",
              "      --disabled-fill-color: #AAA;\n",
              "      --disabled-bg-color: #DDD;\n",
              "  }\n",
              "\n",
              "  [theme=dark] .colab-df-quickchart {\n",
              "      --bg-color: #3B4455;\n",
              "      --fill-color: #D2E3FC;\n",
              "      --hover-bg-color: #434B5C;\n",
              "      --hover-fill-color: #FFFFFF;\n",
              "      --disabled-bg-color: #3B4455;\n",
              "      --disabled-fill-color: #666;\n",
              "  }\n",
              "\n",
              "  .colab-df-quickchart {\n",
              "    background-color: var(--bg-color);\n",
              "    border: none;\n",
              "    border-radius: 50%;\n",
              "    cursor: pointer;\n",
              "    display: none;\n",
              "    fill: var(--fill-color);\n",
              "    height: 32px;\n",
              "    padding: 0;\n",
              "    width: 32px;\n",
              "  }\n",
              "\n",
              "  .colab-df-quickchart:hover {\n",
              "    background-color: var(--hover-bg-color);\n",
              "    box-shadow: 0 1px 2px rgba(60, 64, 67, 0.3), 0 1px 3px 1px rgba(60, 64, 67, 0.15);\n",
              "    fill: var(--button-hover-fill-color);\n",
              "  }\n",
              "\n",
              "  .colab-df-quickchart-complete:disabled,\n",
              "  .colab-df-quickchart-complete:disabled:hover {\n",
              "    background-color: var(--disabled-bg-color);\n",
              "    fill: var(--disabled-fill-color);\n",
              "    box-shadow: none;\n",
              "  }\n",
              "\n",
              "  .colab-df-spinner {\n",
              "    border: 2px solid var(--fill-color);\n",
              "    border-color: transparent;\n",
              "    border-bottom-color: var(--fill-color);\n",
              "    animation:\n",
              "      spin 1s steps(1) infinite;\n",
              "  }\n",
              "\n",
              "  @keyframes spin {\n",
              "    0% {\n",
              "      border-color: transparent;\n",
              "      border-bottom-color: var(--fill-color);\n",
              "      border-left-color: var(--fill-color);\n",
              "    }\n",
              "    20% {\n",
              "      border-color: transparent;\n",
              "      border-left-color: var(--fill-color);\n",
              "      border-top-color: var(--fill-color);\n",
              "    }\n",
              "    30% {\n",
              "      border-color: transparent;\n",
              "      border-left-color: var(--fill-color);\n",
              "      border-top-color: var(--fill-color);\n",
              "      border-right-color: var(--fill-color);\n",
              "    }\n",
              "    40% {\n",
              "      border-color: transparent;\n",
              "      border-right-color: var(--fill-color);\n",
              "      border-top-color: var(--fill-color);\n",
              "    }\n",
              "    60% {\n",
              "      border-color: transparent;\n",
              "      border-right-color: var(--fill-color);\n",
              "    }\n",
              "    80% {\n",
              "      border-color: transparent;\n",
              "      border-right-color: var(--fill-color);\n",
              "      border-bottom-color: var(--fill-color);\n",
              "    }\n",
              "    90% {\n",
              "      border-color: transparent;\n",
              "      border-bottom-color: var(--fill-color);\n",
              "    }\n",
              "  }\n",
              "</style>\n",
              "\n",
              "  <script>\n",
              "    async function quickchart(key) {\n",
              "      const quickchartButtonEl =\n",
              "        document.querySelector('#' + key + ' button');\n",
              "      quickchartButtonEl.disabled = true;  // To prevent multiple clicks.\n",
              "      quickchartButtonEl.classList.add('colab-df-spinner');\n",
              "      try {\n",
              "        const charts = await google.colab.kernel.invokeFunction(\n",
              "            'suggestCharts', [key], {});\n",
              "      } catch (error) {\n",
              "        console.error('Error during call to suggestCharts:', error);\n",
              "      }\n",
              "      quickchartButtonEl.classList.remove('colab-df-spinner');\n",
              "      quickchartButtonEl.classList.add('colab-df-quickchart-complete');\n",
              "    }\n",
              "    (() => {\n",
              "      let quickchartButtonEl =\n",
              "        document.querySelector('#df-2f39faa1-ad86-4c8c-9617-b49a292d27bd button');\n",
              "      quickchartButtonEl.style.display =\n",
              "        google.colab.kernel.accessAllowed ? 'block' : 'none';\n",
              "    })();\n",
              "  </script>\n",
              "</div>\n",
              "\n",
              "    </div>\n",
              "  </div>\n"
            ]
          },
          "metadata": {},
          "execution_count": 150
        }
      ]
    },
    {
      "cell_type": "code",
      "metadata": {
        "id": "PynKcwMFG4Ur"
      },
      "source": [
        "# then the return is\n",
        "# (x[t] - x[t-1]) / x[t-1]\n",
        "df['Return'] = (df['close'] - df['PrevClose']) / df['PrevClose']"
      ],
      "execution_count": null,
      "outputs": []
    },
    {
      "cell_type": "code",
      "metadata": {
        "id": "vNkf8pYWG6gK",
        "colab": {
          "base_uri": "https://localhost:8080/",
          "height": 293
        },
        "outputId": "84ebf0db-04a0-4c59-a217-f676cd90726c"
      },
      "source": [
        "df.head()"
      ],
      "execution_count": null,
      "outputs": [
        {
          "output_type": "execute_result",
          "data": {
            "text/plain": [
              "         date    open    high     low   close   volume  Name  PrevClose  \\\n",
              "0  2013-02-08  27.920  28.325  27.920  28.185  7146296  SBUX        NaN   \n",
              "1  2013-02-11  28.260  28.260  27.930  28.070  5457354  SBUX     28.185   \n",
              "2  2013-02-12  28.000  28.275  27.975  28.130  8665592  SBUX     28.070   \n",
              "3  2013-02-13  28.230  28.230  27.750  27.915  7022056  SBUX     28.130   \n",
              "4  2013-02-14  27.765  27.905  27.675  27.775  8899188  SBUX     27.915   \n",
              "\n",
              "     Return  \n",
              "0       NaN  \n",
              "1 -0.004080  \n",
              "2  0.002138  \n",
              "3 -0.007643  \n",
              "4 -0.005015  "
            ],
            "text/html": [
              "\n",
              "  <div id=\"df-2d625cb6-bd98-4e70-8eb9-ca6ae4df922d\" class=\"colab-df-container\">\n",
              "    <div>\n",
              "<style scoped>\n",
              "    .dataframe tbody tr th:only-of-type {\n",
              "        vertical-align: middle;\n",
              "    }\n",
              "\n",
              "    .dataframe tbody tr th {\n",
              "        vertical-align: top;\n",
              "    }\n",
              "\n",
              "    .dataframe thead th {\n",
              "        text-align: right;\n",
              "    }\n",
              "</style>\n",
              "<table border=\"1\" class=\"dataframe\">\n",
              "  <thead>\n",
              "    <tr style=\"text-align: right;\">\n",
              "      <th></th>\n",
              "      <th>date</th>\n",
              "      <th>open</th>\n",
              "      <th>high</th>\n",
              "      <th>low</th>\n",
              "      <th>close</th>\n",
              "      <th>volume</th>\n",
              "      <th>Name</th>\n",
              "      <th>PrevClose</th>\n",
              "      <th>Return</th>\n",
              "    </tr>\n",
              "  </thead>\n",
              "  <tbody>\n",
              "    <tr>\n",
              "      <th>0</th>\n",
              "      <td>2013-02-08</td>\n",
              "      <td>27.920</td>\n",
              "      <td>28.325</td>\n",
              "      <td>27.920</td>\n",
              "      <td>28.185</td>\n",
              "      <td>7146296</td>\n",
              "      <td>SBUX</td>\n",
              "      <td>NaN</td>\n",
              "      <td>NaN</td>\n",
              "    </tr>\n",
              "    <tr>\n",
              "      <th>1</th>\n",
              "      <td>2013-02-11</td>\n",
              "      <td>28.260</td>\n",
              "      <td>28.260</td>\n",
              "      <td>27.930</td>\n",
              "      <td>28.070</td>\n",
              "      <td>5457354</td>\n",
              "      <td>SBUX</td>\n",
              "      <td>28.185</td>\n",
              "      <td>-0.004080</td>\n",
              "    </tr>\n",
              "    <tr>\n",
              "      <th>2</th>\n",
              "      <td>2013-02-12</td>\n",
              "      <td>28.000</td>\n",
              "      <td>28.275</td>\n",
              "      <td>27.975</td>\n",
              "      <td>28.130</td>\n",
              "      <td>8665592</td>\n",
              "      <td>SBUX</td>\n",
              "      <td>28.070</td>\n",
              "      <td>0.002138</td>\n",
              "    </tr>\n",
              "    <tr>\n",
              "      <th>3</th>\n",
              "      <td>2013-02-13</td>\n",
              "      <td>28.230</td>\n",
              "      <td>28.230</td>\n",
              "      <td>27.750</td>\n",
              "      <td>27.915</td>\n",
              "      <td>7022056</td>\n",
              "      <td>SBUX</td>\n",
              "      <td>28.130</td>\n",
              "      <td>-0.007643</td>\n",
              "    </tr>\n",
              "    <tr>\n",
              "      <th>4</th>\n",
              "      <td>2013-02-14</td>\n",
              "      <td>27.765</td>\n",
              "      <td>27.905</td>\n",
              "      <td>27.675</td>\n",
              "      <td>27.775</td>\n",
              "      <td>8899188</td>\n",
              "      <td>SBUX</td>\n",
              "      <td>27.915</td>\n",
              "      <td>-0.005015</td>\n",
              "    </tr>\n",
              "  </tbody>\n",
              "</table>\n",
              "</div>\n",
              "    <div class=\"colab-df-buttons\">\n",
              "\n",
              "  <div class=\"colab-df-container\">\n",
              "    <button class=\"colab-df-convert\" onclick=\"convertToInteractive('df-2d625cb6-bd98-4e70-8eb9-ca6ae4df922d')\"\n",
              "            title=\"Convert this dataframe to an interactive table.\"\n",
              "            style=\"display:none;\">\n",
              "\n",
              "  <svg xmlns=\"http://www.w3.org/2000/svg\" height=\"24px\" viewBox=\"0 -960 960 960\">\n",
              "    <path d=\"M120-120v-720h720v720H120Zm60-500h600v-160H180v160Zm220 220h160v-160H400v160Zm0 220h160v-160H400v160ZM180-400h160v-160H180v160Zm440 0h160v-160H620v160ZM180-180h160v-160H180v160Zm440 0h160v-160H620v160Z\"/>\n",
              "  </svg>\n",
              "    </button>\n",
              "\n",
              "  <style>\n",
              "    .colab-df-container {\n",
              "      display:flex;\n",
              "      gap: 12px;\n",
              "    }\n",
              "\n",
              "    .colab-df-convert {\n",
              "      background-color: #E8F0FE;\n",
              "      border: none;\n",
              "      border-radius: 50%;\n",
              "      cursor: pointer;\n",
              "      display: none;\n",
              "      fill: #1967D2;\n",
              "      height: 32px;\n",
              "      padding: 0 0 0 0;\n",
              "      width: 32px;\n",
              "    }\n",
              "\n",
              "    .colab-df-convert:hover {\n",
              "      background-color: #E2EBFA;\n",
              "      box-shadow: 0px 1px 2px rgba(60, 64, 67, 0.3), 0px 1px 3px 1px rgba(60, 64, 67, 0.15);\n",
              "      fill: #174EA6;\n",
              "    }\n",
              "\n",
              "    .colab-df-buttons div {\n",
              "      margin-bottom: 4px;\n",
              "    }\n",
              "\n",
              "    [theme=dark] .colab-df-convert {\n",
              "      background-color: #3B4455;\n",
              "      fill: #D2E3FC;\n",
              "    }\n",
              "\n",
              "    [theme=dark] .colab-df-convert:hover {\n",
              "      background-color: #434B5C;\n",
              "      box-shadow: 0px 1px 3px 1px rgba(0, 0, 0, 0.15);\n",
              "      filter: drop-shadow(0px 1px 2px rgba(0, 0, 0, 0.3));\n",
              "      fill: #FFFFFF;\n",
              "    }\n",
              "  </style>\n",
              "\n",
              "    <script>\n",
              "      const buttonEl =\n",
              "        document.querySelector('#df-2d625cb6-bd98-4e70-8eb9-ca6ae4df922d button.colab-df-convert');\n",
              "      buttonEl.style.display =\n",
              "        google.colab.kernel.accessAllowed ? 'block' : 'none';\n",
              "\n",
              "      async function convertToInteractive(key) {\n",
              "        const element = document.querySelector('#df-2d625cb6-bd98-4e70-8eb9-ca6ae4df922d');\n",
              "        const dataTable =\n",
              "          await google.colab.kernel.invokeFunction('convertToInteractive',\n",
              "                                                    [key], {});\n",
              "        if (!dataTable) return;\n",
              "\n",
              "        const docLinkHtml = 'Like what you see? Visit the ' +\n",
              "          '<a target=\"_blank\" href=https://colab.research.google.com/notebooks/data_table.ipynb>data table notebook</a>'\n",
              "          + ' to learn more about interactive tables.';\n",
              "        element.innerHTML = '';\n",
              "        dataTable['output_type'] = 'display_data';\n",
              "        await google.colab.output.renderOutput(dataTable, element);\n",
              "        const docLink = document.createElement('div');\n",
              "        docLink.innerHTML = docLinkHtml;\n",
              "        element.appendChild(docLink);\n",
              "      }\n",
              "    </script>\n",
              "  </div>\n",
              "\n",
              "\n",
              "<div id=\"df-aee123b2-992a-4042-b80a-892e665d95b1\">\n",
              "  <button class=\"colab-df-quickchart\" onclick=\"quickchart('df-aee123b2-992a-4042-b80a-892e665d95b1')\"\n",
              "            title=\"Suggest charts\"\n",
              "            style=\"display:none;\">\n",
              "\n",
              "<svg xmlns=\"http://www.w3.org/2000/svg\" height=\"24px\"viewBox=\"0 0 24 24\"\n",
              "     width=\"24px\">\n",
              "    <g>\n",
              "        <path d=\"M19 3H5c-1.1 0-2 .9-2 2v14c0 1.1.9 2 2 2h14c1.1 0 2-.9 2-2V5c0-1.1-.9-2-2-2zM9 17H7v-7h2v7zm4 0h-2V7h2v10zm4 0h-2v-4h2v4z\"/>\n",
              "    </g>\n",
              "</svg>\n",
              "  </button>\n",
              "\n",
              "<style>\n",
              "  .colab-df-quickchart {\n",
              "      --bg-color: #E8F0FE;\n",
              "      --fill-color: #1967D2;\n",
              "      --hover-bg-color: #E2EBFA;\n",
              "      --hover-fill-color: #174EA6;\n",
              "      --disabled-fill-color: #AAA;\n",
              "      --disabled-bg-color: #DDD;\n",
              "  }\n",
              "\n",
              "  [theme=dark] .colab-df-quickchart {\n",
              "      --bg-color: #3B4455;\n",
              "      --fill-color: #D2E3FC;\n",
              "      --hover-bg-color: #434B5C;\n",
              "      --hover-fill-color: #FFFFFF;\n",
              "      --disabled-bg-color: #3B4455;\n",
              "      --disabled-fill-color: #666;\n",
              "  }\n",
              "\n",
              "  .colab-df-quickchart {\n",
              "    background-color: var(--bg-color);\n",
              "    border: none;\n",
              "    border-radius: 50%;\n",
              "    cursor: pointer;\n",
              "    display: none;\n",
              "    fill: var(--fill-color);\n",
              "    height: 32px;\n",
              "    padding: 0;\n",
              "    width: 32px;\n",
              "  }\n",
              "\n",
              "  .colab-df-quickchart:hover {\n",
              "    background-color: var(--hover-bg-color);\n",
              "    box-shadow: 0 1px 2px rgba(60, 64, 67, 0.3), 0 1px 3px 1px rgba(60, 64, 67, 0.15);\n",
              "    fill: var(--button-hover-fill-color);\n",
              "  }\n",
              "\n",
              "  .colab-df-quickchart-complete:disabled,\n",
              "  .colab-df-quickchart-complete:disabled:hover {\n",
              "    background-color: var(--disabled-bg-color);\n",
              "    fill: var(--disabled-fill-color);\n",
              "    box-shadow: none;\n",
              "  }\n",
              "\n",
              "  .colab-df-spinner {\n",
              "    border: 2px solid var(--fill-color);\n",
              "    border-color: transparent;\n",
              "    border-bottom-color: var(--fill-color);\n",
              "    animation:\n",
              "      spin 1s steps(1) infinite;\n",
              "  }\n",
              "\n",
              "  @keyframes spin {\n",
              "    0% {\n",
              "      border-color: transparent;\n",
              "      border-bottom-color: var(--fill-color);\n",
              "      border-left-color: var(--fill-color);\n",
              "    }\n",
              "    20% {\n",
              "      border-color: transparent;\n",
              "      border-left-color: var(--fill-color);\n",
              "      border-top-color: var(--fill-color);\n",
              "    }\n",
              "    30% {\n",
              "      border-color: transparent;\n",
              "      border-left-color: var(--fill-color);\n",
              "      border-top-color: var(--fill-color);\n",
              "      border-right-color: var(--fill-color);\n",
              "    }\n",
              "    40% {\n",
              "      border-color: transparent;\n",
              "      border-right-color: var(--fill-color);\n",
              "      border-top-color: var(--fill-color);\n",
              "    }\n",
              "    60% {\n",
              "      border-color: transparent;\n",
              "      border-right-color: var(--fill-color);\n",
              "    }\n",
              "    80% {\n",
              "      border-color: transparent;\n",
              "      border-right-color: var(--fill-color);\n",
              "      border-bottom-color: var(--fill-color);\n",
              "    }\n",
              "    90% {\n",
              "      border-color: transparent;\n",
              "      border-bottom-color: var(--fill-color);\n",
              "    }\n",
              "  }\n",
              "</style>\n",
              "\n",
              "  <script>\n",
              "    async function quickchart(key) {\n",
              "      const quickchartButtonEl =\n",
              "        document.querySelector('#' + key + ' button');\n",
              "      quickchartButtonEl.disabled = true;  // To prevent multiple clicks.\n",
              "      quickchartButtonEl.classList.add('colab-df-spinner');\n",
              "      try {\n",
              "        const charts = await google.colab.kernel.invokeFunction(\n",
              "            'suggestCharts', [key], {});\n",
              "      } catch (error) {\n",
              "        console.error('Error during call to suggestCharts:', error);\n",
              "      }\n",
              "      quickchartButtonEl.classList.remove('colab-df-spinner');\n",
              "      quickchartButtonEl.classList.add('colab-df-quickchart-complete');\n",
              "    }\n",
              "    (() => {\n",
              "      let quickchartButtonEl =\n",
              "        document.querySelector('#df-aee123b2-992a-4042-b80a-892e665d95b1 button');\n",
              "      quickchartButtonEl.style.display =\n",
              "        google.colab.kernel.accessAllowed ? 'block' : 'none';\n",
              "    })();\n",
              "  </script>\n",
              "</div>\n",
              "\n",
              "    </div>\n",
              "  </div>\n"
            ]
          },
          "metadata": {},
          "execution_count": 152
        }
      ]
    },
    {
      "cell_type": "code",
      "metadata": {
        "id": "LXD_mqvRoaP5",
        "colab": {
          "base_uri": "https://localhost:8080/",
          "height": 430
        },
        "outputId": "e2ead2fa-a089-4b97-a227-cf1e21d69c23"
      },
      "source": [
        "plt.plot(df['Return']);"
      ],
      "execution_count": null,
      "outputs": [
        {
          "output_type": "display_data",
          "data": {
            "text/plain": [
              "<Figure size 640x480 with 1 Axes>"
            ],
            "image/png": "[encoded data removed]"
          },
          "metadata": {}
        }
      ]
    },
    {
      "cell_type": "code",
      "metadata": {
        "id": "ePCjxG3WG8O5",
        "colab": {
          "base_uri": "https://localhost:8080/",
          "height": 447
        },
        "outputId": "36150756-a974-4736-c7e4-5c23326fc9e6"
      },
      "source": [
        "# Now let's try an LSTM to predict returns\n",
        "df['Return'].hist()"
      ],
      "execution_count": null,
      "outputs": [
        {
          "output_type": "execute_result",
          "data": {
            "text/plain": [
              "<Axes: >"
            ]
          },
          "metadata": {},
          "execution_count": 154
        },
        {
          "output_type": "display_data",
          "data": {
            "text/plain": [
              "<Figure size 640x480 with 1 Axes>"
            ],
            "image/png": "[encoded data removed]"
          },
          "metadata": {}
        }
      ]
    },
    {
      "cell_type": "code",
      "metadata": {
        "id": "7bpSyngPG-4d"
      },
      "source": [
        "series = df['Return'].values[1:].reshape(-1, 1)\n",
        "\n",
        "# Normalize the data\n",
        "# Note: I didn't think about where the true boundary is, this is just approx.\n",
        "scaler = StandardScaler()\n",
        "scaler.fit(series[:len(series) // 2])\n",
        "series = scaler.transform(series).flatten()"
      ],
      "execution_count": null,
      "outputs": []
    },
    {
      "cell_type": "code",
      "metadata": {
        "id": "l2WJxImAHBdc",
        "colab": {
          "base_uri": "https://localhost:8080/"
        },
        "outputId": "b8e80d92-c0c2-4872-d0e2-b620e173597c"
      },
      "source": [
        "### build the dataset\n",
        "# let's see if we can use T past values to predict the next value\n",
        "T = 20\n",
        "D = 1\n",
        "X = []\n",
        "Y = []\n",
        "for t in range(len(series) - T):\n",
        "  x = series[t:t+T]\n",
        "  X.append(x)\n",
        "  y = series[t+T]\n",
        "  Y.append(y)\n",
        "\n",
        "X = np.array(X).reshape(-1, T, 1) # Now the data should be N x T x D\n",
        "Y = np.array(Y).reshape(-1, 1)\n",
        "N = len(X)\n",
        "print(\"X.shape\", X.shape, \"Y.shape\", Y.shape)"
      ],
      "execution_count": null,
      "outputs": [
        {
          "output_type": "stream",
          "name": "stdout",
          "text": [
            "X.shape (1238, 20, 1) Y.shape (1238, 1)\n"
          ]
        }
      ]
    },
    {
      "cell_type": "code",
      "metadata": {
        "id": "HAwpOxy_HF_6",
        "colab": {
          "base_uri": "https://localhost:8080/"
        },
        "outputId": "aaab1763-87da-4c4a-c88e-8363cbd0cc90"
      },
      "source": [
        "### try autoregressive RNN model\n",
        "model = RNN(1, 5, 1, 1)\n",
        "model.to(device)"
      ],
      "execution_count": null,
      "outputs": [
        {
          "output_type": "execute_result",
          "data": {
            "text/plain": [
              "RNN(\n",
              "  (rnn): LSTM(1, 5, batch_first=True)\n",
              "  (fc): Linear(in_features=5, out_features=1, bias=True)\n",
              ")"
            ]
          },
          "metadata": {},
          "execution_count": 157
        }
      ]
    },
    {
      "cell_type": "code",
      "metadata": {
        "id": "iR1GzyxHHNp6"
      },
      "source": [
        "# Loss and optimizer\n",
        "criterion = nn.MSELoss()\n",
        "optimizer = torch.optim.Adam(model.parameters(), lr=0.01)"
      ],
      "execution_count": null,
      "outputs": []
    },
    {
      "cell_type": "code",
      "metadata": {
        "id": "h7cIJyaWHSoM"
      },
      "source": [
        "# Make inputs and targets\n",
        "X_train = torch.from_numpy(X[:-N//2].astype(np.float32))\n",
        "y_train = torch.from_numpy(Y[:-N//2].astype(np.float32))\n",
        "X_test = torch.from_numpy(X[-N//2:].astype(np.float32))\n",
        "y_test = torch.from_numpy(Y[-N//2:].astype(np.float32))"
      ],
      "execution_count": null,
      "outputs": []
    },
    {
      "cell_type": "code",
      "metadata": {
        "id": "YDapFNV3HVJ7"
      },
      "source": [
        "# move data to GPU\n",
        "X_train, y_train = X_train.to(device), y_train.to(device)\n",
        "X_test, y_test = X_test.to(device), y_test.to(device)"
      ],
      "execution_count": null,
      "outputs": []
    },
    {
      "cell_type": "code",
      "metadata": {
        "id": "WEgfpWY8HXSh",
        "colab": {
          "base_uri": "https://localhost:8080/"
        },
        "outputId": "16aa6275-e465-49b0-9fea-6fc6450bb500"
      },
      "source": [
        "train_losses, test_losses = full_gd(\n",
        "  model,\n",
        "  criterion,\n",
        "  optimizer,\n",
        "  X_train,\n",
        "  y_train,\n",
        "  X_test,\n",
        "  y_test\n",
        ")"
      ],
      "execution_count": null,
      "outputs": [
        {
          "output_type": "stream",
          "name": "stdout",
          "text": [
            "Epoch 50/200, Train Loss: 1.0505, Test Loss: 1.0722\n",
            "Epoch 100/200, Train Loss: 1.0282, Test Loss: 1.0925\n",
            "Epoch 150/200, Train Loss: 0.9658, Test Loss: 1.1462\n",
            "Epoch 200/200, Train Loss: 0.8998, Test Loss: 1.2774\n"
          ]
        }
      ]
    },
    {
      "cell_type": "code",
      "metadata": {
        "id": "4kmEBf1DHbIh",
        "colab": {
          "base_uri": "https://localhost:8080/",
          "height": 430
        },
        "outputId": "f889e066-c080-4bd4-d91b-15afb4ad91f4"
      },
      "source": [
        "# Plot the train loss and test loss per iteration\n",
        "plt.plot(train_losses, label='train loss')\n",
        "plt.plot(test_losses, label='test loss')\n",
        "plt.legend()\n",
        "plt.show()"
      ],
      "execution_count": null,
      "outputs": [
        {
          "output_type": "display_data",
          "data": {
            "text/plain": [
              "<Figure size 640x480 with 1 Axes>"
            ],
            "image/png": "[encoded data removed]"
          },
          "metadata": {}
        }
      ]
    },
    {
      "cell_type": "code",
      "metadata": {
        "id": "Fkr8I84dHip4"
      },
      "source": [
        "# One-step forecast using true targets\n",
        "validation_target = Y\n",
        "validation_predictions = []\n",
        "\n",
        "# index of first validation input\n",
        "i = 0\n",
        "\n",
        "X_on_device = torch.from_numpy(X.astype(np.float32)).to(device)\n",
        "\n",
        "while len(validation_predictions) < len(validation_target):\n",
        "  input_ = X_on_device[i].reshape(1, T, 1)\n",
        "  p = model(input_)[0,0].item() # 1x1 array -> scalar\n",
        "  i += 1\n",
        "\n",
        "  # update the predictions list\n",
        "  validation_predictions.append(p)"
      ],
      "execution_count": null,
      "outputs": []
    },
    {
      "cell_type": "code",
      "metadata": {
        "id": "pcLxuoUkHk1M",
        "colab": {
          "base_uri": "https://localhost:8080/",
          "height": 447
        },
        "outputId": "787f140e-32c3-47a3-8739-c4dc7b3dadcc"
      },
      "source": [
        "plt.plot(validation_target, label='forecast target')\n",
        "plt.plot(validation_predictions, label='forecast prediction')\n",
        "plt.legend()"
      ],
      "execution_count": null,
      "outputs": [
        {
          "output_type": "execute_result",
          "data": {
            "text/plain": [
              "<matplotlib.legend.Legend at 0x7f504c7ca710>"
            ]
          },
          "metadata": {},
          "execution_count": 164
        },
        {
          "output_type": "display_data",
          "data": {
            "text/plain": [
              "<Figure size 640x480 with 1 Axes>"
            ],
            "image/png": "[encoded data removed]"
          },
          "metadata": {}
        }
      ]
    },
    {
      "cell_type": "code",
      "metadata": {
        "id": "XvoMGhXrHpuT"
      },
      "source": [
        "# Multi-step forecast\n",
        "validation_target = Y[-N//2:]\n",
        "validation_predictions = []\n",
        "\n",
        "# last train input\n",
        "last_x = X_test[0].view(T)\n",
        "\n",
        "while len(validation_predictions) < len(validation_target):\n",
        "  input_ = last_x.reshape(1, T, 1)\n",
        "  p = model(input_)\n",
        "  # [0,0] # 1x1 array -> scalar\n",
        "\n",
        "  # update the predictions list\n",
        "  validation_predictions.append(p[0,0].item())\n",
        "\n",
        "  # make the new input\n",
        "  last_x = torch.cat((last_x[1:], p[0]))"
      ],
      "execution_count": null,
      "outputs": []
    },
    {
      "cell_type": "code",
      "metadata": {
        "id": "WnYmGBvwHsqs",
        "colab": {
          "base_uri": "https://localhost:8080/",
          "height": 447
        },
        "outputId": "0cac94c6-39e0-4c2d-d5a2-8696e1117309"
      },
      "source": [
        "plt.plot(validation_target, label='forecast target')\n",
        "plt.plot(validation_predictions, label='forecast prediction')\n",
        "plt.legend()"
      ],
      "execution_count": null,
      "outputs": [
        {
          "output_type": "execute_result",
          "data": {
            "text/plain": [
              "<matplotlib.legend.Legend at 0x7f504c7e84f0>"
            ]
          },
          "metadata": {},
          "execution_count": 166
        },
        {
          "output_type": "display_data",
          "data": {
            "text/plain": [
              "<Figure size 640x480 with 1 Axes>"
            ],
            "image/png": "[encoded data removed]"
          },
          "metadata": {}
        }
      ]
    },
    {
      "cell_type": "markdown",
      "metadata": {
        "id": "mLVRD2tmHxoJ"
      },
      "source": [
        "### Binary Classification"
      ]
    },
    {
      "cell_type": "code",
      "metadata": {
        "id": "Bndx3QO5HuR9"
      },
      "source": [
        "# Now turn the full data into numpy arrays\n",
        "\n",
        "# Not yet in the final \"X\" format!\n",
        "input_data = df[['open', 'high', 'low', 'close', 'volume']].values\n",
        "targets = df['Return'].values"
      ],
      "execution_count": null,
      "outputs": []
    },
    {
      "cell_type": "code",
      "metadata": {
        "id": "pwdN0u8mH_GN"
      },
      "source": [
        "# Now make the actual data which will go into the neural network\n",
        "T = 10 # the number of time steps to look at to make a prediction for the next day\n",
        "D = input_data.shape[1]\n",
        "N = len(input_data) - T # (e.g. if T=10 and you have 11 data points then you'd only have 1 sample)"
      ],
      "execution_count": null,
      "outputs": []
    },
    {
      "cell_type": "code",
      "metadata": {
        "id": "8ivu7w3yIFcu"
      },
      "source": [
        "# normalize the inputs\n",
        "Ntrain = len(input_data) * 2 // 3\n",
        "scaler = StandardScaler()\n",
        "scaler.fit(input_data[:Ntrain + T - 1])\n",
        "input_data = scaler.transform(input_data)"
      ],
      "execution_count": null,
      "outputs": []
    },
    {
      "cell_type": "code",
      "metadata": {
        "id": "3S0TJMWHIG68"
      },
      "source": [
        "# Setup X_train and Y_train\n",
        "X_train = np.zeros((Ntrain, T, D))\n",
        "Y_train = np.zeros((Ntrain, 1))\n",
        "\n",
        "for t in range(Ntrain):\n",
        "  X_train[t, :, :] = input_data[t:t+T]\n",
        "  Y_train[t] = (targets[t+T] > 0)"
      ],
      "execution_count": null,
      "outputs": []
    },
    {
      "cell_type": "code",
      "metadata": {
        "id": "v5OPoVZnIIoq"
      },
      "source": [
        "# Setup X_test and Y_test\n",
        "X_test = np.zeros((N - Ntrain, T, D))\n",
        "Y_test = np.zeros((N - Ntrain, 1))\n",
        "\n",
        "for u in range(N - Ntrain):\n",
        "  # u counts from 0...(N - Ntrain)\n",
        "  # t counts from Ntrain...N\n",
        "  t = u + Ntrain\n",
        "  X_test[u, :, :] = input_data[t:t+T]\n",
        "  Y_test[u] = (targets[t+T] > 0)"
      ],
      "execution_count": null,
      "outputs": []
    },
    {
      "cell_type": "code",
      "metadata": {
        "id": "TTXdPZW9ILDP",
        "colab": {
          "base_uri": "https://localhost:8080/"
        },
        "outputId": "91c6dc3d-d1ec-4245-fc30-5c195acedec2"
      },
      "source": [
        "# make the RNN\n",
        "model = RNN(5, 50, 2, 1)\n",
        "model.to(device)"
      ],
      "execution_count": null,
      "outputs": [
        {
          "output_type": "execute_result",
          "data": {
            "text/plain": [
              "RNN(\n",
              "  (rnn): LSTM(5, 50, num_layers=2, batch_first=True)\n",
              "  (fc): Linear(in_features=50, out_features=1, bias=True)\n",
              ")"
            ]
          },
          "metadata": {},
          "execution_count": 172
        }
      ]
    },
    {
      "cell_type": "code",
      "metadata": {
        "id": "tkNDPzSgIPT8"
      },
      "source": [
        "# Loss and optimizer - it's classification now!\n",
        "criterion = nn.BCEWithLogitsLoss()\n",
        "optimizer = torch.optim.Adam(model.parameters(), lr=0.01)"
      ],
      "execution_count": null,
      "outputs": []
    },
    {
      "cell_type": "code",
      "metadata": {
        "id": "kthbTpgqIab5"
      },
      "source": [
        "# Make inputs and targets\n",
        "X_train = torch.from_numpy(X_train.astype(np.float32))\n",
        "y_train = torch.from_numpy(Y_train.astype(np.float32))\n",
        "X_test = torch.from_numpy(X_test.astype(np.float32))\n",
        "y_test = torch.from_numpy(Y_test.astype(np.float32))"
      ],
      "execution_count": null,
      "outputs": []
    },
    {
      "cell_type": "code",
      "metadata": {
        "id": "acXZJ9gOIhTI"
      },
      "source": [
        "# move data to GPU\n",
        "X_train, y_train = X_train.to(device), y_train.to(device)\n",
        "X_test, y_test = X_test.to(device), y_test.to(device)"
      ],
      "execution_count": null,
      "outputs": []
    },
    {
      "cell_type": "code",
      "metadata": {
        "id": "He5Z5-z_IjiZ",
        "colab": {
          "base_uri": "https://localhost:8080/"
        },
        "outputId": "2dcdd2f0-0475-4b8f-dc52-222462ba61ba"
      },
      "source": [
        "train_losses, test_losses = full_gd(\n",
        "  model,\n",
        "  criterion,\n",
        "  optimizer,\n",
        "  X_train,\n",
        "  y_train,\n",
        "  X_test,\n",
        "  y_test,\n",
        "  epochs=300\n",
        ")"
      ],
      "execution_count": null,
      "outputs": [
        {
          "output_type": "stream",
          "name": "stdout",
          "text": [
            "Epoch 50/300, Train Loss: 0.6442, Test Loss: 0.7603\n",
            "Epoch 100/300, Train Loss: 0.4464, Test Loss: 1.1384\n",
            "Epoch 150/300, Train Loss: 0.2100, Test Loss: 1.8230\n",
            "Epoch 200/300, Train Loss: 0.0393, Test Loss: 2.4696\n",
            "Epoch 250/300, Train Loss: 0.0023, Test Loss: 3.4688\n",
            "Epoch 300/300, Train Loss: 0.0008, Test Loss: 3.7013\n"
          ]
        }
      ]
    },
    {
      "cell_type": "code",
      "metadata": {
        "id": "NzD5qsMxJxuY",
        "colab": {
          "base_uri": "https://localhost:8080/",
          "height": 430
        },
        "outputId": "814ee903-7259-4fd6-d5d7-5e7f542f61b9"
      },
      "source": [
        "# Plot the train loss and test loss per iteration\n",
        "plt.plot(train_losses, label='train loss')\n",
        "plt.plot(test_losses, label='test loss')\n",
        "plt.legend()\n",
        "plt.show()"
      ],
      "execution_count": null,
      "outputs": [
        {
          "output_type": "display_data",
          "data": {
            "text/plain": [
              "<Figure size 640x480 with 1 Axes>"
            ],
            "image/png": "[encoded data removed]"
          },
          "metadata": {}
        }
      ]
    },
    {
      "cell_type": "code",
      "metadata": {
        "id": "5IACnu3gJ4dK",
        "colab": {
          "base_uri": "https://localhost:8080/"
        },
        "outputId": "1e51ffcc-bec5-4f9f-91dc-33396e856524"
      },
      "source": [
        "# Get accuracy\n",
        "with torch.no_grad():\n",
        "  p_train = model(X_train)\n",
        "  p_train = (p_train.cpu().numpy() > 0)\n",
        "  train_acc = np.mean(y_train.cpu().numpy() == p_train)\n",
        "\n",
        "  p_test = model(X_test)\n",
        "  p_test = (p_test.cpu().numpy() > 0)\n",
        "  test_acc = np.mean(y_test.cpu().numpy() == p_test)\n",
        "print(f\"Train acc: {train_acc:.4f}, Test acc: {test_acc:.4f}\")"
      ],
      "execution_count": null,
      "outputs": [
        {
          "output_type": "stream",
          "name": "stdout",
          "text": [
            "Train acc: 1.0000, Test acc: 0.5024\n"
          ]
        }
      ]
    },
    {
      "cell_type": "markdown",
      "source": [
        "# Convolutional Neural Networks\n",
        "\n"
      ],
      "metadata": {
        "id": "ygOcP49fTl89"
      }
    },
    {
      "cell_type": "markdown",
      "source": [
        "## CNN for Text Classification"
      ],
      "metadata": {
        "id": "8IN6rxx4TxNY"
      }
    },
    {
      "cell_type": "code",
      "execution_count": null,
      "metadata": {
        "id": "JrRWrF1_H0EJ"
      },
      "outputs": [],
      "source": [
        "import torch\n",
        "import torch.nn as nn\n",
        "import torch.nn.functional as F\n",
        "import numpy as np\n",
        "import pandas as pd\n",
        "import matplotlib.pyplot as plt\n",
        "from datetime import datetime\n",
        "\n",
        "from sklearn.model_selection import train_test_split\n",
        "from sklearn.utils import shuffle"
      ]
    },
    {
      "cell_type": "code",
      "source": [
        "# Unfortunately this URL doesn't work directly with pd.read_csv\n",
        "!wget -nc https://lazyprogrammer.me/course_files/spam.csv"
      ],
      "metadata": {
        "id": "YbD0sWoKI_tj"
      },
      "execution_count": null,
      "outputs": []
    },
    {
      "cell_type": "code",
      "source": [
        "df = pd.read_csv('spam.csv', encoding='ISO-8859-1')\n",
        "\n",
        "# drop unnecesary columns\n",
        "df = df.drop([\"Unnamed: 2\", \"Unnamed: 3\", \"Unnamed: 4\"], axis=1)\n",
        "\n",
        "df.columns = ['labels', 'data']\n",
        "\n",
        "df.head()"
      ],
      "metadata": {
        "id": "9Hq5Tm-oJg_m",
        "colab": {
          "base_uri": "https://localhost:8080/",
          "height": 206
        },
        "outputId": "32ff6d0d-ff83-4537-c50b-951ca2fae090"
      },
      "execution_count": null,
      "outputs": [
        {
          "output_type": "execute_result",
          "data": {
            "text/plain": [
              "  labels                                               data\n",
              "0    ham  Go until jurong point, crazy.. Available only ...\n",
              "1    ham                      Ok lar... Joking wif u oni...\n",
              "2   spam  Free entry in 2 a wkly comp to win FA Cup fina...\n",
              "3    ham  U dun say so early hor... U c already then say...\n",
              "4    ham  Nah I don't think he goes to usf, he lives aro..."
            ],
            "text/html": [
              "\n",
              "  <div id=\"df-d628ff34-9f3a-4303-993e-07d92827245f\" class=\"colab-df-container\">\n",
              "    <div>\n",
              "<style scoped>\n",
              "    .dataframe tbody tr th:only-of-type {\n",
              "        vertical-align: middle;\n",
              "    }\n",
              "\n",
              "    .dataframe tbody tr th {\n",
              "        vertical-align: top;\n",
              "    }\n",
              "\n",
              "    .dataframe thead th {\n",
              "        text-align: right;\n",
              "    }\n",
              "</style>\n",
              "<table border=\"1\" class=\"dataframe\">\n",
              "  <thead>\n",
              "    <tr style=\"text-align: right;\">\n",
              "      <th></th>\n",
              "      <th>labels</th>\n",
              "      <th>data</th>\n",
              "    </tr>\n",
              "  </thead>\n",
              "  <tbody>\n",
              "    <tr>\n",
              "      <th>0</th>\n",
              "      <td>ham</td>\n",
              "      <td>Go until jurong point, crazy.. Available only ...</td>\n",
              "    </tr>\n",
              "    <tr>\n",
              "      <th>1</th>\n",
              "      <td>ham</td>\n",
              "      <td>Ok lar... Joking wif u oni...</td>\n",
              "    </tr>\n",
              "    <tr>\n",
              "      <th>2</th>\n",
              "      <td>spam</td>\n",
              "      <td>Free entry in 2 a wkly comp to win FA Cup fina...</td>\n",
              "    </tr>\n",
              "    <tr>\n",
              "      <th>3</th>\n",
              "      <td>ham</td>\n",
              "      <td>U dun say so early hor... U c already then say...</td>\n",
              "    </tr>\n",
              "    <tr>\n",
              "      <th>4</th>\n",
              "      <td>ham</td>\n",
              "      <td>Nah I don't think he goes to usf, he lives aro...</td>\n",
              "    </tr>\n",
              "  </tbody>\n",
              "</table>\n",
              "</div>\n",
              "    <div class=\"colab-df-buttons\">\n",
              "\n",
              "  <div class=\"colab-df-container\">\n",
              "    <button class=\"colab-df-convert\" onclick=\"convertToInteractive('df-d628ff34-9f3a-4303-993e-07d92827245f')\"\n",
              "            title=\"Convert this dataframe to an interactive table.\"\n",
              "            style=\"display:none;\">\n",
              "\n",
              "  <svg xmlns=\"http://www.w3.org/2000/svg\" height=\"24px\" viewBox=\"0 -960 960 960\">\n",
              "    <path d=\"M120-120v-720h720v720H120Zm60-500h600v-160H180v160Zm220 220h160v-160H400v160Zm0 220h160v-160H400v160ZM180-400h160v-160H180v160Zm440 0h160v-160H620v160ZM180-180h160v-160H180v160Zm440 0h160v-160H620v160Z\"/>\n",
              "  </svg>\n",
              "    </button>\n",
              "\n",
              "  <style>\n",
              "    .colab-df-container {\n",
              "      display:flex;\n",
              "      gap: 12px;\n",
              "    }\n",
              "\n",
              "    .colab-df-convert {\n",
              "      background-color: #E8F0FE;\n",
              "      border: none;\n",
              "      border-radius: 50%;\n",
              "      cursor: pointer;\n",
              "      display: none;\n",
              "      fill: #1967D2;\n",
              "      height: 32px;\n",
              "      padding: 0 0 0 0;\n",
              "      width: 32px;\n",
              "    }\n",
              "\n",
              "    .colab-df-convert:hover {\n",
              "      background-color: #E2EBFA;\n",
              "      box-shadow: 0px 1px 2px rgba(60, 64, 67, 0.3), 0px 1px 3px 1px rgba(60, 64, 67, 0.15);\n",
              "      fill: #174EA6;\n",
              "    }\n",
              "\n",
              "    .colab-df-buttons div {\n",
              "      margin-bottom: 4px;\n",
              "    }\n",
              "\n",
              "    [theme=dark] .colab-df-convert {\n",
              "      background-color: #3B4455;\n",
              "      fill: #D2E3FC;\n",
              "    }\n",
              "\n",
              "    [theme=dark] .colab-df-convert:hover {\n",
              "      background-color: #434B5C;\n",
              "      box-shadow: 0px 1px 3px 1px rgba(0, 0, 0, 0.15);\n",
              "      filter: drop-shadow(0px 1px 2px rgba(0, 0, 0, 0.3));\n",
              "      fill: #FFFFFF;\n",
              "    }\n",
              "  </style>\n",
              "\n",
              "    <script>\n",
              "      const buttonEl =\n",
              "        document.querySelector('#df-d628ff34-9f3a-4303-993e-07d92827245f button.colab-df-convert');\n",
              "      buttonEl.style.display =\n",
              "        google.colab.kernel.accessAllowed ? 'block' : 'none';\n",
              "\n",
              "      async function convertToInteractive(key) {\n",
              "        const element = document.querySelector('#df-d628ff34-9f3a-4303-993e-07d92827245f');\n",
              "        const dataTable =\n",
              "          await google.colab.kernel.invokeFunction('convertToInteractive',\n",
              "                                                    [key], {});\n",
              "        if (!dataTable) return;\n",
              "\n",
              "        const docLinkHtml = 'Like what you see? Visit the ' +\n",
              "          '<a target=\"_blank\" href=https://colab.research.google.com/notebooks/data_table.ipynb>data table notebook</a>'\n",
              "          + ' to learn more about interactive tables.';\n",
              "        element.innerHTML = '';\n",
              "        dataTable['output_type'] = 'display_data';\n",
              "        await google.colab.output.renderOutput(dataTable, element);\n",
              "        const docLink = document.createElement('div');\n",
              "        docLink.innerHTML = docLinkHtml;\n",
              "        element.appendChild(docLink);\n",
              "      }\n",
              "    </script>\n",
              "  </div>\n",
              "\n",
              "\n",
              "<div id=\"df-8fab9de4-3841-404e-bb84-20353a6f31b0\">\n",
              "  <button class=\"colab-df-quickchart\" onclick=\"quickchart('df-8fab9de4-3841-404e-bb84-20353a6f31b0')\"\n",
              "            title=\"Suggest charts\"\n",
              "            style=\"display:none;\">\n",
              "\n",
              "<svg xmlns=\"http://www.w3.org/2000/svg\" height=\"24px\"viewBox=\"0 0 24 24\"\n",
              "     width=\"24px\">\n",
              "    <g>\n",
              "        <path d=\"M19 3H5c-1.1 0-2 .9-2 2v14c0 1.1.9 2 2 2h14c1.1 0 2-.9 2-2V5c0-1.1-.9-2-2-2zM9 17H7v-7h2v7zm4 0h-2V7h2v10zm4 0h-2v-4h2v4z\"/>\n",
              "    </g>\n",
              "</svg>\n",
              "  </button>\n",
              "\n",
              "<style>\n",
              "  .colab-df-quickchart {\n",
              "      --bg-color: #E8F0FE;\n",
              "      --fill-color: #1967D2;\n",
              "      --hover-bg-color: #E2EBFA;\n",
              "      --hover-fill-color: #174EA6;\n",
              "      --disabled-fill-color: #AAA;\n",
              "      --disabled-bg-color: #DDD;\n",
              "  }\n",
              "\n",
              "  [theme=dark] .colab-df-quickchart {\n",
              "      --bg-color: #3B4455;\n",
              "      --fill-color: #D2E3FC;\n",
              "      --hover-bg-color: #434B5C;\n",
              "      --hover-fill-color: #FFFFFF;\n",
              "      --disabled-bg-color: #3B4455;\n",
              "      --disabled-fill-color: #666;\n",
              "  }\n",
              "\n",
              "  .colab-df-quickchart {\n",
              "    background-color: var(--bg-color);\n",
              "    border: none;\n",
              "    border-radius: 50%;\n",
              "    cursor: pointer;\n",
              "    display: none;\n",
              "    fill: var(--fill-color);\n",
              "    height: 32px;\n",
              "    padding: 0;\n",
              "    width: 32px;\n",
              "  }\n",
              "\n",
              "  .colab-df-quickchart:hover {\n",
              "    background-color: var(--hover-bg-color);\n",
              "    box-shadow: 0 1px 2px rgba(60, 64, 67, 0.3), 0 1px 3px 1px rgba(60, 64, 67, 0.15);\n",
              "    fill: var(--button-hover-fill-color);\n",
              "  }\n",
              "\n",
              "  .colab-df-quickchart-complete:disabled,\n",
              "  .colab-df-quickchart-complete:disabled:hover {\n",
              "    background-color: var(--disabled-bg-color);\n",
              "    fill: var(--disabled-fill-color);\n",
              "    box-shadow: none;\n",
              "  }\n",
              "\n",
              "  .colab-df-spinner {\n",
              "    border: 2px solid var(--fill-color);\n",
              "    border-color: transparent;\n",
              "    border-bottom-color: var(--fill-color);\n",
              "    animation:\n",
              "      spin 1s steps(1) infinite;\n",
              "  }\n",
              "\n",
              "  @keyframes spin {\n",
              "    0% {\n",
              "      border-color: transparent;\n",
              "      border-bottom-color: var(--fill-color);\n",
              "      border-left-color: var(--fill-color);\n",
              "    }\n",
              "    20% {\n",
              "      border-color: transparent;\n",
              "      border-left-color: var(--fill-color);\n",
              "      border-top-color: var(--fill-color);\n",
              "    }\n",
              "    30% {\n",
              "      border-color: transparent;\n",
              "      border-left-color: var(--fill-color);\n",
              "      border-top-color: var(--fill-color);\n",
              "      border-right-color: var(--fill-color);\n",
              "    }\n",
              "    40% {\n",
              "      border-color: transparent;\n",
              "      border-right-color: var(--fill-color);\n",
              "      border-top-color: var(--fill-color);\n",
              "    }\n",
              "    60% {\n",
              "      border-color: transparent;\n",
              "      border-right-color: var(--fill-color);\n",
              "    }\n",
              "    80% {\n",
              "      border-color: transparent;\n",
              "      border-right-color: var(--fill-color);\n",
              "      border-bottom-color: var(--fill-color);\n",
              "    }\n",
              "    90% {\n",
              "      border-color: transparent;\n",
              "      border-bottom-color: var(--fill-color);\n",
              "    }\n",
              "  }\n",
              "</style>\n",
              "\n",
              "  <script>\n",
              "    async function quickchart(key) {\n",
              "      const quickchartButtonEl =\n",
              "        document.querySelector('#' + key + ' button');\n",
              "      quickchartButtonEl.disabled = true;  // To prevent multiple clicks.\n",
              "      quickchartButtonEl.classList.add('colab-df-spinner');\n",
              "      try {\n",
              "        const charts = await google.colab.kernel.invokeFunction(\n",
              "            'suggestCharts', [key], {});\n",
              "      } catch (error) {\n",
              "        console.error('Error during call to suggestCharts:', error);\n",
              "      }\n",
              "      quickchartButtonEl.classList.remove('colab-df-spinner');\n",
              "      quickchartButtonEl.classList.add('colab-df-quickchart-complete');\n",
              "    }\n",
              "    (() => {\n",
              "      let quickchartButtonEl =\n",
              "        document.querySelector('#df-8fab9de4-3841-404e-bb84-20353a6f31b0 button');\n",
              "      quickchartButtonEl.style.display =\n",
              "        google.colab.kernel.accessAllowed ? 'block' : 'none';\n",
              "    })();\n",
              "  </script>\n",
              "</div>\n",
              "\n",
              "    </div>\n",
              "  </div>\n"
            ]
          },
          "metadata": {},
          "execution_count": 3
        }
      ]
    },
    {
      "cell_type": "code",
      "source": [
        "# create binary labels\n",
        "df['b_labels'] = df['labels'].map({'ham': 0, 'spam': 1})"
      ],
      "metadata": {
        "id": "8seRhEgmJvZ0"
      },
      "execution_count": null,
      "outputs": []
    },
    {
      "cell_type": "code",
      "source": [
        "df_train, df_test = train_test_split(df, test_size=0.33)"
      ],
      "metadata": {
        "id": "IRXZno0HJwSa"
      },
      "execution_count": null,
      "outputs": []
    },
    {
      "cell_type": "code",
      "source": [
        "df_train.shape, df_test.shape"
      ],
      "metadata": {
        "id": "HuNvkgoQJz_o",
        "colab": {
          "base_uri": "https://localhost:8080/"
        },
        "outputId": "6d2e7387-c8bc-4f65-e405-491ca809de3b"
      },
      "execution_count": null,
      "outputs": [
        {
          "output_type": "execute_result",
          "data": {
            "text/plain": [
              "((3733, 3), (1839, 3))"
            ]
          },
          "metadata": {},
          "execution_count": 6
        }
      ]
    },
    {
      "cell_type": "code",
      "source": [
        "# 0 = padding\n",
        "idx = 1\n",
        "word2idx = {'<PAD>': 0}"
      ],
      "metadata": {
        "id": "TM4odMcsJ19x"
      },
      "execution_count": null,
      "outputs": []
    },
    {
      "cell_type": "code",
      "source": [
        "# you could always use gensim or spacy for tokenization,\n",
        "# but let's keep it simple!\n",
        "for i, row in df_train.iterrows():\n",
        "  tokens = row['data'].lower().split() # simple tokenization(lower-> lowercase the text; split-> split phrase using spaces)\n",
        "  for token in tokens:\n",
        "    if token not in word2idx:\n",
        "      word2idx[token] = idx\n",
        "      idx += 1"
      ],
      "metadata": {
        "id": "3LdsI5LeJ3Wa"
      },
      "execution_count": null,
      "outputs": []
    },
    {
      "cell_type": "code",
      "source": [
        "word2idx[\"you\"], len(word2idx)"
      ],
      "metadata": {
        "id": "ODS_O1A9J4wC",
        "colab": {
          "base_uri": "https://localhost:8080/"
        },
        "outputId": "e470a4f9-42f0-45f4-e12b-0e0bfa76cbe1"
      },
      "execution_count": null,
      "outputs": [
        {
          "output_type": "execute_result",
          "data": {
            "text/plain": [
              "(27, 10578)"
            ]
          },
          "metadata": {},
          "execution_count": 13
        }
      ]
    },
    {
      "cell_type": "code",
      "source": [
        "# convert data into word indices\n",
        "# note: could hae done this on the fly earlier\n",
        "train_sentences_as_int = []\n",
        "for i, row in df_train.iterrows():\n",
        "  tokens = row['data'].lower().split()\n",
        "  sentence_as_int = [word2idx[token] for token in tokens]\n",
        "  train_sentences_as_int.append(sentence_as_int)"
      ],
      "metadata": {
        "id": "5hfah5MXJ9Xu"
      },
      "execution_count": null,
      "outputs": []
    },
    {
      "cell_type": "code",
      "source": [
        "# convert data into word indices\n",
        "# note: could hae done this on the fly earlier\n",
        "test_sentences_as_int = []\n",
        "for i, row in df_test.iterrows():\n",
        "  tokens = row['data'].lower().split()\n",
        "  sentence_as_int = [word2idx[token] for token in tokens if token in word2idx]\n",
        "  test_sentences_as_int.append(sentence_as_int)"
      ],
      "metadata": {
        "id": "aC9-uUXeJ_fQ"
      },
      "execution_count": null,
      "outputs": []
    },
    {
      "cell_type": "code",
      "source": [
        "len(train_sentences_as_int), len(test_sentences_as_int)"
      ],
      "metadata": {
        "id": "fJnczriBKBGt",
        "colab": {
          "base_uri": "https://localhost:8080/"
        },
        "outputId": "71888492-dcdd-42c0-b903-40eaf10e563d"
      },
      "execution_count": null,
      "outputs": [
        {
          "output_type": "execute_result",
          "data": {
            "text/plain": [
              "(3733, 1839)"
            ]
          },
          "metadata": {},
          "execution_count": 17
        }
      ]
    },
    {
      "cell_type": "code",
      "source": [
        "def data_generator(X, y, batch_size=32):\n",
        "  X, y = shuffle(X,y)\n",
        "  n_batches = int(np.ceil(len(y) / batch_size))\n",
        "  for i in range(n_batches):\n",
        "    end = min((i+1) * batch_size, len(y))\n",
        "\n",
        "    X_batch = X[i * batch_size:end]\n",
        "    y_batch = y[i * batch_size:end]\n",
        "\n",
        "    # pad X_batch to be N x T\n",
        "    max_len = np.max([len(x) for x in X_batch]) # all batches with the max size\n",
        "    for j in range(len(X_batch)):\n",
        "      x = X_batch[j]\n",
        "      pad = [0] * (max_len - len(x))\n",
        "      X_batch[j] = pad + x\n",
        "\n",
        "      # convert to tensor\n",
        "    X_batch = torch.from_numpy(np.array(X_batch)).long()\n",
        "    y_batch = torch.from_numpy(np.array(y_batch)).long()\n",
        "\n",
        "    yield X_batch, y_batch"
      ],
      "metadata": {
        "id": "EghdB1JHKDsD"
      },
      "execution_count": null,
      "outputs": []
    },
    {
      "cell_type": "code",
      "source": [
        "device = torch.device(\"cuda:0\" if torch.cuda.is_available() else \"cpu\")\n",
        "print(device)"
      ],
      "metadata": {
        "id": "Ur0yEObIKmPV",
        "colab": {
          "base_uri": "https://localhost:8080/"
        },
        "outputId": "84f421df-3e32-4121-decd-3b4ec7b6e6bb"
      },
      "execution_count": null,
      "outputs": [
        {
          "output_type": "stream",
          "name": "stdout",
          "text": [
            "cuda:0\n"
          ]
        }
      ]
    },
    {
      "cell_type": "code",
      "source": [
        "# What is the shape of embedding output?\n",
        "# N x T x D\n",
        "embed = nn.Embedding(len(word2idx),20)\n",
        "for inputs, targets in data_generator(train_sentences_as_int, df_train.b_labels):\n",
        "  out = embed(inputs)\n",
        "  print(\"Input shape:\", inputs.shape)\n",
        "  print(\"Output shape\", out.shape)\n",
        "  break"
      ],
      "metadata": {
        "id": "xKvznVsEKHkA",
        "colab": {
          "base_uri": "https://localhost:8080/"
        },
        "outputId": "935de6c3-b29a-49bb-add2-180adcb7ce45"
      },
      "execution_count": null,
      "outputs": [
        {
          "output_type": "stream",
          "name": "stdout",
          "text": [
            "Input shape: torch.Size([32, 60])\n",
            "Output shape torch.Size([32, 60, 20])\n"
          ]
        }
      ]
    },
    {
      "cell_type": "code",
      "source": [
        "from numpy.core.numeric import outer\n",
        "# Define the model\n",
        "class CNN(nn.Module):\n",
        "  def __init__(self, n_vocab, embed_dim, n_outputs):\n",
        "    super(CNN, self).__init__()\n",
        "    self.V = n_vocab\n",
        "    self.D = embed_dim\n",
        "    self.K = n_outputs\n",
        "\n",
        "    # if input is T words\n",
        "    # then outputs is (T, D) matrix\n",
        "    self.embed = nn.Embedding(self.V, self.D)\n",
        "\n",
        "    # conv layers\n",
        "    self.conv1 = nn.Conv1d(self.D, 32, 3, padding=1)\n",
        "    self.pool1 = nn.MaxPool1d(2)\n",
        "    self.conv2 = nn.Conv1d(32, 64, 3, padding=1)\n",
        "    self.pool2 = nn.MaxPool1d(2)\n",
        "    self.conv3 = nn.Conv1d(64, 128, 3, padding=1)\n",
        "\n",
        "    self.fc = nn.Linear(128, self.K)\n",
        "\n",
        "  def forward(self, X):\n",
        "    # embedding layers\n",
        "    # turns word indexes into words vectors\n",
        "    out = self.embed(X)\n",
        "\n",
        "    # note: output of embedding is always\n",
        "    # (N, T, D)\n",
        "    # conv1d expects\n",
        "    # (N, D, T)\n",
        "\n",
        "    # conv layers\n",
        "    out = out.permute(0, 2, 1)\n",
        "    out = self.conv1(out)\n",
        "    out = F.relu(out)\n",
        "    out = self.pool1(out)\n",
        "    out = self.conv2(out)\n",
        "    out = F.relu(out)\n",
        "    out = self.pool2(out)\n",
        "    out = self.conv3(out)\n",
        "    out = F.relu(out)\n",
        "\n",
        "    # change it back\n",
        "    out = out.permute(0, 2, 1)\n",
        "\n",
        "    # max pool\n",
        "    out, _ = torch.max(out, 1)\n",
        "\n",
        "    # final dense layer\n",
        "    out = self.fc(out)\n",
        "    return out"
      ],
      "metadata": {
        "id": "-cdCLnEMKJi_"
      },
      "execution_count": null,
      "outputs": []
    },
    {
      "cell_type": "code",
      "source": [
        "model = CNN(len(word2idx), 20, 1)\n",
        "model.to(device)"
      ],
      "metadata": {
        "id": "wXjr8GPbQXka",
        "colab": {
          "base_uri": "https://localhost:8080/"
        },
        "outputId": "652dad2f-8f80-4978-d102-374fb1ba2957"
      },
      "execution_count": null,
      "outputs": [
        {
          "output_type": "execute_result",
          "data": {
            "text/plain": [
              "CNN(\n",
              "  (embed): Embedding(10578, 20)\n",
              "  (conv1): Conv1d(20, 32, kernel_size=(3,), stride=(1,), padding=(1,))\n",
              "  (pool1): MaxPool1d(kernel_size=2, stride=2, padding=0, dilation=1, ceil_mode=False)\n",
              "  (conv2): Conv1d(32, 64, kernel_size=(3,), stride=(1,), padding=(1,))\n",
              "  (pool2): MaxPool1d(kernel_size=2, stride=2, padding=0, dilation=1, ceil_mode=False)\n",
              "  (conv3): Conv1d(64, 128, kernel_size=(3,), stride=(1,), padding=(1,))\n",
              "  (fc): Linear(in_features=128, out_features=1, bias=True)\n",
              ")"
            ]
          },
          "metadata": {},
          "execution_count": 22
        }
      ]
    },
    {
      "cell_type": "code",
      "source": [
        "# Loss and optimizer\n",
        "criterion = nn.BCEWithLogitsLoss()\n",
        "optimizer = torch.optim.Adam(model.parameters())"
      ],
      "metadata": {
        "id": "yiDUUt_5Qe-U"
      },
      "execution_count": null,
      "outputs": []
    },
    {
      "cell_type": "code",
      "source": [
        "train_gen = lambda: data_generator(train_sentences_as_int, df_train.b_labels)\n",
        "test_gen = lambda: data_generator(test_sentences_as_int, df_test.b_labels)"
      ],
      "metadata": {
        "id": "DCLgigWrQjkN"
      },
      "execution_count": null,
      "outputs": []
    },
    {
      "cell_type": "code",
      "source": [
        "# A function to encapsulate the training loop\n",
        "def batch_gd(model, criterion, optimizer, epochs):\n",
        "  train_losses = np.zeros(epochs)\n",
        "  test_losses = np.zeros(epochs)\n",
        "\n",
        "  for it in range(epochs):\n",
        "    t0 = datetime.now()\n",
        "    train_loss = []\n",
        "    for inputs, targets in train_gen():\n",
        "      # print(\"inputs.shape:\", inputs.shape, \"targets.shape:\", targets.shape)\n",
        "      targets = targets.view(-1, 1).float()\n",
        "      # move data to GPU\n",
        "      inputs, targets = inputs.to(device), targets.to(device)\n",
        "\n",
        "      # zero the parameter gradients\n",
        "      optimizer.zero_grad()\n",
        "\n",
        "      # Forward pass\n",
        "      outputs = model(inputs)\n",
        "      loss = criterion(outputs, targets)\n",
        "\n",
        "      # Backward and optimize\n",
        "      loss.backward()\n",
        "      optimizer.step()\n",
        "\n",
        "      train_loss.append(loss.item())\n",
        "\n",
        "    # Get train loss and test loss\n",
        "    train_loss = np.mean(train_loss) # a little misleading\n",
        "\n",
        "    test_loss = []\n",
        "    for inputs, targets in test_gen():\n",
        "      inputs, targets = inputs.to(device), targets.to(device)\n",
        "      targets = targets.view(-1, 1).float()\n",
        "      outputs = model(inputs)\n",
        "      loss = criterion(outputs, targets)\n",
        "      test_loss.append(loss.item())\n",
        "    test_loss = np.mean(test_loss)\n",
        "\n",
        "    # Save losses\n",
        "    train_losses[it] = train_loss\n",
        "    test_losses[it] = test_loss\n",
        "\n",
        "    dt = datetime.now() - t0\n",
        "    print(f'Epoch {it+1}/{epochs}, Train Loss: {train_loss:.4f}, \\\n",
        "      Test Loss: {test_loss:.4f}, Duration: {dt}')\n",
        "  return train_losses, test_losses"
      ],
      "metadata": {
        "id": "hP05ynvgQqCN"
      },
      "execution_count": null,
      "outputs": []
    },
    {
      "cell_type": "code",
      "source": [
        "train_losses, test_losses = batch_gd(\n",
        "    model, criterion, optimizer, 15)"
      ],
      "metadata": {
        "id": "5ZZJz6eHQxQC",
        "colab": {
          "base_uri": "https://localhost:8080/"
        },
        "outputId": "de3bef2e-308e-4efc-e860-fa1e4195ccc4"
      },
      "execution_count": null,
      "outputs": [
        {
          "output_type": "stream",
          "name": "stdout",
          "text": [
            "Epoch 1/15, Train Loss: 0.3385,       Test Loss: 0.2312, Duration: 0:00:02.780406\n",
            "Epoch 2/15, Train Loss: 0.1896,       Test Loss: 0.1494, Duration: 0:00:00.604052\n",
            "Epoch 3/15, Train Loss: 0.1239,       Test Loss: 0.1716, Duration: 0:00:00.558386\n",
            "Epoch 4/15, Train Loss: 0.0926,       Test Loss: 0.1354, Duration: 0:00:00.586933\n",
            "Epoch 5/15, Train Loss: 0.0704,       Test Loss: 0.1206, Duration: 0:00:00.484423\n",
            "Epoch 6/15, Train Loss: 0.0486,       Test Loss: 0.1019, Duration: 0:00:00.427152\n",
            "Epoch 7/15, Train Loss: 0.0314,       Test Loss: 0.1491, Duration: 0:00:00.404591\n",
            "Epoch 8/15, Train Loss: 0.0188,       Test Loss: 0.1271, Duration: 0:00:00.416506\n",
            "Epoch 9/15, Train Loss: 0.0159,       Test Loss: 0.1295, Duration: 0:00:00.413302\n",
            "Epoch 10/15, Train Loss: 0.0105,       Test Loss: 0.1561, Duration: 0:00:00.407300\n",
            "Epoch 11/15, Train Loss: 0.0087,       Test Loss: 0.1453, Duration: 0:00:00.428087\n",
            "Epoch 12/15, Train Loss: 0.0071,       Test Loss: 0.1426, Duration: 0:00:00.419409\n",
            "Epoch 13/15, Train Loss: 0.0057,       Test Loss: 0.1497, Duration: 0:00:00.422214\n",
            "Epoch 14/15, Train Loss: 0.0042,       Test Loss: 0.1610, Duration: 0:00:00.413656\n",
            "Epoch 15/15, Train Loss: 0.0037,       Test Loss: 0.1909, Duration: 0:00:00.408283\n"
          ]
        }
      ]
    },
    {
      "cell_type": "code",
      "source": [
        "# Plot the train loss and test loss per iteration\n",
        "plt.plot(train_losses, label='train loss')\n",
        "plt.plot(test_losses, label='test loss')\n",
        "plt.legend()\n",
        "plt.show()"
      ],
      "metadata": {
        "id": "b7wGjrxlQ0Rv",
        "colab": {
          "base_uri": "https://localhost:8080/",
          "height": 430
        },
        "outputId": "35f9388d-12f1-4111-ab0c-a44610e3b4ff"
      },
      "execution_count": null,
      "outputs": [
        {
          "output_type": "display_data",
          "data": {
            "text/plain": [
              "<Figure size 640x480 with 1 Axes>"
            ],
            "image/png": "[encoded data removed]"
          },
          "metadata": {}
        }
      ]
    },
    {
      "cell_type": "code",
      "source": [
        "# Accuracy\n",
        "\n",
        "n_correct = 0.\n",
        "n_total = 0.\n",
        "for inputs, targets in train_gen():\n",
        "  targets = targets.view(-1, 1).float()\n",
        "  inputs, targets = inputs.to(device), targets.to(device)\n",
        "\n",
        "  # Forward pass\n",
        "  outputs = model(inputs)\n",
        "\n",
        "  # Get prediction\n",
        "  predictions = (outputs > 0)\n",
        "\n",
        "  # update counts\n",
        "  n_correct += (predictions == targets).sum().item()\n",
        "  n_total += targets.shape[0]\n",
        "\n",
        "train_acc = n_correct / n_total\n",
        "\n",
        "n_correct = 0.\n",
        "n_total = 0.\n",
        "for inputs, targets in test_gen():\n",
        "  targets = targets.view(-1, 1).float()\n",
        "  inputs, targets = inputs.to(device), targets.to(device)\n",
        "\n",
        "  # Forward pass\n",
        "  outputs = model(inputs)\n",
        "\n",
        "  # Get prediction\n",
        "  predictions = (outputs > 0)\n",
        "\n",
        "  # update counts\n",
        "  n_correct += (predictions == targets).sum().item()\n",
        "  n_total += targets.shape[0]\n",
        "\n",
        "test_acc = n_correct / n_total\n",
        "print(f\"Train acc: {train_acc:.4f}, Test acc: {test_acc:.4f}\")"
      ],
      "metadata": {
        "id": "1dJ7Dm7UQ3rQ",
        "colab": {
          "base_uri": "https://localhost:8080/"
        },
        "outputId": "4cb18c26-8655-4c37-841e-adc386ffe294"
      },
      "execution_count": null,
      "outputs": [
        {
          "output_type": "stream",
          "name": "stdout",
          "text": [
            "Train acc: 0.9992, Test acc: 0.9690\n"
          ]
        }
      ]
    },
    {
      "cell_type": "markdown",
      "source": [
        "# Recommender Systems"
      ],
      "metadata": {
        "id": "ZXwiqfwHoNdR"
      }
    },
    {
      "cell_type": "code",
      "source": [
        "import torch\n",
        "import torch.nn as nn\n",
        "import torch.nn. functional as F\n",
        "import numpy as np\n",
        "import pandas as pd\n",
        "import matplotlib.pyplot as plt\n",
        "from datetime import datetime\n",
        "from sklearn.utils import shuffle"
      ],
      "metadata": {
        "id": "kq4d8upqrHKC"
      },
      "execution_count": null,
      "outputs": []
    },
    {
      "cell_type": "code",
      "source": [
        "# data is from: https://grouplens.org/datasets/movielens/\n",
        "# in case the link changes in the future\n",
        "\n",
        "!wget -nc http://files.grouplens.org/datasets/movielens/ml-20m.zip"
      ],
      "metadata": {
        "colab": {
          "base_uri": "https://localhost:8080/"
        },
        "id": "jfNQtXVwrW2F",
        "outputId": "21506c36-f952-47c3-eec6-c49b3b0d26b1"
      },
      "execution_count": null,
      "outputs": [
        {
          "output_type": "stream",
          "name": "stdout",
          "text": [
            "--2024-01-03 04:55:54--  http://files.grouplens.org/datasets/movielens/ml-20m.zip\n",
            "Resolving files.grouplens.org (files.grouplens.org)... 128.101.65.152\n",
            "Connecting to files.grouplens.org (files.grouplens.org)|128.101.65.152|:80... connected.\n",
            "HTTP request sent, awaiting response... 200 OK\n",
            "Length: 198702078 (189M) [application/zip]\n",
            "Saving to: ‘ml-20m.zip’\n",
            "\n",
            "ml-20m.zip          100%[===================>] 189.50M  54.6MB/s    in 3.8s    \n",
            "\n",
            "2024-01-03 04:55:58 (50.0 MB/s) - ‘ml-20m.zip’ saved [198702078/198702078]\n",
            "\n"
          ]
        }
      ]
    },
    {
      "cell_type": "code",
      "source": [
        "!unzip -n ml-20m.zip"
      ],
      "metadata": {
        "colab": {
          "base_uri": "https://localhost:8080/"
        },
        "id": "S57jXn5prEdz",
        "outputId": "5b3bc486-5b83-423c-97d6-3699bcd44e7b"
      },
      "execution_count": null,
      "outputs": [
        {
          "output_type": "stream",
          "name": "stdout",
          "text": [
            "Archive:  ml-20m.zip\n",
            "   creating: ml-20m/\n",
            "  inflating: ml-20m/genome-scores.csv  \n",
            "  inflating: ml-20m/genome-tags.csv  \n",
            "  inflating: ml-20m/links.csv        \n",
            "  inflating: ml-20m/movies.csv       \n",
            "  inflating: ml-20m/ratings.csv      \n",
            "  inflating: ml-20m/README.txt       \n",
            "  inflating: ml-20m/tags.csv         \n"
          ]
        }
      ]
    },
    {
      "cell_type": "code",
      "source": [
        "df = pd.read_csv('ml-20m/ratings.csv')\n",
        "df.head()"
      ],
      "metadata": {
        "colab": {
          "base_uri": "https://localhost:8080/",
          "height": 206
        },
        "id": "sQk6OV9ArNUX",
        "outputId": "f3e007ea-195c-437c-8e32-fcb270cdc40b"
      },
      "execution_count": null,
      "outputs": [
        {
          "output_type": "execute_result",
          "data": {
            "text/plain": [
              "   userId  movieId  rating   timestamp\n",
              "0       1        2     3.5  1112486027\n",
              "1       1       29     3.5  1112484676\n",
              "2       1       32     3.5  1112484819\n",
              "3       1       47     3.5  1112484727\n",
              "4       1       50     3.5  1112484580"
            ],
            "text/html": [
              "\n",
              "  <div id=\"df-bab685b1-5dd0-4e51-8606-01b7fadd8cf7\" class=\"colab-df-container\">\n",
              "    <div>\n",
              "<style scoped>\n",
              "    .dataframe tbody tr th:only-of-type {\n",
              "        vertical-align: middle;\n",
              "    }\n",
              "\n",
              "    .dataframe tbody tr th {\n",
              "        vertical-align: top;\n",
              "    }\n",
              "\n",
              "    .dataframe thead th {\n",
              "        text-align: right;\n",
              "    }\n",
              "</style>\n",
              "<table border=\"1\" class=\"dataframe\">\n",
              "  <thead>\n",
              "    <tr style=\"text-align: right;\">\n",
              "      <th></th>\n",
              "      <th>userId</th>\n",
              "      <th>movieId</th>\n",
              "      <th>rating</th>\n",
              "      <th>timestamp</th>\n",
              "    </tr>\n",
              "  </thead>\n",
              "  <tbody>\n",
              "    <tr>\n",
              "      <th>0</th>\n",
              "      <td>1</td>\n",
              "      <td>2</td>\n",
              "      <td>3.5</td>\n",
              "      <td>1112486027</td>\n",
              "    </tr>\n",
              "    <tr>\n",
              "      <th>1</th>\n",
              "      <td>1</td>\n",
              "      <td>29</td>\n",
              "      <td>3.5</td>\n",
              "      <td>1112484676</td>\n",
              "    </tr>\n",
              "    <tr>\n",
              "      <th>2</th>\n",
              "      <td>1</td>\n",
              "      <td>32</td>\n",
              "      <td>3.5</td>\n",
              "      <td>1112484819</td>\n",
              "    </tr>\n",
              "    <tr>\n",
              "      <th>3</th>\n",
              "      <td>1</td>\n",
              "      <td>47</td>\n",
              "      <td>3.5</td>\n",
              "      <td>1112484727</td>\n",
              "    </tr>\n",
              "    <tr>\n",
              "      <th>4</th>\n",
              "      <td>1</td>\n",
              "      <td>50</td>\n",
              "      <td>3.5</td>\n",
              "      <td>1112484580</td>\n",
              "    </tr>\n",
              "  </tbody>\n",
              "</table>\n",
              "</div>\n",
              "    <div class=\"colab-df-buttons\">\n",
              "\n",
              "  <div class=\"colab-df-container\">\n",
              "    <button class=\"colab-df-convert\" onclick=\"convertToInteractive('df-bab685b1-5dd0-4e51-8606-01b7fadd8cf7')\"\n",
              "            title=\"Convert this dataframe to an interactive table.\"\n",
              "            style=\"display:none;\">\n",
              "\n",
              "  <svg xmlns=\"http://www.w3.org/2000/svg\" height=\"24px\" viewBox=\"0 -960 960 960\">\n",
              "    <path d=\"M120-120v-720h720v720H120Zm60-500h600v-160H180v160Zm220 220h160v-160H400v160Zm0 220h160v-160H400v160ZM180-400h160v-160H180v160Zm440 0h160v-160H620v160ZM180-180h160v-160H180v160Zm440 0h160v-160H620v160Z\"/>\n",
              "  </svg>\n",
              "    </button>\n",
              "\n",
              "  <style>\n",
              "    .colab-df-container {\n",
              "      display:flex;\n",
              "      gap: 12px;\n",
              "    }\n",
              "\n",
              "    .colab-df-convert {\n",
              "      background-color: #E8F0FE;\n",
              "      border: none;\n",
              "      border-radius: 50%;\n",
              "      cursor: pointer;\n",
              "      display: none;\n",
              "      fill: #1967D2;\n",
              "      height: 32px;\n",
              "      padding: 0 0 0 0;\n",
              "      width: 32px;\n",
              "    }\n",
              "\n",
              "    .colab-df-convert:hover {\n",
              "      background-color: #E2EBFA;\n",
              "      box-shadow: 0px 1px 2px rgba(60, 64, 67, 0.3), 0px 1px 3px 1px rgba(60, 64, 67, 0.15);\n",
              "      fill: #174EA6;\n",
              "    }\n",
              "\n",
              "    .colab-df-buttons div {\n",
              "      margin-bottom: 4px;\n",
              "    }\n",
              "\n",
              "    [theme=dark] .colab-df-convert {\n",
              "      background-color: #3B4455;\n",
              "      fill: #D2E3FC;\n",
              "    }\n",
              "\n",
              "    [theme=dark] .colab-df-convert:hover {\n",
              "      background-color: #434B5C;\n",
              "      box-shadow: 0px 1px 3px 1px rgba(0, 0, 0, 0.15);\n",
              "      filter: drop-shadow(0px 1px 2px rgba(0, 0, 0, 0.3));\n",
              "      fill: #FFFFFF;\n",
              "    }\n",
              "  </style>\n",
              "\n",
              "    <script>\n",
              "      const buttonEl =\n",
              "        document.querySelector('#df-bab685b1-5dd0-4e51-8606-01b7fadd8cf7 button.colab-df-convert');\n",
              "      buttonEl.style.display =\n",
              "        google.colab.kernel.accessAllowed ? 'block' : 'none';\n",
              "\n",
              "      async function convertToInteractive(key) {\n",
              "        const element = document.querySelector('#df-bab685b1-5dd0-4e51-8606-01b7fadd8cf7');\n",
              "        const dataTable =\n",
              "          await google.colab.kernel.invokeFunction('convertToInteractive',\n",
              "                                                    [key], {});\n",
              "        if (!dataTable) return;\n",
              "\n",
              "        const docLinkHtml = 'Like what you see? Visit the ' +\n",
              "          '<a target=\"_blank\" href=https://colab.research.google.com/notebooks/data_table.ipynb>data table notebook</a>'\n",
              "          + ' to learn more about interactive tables.';\n",
              "        element.innerHTML = '';\n",
              "        dataTable['output_type'] = 'display_data';\n",
              "        await google.colab.output.renderOutput(dataTable, element);\n",
              "        const docLink = document.createElement('div');\n",
              "        docLink.innerHTML = docLinkHtml;\n",
              "        element.appendChild(docLink);\n",
              "      }\n",
              "    </script>\n",
              "  </div>\n",
              "\n",
              "\n",
              "<div id=\"df-6bf82fd3-d1bb-4736-918c-6c6bbde08ec9\">\n",
              "  <button class=\"colab-df-quickchart\" onclick=\"quickchart('df-6bf82fd3-d1bb-4736-918c-6c6bbde08ec9')\"\n",
              "            title=\"Suggest charts\"\n",
              "            style=\"display:none;\">\n",
              "\n",
              "<svg xmlns=\"http://www.w3.org/2000/svg\" height=\"24px\"viewBox=\"0 0 24 24\"\n",
              "     width=\"24px\">\n",
              "    <g>\n",
              "        <path d=\"M19 3H5c-1.1 0-2 .9-2 2v14c0 1.1.9 2 2 2h14c1.1 0 2-.9 2-2V5c0-1.1-.9-2-2-2zM9 17H7v-7h2v7zm4 0h-2V7h2v10zm4 0h-2v-4h2v4z\"/>\n",
              "    </g>\n",
              "</svg>\n",
              "  </button>\n",
              "\n",
              "<style>\n",
              "  .colab-df-quickchart {\n",
              "      --bg-color: #E8F0FE;\n",
              "      --fill-color: #1967D2;\n",
              "      --hover-bg-color: #E2EBFA;\n",
              "      --hover-fill-color: #174EA6;\n",
              "      --disabled-fill-color: #AAA;\n",
              "      --disabled-bg-color: #DDD;\n",
              "  }\n",
              "\n",
              "  [theme=dark] .colab-df-quickchart {\n",
              "      --bg-color: #3B4455;\n",
              "      --fill-color: #D2E3FC;\n",
              "      --hover-bg-color: #434B5C;\n",
              "      --hover-fill-color: #FFFFFF;\n",
              "      --disabled-bg-color: #3B4455;\n",
              "      --disabled-fill-color: #666;\n",
              "  }\n",
              "\n",
              "  .colab-df-quickchart {\n",
              "    background-color: var(--bg-color);\n",
              "    border: none;\n",
              "    border-radius: 50%;\n",
              "    cursor: pointer;\n",
              "    display: none;\n",
              "    fill: var(--fill-color);\n",
              "    height: 32px;\n",
              "    padding: 0;\n",
              "    width: 32px;\n",
              "  }\n",
              "\n",
              "  .colab-df-quickchart:hover {\n",
              "    background-color: var(--hover-bg-color);\n",
              "    box-shadow: 0 1px 2px rgba(60, 64, 67, 0.3), 0 1px 3px 1px rgba(60, 64, 67, 0.15);\n",
              "    fill: var(--button-hover-fill-color);\n",
              "  }\n",
              "\n",
              "  .colab-df-quickchart-complete:disabled,\n",
              "  .colab-df-quickchart-complete:disabled:hover {\n",
              "    background-color: var(--disabled-bg-color);\n",
              "    fill: var(--disabled-fill-color);\n",
              "    box-shadow: none;\n",
              "  }\n",
              "\n",
              "  .colab-df-spinner {\n",
              "    border: 2px solid var(--fill-color);\n",
              "    border-color: transparent;\n",
              "    border-bottom-color: var(--fill-color);\n",
              "    animation:\n",
              "      spin 1s steps(1) infinite;\n",
              "  }\n",
              "\n",
              "  @keyframes spin {\n",
              "    0% {\n",
              "      border-color: transparent;\n",
              "      border-bottom-color: var(--fill-color);\n",
              "      border-left-color: var(--fill-color);\n",
              "    }\n",
              "    20% {\n",
              "      border-color: transparent;\n",
              "      border-left-color: var(--fill-color);\n",
              "      border-top-color: var(--fill-color);\n",
              "    }\n",
              "    30% {\n",
              "      border-color: transparent;\n",
              "      border-left-color: var(--fill-color);\n",
              "      border-top-color: var(--fill-color);\n",
              "      border-right-color: var(--fill-color);\n",
              "    }\n",
              "    40% {\n",
              "      border-color: transparent;\n",
              "      border-right-color: var(--fill-color);\n",
              "      border-top-color: var(--fill-color);\n",
              "    }\n",
              "    60% {\n",
              "      border-color: transparent;\n",
              "      border-right-color: var(--fill-color);\n",
              "    }\n",
              "    80% {\n",
              "      border-color: transparent;\n",
              "      border-right-color: var(--fill-color);\n",
              "      border-bottom-color: var(--fill-color);\n",
              "    }\n",
              "    90% {\n",
              "      border-color: transparent;\n",
              "      border-bottom-color: var(--fill-color);\n",
              "    }\n",
              "  }\n",
              "</style>\n",
              "\n",
              "  <script>\n",
              "    async function quickchart(key) {\n",
              "      const quickchartButtonEl =\n",
              "        document.querySelector('#' + key + ' button');\n",
              "      quickchartButtonEl.disabled = true;  // To prevent multiple clicks.\n",
              "      quickchartButtonEl.classList.add('colab-df-spinner');\n",
              "      try {\n",
              "        const charts = await google.colab.kernel.invokeFunction(\n",
              "            'suggestCharts', [key], {});\n",
              "      } catch (error) {\n",
              "        console.error('Error during call to suggestCharts:', error);\n",
              "      }\n",
              "      quickchartButtonEl.classList.remove('colab-df-spinner');\n",
              "      quickchartButtonEl.classList.add('colab-df-quickchart-complete');\n",
              "    }\n",
              "    (() => {\n",
              "      let quickchartButtonEl =\n",
              "        document.querySelector('#df-6bf82fd3-d1bb-4736-918c-6c6bbde08ec9 button');\n",
              "      quickchartButtonEl.style.display =\n",
              "        google.colab.kernel.accessAllowed ? 'block' : 'none';\n",
              "    })();\n",
              "  </script>\n",
              "</div>\n",
              "\n",
              "    </div>\n",
              "  </div>\n"
            ]
          },
          "metadata": {},
          "execution_count": 40
        }
      ]
    },
    {
      "cell_type": "code",
      "source": [
        "df.userId = pd.Categorical(df.userId)\n",
        "df['new_user_id'] = df.userId.cat.codes"
      ],
      "metadata": {
        "id": "VIU6HoIarnp2"
      },
      "execution_count": null,
      "outputs": []
    },
    {
      "cell_type": "code",
      "source": [
        "df.movieId = pd.Categorical(df.movieId)\n",
        "df['new_movie_id'] = df.movieId.cat.codes"
      ],
      "metadata": {
        "id": "3Mg5BHIar21S"
      },
      "execution_count": null,
      "outputs": []
    },
    {
      "cell_type": "code",
      "source": [
        "# Get user IDs, movie IDs, and ratings as separate arrays\n",
        "user_ids = df[ 'new_user_id'].values\n",
        "movie_ids=df ['new_movie_id'].values\n",
        "ratings=df['rating'].values - 2.5\n",
        "\n",
        "# Get number of users and number of movies\n",
        "N = len (set (user_ids))\n",
        "M = len (set (movie_ids))\n",
        "\n",
        "# Set embedding dimension\n",
        "D = 10"
      ],
      "metadata": {
        "id": "fLCQwTQYsIfH"
      },
      "execution_count": null,
      "outputs": []
    },
    {
      "cell_type": "code",
      "source": [
        "# Make a neural network\n",
        "class Model (nn.Module):\n",
        "  def __init__(self, n_users, n_items, embed_dim, n_hidden=1024):\n",
        "    super(Model, self).__init__()\n",
        "    self.N= n_users\n",
        "    self.M= n_items\n",
        "    self.D = embed_dim\n",
        "\n",
        "    self.u_emb = nn.Embedding(self.N, self.D)\n",
        "    self.m_emb= nn.Embedding(self.M, self.D)\n",
        "    self.fc1 = nn.Linear(2 * self.D, n_hidden)\n",
        "    self.fc2 = nn.Linear(n_hidden, 1)\n",
        "\n",
        "    # set the weights since N(0,1) leads to poor results when normalized again\n",
        "    self.u_emb.weight.data = nn.Parameter(\n",
        "        torch.Tensor(np.random.randn(self.N, self.D) * 0.01))\n",
        "    self.m_emb.weight.data = nn.Parameter(\n",
        "        torch.Tensor(np.random.randn(self.N, self.D) * 0.01))\n",
        "\n",
        "  def forward(self, u, m):\n",
        "    u = self.u_emb(u) # output is (num_samples, D)\n",
        "    m = self.m_emb(m) # output is (num_samples, D)\n",
        "\n",
        "    # merge\n",
        "    out = torch.cat((u,m), 1) # output is (num-samples, 2D)\n",
        "\n",
        "    # ANN\n",
        "    out = self.fc1(out)\n",
        "    out = F.relu(out)\n",
        "    out = self.fc2(out)\n",
        "    return out"
      ],
      "metadata": {
        "id": "R--KZbGVsQ1a"
      },
      "execution_count": null,
      "outputs": []
    },
    {
      "cell_type": "code",
      "source": [
        "device = torch.device(\"cuda:0\" if torch.cuda.is_available() else \"cpu\")\n",
        "print(device)"
      ],
      "metadata": {
        "colab": {
          "base_uri": "https://localhost:8080/"
        },
        "id": "KN_pPE8Ds2P9",
        "outputId": "8a83fbb0-6734-4b05-8797-b4413320f3b8"
      },
      "execution_count": null,
      "outputs": [
        {
          "output_type": "stream",
          "name": "stdout",
          "text": [
            "cuda:0\n"
          ]
        }
      ]
    },
    {
      "cell_type": "code",
      "source": [
        "model = Model(N,M,D)\n",
        "model.to(device)"
      ],
      "metadata": {
        "colab": {
          "base_uri": "https://localhost:8080/"
        },
        "id": "blB4PAlUs6wf",
        "outputId": "dd4a1177-eb9f-44b0-9992-a4364f99588e"
      },
      "execution_count": null,
      "outputs": [
        {
          "output_type": "execute_result",
          "data": {
            "text/plain": [
              "Model(\n",
              "  (u_emb): Embedding(138493, 10)\n",
              "  (m_emb): Embedding(26744, 10)\n",
              "  (fc1): Linear(in_features=20, out_features=1024, bias=True)\n",
              "  (fc2): Linear(in_features=1024, out_features=1, bias=True)\n",
              ")"
            ]
          },
          "metadata": {},
          "execution_count": 46
        }
      ]
    },
    {
      "cell_type": "code",
      "source": [
        "# Loss and Optimizer\n",
        "criterion = nn.MSELoss()\n",
        "optimizer = torch.optim.Adam(model.parameters())"
      ],
      "metadata": {
        "id": "JNdHS9_utMGC"
      },
      "execution_count": null,
      "outputs": []
    },
    {
      "cell_type": "code",
      "source": [
        "# shuffle the data in corresponding order\n",
        "user_ids, movie_ids, ratings=shuffle(user_ids, movie_ids, ratings)\n",
        "\n",
        "# convert to tensors\n",
        "user_ids_t = torch.from_numpy(user_ids).long()\n",
        "movie_ids_t = torch.from_numpy(movie_ids).long()\n",
        "ratings_t = torch.from_numpy(ratings)"
      ],
      "metadata": {
        "id": "Pq2hftIqtU2S"
      },
      "execution_count": null,
      "outputs": []
    },
    {
      "cell_type": "code",
      "source": [
        "# Make datasets\n",
        "Ntrain = int(0.8 * len(ratings))\n",
        "train_dataset = torch.utils.data.TensorDataset(\n",
        "    user_ids_t[:Ntrain],\n",
        "    movie_ids_t[:Ntrain],\n",
        "    ratings_t[:Ntrain],\n",
        ")\n",
        "test_dataset = torch.utils.data.TensorDataset(\n",
        "    user_ids_t[Ntrain:],\n",
        "    movie_ids_t[Ntrain:],\n",
        "    ratings_t[Ntrain:],\n",
        ")"
      ],
      "metadata": {
        "id": "rAv0pNiZuhSz"
      },
      "execution_count": null,
      "outputs": []
    },
    {
      "cell_type": "code",
      "source": [
        "# Data loaders - Doesn't perform well\n",
        "\n",
        "# batch_size=512\n",
        "# train_loader=torch.utils.data.DataLoader(\n",
        "#   dataset=train_dataset,\n",
        "#   batch_size=batch_size,\n",
        "#   shuffle=True\n",
        "# )\n",
        "\n",
        "# test_loader = torch.utils.data.DataLoader(\n",
        "#   dataset=test_dataset,\n",
        "#   batch_size=batch_size,\n",
        "#   shuffle=False\n",
        "# )"
      ],
      "metadata": {
        "id": "AtfSHxphu-yz"
      },
      "execution_count": null,
      "outputs": []
    },
    {
      "cell_type": "code",
      "source": [
        "# A function to encapsulate the training loop\n",
        "def batch_gd(model, criterion, optimizer, train_data, test_data, epochs, bs=512):\n",
        "  train_users, train_movies, train_ratings = train_data\n",
        "  test_users, test_movies, test_ratings = test_data\n",
        "\n",
        "  train_losses = np.zeros(epochs)\n",
        "  test_losses = np.zeros(epochs)\n",
        "\n",
        "  # batches per epoch\n",
        "  Ntrain = len(train_users)\n",
        "  batches_per_epoch = int(np.ceil(Ntrain / bs))\n",
        "\n",
        "  for it in range(epochs):\n",
        "    t0 = datetime.now()\n",
        "    train_loss = []\n",
        "\n",
        "    # shuffle each batch\n",
        "    train_users, train_movies, train_ratings = shuffle(\n",
        "        train_users, train_movies, train_ratings\n",
        "    )\n",
        "\n",
        "    for j in range(batches_per_epoch):\n",
        "      # Get the batch and convert to tensor\n",
        "      users = torch.from_numpy(train_users[j*bs:(j+1)*bs]).long()\n",
        "      movies = torch.from_numpy(train_movies[j*bs:(j+1)*bs]).long()\n",
        "      targets = torch.from_numpy(train_ratings[j*bs:(j+1)*bs])\n",
        "\n",
        "      # reshape targets\n",
        "      targets = targets.view(-1,1).float()\n",
        "\n",
        "      # move data to GPU\n",
        "      users, movies, targets = users.to(device), movies.to(device), targets.to(device)\n",
        "\n",
        "      # zero the parameter gradients\n",
        "      optimizer.zero_grad()\n",
        "\n",
        "      # Forward pass\n",
        "      outputs = model(users,movies)\n",
        "      loss = criterion(outputs, targets)\n",
        "\n",
        "      # Backward and optimize\n",
        "      loss.backward()\n",
        "      optimizer.step()\n",
        "\n",
        "      train_loss.append(loss.item())\n",
        "\n",
        "    # Get train loss and test loss\n",
        "    train_loss = np.mean(train_loss) # a little misleading\n",
        "\n",
        "    test_loss = []\n",
        "    for j in range(int(np.ceil(len(test_users) / bs))):\n",
        "      users = torch.from_numpy(test_users[j*bs:(j+1)*bs]).long()\n",
        "      movies = torch.from_numpy(test_movies[j*bs:(j+1)*bs]).long()\n",
        "      targets = torch.from_numpy(test_ratings[j*bs:(j+1)*bs])\n",
        "\n",
        "      users, movies, targets = users.to(device), movies.to(device), targets.to(device)\n",
        "      targets = targets.view(-1, 1).float()\n",
        "\n",
        "      outputs = model(users, movies)\n",
        "      loss = criterion(outputs, targets)\n",
        "      test_loss.append(loss.item())\n",
        "    test_loss = np.mean(test_loss)\n",
        "\n",
        "    # Save losses\n",
        "    train_losses[it] = train_loss\n",
        "    test_losses[it] = test_loss\n",
        "\n",
        "    dt = datetime.now() - t0\n",
        "    print(f'Epoch {it+1}/{epochs}, Train Loss: {train_loss:.4f}, \\\n",
        "      Test Loss: {test_loss:.4f}, Duration: {dt}')\n",
        "  return train_losses, test_losses"
      ],
      "metadata": {
        "id": "xbAM9lJWvZ0f"
      },
      "execution_count": null,
      "outputs": []
    },
    {
      "cell_type": "code",
      "source": [
        "Ntrain = int(0.8 * len(ratings))\n",
        "train_users = user_ids[:Ntrain]\n",
        "train_movies = movie_ids[:Ntrain]\n",
        "train_ratings = ratings[:Ntrain]\n",
        "\n",
        "test_users = user_ids[Ntrain:]\n",
        "test_movies = movie_ids[Ntrain:]\n",
        "test_ratings = ratings [Ntrain:]\n",
        "\n",
        "train_losses, test_losses = batch_gd(\n",
        "    model,\n",
        "    criterion,\n",
        "    optimizer,\n",
        "    (train_users, train_movies, train_ratings),\n",
        "    (test_users, test_movies, test_ratings),\n",
        "    10\n",
        ")"
      ],
      "metadata": {
        "colab": {
          "base_uri": "https://localhost:8080/"
        },
        "id": "lsMEhduiwLC-",
        "outputId": "88864dcb-e29e-45a8-e49b-9f4c4875bc88"
      },
      "execution_count": null,
      "outputs": [
        {
          "output_type": "stream",
          "name": "stdout",
          "text": [
            "Epoch 1/10, Train Loss: 0.7261,       Test Loss: 0.6816, Duration: 0:01:18.506163\n",
            "Epoch 2/10, Train Loss: 0.6511,       Test Loss: 0.6484, Duration: 0:01:18.769216\n",
            "Epoch 3/10, Train Loss: 0.6164,       Test Loss: 0.6394, Duration: 0:01:17.965823\n",
            "Epoch 4/10, Train Loss: 0.5967,       Test Loss: 0.6322, Duration: 0:01:18.087231\n",
            "Epoch 5/10, Train Loss: 0.5837,       Test Loss: 0.6288, Duration: 0:01:18.079789\n",
            "Epoch 6/10, Train Loss: 0.5745,       Test Loss: 0.6284, Duration: 0:01:18.875714\n",
            "Epoch 7/10, Train Loss: 0.5677,       Test Loss: 0.6267, Duration: 0:01:19.568447\n",
            "Epoch 8/10, Train Loss: 0.5627,       Test Loss: 0.6265, Duration: 0:01:17.964929\n",
            "Epoch 9/10, Train Loss: 0.5587,       Test Loss: 0.6257, Duration: 0:01:18.114909\n",
            "Epoch 10/10, Train Loss: 0.5553,       Test Loss: 0.6267, Duration: 0:01:17.945563\n"
          ]
        }
      ]
    },
    {
      "cell_type": "code",
      "source": [
        "# Plot the train loss and test loss per iteration\n",
        "plt.plot(train_losses, label='train loss')\n",
        "plt.plot(test_losses, label='test loss')\n",
        "plt.legend()\n",
        "plt.show()"
      ],
      "metadata": {
        "colab": {
          "base_uri": "https://localhost:8080/",
          "height": 430
        },
        "id": "SxJYXt-YwpOp",
        "outputId": "d5540e01-1b50-4a72-fc5c-5ffac8f37663"
      },
      "execution_count": null,
      "outputs": [
        {
          "output_type": "display_data",
          "data": {
            "text/plain": [
              "<Figure size 640x480 with 1 Axes>"
            ],
            "image/png": "[encoded data removed]"
          },
          "metadata": {}
        }
      ]
    },
    {
      "cell_type": "markdown",
      "source": [
        "# Stock Prediciton with Reinforcement Learning"
      ],
      "metadata": {
        "id": "EdwFMJ1A_GU0"
      }
    },
    {
      "cell_type": "code",
      "source": [
        "import numpy as np\n",
        "import pandas as pd\n",
        "import torch\n",
        "import torch.nn as nn\n",
        "import torch.nn.functional as F\n",
        "from datetime import datetime\n",
        "import itertools\n",
        "import re\n",
        "import os\n",
        "import pickle\n",
        "from sklearn.preprocessing import StandardScaler"
      ],
      "metadata": {
        "id": "K8_irvkF_Nzd"
      },
      "execution_count": 2,
      "outputs": []
    },
    {
      "cell_type": "code",
      "source": [
        "# get the data\n",
        "!wget https://raw.githubusercontent.com/lazyprogrammer/machine_learning_examples/master/tf2.0/aapl_msi_sbux.csv"
      ],
      "metadata": {
        "colab": {
          "base_uri": "https://localhost:8080/"
        },
        "id": "bfot1yGN_kfJ",
        "outputId": "f5e02b49-9a14-4daa-bcfc-300d2d9dcf27"
      },
      "execution_count": 4,
      "outputs": [
        {
          "output_type": "stream",
          "name": "stdout",
          "text": [
            "--2024-01-06 04:18:23--  https://raw.githubusercontent.com/lazyprogrammer/machine_learning_examples/master/tf2.0/aapl_msi_sbux.csv\n",
            "Resolving raw.githubusercontent.com (raw.githubusercontent.com)... 185.199.108.133, 185.199.109.133, 185.199.110.133, ...\n",
            "Connecting to raw.githubusercontent.com (raw.githubusercontent.com)|185.199.108.133|:443... connected.\n",
            "HTTP request sent, awaiting response... 200 OK\n",
            "Length: 24098 (24K) [text/plain]\n",
            "Saving to: ‘aapl_msi_sbux.csv’\n",
            "\n",
            "\raapl_msi_sbux.csv     0%[                    ]       0  --.-KB/s               \raapl_msi_sbux.csv   100%[===================>]  23.53K  --.-KB/s    in 0.001s  \n",
            "\n",
            "2024-01-06 04:18:23 (39.1 MB/s) - ‘aapl_msi_sbux.csv’ saved [24098/24098]\n",
            "\n"
          ]
        }
      ]
    },
    {
      "cell_type": "code",
      "source": [
        "# Let's use AAPL (Apple), MSI (Motorola), SBUX (Starbucks)\n",
        "def get_data():\n",
        "  # returns a T x 3 list of stock prices\n",
        "  # each row is a different stock\n",
        "  # 0 = AAPL\n",
        "  # 1 = MSI\n",
        "  # 2 = SBUX\n",
        "  df = pd.read_csv('aapl_msi_sbux.csv')\n",
        "  return df.values"
      ],
      "metadata": {
        "id": "NZW-KwJy_VY5"
      },
      "execution_count": 5,
      "outputs": []
    },
    {
      "cell_type": "code",
      "source": [
        "# The experience replay memory\n",
        "class ReplayBuffer:\n",
        "  def __init__(self, obs_dim, act_dim, size):\n",
        "    self.obs1_buf=np.zeros([size, obs_dim], dtype=np.float32)\n",
        "    self.obs2_buf=np.zeros([size, obs_dim], dtype=np.float32)\n",
        "    self.acts_buf=np.zeros(size, dtype=np. uint8)\n",
        "    self.rews_buf=np.zeros(size, dtype=np.float32)\n",
        "    self.done_buf = np.zeros(size, dtype=np. uint8)\n",
        "    self.ptr, self.size, self.max_size = 0, 0, size\n",
        "\n",
        "  def store(self, obs, act, rew, next_obs, done):\n",
        "    self.obs1_buf[self.ptr] = obs\n",
        "    self.obs2_buf[self.ptr] = next_obs\n",
        "    self.acts_buf[self.ptr] = act\n",
        "    self.rews_buf[self.ptr] = rew\n",
        "    self.done_buf[self.ptr] = done\n",
        "    self.ptr = (self.ptr+1) % self.max_size\n",
        "    self.size = min(self.size+1, self.max_size)\n",
        "\n",
        "  def sample_batch (self, batch_size=32):\n",
        "    idxs = np.random.randint(0, self.size, size=batch_size)\n",
        "    return dict(\n",
        "        s=self.obs1_buf[idxs],\n",
        "        s2=self.obs2_buf[idxs],\n",
        "        a=self.acts_buf[idxs],\n",
        "        r=self.rews_buf[idxs],\n",
        "        d=self.done_buf[idxs])"
      ],
      "metadata": {
        "id": "07g98xhb_btp"
      },
      "execution_count": 6,
      "outputs": []
    },
    {
      "cell_type": "code",
      "source": [
        "def get_scaler(env):\n",
        "  # return scikit-learn scaler object to scale the states\n",
        "  # Note: you could also populate the replay buffer here\n",
        "  states = []\n",
        "  for _ in range(env.n_step):\n",
        "    action = np.random.choice(env.action_space)\n",
        "    state, reward, done, info = env.step(action)\n",
        "    states.append(state)\n",
        "    if done:\n",
        "      break\n",
        "\n",
        "  scaler = StandardScaler()\n",
        "  scaler.fit(states)\n",
        "  return scaler"
      ],
      "metadata": {
        "id": "tYZLvOJY_oUS"
      },
      "execution_count": 7,
      "outputs": []
    },
    {
      "cell_type": "code",
      "source": [
        "def maybe_make_dir(directory):\n",
        "  if not os.path.exists(directory):\n",
        "    os.makedirs(directory)"
      ],
      "metadata": {
        "id": "FUaQAeuw_oRk"
      },
      "execution_count": 8,
      "outputs": []
    },
    {
      "cell_type": "code",
      "source": [
        "class MLP (nn.Module):\n",
        "  def __init__(self, n_inputs, n_action, n_hidden_layers=1, hidden_dim=32):\n",
        "    super(MLP, self).__init__()\n",
        "\n",
        "    M = n_inputs\n",
        "    layers = []\n",
        "    for _ in range(n_hidden_layers):\n",
        "      layer = nn. Linear (M, hidden_dim)\n",
        "      M = hidden_dim\n",
        "      layers.append(layer)\n",
        "      layers.append(nn.ReLU())\n",
        "\n",
        "    # final layer\n",
        "    layers.append(nn. Linear (M, n_action))\n",
        "    self.layers = nn.Sequential(*layers)\n",
        "\n",
        "  def forward(self, X):\n",
        "    return self.layers(X)\n",
        "\n",
        "  def save_weights (self, path):\n",
        "    torch.save(self.state_dict(), path)\n",
        "\n",
        "  def load_weights (self, path):\n",
        "    self.load_state_dict(torch.load(path))"
      ],
      "metadata": {
        "id": "ZJoJKngu_oOz"
      },
      "execution_count": 10,
      "outputs": []
    },
    {
      "cell_type": "code",
      "source": [
        "def predict(model, np_states):\n",
        "  with torch.no_grad():\n",
        "    inputs = torch.from_numpy(np_states.astype(np.float32))\n",
        "    output = model(inputs)\n",
        "    return output.numpy()"
      ],
      "metadata": {
        "id": "cYYhHBR4_oI4"
      },
      "execution_count": 11,
      "outputs": []
    },
    {
      "cell_type": "code",
      "source": [
        "def train_one_step(model, criterion, optimizer, inputs, targets):\n",
        "  # convert to tensors\n",
        "  inputs = torch.from_numpy (inputs.astype(np.float32))\n",
        "  targets = torch.from_numpy (targets.astype (np.float32))\n",
        "\n",
        "  # zero the parameter gradients\n",
        "  optimizer.zero_grad()\n",
        "\n",
        "  # Forward pass\n",
        "  outputs = model(inputs)\n",
        "  loss = criterion(outputs, targets)\n",
        "\n",
        "  # Backward and optimize\n",
        "  loss.backward()\n",
        "  optimizer.step()"
      ],
      "metadata": {
        "id": "9bc9UdzSC6_0"
      },
      "execution_count": 12,
      "outputs": []
    },
    {
      "cell_type": "code",
      "source": [
        "class MultiStockEnv:\n",
        "  \"\"\"\n",
        "  A 3-stock trading environment.\n",
        "  State: vector of size 7 (n_stock * 2 + 1)\n",
        "    - # shares of stock 1 owned\n",
        "    - # shares of stock 2 owned\n",
        "    - # shares of stock 3 owned\n",
        "    - price of stock 1 (using daily close price)\n",
        "    - price of stock 2\n",
        "    - price of stock 3\n",
        "    - cash owned (can be used to purchase more stocks)\n",
        "  Action: categorical variable with 27 (3^3) possibilities\n",
        "    - for each stock, you can:\n",
        "    - 0 = sell\n",
        "    - 1 = hold\n",
        "    - 2 = buy\n",
        "  \"\"\"\n",
        "\n",
        "  def __init__(self, data, initial_investment=20000):\n",
        "    # data\n",
        "    self.stock_price_history = data\n",
        "    self.n_step, self.n_stock = self.stock_price_history.shape\n",
        "\n",
        "    # instance attributes\n",
        "    self.initial_investment = initial_investment\n",
        "    self.cur_step = None\n",
        "    self.stock_owned = None\n",
        "    self.stock_price = None\n",
        "    self.cash_in_hand = None\n",
        "\n",
        "    self.action_space = np.arange(3**self.n_stock)\n",
        "\n",
        "    # action permutations\n",
        "    # returns a nested list with elements like:\n",
        "    # [0,0,0]\n",
        "    # [0,0,1]\n",
        "    # [0,0,2]\n",
        "    # [0,1,0]\n",
        "    # [0,1,1]\n",
        "    # etc.\n",
        "    # 0 = sell\n",
        "    # 1 = hold\n",
        "    # 2 = buy\n",
        "    self.action_list = list(\n",
        "        map(list, itertools.product([0, 1, 2], repeat=self.n_stock)))\n",
        "\n",
        "    # calculate size of state\n",
        "    self.state_dim = self.n_stock * 2 + 1\n",
        "\n",
        "    self.reset()\n",
        "\n",
        "  def reset(self):\n",
        "    self.cur_step = 0\n",
        "    self.stock_owned = np.zeros(self.n_stock)\n",
        "    self.stock_price = self.stock_price_history[self.cur_step]\n",
        "    self.cash_in_hand = self.initial_investment\n",
        "    return self._get_obs()\n",
        "\n",
        "  def step(self, action):\n",
        "    assert action in self.action_space\n",
        "\n",
        "    # get current value before performing the action\n",
        "    prev_val = self._get_val()\n",
        "\n",
        "    # update price, i.e. go to the next day\n",
        "    self.cur_step += 1\n",
        "    self.stock_price = self.stock_price_history[self.cur_step]\n",
        "\n",
        "    # perform the trade\n",
        "    self._trade(action)\n",
        "\n",
        "    # get the new value after taking the action\n",
        "    cur_val = self._get_val()\n",
        "\n",
        "    # reward is the increase in porfolio value\n",
        "    reward = cur_val - prev_val\n",
        "\n",
        "    # done if we have run out of data\n",
        "    done = self.cur_step == self.n_step - 1\n",
        "\n",
        "    # store the current value of the portfolio here\n",
        "    info = {'cur_val': cur_val}\n",
        "\n",
        "    # conform to the Gym API\n",
        "    return self._get_obs(), reward, done, info\n",
        "\n",
        "  def _get_obs(self):\n",
        "    obs = np.empty(self.state_dim)\n",
        "    obs[:self.n_stock] = self.stock_owned\n",
        "    obs[self.n_stock:2*self.n_stock] = self.stock_price\n",
        "    obs[-1] = self.cash_in_hand\n",
        "    return obs\n",
        "\n",
        "  def _get_val(self):\n",
        "    return self.stock_owned.dot(self.stock_price) + self.cash_in_hand\n",
        "\n",
        "  def _trade(self, action):\n",
        "    # index the action we want to perform\n",
        "    # 0 = sell\n",
        "    # 1 = hold\n",
        "    # 2 = buy\n",
        "    # e.g. [2,1,0] means:\n",
        "    # buy first stock\n",
        "    # hold second stock\n",
        "    # sell third stock\n",
        "    action_vec = self.action_list[action]\n",
        "\n",
        "    # determine which stocks to buy or sell\n",
        "    sell_index = []  # stores index of stocks we want to sell\n",
        "    buy_index = []  # stores index of stocks we want to buy\n",
        "    for i, a in enumerate(action_vec):\n",
        "      if a == 0:\n",
        "        sell_index.append(i)\n",
        "      elif a == 2:\n",
        "        buy_index.append(i)\n",
        "\n",
        "    # sell any stocks we want to sell\n",
        "    # then buy any stocks we want to buy\n",
        "    if sell_index:\n",
        "      # NOTE: to simplify the problem, when we sell, we will sell ALL shares of that stock\n",
        "      for i in sell_index:\n",
        "        self.cash_in_hand += self.stock_price[i] * self.stock_owned[i]\n",
        "        self.stock_owned[i] = 0\n",
        "    if buy_index:\n",
        "      # NOTE: when buying, we will loop through each stock we want to buy,\n",
        "      #       and buy one share at a time until we run out of cash\n",
        "      can_buy = True\n",
        "      while can_buy:\n",
        "        for i in buy_index:\n",
        "          if self.cash_in_hand > self.stock_price[i]:\n",
        "            self.stock_owned[i] += 1  # buy one share\n",
        "            self.cash_in_hand -= self.stock_price[i]\n",
        "          else:\n",
        "            can_buy = False"
      ],
      "metadata": {
        "id": "sPftFPaFDTA7"
      },
      "execution_count": 14,
      "outputs": []
    },
    {
      "cell_type": "code",
      "source": [
        "class DQNAgent(object):\n",
        "  def __init__(self, state_size, action_size):\n",
        "    self.state_size = state_size\n",
        "    self.action_size = action_size\n",
        "    self.memory = ReplayBuffer(state_size, action_size, size=500)\n",
        "    self.gamma = 0.95  # discount rate\n",
        "    self.epsilon = 1.0  # exploration rate\n",
        "    self.epsilon_min = 0.01\n",
        "    self.epsilon_decay = 0.995\n",
        "    self.model = MLP(state_size, action_size)\n",
        "\n",
        "    self.criterion = nn.MSELoss()\n",
        "    self.optimizer = torch.optim.Adam(self.model.parameters())\n",
        "\n",
        "  def update_replay_memory(self, state, action, reward, next_state, done):\n",
        "    self.memory.store(state, action, reward, next_state, done)\n",
        "\n",
        "  def act(self, state):\n",
        "    if np.random.rand() <= self.epsilon:\n",
        "      return np.random.choice(self.action_size)\n",
        "    act_values = predict(self.model, state)\n",
        "    return np.argmax(act_values[0])  # returns action\n",
        "\n",
        "  def replay(self, batch_size=32):\n",
        "    # first check if replay buffer contains enough data\n",
        "    if self.memory.size < batch_size:\n",
        "      return\n",
        "\n",
        "    # sample a batch of data from the replay memory\n",
        "    minibatch = self.memory.sample_batch(batch_size)\n",
        "    states = minibatch['s']\n",
        "    actions = minibatch['a']\n",
        "    rewards = minibatch['r']\n",
        "    next_states = minibatch['s2']\n",
        "    done = minibatch['d']\n",
        "\n",
        "    # Calculate the tentative target: Q(s',a)\n",
        "    target = rewards + (1-done) * self.gamma * \\\n",
        "        np.amax(predict(self.model, next_states), axis=1)\n",
        "\n",
        "    # With the Keras API, the target (usually) must have the same\n",
        "    # shape as the predictions.\n",
        "    # However, we only need to update the network for the actions\n",
        "    # which were actually taken.\n",
        "    # We can accomplish this by setting the target to be equal to\n",
        "    # the prediction for all values.\n",
        "    # Then, only change the targets for the actions taken.\n",
        "    # Q(s,a)\n",
        "    target_full = predict(self.model, states)\n",
        "    target_full[np.arange(batch_size), actions] = target\n",
        "\n",
        "    # Run one training step\n",
        "    train_one_step(self.model, self.criterion, self.optimizer, states, target_full)\n",
        "\n",
        "    if self.epsilon > self.epsilon_min:\n",
        "      self.epsilon *= self.epsilon_decay\n",
        "\n",
        "  def load(self, name):\n",
        "    self.model.load_weights(name)\n",
        "\n",
        "  def save(self, name):\n",
        "    self.model.save_weights(name)"
      ],
      "metadata": {
        "id": "QznUv8K5Er47"
      },
      "execution_count": 15,
      "outputs": []
    },
    {
      "cell_type": "code",
      "source": [
        "def play_one_episode(agent, env, is_train):\n",
        "  # note: after transforming states are already 1xD\n",
        "  state = env.reset()\n",
        "  state = scaler.transform([state])\n",
        "  done = False\n",
        "\n",
        "  while not done:\n",
        "    action = agent.act(state)\n",
        "    next_state, reward, done, info = env.step(action)\n",
        "    next_state = scaler.transform([next_state])\n",
        "    if is_train == 'train':\n",
        "      agent.update_replay_memory(state, action, reward, next_state, done)\n",
        "      agent.replay(batch_size)\n",
        "    state = next_state\n",
        "\n",
        "  return info['cur_val']"
      ],
      "metadata": {
        "id": "64VSUe4_GQs6"
      },
      "execution_count": 16,
      "outputs": []
    },
    {
      "cell_type": "code",
      "source": [
        "# Train\n",
        "\n",
        "# config\n",
        "models_folder = 'rl_trader_models'\n",
        "rewards_folder = 'rl_trader_rewards'\n",
        "num_episodes = 200\n",
        "batch_size = 32\n",
        "initial_investment = 20000\n",
        "\n",
        "maybe_make_dir(models_folder)\n",
        "maybe_make_dir(rewards_folder)\n",
        "\n",
        "data = get_data()\n",
        "n_timesteps, n_stocks = data.shape\n",
        "\n",
        "n_train = n_timesteps // 2\n",
        "\n",
        "train_data = data[:n_train]\n",
        "test_data = data[n_train:]\n",
        "\n",
        "env = MultiStockEnv(train_data, initial_investment)\n",
        "state_size = env.state_dim\n",
        "action_size = len(env.action_space)\n",
        "agent = DQNAgent(state_size, action_size)\n",
        "scaler = get_scaler(env)\n",
        "\n",
        "# store the final value of the portfolio (end of episode)\n",
        "portfolio_value = []\n",
        "\n",
        "# play the game num_episodes times\n",
        "for e in range(num_episodes):\n",
        "  t0 = datetime.now()\n",
        "  val = play_one_episode(agent, env, \"train\")\n",
        "  dt = datetime.now() - t0\n",
        "  print(f\"episode: {e + 1}/{num_episodes}, episode end value: {val:.2f}, duration: {dt}\")\n",
        "  portfolio_value.append(val)  # append episode end portfolio value\n",
        "\n",
        "# save the weights when we are done\n",
        "agent.save(f'{models_folder}/dqn.h5')\n",
        "\n",
        "# save the scaler\n",
        "with open(f'{models_folder}/scaler.pkl', 'wb') as f:\n",
        "  pickle.dump(scaler, f)\n",
        "\n",
        "# save portfolio value for each episode\n",
        "np.save(f'{rewards_folder}/train.npy', portfolio_value)"
      ],
      "metadata": {
        "colab": {
          "base_uri": "https://localhost:8080/"
        },
        "id": "T73wm83CGYqR",
        "outputId": "fc5cf63d-7b0e-4434-c348-1f55e0747a71"
      },
      "execution_count": 18,
      "outputs": [
        {
          "output_type": "stream",
          "name": "stdout",
          "text": [
            "episode: 1/200, episode end value: 35764.50, duration: 0:00:00.886169\n",
            "episode: 2/200, episode end value: 27022.76, duration: 0:00:01.275945\n",
            "episode: 3/200, episode end value: 33664.86, duration: 0:00:00.978873\n",
            "episode: 4/200, episode end value: 33776.26, duration: 0:00:01.086203\n",
            "episode: 5/200, episode end value: 33896.32, duration: 0:00:01.194495\n",
            "episode: 6/200, episode end value: 34384.43, duration: 0:00:01.337597\n",
            "episode: 7/200, episode end value: 33064.87, duration: 0:00:01.900634\n",
            "episode: 8/200, episode end value: 33161.81, duration: 0:00:02.070691\n",
            "episode: 9/200, episode end value: 34353.67, duration: 0:00:01.815555\n",
            "episode: 10/200, episode end value: 33325.83, duration: 0:00:01.649480\n",
            "episode: 11/200, episode end value: 33222.63, duration: 0:00:00.894354\n",
            "episode: 12/200, episode end value: 36210.46, duration: 0:00:00.888316\n",
            "episode: 13/200, episode end value: 30445.74, duration: 0:00:01.054365\n",
            "episode: 14/200, episode end value: 33664.89, duration: 0:00:01.196143\n",
            "episode: 15/200, episode end value: 33443.46, duration: 0:00:01.200794\n",
            "episode: 16/200, episode end value: 33665.61, duration: 0:00:00.904618\n",
            "episode: 17/200, episode end value: 33252.49, duration: 0:00:00.874498\n",
            "episode: 18/200, episode end value: 32880.83, duration: 0:00:00.904002\n",
            "episode: 19/200, episode end value: 27460.50, duration: 0:00:00.877754\n",
            "episode: 20/200, episode end value: 22950.43, duration: 0:00:00.906167\n",
            "episode: 21/200, episode end value: 33664.95, duration: 0:00:00.906602\n",
            "episode: 22/200, episode end value: 32136.52, duration: 0:00:00.924110\n",
            "episode: 23/200, episode end value: 21547.06, duration: 0:00:00.906358\n",
            "episode: 24/200, episode end value: 31953.49, duration: 0:00:00.912519\n",
            "episode: 25/200, episode end value: 26380.76, duration: 0:00:00.915305\n",
            "episode: 26/200, episode end value: 33581.81, duration: 0:00:00.906114\n",
            "episode: 27/200, episode end value: 27138.52, duration: 0:00:01.196089\n",
            "episode: 28/200, episode end value: 33232.22, duration: 0:00:01.226160\n",
            "episode: 29/200, episode end value: 30880.00, duration: 0:00:01.019472\n",
            "episode: 30/200, episode end value: 29678.16, duration: 0:00:00.910315\n",
            "episode: 31/200, episode end value: 34507.59, duration: 0:00:00.893819\n",
            "episode: 32/200, episode end value: 33157.55, duration: 0:00:00.927906\n",
            "episode: 33/200, episode end value: 33911.73, duration: 0:00:00.889795\n",
            "episode: 34/200, episode end value: 20986.17, duration: 0:00:00.886749\n",
            "episode: 35/200, episode end value: 30861.36, duration: 0:00:00.969843\n",
            "episode: 36/200, episode end value: 32970.30, duration: 0:00:00.917229\n",
            "episode: 37/200, episode end value: 33895.87, duration: 0:00:00.904034\n",
            "episode: 38/200, episode end value: 32836.29, duration: 0:00:00.903152\n",
            "episode: 39/200, episode end value: 33932.74, duration: 0:00:00.892546\n",
            "episode: 40/200, episode end value: 33550.75, duration: 0:00:01.151366\n",
            "episode: 41/200, episode end value: 33665.18, duration: 0:00:01.207652\n",
            "episode: 42/200, episode end value: 38381.82, duration: 0:00:01.137607\n",
            "episode: 43/200, episode end value: 32490.73, duration: 0:00:00.891428\n",
            "episode: 44/200, episode end value: 33619.48, duration: 0:00:00.898472\n",
            "episode: 45/200, episode end value: 36974.16, duration: 0:00:00.915484\n",
            "episode: 46/200, episode end value: 34942.02, duration: 0:00:00.924619\n",
            "episode: 47/200, episode end value: 33577.86, duration: 0:00:00.913095\n",
            "episode: 48/200, episode end value: 33847.48, duration: 0:00:00.905146\n",
            "episode: 49/200, episode end value: 33297.72, duration: 0:00:00.901787\n",
            "episode: 50/200, episode end value: 33664.95, duration: 0:00:00.898200\n",
            "episode: 51/200, episode end value: 23672.33, duration: 0:00:00.911936\n",
            "episode: 52/200, episode end value: 37390.66, duration: 0:00:00.897329\n",
            "episode: 53/200, episode end value: 28819.30, duration: 0:00:01.007374\n",
            "episode: 54/200, episode end value: 24879.16, duration: 0:00:01.186114\n",
            "episode: 55/200, episode end value: 19732.58, duration: 0:00:01.233631\n",
            "episode: 56/200, episode end value: 44949.48, duration: 0:00:00.906379\n",
            "episode: 57/200, episode end value: 27793.62, duration: 0:00:00.903824\n",
            "episode: 58/200, episode end value: 25715.64, duration: 0:00:00.914741\n",
            "episode: 59/200, episode end value: 24446.27, duration: 0:00:00.901993\n",
            "episode: 60/200, episode end value: 34136.29, duration: 0:00:00.876212\n",
            "episode: 61/200, episode end value: 25781.77, duration: 0:00:00.881899\n",
            "episode: 62/200, episode end value: 20687.56, duration: 0:00:00.890097\n",
            "episode: 63/200, episode end value: 35085.56, duration: 0:00:00.873503\n",
            "episode: 64/200, episode end value: 30572.97, duration: 0:00:00.905203\n",
            "episode: 65/200, episode end value: 23397.73, duration: 0:00:00.919236\n",
            "episode: 66/200, episode end value: 22022.71, duration: 0:00:00.893881\n",
            "episode: 67/200, episode end value: 35128.09, duration: 0:00:01.220116\n",
            "episode: 68/200, episode end value: 31517.95, duration: 0:00:01.199763\n",
            "episode: 69/200, episode end value: 34008.71, duration: 0:00:01.079191\n",
            "episode: 70/200, episode end value: 24611.19, duration: 0:00:00.910372\n",
            "episode: 71/200, episode end value: 36738.75, duration: 0:00:00.920974\n",
            "episode: 72/200, episode end value: 30345.46, duration: 0:00:00.911461\n",
            "episode: 73/200, episode end value: 33123.41, duration: 0:00:00.971675\n",
            "episode: 74/200, episode end value: 36916.14, duration: 0:00:00.918525\n",
            "episode: 75/200, episode end value: 32836.06, duration: 0:00:00.957638\n",
            "episode: 76/200, episode end value: 36739.34, duration: 0:00:00.942713\n",
            "episode: 77/200, episode end value: 36864.85, duration: 0:00:00.911079\n",
            "episode: 78/200, episode end value: 33181.37, duration: 0:00:00.904971\n",
            "episode: 79/200, episode end value: 35264.31, duration: 0:00:00.891668\n",
            "episode: 80/200, episode end value: 28131.46, duration: 0:00:01.103469\n",
            "episode: 81/200, episode end value: 32172.11, duration: 0:00:01.203964\n",
            "episode: 82/200, episode end value: 44545.41, duration: 0:00:01.141002\n",
            "episode: 83/200, episode end value: 35116.46, duration: 0:00:00.884717\n",
            "episode: 84/200, episode end value: 32136.04, duration: 0:00:00.877028\n",
            "episode: 85/200, episode end value: 33630.67, duration: 0:00:00.911726\n",
            "episode: 86/200, episode end value: 31196.68, duration: 0:00:00.895684\n",
            "episode: 87/200, episode end value: 32139.82, duration: 0:00:00.885798\n",
            "episode: 88/200, episode end value: 31861.41, duration: 0:00:00.899855\n",
            "episode: 89/200, episode end value: 33520.06, duration: 0:00:00.909907\n",
            "episode: 90/200, episode end value: 33345.51, duration: 0:00:00.871983\n",
            "episode: 91/200, episode end value: 32935.86, duration: 0:00:00.899456\n",
            "episode: 92/200, episode end value: 37778.13, duration: 0:00:00.928491\n",
            "episode: 93/200, episode end value: 35431.45, duration: 0:00:00.980211\n",
            "episode: 94/200, episode end value: 35075.73, duration: 0:00:01.183418\n",
            "episode: 95/200, episode end value: 38488.08, duration: 0:00:01.202909\n",
            "episode: 96/200, episode end value: 33810.49, duration: 0:00:00.985665\n",
            "episode: 97/200, episode end value: 35119.38, duration: 0:00:00.899889\n",
            "episode: 98/200, episode end value: 39927.54, duration: 0:00:01.009528\n",
            "episode: 99/200, episode end value: 35303.10, duration: 0:00:00.904358\n",
            "episode: 100/200, episode end value: 36120.54, duration: 0:00:00.862248\n",
            "episode: 101/200, episode end value: 40151.20, duration: 0:00:00.943766\n",
            "episode: 102/200, episode end value: 35238.67, duration: 0:00:00.931798\n",
            "episode: 103/200, episode end value: 34062.07, duration: 0:00:00.895698\n",
            "episode: 104/200, episode end value: 36306.97, duration: 0:00:00.889532\n",
            "episode: 105/200, episode end value: 29402.41, duration: 0:00:00.875868\n",
            "episode: 106/200, episode end value: 33363.52, duration: 0:00:00.928612\n",
            "episode: 107/200, episode end value: 40033.44, duration: 0:00:01.184838\n",
            "episode: 108/200, episode end value: 34427.17, duration: 0:00:01.237223\n",
            "episode: 109/200, episode end value: 35836.77, duration: 0:00:01.077997\n",
            "episode: 110/200, episode end value: 35819.58, duration: 0:00:00.906264\n",
            "episode: 111/200, episode end value: 35713.96, duration: 0:00:00.890425\n",
            "episode: 112/200, episode end value: 35030.36, duration: 0:00:00.889972\n",
            "episode: 113/200, episode end value: 44138.89, duration: 0:00:00.905752\n",
            "episode: 114/200, episode end value: 34057.88, duration: 0:00:00.873289\n",
            "episode: 115/200, episode end value: 33428.32, duration: 0:00:00.894363\n",
            "episode: 116/200, episode end value: 38047.72, duration: 0:00:00.893551\n",
            "episode: 117/200, episode end value: 33665.14, duration: 0:00:00.907176\n",
            "episode: 118/200, episode end value: 35629.60, duration: 0:00:00.901842\n",
            "episode: 119/200, episode end value: 32623.17, duration: 0:00:01.368744\n",
            "episode: 120/200, episode end value: 35726.99, duration: 0:00:01.220281\n",
            "episode: 121/200, episode end value: 30652.28, duration: 0:00:01.200739\n",
            "episode: 122/200, episode end value: 32664.27, duration: 0:00:01.069777\n",
            "episode: 123/200, episode end value: 32160.77, duration: 0:00:00.908997\n",
            "episode: 124/200, episode end value: 35194.04, duration: 0:00:00.897248\n",
            "episode: 125/200, episode end value: 36305.39, duration: 0:00:00.899506\n",
            "episode: 126/200, episode end value: 38033.82, duration: 0:00:00.890656\n",
            "episode: 127/200, episode end value: 43036.11, duration: 0:00:00.924954\n",
            "episode: 128/200, episode end value: 42241.13, duration: 0:00:00.884453\n",
            "episode: 129/200, episode end value: 44719.89, duration: 0:00:00.963919\n",
            "episode: 130/200, episode end value: 53090.27, duration: 0:00:00.943718\n",
            "episode: 131/200, episode end value: 36065.94, duration: 0:00:00.932870\n",
            "episode: 132/200, episode end value: 52721.96, duration: 0:00:00.924242\n",
            "episode: 133/200, episode end value: 44147.56, duration: 0:00:01.147993\n",
            "episode: 134/200, episode end value: 41911.54, duration: 0:00:01.220402\n",
            "episode: 135/200, episode end value: 44535.40, duration: 0:00:01.114070\n",
            "episode: 136/200, episode end value: 43818.22, duration: 0:00:00.891621\n",
            "episode: 137/200, episode end value: 33341.45, duration: 0:00:00.969434\n",
            "episode: 138/200, episode end value: 33233.24, duration: 0:00:00.902189\n",
            "episode: 139/200, episode end value: 33307.25, duration: 0:00:00.908085\n",
            "episode: 140/200, episode end value: 33657.89, duration: 0:00:00.905422\n",
            "episode: 141/200, episode end value: 38930.56, duration: 0:00:00.896442\n",
            "episode: 142/200, episode end value: 37545.10, duration: 0:00:00.923296\n",
            "episode: 143/200, episode end value: 32916.09, duration: 0:00:00.905862\n",
            "episode: 144/200, episode end value: 33679.04, duration: 0:00:00.913143\n",
            "episode: 145/200, episode end value: 37604.48, duration: 0:00:00.912950\n",
            "episode: 146/200, episode end value: 37256.29, duration: 0:00:01.037207\n",
            "episode: 147/200, episode end value: 36715.16, duration: 0:00:01.188080\n",
            "episode: 148/200, episode end value: 34463.44, duration: 0:00:01.193156\n",
            "episode: 149/200, episode end value: 34871.52, duration: 0:00:00.934356\n",
            "episode: 150/200, episode end value: 32921.60, duration: 0:00:00.914343\n",
            "episode: 151/200, episode end value: 36008.91, duration: 0:00:00.911094\n",
            "episode: 152/200, episode end value: 36964.27, duration: 0:00:00.900841\n",
            "episode: 153/200, episode end value: 35277.01, duration: 0:00:00.902729\n",
            "episode: 154/200, episode end value: 35259.83, duration: 0:00:00.897261\n",
            "episode: 155/200, episode end value: 40042.48, duration: 0:00:00.912531\n",
            "episode: 156/200, episode end value: 37376.79, duration: 0:00:00.909428\n",
            "episode: 157/200, episode end value: 35424.71, duration: 0:00:00.914930\n",
            "episode: 158/200, episode end value: 36653.60, duration: 0:00:00.938986\n",
            "episode: 159/200, episode end value: 33201.17, duration: 0:00:00.962908\n",
            "episode: 160/200, episode end value: 35878.40, duration: 0:00:01.237614\n",
            "episode: 161/200, episode end value: 37891.20, duration: 0:00:01.201006\n",
            "episode: 162/200, episode end value: 34754.27, duration: 0:00:00.999368\n",
            "episode: 163/200, episode end value: 36909.85, duration: 0:00:00.921073\n",
            "episode: 164/200, episode end value: 33355.38, duration: 0:00:00.900203\n",
            "episode: 165/200, episode end value: 34888.16, duration: 0:00:00.890019\n",
            "episode: 166/200, episode end value: 33118.67, duration: 0:00:00.924831\n",
            "episode: 167/200, episode end value: 33047.89, duration: 0:00:00.935833\n",
            "episode: 168/200, episode end value: 33805.47, duration: 0:00:00.939774\n",
            "episode: 169/200, episode end value: 33759.48, duration: 0:00:00.941144\n",
            "episode: 170/200, episode end value: 31097.14, duration: 0:00:00.916700\n",
            "episode: 171/200, episode end value: 33874.22, duration: 0:00:00.906951\n",
            "episode: 172/200, episode end value: 38484.87, duration: 0:00:00.914500\n",
            "episode: 173/200, episode end value: 40387.33, duration: 0:00:01.157888\n",
            "episode: 174/200, episode end value: 36829.23, duration: 0:00:01.158553\n",
            "episode: 175/200, episode end value: 33706.66, duration: 0:00:01.105321\n",
            "episode: 176/200, episode end value: 45366.46, duration: 0:00:00.909179\n",
            "episode: 177/200, episode end value: 46526.41, duration: 0:00:00.924433\n",
            "episode: 178/200, episode end value: 46581.05, duration: 0:00:00.912470\n",
            "episode: 179/200, episode end value: 42302.52, duration: 0:00:00.950545\n",
            "episode: 180/200, episode end value: 38401.78, duration: 0:00:00.937085\n",
            "episode: 181/200, episode end value: 33486.97, duration: 0:00:00.924805\n",
            "episode: 182/200, episode end value: 34565.71, duration: 0:00:00.933564\n",
            "episode: 183/200, episode end value: 34662.58, duration: 0:00:00.949230\n",
            "episode: 184/200, episode end value: 35175.49, duration: 0:00:00.928123\n",
            "episode: 185/200, episode end value: 35876.85, duration: 0:00:00.919291\n",
            "episode: 186/200, episode end value: 34751.17, duration: 0:00:01.143144\n",
            "episode: 187/200, episode end value: 34747.60, duration: 0:00:01.182589\n",
            "episode: 188/200, episode end value: 35465.02, duration: 0:00:01.142518\n",
            "episode: 189/200, episode end value: 34927.29, duration: 0:00:00.933018\n",
            "episode: 190/200, episode end value: 36505.73, duration: 0:00:00.925282\n",
            "episode: 191/200, episode end value: 32309.29, duration: 0:00:00.937038\n",
            "episode: 192/200, episode end value: 33897.21, duration: 0:00:00.997024\n",
            "episode: 193/200, episode end value: 34361.11, duration: 0:00:00.922728\n",
            "episode: 194/200, episode end value: 34642.41, duration: 0:00:00.989373\n",
            "episode: 195/200, episode end value: 34949.47, duration: 0:00:00.948754\n",
            "episode: 196/200, episode end value: 33781.27, duration: 0:00:00.917234\n",
            "episode: 197/200, episode end value: 34241.95, duration: 0:00:00.913127\n",
            "episode: 198/200, episode end value: 35877.64, duration: 0:00:00.923716\n",
            "episode: 199/200, episode end value: 34223.41, duration: 0:00:01.160743\n",
            "episode: 200/200, episode end value: 34948.55, duration: 0:00:01.234706\n"
          ]
        }
      ]
    },
    {
      "cell_type": "code",
      "source": [
        "# Test\n",
        "\n",
        "# config\n",
        "models_folder = 'rl_trader_models'\n",
        "rewards_folder = 'rl_trader_rewards'\n",
        "num_episodes = 100\n",
        "batch_size = 32\n",
        "initial_investment = 20000\n",
        "\n",
        "maybe_make_dir(models_folder)\n",
        "maybe_make_dir(rewards_folder)\n",
        "\n",
        "data = get_data()\n",
        "n_timesteps, n_stocks = data.shape\n",
        "\n",
        "n_train = n_timesteps // 2\n",
        "\n",
        "train_data = data[:n_train]\n",
        "test_data = data[n_train:]\n",
        "\n",
        "env = MultiStockEnv(train_data, initial_investment)\n",
        "state_size = env.state_dim\n",
        "action_size = len(env.action_space)\n",
        "agent = DQNAgent(state_size, action_size)\n",
        "scaler = get_scaler(env)\n",
        "\n",
        "# store the final value of the portfolio (end of episode)\n",
        "portfolio_value = []\n",
        "\n",
        "# then load the previous scaler\n",
        "with open(f'{models_folder}/scaler.pkl', 'rb') as f:\n",
        "  scaler = pickle.load(f)\n",
        "\n",
        "# remake the env with test data\n",
        "env = MultiStockEnv(test_data, initial_investment)\n",
        "\n",
        "# make sure epsilon is not 1!\n",
        "# no need to run multiple episodes if epsilon = 0, it's deterministic\n",
        "agent.epsilon = 0.01\n",
        "\n",
        "# load trained weights\n",
        "agent.load(f'{models_folder}/dqn.h5')\n",
        "\n",
        "# play the game num_episodes times\n",
        "for e in range(num_episodes):\n",
        "  t0 = datetime.now()\n",
        "  val = play_one_episode(agent, env, \"test\")\n",
        "  dt = datetime.now() - t0\n",
        "  print(f\"episode: {e + 1}/{num_episodes}, episode end value: {val:.2f}, duration: {dt}\")\n",
        "  portfolio_value.append(val)  # append episode end portfolio value\n",
        "\n",
        "# save portfolio value for each episode\n",
        "np.save(f'{rewards_folder}/test.npy', portfolio_value)"
      ],
      "metadata": {
        "colab": {
          "base_uri": "https://localhost:8080/"
        },
        "id": "_6jJu5GrGtrN",
        "outputId": "85f9295f-fc8f-4796-de1c-dedaef7711a2"
      },
      "execution_count": 19,
      "outputs": [
        {
          "output_type": "stream",
          "name": "stdout",
          "text": [
            "episode: 1/100, episode end value: 27675.53, duration: 0:00:00.226478\n",
            "episode: 2/100, episode end value: 26766.00, duration: 0:00:00.235228\n",
            "episode: 3/100, episode end value: 27559.75, duration: 0:00:00.236046\n",
            "episode: 4/100, episode end value: 27684.97, duration: 0:00:00.164276\n",
            "episode: 5/100, episode end value: 27532.24, duration: 0:00:00.151916\n",
            "episode: 6/100, episode end value: 27486.99, duration: 0:00:00.156832\n",
            "episode: 7/100, episode end value: 28703.49, duration: 0:00:00.161213\n",
            "episode: 8/100, episode end value: 27153.85, duration: 0:00:00.163272\n",
            "episode: 9/100, episode end value: 27680.06, duration: 0:00:00.177420\n",
            "episode: 10/100, episode end value: 27677.97, duration: 0:00:00.146649\n",
            "episode: 11/100, episode end value: 26008.28, duration: 0:00:00.156494\n",
            "episode: 12/100, episode end value: 27804.33, duration: 0:00:00.151844\n",
            "episode: 13/100, episode end value: 27728.61, duration: 0:00:00.156905\n",
            "episode: 14/100, episode end value: 28132.01, duration: 0:00:00.151055\n",
            "episode: 15/100, episode end value: 27370.28, duration: 0:00:00.156365\n",
            "episode: 16/100, episode end value: 27744.64, duration: 0:00:00.160977\n",
            "episode: 17/100, episode end value: 25869.01, duration: 0:00:00.147436\n",
            "episode: 18/100, episode end value: 27158.79, duration: 0:00:00.147002\n",
            "episode: 19/100, episode end value: 27143.50, duration: 0:00:00.159649\n",
            "episode: 20/100, episode end value: 27792.90, duration: 0:00:00.155777\n",
            "episode: 21/100, episode end value: 26999.44, duration: 0:00:00.157081\n",
            "episode: 22/100, episode end value: 28145.35, duration: 0:00:00.158104\n",
            "episode: 23/100, episode end value: 27507.93, duration: 0:00:00.162944\n",
            "episode: 24/100, episode end value: 26796.31, duration: 0:00:00.151951\n",
            "episode: 25/100, episode end value: 26669.33, duration: 0:00:00.160669\n",
            "episode: 26/100, episode end value: 26272.41, duration: 0:00:00.155619\n",
            "episode: 27/100, episode end value: 28202.62, duration: 0:00:00.160389\n",
            "episode: 28/100, episode end value: 26648.21, duration: 0:00:00.151620\n",
            "episode: 29/100, episode end value: 27806.03, duration: 0:00:00.172674\n",
            "episode: 30/100, episode end value: 26695.04, duration: 0:00:00.144987\n",
            "episode: 31/100, episode end value: 27686.80, duration: 0:00:00.155746\n",
            "episode: 32/100, episode end value: 27412.85, duration: 0:00:00.158185\n",
            "episode: 33/100, episode end value: 27554.00, duration: 0:00:00.160692\n",
            "episode: 34/100, episode end value: 27679.70, duration: 0:00:00.152011\n",
            "episode: 35/100, episode end value: 28307.58, duration: 0:00:00.162267\n",
            "episode: 36/100, episode end value: 28146.49, duration: 0:00:00.159529\n",
            "episode: 37/100, episode end value: 28482.59, duration: 0:00:00.151473\n",
            "episode: 38/100, episode end value: 27956.75, duration: 0:00:00.158269\n",
            "episode: 39/100, episode end value: 28015.11, duration: 0:00:00.158797\n",
            "episode: 40/100, episode end value: 30314.92, duration: 0:00:00.156328\n",
            "episode: 41/100, episode end value: 27455.42, duration: 0:00:00.159178\n",
            "episode: 42/100, episode end value: 27506.67, duration: 0:00:00.176949\n",
            "episode: 43/100, episode end value: 27705.79, duration: 0:00:00.164053\n",
            "episode: 44/100, episode end value: 26520.22, duration: 0:00:00.156963\n",
            "episode: 45/100, episode end value: 28399.87, duration: 0:00:00.165379\n",
            "episode: 46/100, episode end value: 28532.17, duration: 0:00:00.158689\n",
            "episode: 47/100, episode end value: 27363.71, duration: 0:00:00.164015\n",
            "episode: 48/100, episode end value: 27287.97, duration: 0:00:00.174945\n",
            "episode: 49/100, episode end value: 27534.71, duration: 0:00:00.160433\n",
            "episode: 50/100, episode end value: 26857.74, duration: 0:00:00.158667\n",
            "episode: 51/100, episode end value: 27664.76, duration: 0:00:00.163549\n",
            "episode: 52/100, episode end value: 27679.22, duration: 0:00:00.158889\n",
            "episode: 53/100, episode end value: 27951.06, duration: 0:00:00.163215\n",
            "episode: 54/100, episode end value: 29974.86, duration: 0:00:00.172216\n",
            "episode: 55/100, episode end value: 27679.38, duration: 0:00:00.174136\n",
            "episode: 56/100, episode end value: 27497.45, duration: 0:00:00.177564\n",
            "episode: 57/100, episode end value: 27245.16, duration: 0:00:00.162895\n",
            "episode: 58/100, episode end value: 27998.72, duration: 0:00:00.155303\n",
            "episode: 59/100, episode end value: 26971.93, duration: 0:00:00.156743\n",
            "episode: 60/100, episode end value: 27033.88, duration: 0:00:00.167180\n",
            "episode: 61/100, episode end value: 28968.63, duration: 0:00:00.162311\n",
            "episode: 62/100, episode end value: 27600.81, duration: 0:00:00.152894\n",
            "episode: 63/100, episode end value: 27813.89, duration: 0:00:00.152534\n",
            "episode: 64/100, episode end value: 27560.35, duration: 0:00:00.151462\n",
            "episode: 65/100, episode end value: 27626.07, duration: 0:00:00.157647\n",
            "episode: 66/100, episode end value: 28033.57, duration: 0:00:00.198269\n",
            "episode: 67/100, episode end value: 27616.74, duration: 0:00:00.241291\n",
            "episode: 68/100, episode end value: 27544.06, duration: 0:00:00.211588\n",
            "episode: 69/100, episode end value: 27265.67, duration: 0:00:00.220554\n",
            "episode: 70/100, episode end value: 27604.86, duration: 0:00:00.245030\n",
            "episode: 71/100, episode end value: 27841.78, duration: 0:00:00.222432\n",
            "episode: 72/100, episode end value: 28252.29, duration: 0:00:00.211519\n",
            "episode: 73/100, episode end value: 27456.83, duration: 0:00:00.213015\n",
            "episode: 74/100, episode end value: 27679.11, duration: 0:00:00.210993\n",
            "episode: 75/100, episode end value: 27225.38, duration: 0:00:00.208380\n",
            "episode: 76/100, episode end value: 27506.83, duration: 0:00:00.222877\n",
            "episode: 77/100, episode end value: 27448.05, duration: 0:00:00.231052\n",
            "episode: 78/100, episode end value: 26350.82, duration: 0:00:00.235772\n",
            "episode: 79/100, episode end value: 27680.90, duration: 0:00:00.224800\n",
            "episode: 80/100, episode end value: 27648.71, duration: 0:00:00.159969\n",
            "episode: 81/100, episode end value: 27680.07, duration: 0:00:00.169227\n",
            "episode: 82/100, episode end value: 26624.80, duration: 0:00:00.155492\n",
            "episode: 83/100, episode end value: 27760.36, duration: 0:00:00.158491\n",
            "episode: 84/100, episode end value: 29799.23, duration: 0:00:00.155614\n",
            "episode: 85/100, episode end value: 27624.47, duration: 0:00:00.157493\n",
            "episode: 86/100, episode end value: 27181.88, duration: 0:00:00.157590\n",
            "episode: 87/100, episode end value: 27679.67, duration: 0:00:00.160245\n",
            "episode: 88/100, episode end value: 26997.14, duration: 0:00:00.166959\n",
            "episode: 89/100, episode end value: 27680.42, duration: 0:00:00.165399\n",
            "episode: 90/100, episode end value: 28239.14, duration: 0:00:00.155532\n",
            "episode: 91/100, episode end value: 27578.11, duration: 0:00:00.163431\n",
            "episode: 92/100, episode end value: 27719.26, duration: 0:00:00.155788\n",
            "episode: 93/100, episode end value: 26951.62, duration: 0:00:00.245411\n",
            "episode: 94/100, episode end value: 27965.71, duration: 0:00:00.393116\n",
            "episode: 95/100, episode end value: 27314.57, duration: 0:00:00.401521\n",
            "episode: 96/100, episode end value: 28510.43, duration: 0:00:00.375602\n",
            "episode: 97/100, episode end value: 27170.56, duration: 0:00:00.378010\n",
            "episode: 98/100, episode end value: 27666.10, duration: 0:00:00.524504\n",
            "episode: 99/100, episode end value: 27780.31, duration: 0:00:00.392342\n",
            "episode: 100/100, episode end value: 27884.91, duration: 0:00:00.279308\n"
          ]
        }
      ]
    },
    {
      "cell_type": "code",
      "source": [
        "# PLOT REWARDS\n",
        "import matplotlib.pyplot as plt\n",
        "import numpy as np\n",
        "\n",
        "train_rewards = np.load(f'rl_trader_rewards/train.npy')\n",
        "test_rewards = np.load(f'rl_trader_rewards/test.npy')\n",
        "\n",
        "print(f\"Train: average reward: {train_rewards.mean():.2f}, min: {train_rewards.min():.2f}, max: {train_rewards.max():.2f}\")\n",
        "print(f\"Test: average reward: {test_rewards.mean():.2f}, min: {test_rewards.min():.2f}, max: {test_rewards.max():.2f}\")\n",
        "\n",
        "plt.hist(train_rewards, bins=20)\n",
        "plt.title(\"Train\")\n",
        "plt.show()"
      ],
      "metadata": {
        "colab": {
          "base_uri": "https://localhost:8080/",
          "height": 487
        },
        "id": "NIPqtKPoGuKN",
        "outputId": "4c7f9e25-8b36-4cc9-9e6e-a0e5b6ae0926"
      },
      "execution_count": 21,
      "outputs": [
        {
          "output_type": "stream",
          "name": "stdout",
          "text": [
            "Train: average reward: 34420.20, min: 19732.58, max: 53090.27\n",
            "Test: average reward: 27613.67, min: 25869.01, max: 30314.92\n"
          ]
        },
        {
          "output_type": "display_data",
          "data": {
            "text/plain": [
              "<Figure size 640x480 with 1 Axes>"
            ],
            "image/png": "[encoded data removed]"
          },
          "metadata": {}
        }
      ]
    },
    {
      "cell_type": "code",
      "source": [
        "plt.hist(test_rewards, bins=20)\n",
        "plt.title(\"Test\")\n",
        "plt.show()"
      ],
      "metadata": {
        "colab": {
          "base_uri": "https://localhost:8080/",
          "height": 452
        },
        "id": "lpiIP7TNGv6K",
        "outputId": "e46e4878-c9e7-45f1-d02e-ad4cd96c3374"
      },
      "execution_count": 22,
      "outputs": [
        {
          "output_type": "display_data",
          "data": {
            "text/plain": [
              "<Figure size 640x480 with 1 Axes>"
            ],
            "image/png": "[encoded data removed]"
          },
          "metadata": {}
        }
      ]
    }
  ]
}