{
  "nbformat": 4,
  "nbformat_minor": 0,
  "metadata": {
    "colab": {
      "provenance": []
    },
    "kernelspec": {
      "name": "python3",
      "display_name": "Python 3"
    },
    "language_info": {
      "name": "python"
    }
  },
  "cells": [
    {
      "cell_type": "markdown",
      "source": [
        "# Content"
      ],
      "metadata": {
        "id": "lNJVlBSleb9C"
      }
    },
    {
      "cell_type": "markdown",
      "source": [
        ">[Content](#updateTitle=true&folderId=1tQy5G8Ez_uC7IO_awAeU041TrL-36P3f&scrollTo=lNJVlBSleb9C)\n",
        "\n",
        ">[Supervised Machine Learning](#updateTitle=true&folderId=1tQy5G8Ez_uC7IO_awAeU041TrL-36P3f&scrollTo=dBVtPOeqee8j)\n",
        "\n",
        ">>[K-Nearest Neighbor](#updateTitle=true&folderId=1tQy5G8Ez_uC7IO_awAeU041TrL-36P3f&scrollTo=GiFmXSDcfvBK)\n",
        "\n"
      ],
      "metadata": {
        "colab_type": "toc",
        "id": "fDNaF8CzehPU"
      }
    },
    {
      "cell_type": "markdown",
      "source": [
        "# Supervised Machine Learning"
      ],
      "metadata": {
        "id": "dBVtPOeqee8j"
      }
    },
    {
      "cell_type": "markdown",
      "source": [
        "**Supervised ML:**\n",
        "- Give X (inputs), Y (targets)\n",
        "- Try to learn to predict target given input\n",
        "- 2 main functions: `train(X,Y)` and `predict(X)`\n",
        "\n",
        "**Unsupervised ML:**\n",
        "- Given X only\n",
        "- Try to learn structure of the data, density estimation (`p(x)`), clustering"
      ],
      "metadata": {
        "id": "GBmq7lZiemLO"
      }
    },
    {
      "cell_type": "markdown",
      "source": [
        "Supervised learning can be categorized further:\n",
        "\n",
        "**Classification**\n",
        "- Labels are discrete\n",
        "  - Whether or not it will rain tomorrow\n",
        "  - Whether or not Google's stock price will rise or fall tomorrow\n",
        "\n",
        "**Regression**\n",
        "- Labels are real numbers\n",
        "  - Trying to predict amount of rainfall tomorrow\n",
        "  - Trying to predict the value of Google's stock price"
      ],
      "metadata": {
        "id": "8He44X7wfMYy"
      }
    },
    {
      "cell_type": "markdown",
      "source": [
        "**Data types and shapes**\n",
        "\n",
        "- X is a matrix of shape N×D\n",
        "- N = number of samples\n",
        "- D = number of features\n",
        "- Y is a vector of shapes N×1\n",
        "  - Regression: will contain float values\n",
        "  - Classification: will contain integers from 0…K-1, where K = number of classes"
      ],
      "metadata": {
        "id": "A9_61w35f106"
      }
    },
    {
      "cell_type": "markdown",
      "source": [
        "**Generalization and Overfitting**\n",
        "\n",
        "- Generalization: Predict accurately not only for data we trained on, but new data we haven't seen before\n",
        "\n",
        "- Usually split data into train/test sets to get an idea of how well a model will generalize\n",
        "\n",
        "- This is only \"pretend\" test data since \"real\" test data we won't know the answer to (i.e. tomorrow's stock price)\n",
        "\n",
        "- If we get 100% accuracy on training data, but only 55% accuracy on test data, that's a sign of \"overfitting\""
      ],
      "metadata": {
        "id": "sGvyNqexlR2Y"
      }
    },
    {
      "cell_type": "markdown",
      "source": [
        "## K-Nearest Neighbor"
      ],
      "metadata": {
        "id": "GiFmXSDcfvBK"
      }
    }
  ]
}