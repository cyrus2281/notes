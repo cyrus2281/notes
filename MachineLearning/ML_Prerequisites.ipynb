{
  "nbformat": 4,
  "nbformat_minor": 0,
  "metadata": {
    "colab": {
      "provenance": [],
      "toc_visible": true,
      "authorship_tag": "ABX9TyNimnfZhclNkxAh852t9mF5",
      "include_colab_link": true
    },
    "kernelspec": {
      "name": "python3",
      "display_name": "Python 3"
    },
    "language_info": {
      "name": "python"
    }
  },
  "cells": [
    {
      "cell_type": "markdown",
      "metadata": {
        "id": "view-in-github",
        "colab_type": "text"
      },
      "source": [
        "<a href=\"https://colab.research.google.com/github/cyrus2281/notes/blob/main/MachineLearning/ML_Prerequisites.ipynb\" target=\"_parent\"><img src=\"https://colab.research.google.com/assets/colab-badge.svg\" alt=\"Open In Colab\"/></a>"
      ]
    },
    {
      "cell_type": "markdown",
      "source": [
        "# Numpy"
      ],
      "metadata": {
        "id": "rRgOu90NZ28X"
      }
    },
    {
      "cell_type": "markdown",
      "source": [
        "NumPy: Numeric Python\n",
        "\n",
        "Similar to python array list.\n",
        "\n",
        "Many of the operations are written in C.\n",
        "\n",
        "Allows to convert data into numbers.\n",
        "\n",
        "**Applications**\n",
        "- Linear Regressions\n",
        "- Logistic Regression\n",
        "- Deep Neural Networks\n",
        "- K-Means Clustering\n",
        "- Density Estimation\n",
        "- Principal Components Analysis\n",
        "- Matrix Factorization\n",
        "- Support Vector Machines\n",
        "- Markov Models, Hidden Markov Models\n",
        "- Control Systems\n",
        "- Game Theory\n",
        "- Operation Research\n",
        "- Portfolio Optimization\n",
        "\n",
        "\n"
      ],
      "metadata": {
        "id": "cS6L164xe4Om"
      }
    },
    {
      "cell_type": "code",
      "execution_count": 58,
      "metadata": {
        "id": "h7wQ1L22Zq1N"
      },
      "outputs": [],
      "source": [
        "import numpy as np"
      ]
    },
    {
      "cell_type": "code",
      "source": [
        "a1 = np.array([1,2,3])\n",
        "\n",
        "a2 = np.array([[1,2.0,3.3],\n",
        "               [4,5,6.5]])\n",
        "\n",
        "\n",
        "a3 = np.array([\n",
        "    [[1,2,3],\n",
        "     [4,5,6],\n",
        "     [7,8,9]],\n",
        "    [[10,11,12],\n",
        "     [13,14,15],\n",
        "     [16,17,18]\n",
        "    ]\n",
        "  ])\n",
        "\n",
        "# Array shape\n",
        "print(a1.shape, a2.shape, a3.shape)\n",
        "\n",
        "# Number of dimensions\n",
        "print(a1.ndim, a2.ndim, a3.ndim)\n",
        "\n",
        "# Data type\n",
        "print(a1.dtype, a2.dtype, a3.dtype)\n",
        "\n",
        "# Size (total)\n",
        "print(a1.size, a2.size, a3.size)\n",
        "\n",
        "# Object Type\n",
        "print(type(a1), type(a2), type(a3))"
      ],
      "metadata": {
        "colab": {
          "base_uri": "https://localhost:8080/"
        },
        "id": "sGoH33LY5Q6Q",
        "outputId": "711c6031-3f4b-4fbf-f282-eb47ec8318f0"
      },
      "execution_count": 93,
      "outputs": [
        {
          "output_type": "stream",
          "name": "stdout",
          "text": [
            "(3,) (2, 3) (2, 3, 3)\n",
            "1 2 3\n",
            "int64 float64 int64\n",
            "3 6 18\n",
            "<class 'numpy.ndarray'> <class 'numpy.ndarray'> <class 'numpy.ndarray'>\n"
          ]
        }
      ]
    },
    {
      "cell_type": "markdown",
      "source": [
        "### Arrays vs List"
      ],
      "metadata": {
        "id": "QuFvLz04rZr2"
      }
    },
    {
      "cell_type": "code",
      "source": [
        "L = [1,2,3]\n",
        "A = np.array([1,2,3])\n",
        "\n",
        "for e in L:\n",
        "  print(e)\n",
        "\n",
        "for e in A:\n",
        "  print(e)"
      ],
      "metadata": {
        "colab": {
          "base_uri": "https://localhost:8080/"
        },
        "id": "vS331gPpqHoU",
        "outputId": "94c3ac5e-d92c-42a0-f784-4a115f69decc"
      },
      "execution_count": 59,
      "outputs": [
        {
          "output_type": "stream",
          "name": "stdout",
          "text": [
            "1\n",
            "2\n",
            "3\n",
            "1\n",
            "2\n",
            "3\n"
          ]
        }
      ]
    },
    {
      "cell_type": "code",
      "source": [
        "L.append(4)\n",
        "# Can't append to an array\n",
        "print(L + [5])\n",
        "# But in numpy it broadcast the value\n",
        "print(A + np.array([4]))\n",
        "print(A + np.array([4,5,6])) # Must be the same length or 1"
      ],
      "metadata": {
        "colab": {
          "base_uri": "https://localhost:8080/"
        },
        "id": "ky-iXUnrreh_",
        "outputId": "c5a052df-1a7a-4470-a64a-8df10e3ca1ac"
      },
      "execution_count": 60,
      "outputs": [
        {
          "output_type": "stream",
          "name": "stdout",
          "text": [
            "[1, 2, 3, 4, 5]\n",
            "[5 6 7]\n",
            "[5 7 9]\n"
          ]
        }
      ]
    },
    {
      "cell_type": "code",
      "source": [
        "print(2 * L) # repeats the list\n",
        "print(2 * L == L + L) # repeats the list\n",
        "print(2 * A) # multipy each value by 2"
      ],
      "metadata": {
        "colab": {
          "base_uri": "https://localhost:8080/"
        },
        "id": "6B-M3TnhsA34",
        "outputId": "d350f40f-2ee3-459b-df7f-07309b599540"
      },
      "execution_count": 61,
      "outputs": [
        {
          "output_type": "stream",
          "name": "stdout",
          "text": [
            "[1, 2, 3, 4, 1, 2, 3, 4]\n",
            "True\n",
            "[2 4 6]\n"
          ]
        }
      ]
    },
    {
      "cell_type": "code",
      "source": [
        "L2 = [e**2 for e in L]\n",
        "print(L2)\n",
        "print(A**2)"
      ],
      "metadata": {
        "colab": {
          "base_uri": "https://localhost:8080/"
        },
        "id": "zzYlDw-rsc0Q",
        "outputId": "1a44aade-e391-4c4a-ce91-a289177cdd1a"
      },
      "execution_count": 62,
      "outputs": [
        {
          "output_type": "stream",
          "name": "stdout",
          "text": [
            "[1, 4, 9, 16]\n",
            "[1 4 9]\n"
          ]
        }
      ]
    },
    {
      "cell_type": "code",
      "source": [
        "print(np.sqrt(A))\n",
        "print(np.log(A))\n",
        "print(np.exp(A))\n",
        "print(np.tanh(A))"
      ],
      "metadata": {
        "colab": {
          "base_uri": "https://localhost:8080/"
        },
        "id": "1-POIfeNs-E3",
        "outputId": "06302745-9e83-437c-a9ca-48c9ecae99fc"
      },
      "execution_count": 63,
      "outputs": [
        {
          "output_type": "stream",
          "name": "stdout",
          "text": [
            "[1.         1.41421356 1.73205081]\n",
            "[0.         0.69314718 1.09861229]\n",
            "[ 2.71828183  7.3890561  20.08553692]\n",
            "[0.76159416 0.96402758 0.99505475]\n"
          ]
        }
      ]
    },
    {
      "cell_type": "code",
      "source": [
        "# View Unique elements\n",
        "np.unique(A)"
      ],
      "metadata": {
        "colab": {
          "base_uri": "https://localhost:8080/"
        },
        "id": "1mpELVNS6b_s",
        "outputId": "d3f17c36-4af9-47a2-da5c-518b7ef5b9cf"
      },
      "execution_count": 95,
      "outputs": [
        {
          "output_type": "execute_result",
          "data": {
            "text/plain": [
              "array([1. , 1.5, 4. ])"
            ]
          },
          "metadata": {},
          "execution_count": 95
        }
      ]
    },
    {
      "cell_type": "code",
      "source": [
        "# Flattening the data to one dimensional\n",
        "print(a3.ravel())\n",
        "print(a3.flatten())"
      ],
      "metadata": {
        "colab": {
          "base_uri": "https://localhost:8080/"
        },
        "id": "9FvaZP1B7Iwv",
        "outputId": "62fbcf8c-92a6-4940-cb59-e149aab117f9"
      },
      "execution_count": 97,
      "outputs": [
        {
          "output_type": "stream",
          "name": "stdout",
          "text": [
            "[ 1  2  3  4  5  6  7  8  9 10 11 12 13 14 15 16 17 18]\n",
            "[ 1  2  3  4  5  6  7  8  9 10 11 12 13 14 15 16 17 18]\n"
          ]
        }
      ]
    },
    {
      "cell_type": "markdown",
      "source": [
        "### Dot Product"
      ],
      "metadata": {
        "id": "dxUCHrUEtMCx"
      }
    },
    {
      "cell_type": "code",
      "source": [
        "a = np.array([1,2])\n",
        "b = np.array([3,4])"
      ],
      "metadata": {
        "id": "GDCWNW7btOPz"
      },
      "execution_count": 64,
      "outputs": []
    },
    {
      "cell_type": "code",
      "source": [
        "dot = 0\n",
        "for e,f in zip(a,b):\n",
        "  dot += e*f\n",
        "print(dot)\n",
        "\n",
        "print(a * b)\n",
        "print(np.sum(a * b))\n",
        "print(np.dot(a, b))\n",
        "print(a.dot(b))\n",
        "print(a @ b)"
      ],
      "metadata": {
        "colab": {
          "base_uri": "https://localhost:8080/"
        },
        "id": "bjbaGh6wtSFo",
        "outputId": "30f30e2e-fce2-46bf-8110-2c2546e03e9e"
      },
      "execution_count": 65,
      "outputs": [
        {
          "output_type": "stream",
          "name": "stdout",
          "text": [
            "11\n",
            "[3 8]\n",
            "11\n",
            "11\n",
            "11\n",
            "11\n"
          ]
        }
      ]
    },
    {
      "cell_type": "markdown",
      "source": [
        "$$\n",
        "a^Tb = \\|a\\| \\ \\|b\\| \\ \\cos \\theta_{ab} \\\\\n",
        "\\cos \\theta_{ab} = \\frac{a^Tb}{\\|a\\| \\ \\| b \\| } \\\\\n",
        "\\| a \\| = \\sqrt{\\sum_{d=1}^D a^2_d}\n",
        "$$"
      ],
      "metadata": {
        "id": "vc_gSlpct9-F"
      }
    },
    {
      "cell_type": "code",
      "source": [
        "amag = np.sqrt(np.sum(a**2))\n",
        "print(amag)\n",
        "\n",
        "print(np.linalg.norm(a))"
      ],
      "metadata": {
        "colab": {
          "base_uri": "https://localhost:8080/"
        },
        "id": "cKIVHuiutdBV",
        "outputId": "614e8c1a-d843-4cb4-9174-5b12232b7932"
      },
      "execution_count": 66,
      "outputs": [
        {
          "output_type": "stream",
          "name": "stdout",
          "text": [
            "2.23606797749979\n",
            "2.23606797749979\n"
          ]
        }
      ]
    },
    {
      "cell_type": "code",
      "source": [
        "cosangle = a @ b / (np.linalg.norm(a) * np.linalg.norm(b))\n",
        "print(cosangle)\n",
        "\n",
        "angle = np.arccos(cosangle)\n",
        "print(angle)"
      ],
      "metadata": {
        "colab": {
          "base_uri": "https://localhost:8080/"
        },
        "id": "qO-zyfgwtR-h",
        "outputId": "c56f4e69-f3e5-4d85-b3ee-e60c04e9ea22"
      },
      "execution_count": 67,
      "outputs": [
        {
          "output_type": "stream",
          "name": "stdout",
          "text": [
            "0.9838699100999074\n",
            "0.17985349979247847\n"
          ]
        }
      ]
    },
    {
      "cell_type": "markdown",
      "source": [
        "### Matrics"
      ],
      "metadata": {
        "id": "0rQfE3SKvm6M"
      }
    },
    {
      "cell_type": "code",
      "source": [
        "L = [\n",
        "    [1,2],\n",
        "    [3,4]\n",
        "]\n",
        "\n",
        "A = np.array([\n",
        "    [1,2],\n",
        "    [3,4]\n",
        "])\n",
        "\n",
        "print(L)\n",
        "print(A)\n",
        "\n",
        "print(L[0])\n",
        "print(L[0][1])\n",
        "\n",
        "print(A[0])\n",
        "print(A[0][1])\n",
        "print(A[0,1])"
      ],
      "metadata": {
        "colab": {
          "base_uri": "https://localhost:8080/"
        },
        "id": "NKjs5GRwvoyJ",
        "outputId": "1c14f4e5-ce76-4118-9bb8-688134c733a5"
      },
      "execution_count": 68,
      "outputs": [
        {
          "output_type": "stream",
          "name": "stdout",
          "text": [
            "[[1, 2], [3, 4]]\n",
            "[[1 2]\n",
            " [3 4]]\n",
            "[1, 2]\n",
            "2\n",
            "[1 2]\n",
            "2\n",
            "2\n"
          ]
        }
      ]
    },
    {
      "cell_type": "code",
      "source": [
        "print(A[:,0])\n",
        "\n",
        "print(A.T)"
      ],
      "metadata": {
        "colab": {
          "base_uri": "https://localhost:8080/"
        },
        "id": "TVsx2n9ywLHK",
        "outputId": "1ac09806-5168-4cf8-d330-795dba84ca50"
      },
      "execution_count": 69,
      "outputs": [
        {
          "output_type": "stream",
          "name": "stdout",
          "text": [
            "[1 3]\n",
            "[[1 3]\n",
            " [2 4]]\n"
          ]
        }
      ]
    },
    {
      "cell_type": "code",
      "source": [
        "print(np.exp(A))\n",
        "print(np.exp(L)) # numpy automatically coverts list to numpy"
      ],
      "metadata": {
        "colab": {
          "base_uri": "https://localhost:8080/"
        },
        "id": "DWPdSn1Kwb8R",
        "outputId": "565b48d5-77bc-4c3f-f894-94a0256da976"
      },
      "execution_count": 70,
      "outputs": [
        {
          "output_type": "stream",
          "name": "stdout",
          "text": [
            "[[ 2.71828183  7.3890561 ]\n",
            " [20.08553692 54.59815003]]\n",
            "[[ 2.71828183  7.3890561 ]\n",
            " [20.08553692 54.59815003]]\n"
          ]
        }
      ]
    },
    {
      "cell_type": "code",
      "source": [
        "B = np.array([\n",
        "    [1,2,3],\n",
        "    [4,5,6]\n",
        "])\n",
        "\n",
        "print(A @ B)"
      ],
      "metadata": {
        "colab": {
          "base_uri": "https://localhost:8080/"
        },
        "id": "FTM84Nqywqul",
        "outputId": "426e01a1-2d55-4246-9f86-236d32ce3bff"
      },
      "execution_count": 71,
      "outputs": [
        {
          "output_type": "stream",
          "name": "stdout",
          "text": [
            "[[ 9 12 15]\n",
            " [19 26 33]]\n"
          ]
        }
      ]
    },
    {
      "cell_type": "code",
      "source": [
        "print(np.linalg.det(A))\n",
        "\n",
        "print(np.linalg.inv(A)) # Not exact - approximation\n",
        "\n",
        "print(np.linalg.inv(A).dot(A))\n",
        "\n",
        "print(np.trace(A))"
      ],
      "metadata": {
        "colab": {
          "base_uri": "https://localhost:8080/"
        },
        "id": "EMQzXY1QwzZS",
        "outputId": "67660cc0-7012-4d2b-cb47-fbc769a66284"
      },
      "execution_count": 72,
      "outputs": [
        {
          "output_type": "stream",
          "name": "stdout",
          "text": [
            "-2.0000000000000004\n",
            "[[-2.   1. ]\n",
            " [ 1.5 -0.5]]\n",
            "[[1.00000000e+00 0.00000000e+00]\n",
            " [1.11022302e-16 1.00000000e+00]]\n",
            "5\n"
          ]
        }
      ]
    },
    {
      "cell_type": "code",
      "source": [
        "np.diag(A) # A vector of diagonal values\n",
        "\n",
        "np.diag([1,4]) # A matrix with diagonal values"
      ],
      "metadata": {
        "colab": {
          "base_uri": "https://localhost:8080/"
        },
        "id": "qKhzYGXlxlwE",
        "outputId": "27cd3a5c-a981-4bb7-ab3f-ffd8bc5eb374"
      },
      "execution_count": 73,
      "outputs": [
        {
          "output_type": "execute_result",
          "data": {
            "text/plain": [
              "array([[1, 0],\n",
              "       [0, 4]])"
            ]
          },
          "metadata": {},
          "execution_count": 73
        }
      ]
    },
    {
      "cell_type": "code",
      "source": [
        "Lam, V = np.linalg.eig(A) # [eigenvalues, eigenvectors]\n",
        "\n",
        "print(V[:,0] * Lam[0])\n",
        "\n",
        "print(A @ V[:,0])\n",
        "\n",
        "print(V[:,0] * Lam[0] == A @ V[:,0]) # Numerical positioning error\n",
        "\n",
        "print(np.allclose(V[:,0] * Lam[0] , A @ V[:,0]))\n",
        "\n",
        "print(np.allclose(V @ np.diag(Lam) , A @ V))"
      ],
      "metadata": {
        "colab": {
          "base_uri": "https://localhost:8080/"
        },
        "id": "q23gNkkWxuDW",
        "outputId": "166b2a39-58a0-4ea3-d150-38190b5d7604"
      },
      "execution_count": 74,
      "outputs": [
        {
          "output_type": "stream",
          "name": "stdout",
          "text": [
            "[ 0.30697009 -0.21062466]\n",
            "[ 0.30697009 -0.21062466]\n",
            "[ True False]\n",
            "True\n",
            "True\n"
          ]
        }
      ]
    },
    {
      "cell_type": "code",
      "source": [
        "# eigen decomposition of a complex Hermitian (conjugate symmetric) or a real symmetric matric\n",
        "print(np.linalg.eigh(A))"
      ],
      "metadata": {
        "colab": {
          "base_uri": "https://localhost:8080/"
        },
        "id": "0TgtuGizyoGd",
        "outputId": "1fe8aafb-6244-4c13-bde0-7e223144241c"
      },
      "execution_count": 75,
      "outputs": [
        {
          "output_type": "stream",
          "name": "stdout",
          "text": [
            "(array([-0.85410197,  5.85410197]), array([[-0.85065081,  0.52573111],\n",
            "       [ 0.52573111,  0.85065081]]))\n"
          ]
        }
      ]
    },
    {
      "cell_type": "markdown",
      "source": [
        "$$\n",
        "x = \\begin{pmatrix}\n",
        "x_1 \\\\\n",
        "x_2\n",
        "\\end{pmatrix},\n",
        "A = \\begin{pmatrix}\n",
        "1 & 1 \\\\\n",
        "1.5 & 4\n",
        "\\end{pmatrix},\n",
        "b = \\begin{pmatrix}\n",
        "2200 \\\\\n",
        "5050\n",
        "\\end{pmatrix} \\\\\n",
        "Ax = b \\Leftrightarrow x = A^{-1} b\n",
        "$$"
      ],
      "metadata": {
        "id": "2W30I8K-zwBN"
      }
    },
    {
      "cell_type": "code",
      "source": [
        "# inverse is slow and less accourate\n",
        "# Numpy has a better algorithm called *solve* for linear systems\n",
        "A = np.array([[1,1], [1.5,4]])\n",
        "b = np.array([2200, 5050])\n",
        "\n",
        "# BAD\n",
        "print(np.linalg.inv(A).dot(b)) # BAD BAD BAD\n",
        "\n",
        "# Good\n",
        "print(np.linalg.solve(A, b)) # Good"
      ],
      "metadata": {
        "colab": {
          "base_uri": "https://localhost:8080/"
        },
        "id": "B4hdea1HzFri",
        "outputId": "37304b63-4a97-482e-a0df-fb61f9d36877"
      },
      "execution_count": 76,
      "outputs": [
        {
          "output_type": "stream",
          "name": "stdout",
          "text": [
            "[1500.  700.]\n",
            "[1500.  700.]\n"
          ]
        }
      ]
    },
    {
      "cell_type": "markdown",
      "source": [
        "### Generating Data\n",
        "\n"
      ],
      "metadata": {
        "id": "nOO0so14075X"
      }
    },
    {
      "cell_type": "code",
      "source": [
        "print(np.zeros((2,3)))\n",
        "\n",
        "print(np.ones((2,3)))\n",
        "\n",
        "print(10 * np.ones((2,3)))"
      ],
      "metadata": {
        "colab": {
          "base_uri": "https://localhost:8080/"
        },
        "id": "GCJFcHRj1GqW",
        "outputId": "45096314-07cd-432f-9d8d-4f622a7aac85"
      },
      "execution_count": 77,
      "outputs": [
        {
          "output_type": "stream",
          "name": "stdout",
          "text": [
            "[[0. 0. 0.]\n",
            " [0. 0. 0.]]\n",
            "[[1. 1. 1.]\n",
            " [1. 1. 1.]]\n",
            "[[10. 10. 10.]\n",
            " [10. 10. 10.]]\n"
          ]
        }
      ]
    },
    {
      "cell_type": "code",
      "source": [
        "print(np.eye(3))"
      ],
      "metadata": {
        "colab": {
          "base_uri": "https://localhost:8080/"
        },
        "id": "wpTvwZTO1dts",
        "outputId": "45ae1cdb-82ff-462d-ebba-fff83b19c2e1"
      },
      "execution_count": 78,
      "outputs": [
        {
          "output_type": "stream",
          "name": "stdout",
          "text": [
            "[[1. 0. 0.]\n",
            " [0. 1. 0.]\n",
            " [0. 0. 1.]]\n"
          ]
        }
      ]
    },
    {
      "cell_type": "code",
      "source": [
        "# Range filled array\n",
        "print(np.arange(0, 10, 2))"
      ],
      "metadata": {
        "colab": {
          "base_uri": "https://localhost:8080/"
        },
        "id": "EvcGwIkU6JrG",
        "outputId": "c6cdecfa-8a5f-416d-f6e6-3067d80d7b64"
      },
      "execution_count": 94,
      "outputs": [
        {
          "output_type": "stream",
          "name": "stdout",
          "text": [
            "[0 2 4 6 8]\n"
          ]
        }
      ]
    },
    {
      "cell_type": "code",
      "source": [
        "print(np.random.random()) # Uniform 0-1 distribution\n",
        "\n",
        "print(np.random.random((2,3))) # shape"
      ],
      "metadata": {
        "colab": {
          "base_uri": "https://localhost:8080/"
        },
        "id": "bB1d1y2t1noG",
        "outputId": "57b12704-69a9-4927-b19b-f340eea344c5"
      },
      "execution_count": 79,
      "outputs": [
        {
          "output_type": "stream",
          "name": "stdout",
          "text": [
            "0.1211406080121964\n",
            "[[0.32148374 0.11965323 0.45536575]\n",
            " [0.38475188 0.37329441 0.58583827]]\n"
          ]
        }
      ]
    },
    {
      "cell_type": "code",
      "source": [
        "# Normal (Gaussion) Distribution\n",
        "print(np.random.randn(2,3))\n",
        "\n",
        "R = np.random.randn(1000)\n",
        "\n",
        "print(R.mean())\n",
        "print(R.var())\n",
        "print(R.std())"
      ],
      "metadata": {
        "colab": {
          "base_uri": "https://localhost:8080/"
        },
        "id": "8xsQ5XC_15TW",
        "outputId": "152b8682-349d-4133-b087-9eeb5b01523d"
      },
      "execution_count": 83,
      "outputs": [
        {
          "output_type": "stream",
          "name": "stdout",
          "text": [
            "[[ 1.42737805  0.14350172 -1.14614834]\n",
            " [-1.08575042 -0.50712295 -1.2140374 ]]\n",
            "-0.03920715951438183\n",
            "1.0288363350838907\n",
            "1.0143156979382162\n"
          ]
        }
      ]
    },
    {
      "cell_type": "code",
      "source": [
        "R = np.random.randn(1000, 3)\n",
        "\n",
        "print(R.mean(axis=0))\n",
        "print(R.mean(axis=1).shape)"
      ],
      "metadata": {
        "colab": {
          "base_uri": "https://localhost:8080/"
        },
        "id": "IYl2Q0OA2XIp",
        "outputId": "377dc840-d9d3-4603-fcc2-816f65fd5246"
      },
      "execution_count": 86,
      "outputs": [
        {
          "output_type": "stream",
          "name": "stdout",
          "text": [
            "[-0.0203346   0.0077361  -0.00200394]\n",
            "(1000,)\n"
          ]
        }
      ]
    },
    {
      "cell_type": "code",
      "source": [
        "# Covariance\n",
        "print(np.cov(R).shape) # By default is set to axis 0 , column\n",
        "\n",
        "print(np.cov(R, rowvar=False))\n",
        "\n",
        "print(np.cov(R.T))"
      ],
      "metadata": {
        "colab": {
          "base_uri": "https://localhost:8080/"
        },
        "id": "tW5VV7n22-Dk",
        "outputId": "43c70a0a-ae65-4628-fe8a-c70e65fd1658"
      },
      "execution_count": 90,
      "outputs": [
        {
          "output_type": "stream",
          "name": "stdout",
          "text": [
            "(1000, 1000)\n",
            "[[ 0.98538688  0.03421111 -0.02697163]\n",
            " [ 0.03421111  1.04196197  0.0293987 ]\n",
            " [-0.02697163  0.0293987   1.02774348]]\n",
            "[[ 0.98538688  0.03421111 -0.02697163]\n",
            " [ 0.03421111  1.04196197  0.0293987 ]\n",
            " [-0.02697163  0.0293987   1.02774348]]\n"
          ]
        }
      ]
    },
    {
      "cell_type": "code",
      "source": [
        "print(np.random.randint(0, 10, size=(3,3))) # low, high, size\n",
        "\n",
        "print(np.random.choice(10, size=(3,3))) # Chooses random values with max 10 with size 3,3"
      ],
      "metadata": {
        "colab": {
          "base_uri": "https://localhost:8080/"
        },
        "id": "orY9xyk73ZA0",
        "outputId": "8d44ba81-9a7b-4781-d22e-11341e24a686"
      },
      "execution_count": 91,
      "outputs": [
        {
          "output_type": "stream",
          "name": "stdout",
          "text": [
            "[[4 3 7]\n",
            " [2 6 5]\n",
            " [7 6 7]]\n"
          ]
        }
      ]
    },
    {
      "cell_type": "code",
      "source": [
        "# generating random values in interval evenly spaced\n",
        "print(np.linspace(-6, 6, 100))"
      ],
      "metadata": {
        "colab": {
          "base_uri": "https://localhost:8080/"
        },
        "id": "aRD1FJJC4lQ2",
        "outputId": "bbf4b863-5122-4ba3-db4d-ec8366397329"
      },
      "execution_count": 92,
      "outputs": [
        {
          "output_type": "stream",
          "name": "stdout",
          "text": [
            "[-6.         -5.87878788 -5.75757576 -5.63636364 -5.51515152 -5.39393939\n",
            " -5.27272727 -5.15151515 -5.03030303 -4.90909091 -4.78787879 -4.66666667\n",
            " -4.54545455 -4.42424242 -4.3030303  -4.18181818 -4.06060606 -3.93939394\n",
            " -3.81818182 -3.6969697  -3.57575758 -3.45454545 -3.33333333 -3.21212121\n",
            " -3.09090909 -2.96969697 -2.84848485 -2.72727273 -2.60606061 -2.48484848\n",
            " -2.36363636 -2.24242424 -2.12121212 -2.         -1.87878788 -1.75757576\n",
            " -1.63636364 -1.51515152 -1.39393939 -1.27272727 -1.15151515 -1.03030303\n",
            " -0.90909091 -0.78787879 -0.66666667 -0.54545455 -0.42424242 -0.3030303\n",
            " -0.18181818 -0.06060606  0.06060606  0.18181818  0.3030303   0.42424242\n",
            "  0.54545455  0.66666667  0.78787879  0.90909091  1.03030303  1.15151515\n",
            "  1.27272727  1.39393939  1.51515152  1.63636364  1.75757576  1.87878788\n",
            "  2.          2.12121212  2.24242424  2.36363636  2.48484848  2.60606061\n",
            "  2.72727273  2.84848485  2.96969697  3.09090909  3.21212121  3.33333333\n",
            "  3.45454545  3.57575758  3.6969697   3.81818182  3.93939394  4.06060606\n",
            "  4.18181818  4.3030303   4.42424242  4.54545455  4.66666667  4.78787879\n",
            "  4.90909091  5.03030303  5.15151515  5.27272727  5.39393939  5.51515152\n",
            "  5.63636364  5.75757576  5.87878788  6.        ]\n"
          ]
        }
      ]
    },
    {
      "cell_type": "markdown",
      "source": [
        "# Matplotlib"
      ],
      "metadata": {
        "id": "L-F4D94LZ8oE"
      }
    },
    {
      "cell_type": "markdown",
      "source": [
        "# Pandas"
      ],
      "metadata": {
        "id": "8cIm2JgaZ_OD"
      }
    },
    {
      "cell_type": "markdown",
      "source": [
        "# SciPy"
      ],
      "metadata": {
        "id": "OdJHc6vNaA6_"
      }
    }
  ]
}